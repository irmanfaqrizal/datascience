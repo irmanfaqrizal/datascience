{
 "cells": [
  {
   "cell_type": "markdown",
   "metadata": {},
   "source": [
    "# PART 2 - Evaluation of COMPAS dataset\n",
    "\n",
    "#### Group Members : \n",
    "                Marck-Edward KEMEH - marck-edward.kemeh@grenoble-inp.org\n",
    "                Irman FAQRIZAL - irman.faqrizal@univ-grenoble-alpes.fr"
   ]
  },
  {
   "cell_type": "code",
   "execution_count": 219,
   "metadata": {},
   "outputs": [],
   "source": [
    "from IPython.core.display import display, HTML\n",
    "\n",
    "import urllib\n",
    "import os,sys\n",
    "import numpy as np\n",
    "import pandas as pd\n",
    "import seaborn as sns\n",
    "import torch\n",
    "import torch.nn.functional as F\n",
    "import matplotlib.pyplot as plt\n",
    "import tensorflow as tf\n",
    "\n",
    "from sklearn.metrics import accuracy_score, confusion_matrix, classification_report\n",
    "from pylab import rcParams\n",
    "from torch import nn, optim\n",
    "from sklearn.model_selection import train_test_split\n",
    "from sklearn import feature_extraction, preprocessing\n",
    "from random import seed, shuffle\n",
    "#from __future__ import division\n",
    "#from collections import defaultdict\n",
    "#import utils as ut\n",
    "\n",
    "#function to plot grid\n",
    "sns.set(style='whitegrid', palette='muted', font_scale=1.2)\n",
    "HAPPY_COLORS_PALETTE = [\"#01BEFE\", \"#FFDD00\", \"#FF7D00\", \"#FF006D\", \"#93D30C\", \"#8F00FF\"]\n",
    "sns.set_palette(sns.color_palette(HAPPY_COLORS_PALETTE))\n",
    "rcParams['figure.figsize'] = 12, 8\n",
    "RANDOM_SEED = 42\n",
    "\n",
    "\n",
    "SEED = 1234\n",
    "seed(SEED)\n",
    "np.random.seed(SEED)\n",
    "\n",
    "df = pd.read_csv('compas-scores-two-years.csv')\n",
    "# df.head()"
   ]
  },
  {
   "cell_type": "code",
   "execution_count": 81,
   "metadata": {},
   "outputs": [
    {
     "data": {
      "text/html": [
       "<div>\n",
       "<style scoped>\n",
       "    .dataframe tbody tr th:only-of-type {\n",
       "        vertical-align: middle;\n",
       "    }\n",
       "\n",
       "    .dataframe tbody tr th {\n",
       "        vertical-align: top;\n",
       "    }\n",
       "\n",
       "    .dataframe thead th {\n",
       "        text-align: right;\n",
       "    }\n",
       "</style>\n",
       "<table border=\"1\" class=\"dataframe\">\n",
       "  <thead>\n",
       "    <tr style=\"text-align: right;\">\n",
       "      <th></th>\n",
       "      <th>sex</th>\n",
       "      <th>age_cat</th>\n",
       "      <th>race</th>\n",
       "      <th>juv_fel_count</th>\n",
       "      <th>juv_misd_count</th>\n",
       "      <th>priors_count</th>\n",
       "      <th>c_charge_degree</th>\n",
       "      <th>is_violent_recid</th>\n",
       "      <th>v_decile_score</th>\n",
       "      <th>event</th>\n",
       "      <th>two_year_recid</th>\n",
       "    </tr>\n",
       "  </thead>\n",
       "  <tbody>\n",
       "    <tr>\n",
       "      <th>0</th>\n",
       "      <td>Male</td>\n",
       "      <td>Greater than 45</td>\n",
       "      <td>Other</td>\n",
       "      <td>0</td>\n",
       "      <td>0</td>\n",
       "      <td>0</td>\n",
       "      <td>F</td>\n",
       "      <td>0</td>\n",
       "      <td>1</td>\n",
       "      <td>0</td>\n",
       "      <td>0</td>\n",
       "    </tr>\n",
       "    <tr>\n",
       "      <th>1</th>\n",
       "      <td>Male</td>\n",
       "      <td>25 - 45</td>\n",
       "      <td>African-American</td>\n",
       "      <td>0</td>\n",
       "      <td>0</td>\n",
       "      <td>0</td>\n",
       "      <td>F</td>\n",
       "      <td>1</td>\n",
       "      <td>1</td>\n",
       "      <td>1</td>\n",
       "      <td>1</td>\n",
       "    </tr>\n",
       "    <tr>\n",
       "      <th>2</th>\n",
       "      <td>Male</td>\n",
       "      <td>Less than 25</td>\n",
       "      <td>African-American</td>\n",
       "      <td>0</td>\n",
       "      <td>0</td>\n",
       "      <td>4</td>\n",
       "      <td>F</td>\n",
       "      <td>0</td>\n",
       "      <td>3</td>\n",
       "      <td>0</td>\n",
       "      <td>1</td>\n",
       "    </tr>\n",
       "    <tr>\n",
       "      <th>3</th>\n",
       "      <td>Male</td>\n",
       "      <td>Less than 25</td>\n",
       "      <td>African-American</td>\n",
       "      <td>0</td>\n",
       "      <td>1</td>\n",
       "      <td>1</td>\n",
       "      <td>F</td>\n",
       "      <td>0</td>\n",
       "      <td>6</td>\n",
       "      <td>0</td>\n",
       "      <td>0</td>\n",
       "    </tr>\n",
       "    <tr>\n",
       "      <th>4</th>\n",
       "      <td>Male</td>\n",
       "      <td>25 - 45</td>\n",
       "      <td>Other</td>\n",
       "      <td>0</td>\n",
       "      <td>0</td>\n",
       "      <td>2</td>\n",
       "      <td>F</td>\n",
       "      <td>0</td>\n",
       "      <td>1</td>\n",
       "      <td>0</td>\n",
       "      <td>0</td>\n",
       "    </tr>\n",
       "  </tbody>\n",
       "</table>\n",
       "</div>"
      ],
      "text/plain": [
       "    sex          age_cat              race  juv_fel_count  juv_misd_count  \\\n",
       "0  Male  Greater than 45             Other              0               0   \n",
       "1  Male          25 - 45  African-American              0               0   \n",
       "2  Male     Less than 25  African-American              0               0   \n",
       "3  Male     Less than 25  African-American              0               1   \n",
       "4  Male          25 - 45             Other              0               0   \n",
       "\n",
       "   priors_count c_charge_degree  is_violent_recid  v_decile_score  event  \\\n",
       "0             0               F                 0               1      0   \n",
       "1             0               F                 1               1      1   \n",
       "2             4               F                 0               3      0   \n",
       "3             1               F                 0               6      0   \n",
       "4             2               F                 0               1      0   \n",
       "\n",
       "   two_year_recid  \n",
       "0               0  \n",
       "1               1  \n",
       "2               1  \n",
       "3               0  \n",
       "4               0  "
      ]
     },
     "execution_count": 81,
     "metadata": {},
     "output_type": "execute_result"
    }
   ],
   "source": [
    "# preparing data by selecting needed colums and removing empty values\n",
    "df = df[df.columns[~df.isnull().any()]]\n",
    "df = df[['sex','age_cat', 'race', 'juv_fel_count', 'juv_misd_count', 'priors_count', 'c_charge_degree', \n",
    "         'is_violent_recid', 'v_decile_score', 'event', 'two_year_recid']]\n",
    "#df = df.dropna(how='any')\n",
    "df.head()"
   ]
  },
  {
   "cell_type": "markdown",
   "metadata": {},
   "source": [
    "next we need to convert string data into values/ numbers to be able to use it to train, test and predict"
   ]
  },
  {
   "cell_type": "code",
   "execution_count": 82,
   "metadata": {},
   "outputs": [
    {
     "data": {
      "text/html": [
       "<div>\n",
       "<style scoped>\n",
       "    .dataframe tbody tr th:only-of-type {\n",
       "        vertical-align: middle;\n",
       "    }\n",
       "\n",
       "    .dataframe tbody tr th {\n",
       "        vertical-align: top;\n",
       "    }\n",
       "\n",
       "    .dataframe thead th {\n",
       "        text-align: right;\n",
       "    }\n",
       "</style>\n",
       "<table border=\"1\" class=\"dataframe\">\n",
       "  <thead>\n",
       "    <tr style=\"text-align: right;\">\n",
       "      <th></th>\n",
       "      <th>sex</th>\n",
       "      <th>age_cat</th>\n",
       "      <th>race</th>\n",
       "      <th>juv_fel_count</th>\n",
       "      <th>juv_misd_count</th>\n",
       "      <th>priors_count</th>\n",
       "      <th>c_charge_degree</th>\n",
       "      <th>is_violent_recid</th>\n",
       "      <th>v_decile_score</th>\n",
       "      <th>event</th>\n",
       "      <th>two_year_recid</th>\n",
       "    </tr>\n",
       "  </thead>\n",
       "  <tbody>\n",
       "    <tr>\n",
       "      <th>0</th>\n",
       "      <td>1</td>\n",
       "      <td>1</td>\n",
       "      <td>1</td>\n",
       "      <td>0</td>\n",
       "      <td>0</td>\n",
       "      <td>0</td>\n",
       "      <td>1</td>\n",
       "      <td>0</td>\n",
       "      <td>1</td>\n",
       "      <td>0</td>\n",
       "      <td>0</td>\n",
       "    </tr>\n",
       "    <tr>\n",
       "      <th>1</th>\n",
       "      <td>1</td>\n",
       "      <td>2</td>\n",
       "      <td>2</td>\n",
       "      <td>0</td>\n",
       "      <td>0</td>\n",
       "      <td>0</td>\n",
       "      <td>1</td>\n",
       "      <td>1</td>\n",
       "      <td>1</td>\n",
       "      <td>1</td>\n",
       "      <td>1</td>\n",
       "    </tr>\n",
       "    <tr>\n",
       "      <th>2</th>\n",
       "      <td>1</td>\n",
       "      <td>3</td>\n",
       "      <td>2</td>\n",
       "      <td>0</td>\n",
       "      <td>0</td>\n",
       "      <td>4</td>\n",
       "      <td>1</td>\n",
       "      <td>0</td>\n",
       "      <td>3</td>\n",
       "      <td>0</td>\n",
       "      <td>1</td>\n",
       "    </tr>\n",
       "    <tr>\n",
       "      <th>3</th>\n",
       "      <td>1</td>\n",
       "      <td>3</td>\n",
       "      <td>2</td>\n",
       "      <td>0</td>\n",
       "      <td>1</td>\n",
       "      <td>1</td>\n",
       "      <td>1</td>\n",
       "      <td>0</td>\n",
       "      <td>6</td>\n",
       "      <td>0</td>\n",
       "      <td>0</td>\n",
       "    </tr>\n",
       "    <tr>\n",
       "      <th>4</th>\n",
       "      <td>1</td>\n",
       "      <td>2</td>\n",
       "      <td>1</td>\n",
       "      <td>0</td>\n",
       "      <td>0</td>\n",
       "      <td>2</td>\n",
       "      <td>1</td>\n",
       "      <td>0</td>\n",
       "      <td>1</td>\n",
       "      <td>0</td>\n",
       "      <td>0</td>\n",
       "    </tr>\n",
       "  </tbody>\n",
       "</table>\n",
       "</div>"
      ],
      "text/plain": [
       "   sex  age_cat  race  juv_fel_count  juv_misd_count  priors_count  \\\n",
       "0    1        1     1              0               0             0   \n",
       "1    1        2     2              0               0             0   \n",
       "2    1        3     2              0               0             4   \n",
       "3    1        3     2              0               1             1   \n",
       "4    1        2     1              0               0             2   \n",
       "\n",
       "   c_charge_degree  is_violent_recid  v_decile_score  event  two_year_recid  \n",
       "0                1                 0               1      0               0  \n",
       "1                1                 1               1      1               1  \n",
       "2                1                 0               3      0               1  \n",
       "3                1                 0               6      0               0  \n",
       "4                1                 0               1      0               0  "
      ]
     },
     "execution_count": 82,
     "metadata": {},
     "output_type": "execute_result"
    }
   ],
   "source": [
    "#converting to values\n",
    "df['sex'].replace({'Male': 1, 'Female': 2}, inplace = True)\n",
    "df['age_cat'].replace({'Greater than 45': 1, '25 - 45': 2, 'Less than 25': 3}, inplace = True)\n",
    "df['race'].replace({'Other': 1, 'African-American': 2, 'Caucasian': 3, 'Hispanic': 4, 'Native American': 5, 'Asian': 6}, inplace = True)\n",
    "df['c_charge_degree'].replace({'F': 1, 'M': 2}, inplace = True)\n",
    "df.head()"
   ]
  },
  {
   "cell_type": "markdown",
   "metadata": {},
   "source": [
    "#### splitting dataset and choosing ground truth\n",
    "\n",
    "Next step is to divide our dataset. we cannot use the same data trained for testing so we divide the data into train and test set. we will use 0.2 percent of the training dataset as the validation set. We then need to convert them into a tensor(a set of data/ information relating to one person as relating to COMPAS) to be able to train and test with Pytorch"
   ]
  },
  {
   "cell_type": "code",
   "execution_count": 99,
   "metadata": {},
   "outputs": [
    {
     "name": "stdout",
     "output_type": "stream",
     "text": [
      "torch.Size([5771, 10]) torch.Size([5771])\n",
      "torch.Size([1443, 10]) torch.Size([1443])\n"
     ]
    }
   ],
   "source": [
    "#splitting and converting data to tensor\n",
    "X = df[['sex','age_cat', 'race', 'juv_fel_count', 'juv_misd_count', 'priors_count', 'c_charge_degree', \n",
    "         'is_violent_recid', 'v_decile_score', 'event']]\n",
    "y = df[['two_year_recid']] #ground truth\n",
    "\n",
    "X_train, X_test, y_train, y_test = train_test_split(X, y, test_size=0.2, random_state=RANDOM_SEED)\n",
    "\n",
    "# X_train.astype(dtype = 'float32')\n",
    "X_train = torch.from_numpy(X_train.to_numpy()).float()\n",
    "y_train = torch.squeeze(torch.from_numpy(y_train.to_numpy()).float())\n",
    "X_test = torch.from_numpy(X_test.to_numpy()).float()\n",
    "y_test = torch.squeeze(torch.from_numpy(y_test.to_numpy()).float())\n",
    "\n",
    "print(X_train.shape, y_train.shape)\n",
    "print(X_test.shape, y_test.shape)"
   ]
  },
  {
   "cell_type": "markdown",
   "metadata": {},
   "source": [
    "### Building the network\n",
    "From the shape above, our input data contains 10 columns which also means our input feature is 10. Network input also has to match up to this number.\n",
    "Our network will also have two hidden layers of 5 and 3 nodes respectively\n",
    "\n",
    "#### First Model"
   ]
  },
  {
   "cell_type": "code",
   "execution_count": 201,
   "metadata": {},
   "outputs": [
    {
     "name": "stdout",
     "output_type": "stream",
     "text": [
      "Net(\n",
      "  (fc1): Linear(in_features=10, out_features=5, bias=True)\n",
      "  (fc2): Linear(in_features=5, out_features=3, bias=True)\n",
      "  (fc3): Linear(in_features=3, out_features=1, bias=True)\n",
      ")\n"
     ]
    }
   ],
   "source": [
    "# Defining the model\n",
    "class Net(nn.Module):\n",
    "\n",
    "  def __init__(self, n_features):\n",
    "    super(Net, self).__init__()\n",
    "    self.fc1 = nn.Linear(n_features, 5)\n",
    "    self.fc2 = nn.Linear(5, 3)\n",
    "    self.fc3 = nn.Linear(3, 1)\n",
    "\n",
    "  def forward(self, x):\n",
    "    x = F.relu(self.fc1(x))\n",
    "    x = F.relu(self.fc2(x))\n",
    "    return torch.sigmoid(self.fc3(x))\n",
    "\n",
    "net = Net(X_train.shape[1])\n",
    "print(net)"
   ]
  },
  {
   "cell_type": "code",
   "execution_count": 101,
   "metadata": {},
   "outputs": [
    {
     "name": "stdout",
     "output_type": "stream",
     "text": [
      "epoch 0\n",
<<<<<<< HEAD
      "Train set - loss: 0.793, accuracy: 0.456\n",
      "Test  set - loss: 0.811, accuracy: 0.43\n",
      "\n",
      "epoch 400\n",
      "Train set - loss: 0.354, accuracy: 0.894\n",
      "Test  set - loss: 0.342, accuracy: 0.901\n",
      "\n",
      "epoch 800\n",
      "Train set - loss: 0.276, accuracy: 0.909\n",
      "Test  set - loss: 0.261, accuracy: 0.912\n",
=======
      "Train set - loss: 0.68, accuracy: 0.625\n",
      "Test  set - loss: 0.677, accuracy: 0.647\n",
      "\n",
      "epoch 400\n",
      "Train set - loss: 0.423, accuracy: 0.886\n",
      "Test  set - loss: 0.418, accuracy: 0.891\n",
      "\n",
      "epoch 800\n",
      "Train set - loss: 0.333, accuracy: 0.907\n",
      "Test  set - loss: 0.332, accuracy: 0.911\n",
>>>>>>> d02569df030588d7aa8299b3a0cf2afa4f1be512
      "\n"
     ]
    }
   ],
   "source": [
    "# ann_viz(net, view=False)\n",
    "criterion = nn.BCELoss()\n",
    "optimizer = optim.Adam(net.parameters(), lr=0.001)\n",
    "\n",
    "# device = torch.device(\"cuda:0\" if torch.cuda.is_available() else \"cpu\")\n",
    "# X_train = X_train.to(device)\n",
    "# y_train = y_train.to(device)\n",
    "# X_test = X_test.to(device)\n",
    "# y_test = y_test.to(device)\n",
    "# net = net.to(device)\n",
    "# criterion = criterion.to(device)\n",
    "\n",
    "def calculate_accuracy(y_true, y_pred):\n",
    "  predicted = y_pred.ge(.5).view(-1)\n",
    "  return (y_true == predicted).sum().float() / len(y_true)\n",
    "\n",
    "def round_tensor(t, decimal_places=3):\n",
    "  return round(t.item(), decimal_places)\n",
    "\n",
    "for epoch in range(1200):\n",
    "    \n",
    "    y_pred = net(X_train)\n",
    "    \n",
    "    y_pred = torch.squeeze(y_pred)\n",
    "    train_loss = criterion(y_pred, y_train)\n",
    "    \n",
    "    if epoch % 400 == 0:\n",
    "      train_acc = calculate_accuracy(y_train, y_pred)\n",
    "\n",
    "      y_test_pred = net(X_test)\n",
    "      y_test_pred = torch.squeeze(y_test_pred)\n",
    "\n",
    "      test_loss = criterion(y_test_pred, y_test)\n",
    "\n",
    "      test_acc = calculate_accuracy(y_test, y_test_pred)\n",
    "      print(\n",
    "f'''epoch {epoch}\n",
    "Train set - loss: {round_tensor(train_loss)}, accuracy: {round_tensor(train_acc)}\n",
    "Test  set - loss: {round_tensor(test_loss)}, accuracy: {round_tensor(test_acc)}\n",
    "''')\n",
    "    \n",
    "    optimizer.zero_grad()\n",
    "    \n",
    "    train_loss.backward()\n",
    "    \n",
    "    optimizer.step()\n",
    "\n",
    "# Save model\n",
    "MODEL_PATH = 'model.pth'\n",
    "torch.save(net, MODEL_PATH)"
   ]
  },
  {
   "cell_type": "code",
   "execution_count": 102,
   "metadata": {},
   "outputs": [
    {
     "name": "stdout",
     "output_type": "stream",
     "text": [
      "              precision    recall  f1-score   support\n",
      "\n",
      "    No Recid       0.89      0.96      0.93       823\n",
      "       Recid       0.94      0.85      0.89       620\n",
      "\n",
      "    accuracy                           0.91      1443\n",
      "   macro avg       0.92      0.90      0.91      1443\n",
      "weighted avg       0.91      0.91      0.91      1443\n",
      "\n",
<<<<<<< HEAD
      "Overall Accuracy :  0.911988911988912\n"
=======
      "Overall Accuracy :  0.9126819126819127\n"
>>>>>>> d02569df030588d7aa8299b3a0cf2afa4f1be512
     ]
    }
   ],
   "source": [
    "# Test the model using test set\n",
    "net = torch.load(MODEL_PATH)\n",
    "classes = ['No Recid', 'Recid']\n",
    "y_pred = net(X_test)\n",
    "y_pred = y_pred.ge(.5).view(-1).cpu()\n",
    "y_test = y_test.cpu()\n",
    "print(classification_report(y_test, y_pred, target_names=classes))\n",
    "print(\"Overall Accuracy : \" , str(accuracy_score(y_test, y_pred)))"
   ]
  },
  {
   "cell_type": "markdown",
   "metadata": {},
   "source": [
    "Our model produces a higher overall accuracy of 0.91 as compared to the compass model of 0.65 "
   ]
  },
  {
<<<<<<< HEAD
   "cell_type": "code",
   "execution_count": 9,
   "metadata": {},
   "outputs": [
    {
     "data": {
      "image/png": "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\n",
      "text/plain": [
       "<Figure size 864x576 with 2 Axes>"
      ]
     },
     "metadata": {},
     "output_type": "display_data"
    }
   ],
   "source": [
    "# Plot\n",
    "cm = confusion_matrix(y_test, y_pred)\n",
    "df_cm = pd.DataFrame(cm, index=classes, columns=classes)\n",
    "hmap = sns.heatmap(df_cm, annot=True, fmt=\"d\")\n",
    "hmap.yaxis.set_ticklabels(hmap.yaxis.get_ticklabels(), rotation=0, ha='right')\n",
    "hmap.xaxis.set_ticklabels(hmap.xaxis.get_ticklabels(), rotation=30, ha='right')\n",
    "plt.ylabel('True label')\n",
    "plt.xlabel('Predicted label');"
   ]
  },
  {
=======
>>>>>>> d02569df030588d7aa8299b3a0cf2afa4f1be512
   "cell_type": "markdown",
   "metadata": {},
   "source": [
    "### Predicting Recidivism(tendency to reoffend) based on first model\n",
    "Definitions and possible parameters.\n",
    "We would like to analyse some possible attributes that account for the risk of recidivism. Prior_count, race and decile scores.\n",
    "\n",
    "some sample Predictions follow below."
   ]
  },
  {
   "cell_type": "code",
<<<<<<< HEAD
   "execution_count": 10,
   "metadata": {},
   "outputs": [
    {
     "data": {
      "image/png": "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\n",
      "text/plain": [
       "<Figure size 864x576 with 1 Axes>"
      ]
     },
     "metadata": {},
     "output_type": "display_data"
    }
   ],
   "source": [
    "# graph showing prior count to help in prediction\n",
    "sns.countplot(df.priors_count);\n"
   ]
  },
  {
   "cell_type": "markdown",
   "metadata": {},
   "source": [
    "predicting using violent decile scores. Below are graphs by race and the violent decile scores as compared with the decile scores in part one of the project"
   ]
  },
  {
   "cell_type": "code",
   "execution_count": 11,
   "metadata": {},
   "outputs": [
    {
     "data": {
      "text/plain": [
       "<matplotlib.axes._subplots.AxesSubplot at 0xe0cc74fdc8>"
      ]
     },
     "execution_count": 11,
     "metadata": {},
     "output_type": "execute_result"
    },
    {
     "data": {
      "image/png": "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\n",
      "text/plain": [
       "<Figure size 864x864 with 6 Axes>"
      ]
     },
     "metadata": {},
     "output_type": "display_data"
    }
   ],
   "source": [
    "#sns.countplot(df.v_decile_score)\n",
    "fig, axes = plt.subplots(nrows=2, ncols=3, figsize=(12,12))\n",
    "plt.subplots_adjust(wspace=0.3, hspace=0.2)\n",
    "\n",
    "df['v_decile_score'].loc[df['race'] == 3].plot(ax=axes[0,0], kind='hist', color = \"skyblue\", title='Caucasian')\n",
    "df['v_decile_score'].loc[df['race'] == 1].plot(ax=axes[0,1],kind='hist', color = \"green\", title='Other')\n",
    "df['v_decile_score'].loc[df['race'] == 6].plot(ax=axes[0,2],kind='hist', color = \"lightgreen\", title='Asian')\n",
    "df['v_decile_score'].loc[df['race'] == 2].plot(ax=axes[1,0],kind='hist', color = \"yellow\", title='African-American')\n",
    "df['v_decile_score'].loc[df['race'] == 4].plot(ax=axes[1,1],kind='hist', color = \"violet\", title='Hispanic')\n",
    "df['v_decile_score'].loc[df['race'] == 5].plot(ax=axes[1,2],kind='hist', color = \"blue\", title='Native American')"
   ]
  },
  {
   "cell_type": "markdown",
   "metadata": {},
   "source": [
    "from the charts above, we can see that our training model predict almost same as the original Propublica predictions. Only African-American is slightly different but not large enough to draw a conclusion of fairness.\n",
    "all charts except african americans shows they are a bit violent as compared to the initial graph using just decile scores. the graph for African-american shows the reduction in violence as compared to using just decile scores as in the first part of the project. The most intersting change here is Native American whose chart id very different on violence basis.\n",
    "\n",
    "We can say this is a bit fair as the original compass classifier but wwe would like to do some predictions to conclude on fairness. With African American, it didnt predict that all risk ranges ahve a higher rate of recidivism as predicted by compass. In Native Americans, It aso showed a class of people with a higher rate of recidivism.\n",
    "\n",
    "some sample Predictions follow below.\n",
    "\n",
    "<!-- Below is a graph showing the race distributionfor the dataset. African-American has the largest data which we can say might be one way of predicting that the largest population committing an offense is more likely to recidiviate.\n",
    "\n",
    "### Race -->\n"
   ]
  },
  {
   "cell_type": "code",
   "execution_count": 12,
   "metadata": {},
   "outputs": [],
   "source": [
    "#sns.countplot(df.race)"
   ]
  },
  {
   "cell_type": "markdown",
   "metadata": {},
   "source": [
    "<!-- #### Definitions for race\n",
    "        Other: 1 \n",
    "        African-American: 2\n",
    "        Caucasian: 3\n",
    "        Hispanic: 4\n",
    "        Native American: 5\n",
    "        Asian: 6\n",
    " -->"
   ]
  },
  {
   "cell_type": "code",
   "execution_count": 13,
=======
   "execution_count": 104,
>>>>>>> d02569df030588d7aa8299b3a0cf2afa4f1be512
   "metadata": {},
   "outputs": [
    {
     "name": "stdout",
     "output_type": "stream",
     "text": [
      "sex : [1 2]\n",
      "race : [1 2 3 4 5 6]\n",
      "age_cat : [1 2 3]\n",
      "juv_fel_count : [ 0  2  1  8  4  3  9 20  6  5 10]\n",
      "juv_misd_count : [ 0  1  6 12  2  4  3  8  5 13]\n",
      "priors_count : [ 0  4  1  2 14  3  7  6  5 13  8  9 21 20 15 10 12 28 19 11 22 23 25 24\n",
      " 36 18 16 33 17 30 27 38 26 37 29 35 31]\n",
      "c_charge_degree : [1 2]\n",
      "is_violent_recid : [0 1]\n",
      "v_decile_score : [ 1  3  6  2  5  4  9  7 10  8]\n",
      "event : [0 1]\n"
     ]
    }
   ],
   "source": [
    "def will_recid(sex,age_cat, race, juv_fel_count, juv_misd_count, priors_count, c_charge_degree, is_violent_recid, v_decile_score, event):\n",
    "  t = torch.as_tensor([sex,age_cat, race, juv_fel_count, juv_misd_count, priors_count, c_charge_degree, is_violent_recid, v_decile_score, event]) \\\n",
    "      .float()\n",
    "  output = net(t)\n",
    "  return output.ge(0.5).item()\n",
    "\n",
    "# Possible values\n",
    "print(\"sex : \" + str(df.sex.unique()))\n",
    "print(\"race : \" + str(df.race.unique()))\n",
    "print(\"age_cat : \" + str(df.age_cat.unique()))\n",
    "print(\"juv_fel_count : \" + str(df.juv_fel_count.unique()))\n",
    "print(\"juv_misd_count : \" + str(df.juv_misd_count.unique()))\n",
    "print(\"priors_count : \" + str(df.priors_count.unique()))\n",
    "print(\"c_charge_degree : \" + str(df.c_charge_degree.unique()))\n",
    "print(\"is_violent_recid : \" + str(df.is_violent_recid.unique()))\n",
    "print(\"v_decile_score : \" + str(df.v_decile_score.unique()))\n",
    "print(\"event : \" + str(df.event.unique()))"
   ]
  },
  {
   "cell_type": "markdown",
   "metadata": {},
   "source": [
    "\n",
    "We want to determine if our model work like Propublica (same, better or worse) by predicting few instances."
   ]
  },
  {
   "cell_type": "code",
   "execution_count": 105,
   "metadata": {},
   "outputs": [
    {
     "data": {
      "text/plain": [
       "True"
      ]
     },
     "execution_count": 105,
     "metadata": {},
     "output_type": "execute_result"
    }
   ],
   "source": [
    "will_recid(sex=1, race= 2, age_cat=1, juv_fel_count=2, juv_misd_count=6, priors_count =14, \n",
    "           c_charge_degree =1, is_violent_recid =1, v_decile_score =1, event= 0)"
   ]
  },
  {
   "cell_type": "code",
   "execution_count": 106,
   "metadata": {},
   "outputs": [
    {
     "data": {
      "text/plain": [
       "False"
      ]
     },
     "execution_count": 106,
     "metadata": {},
     "output_type": "execute_result"
    }
   ],
   "source": [
    "will_recid(sex=2, race= 5, age_cat=3, juv_fel_count=1, juv_misd_count=0, priors_count =1, \n",
    "           c_charge_degree =7, is_violent_recid =0, v_decile_score =3, event= 0)"
   ]
  },
  {
   "cell_type": "code",
   "execution_count": 107,
   "metadata": {},
   "outputs": [
    {
     "data": {
      "text/plain": [
       "False"
      ]
     },
     "execution_count": 107,
     "metadata": {},
     "output_type": "execute_result"
    }
   ],
   "source": [
    "will_recid(sex=1, race= 2, age_cat=1, juv_fel_count=0, juv_misd_count=1, priors_count =0, \n",
    "           c_charge_degree =1, is_violent_recid =0, v_decile_score =1, event= 0)"
   ]
  },
  {
   "cell_type": "code",
   "execution_count": 108,
   "metadata": {},
   "outputs": [
    {
     "data": {
      "text/plain": [
       "False"
      ]
     },
     "execution_count": 108,
     "metadata": {},
     "output_type": "execute_result"
    }
   ],
   "source": [
    "will_recid(sex=1, race= 2, age_cat=1, juv_fel_count=2, juv_misd_count=0, priors_count =0, c_charge_degree =1, \n",
    "           is_violent_recid =0, v_decile_score =4, event= 0)"
   ]
  },
  {
   "cell_type": "code",
   "execution_count": 109,
   "metadata": {},
   "outputs": [
    {
     "data": {
      "text/plain": [
       "True"
      ]
     },
     "execution_count": 109,
     "metadata": {},
     "output_type": "execute_result"
    }
   ],
   "source": [
    "will_recid(sex=1, race= 5, age_cat=2, juv_fel_count=0, juv_misd_count=2, priors_count =2, c_charge_degree =0, \n",
    "           is_violent_recid =1, v_decile_score =3, event= 0)"
   ]
  },
  {
   "cell_type": "markdown",
   "metadata": {},
   "source": [
    "#### Second Model\n",
    "For subsequent model, we would like to used a validation set. From the dataset, we use 20% of it as the test set and he rest is used for training. We then use 10% of the training set for the validation set."
   ]
  },
  {
   "cell_type": "markdown",
   "metadata": {},
   "source": [
    "<ul>Notes\n",
    "<li>two_year_recid is not possibility. Its the ground truth. What we are trying to do there is to show the ground truth is relatively balanced</li>\n",
    "<li>we could split two times the data, until we have separate: training, testing, and validation set.</li>\n",
    "<li>Maybe its okay to show the figure of the architecture.\n",
    "<li>What is the v_decile_graph for?</li>\n",
    "<li>We can compare by making predictions of some rows in the dataset where the compas classifier failed. For intance maybe there are some rows where score_text is 'High' and decile_score is '10' however the criminals didn't recid (two_year_recid = 0)</li>    \n",
    "</ul>"
   ]
  },
  {
   "cell_type": "code",
   "execution_count": 202,
   "metadata": {},
   "outputs": [
    {
     "name": "stdout",
     "output_type": "stream",
     "text": [
      "Training\t :torch.Size([5193, 10]), torch.Size([5193])\n",
      "Testing\t\t :torch.Size([1443, 10]), torch.Size([1443])\n",
      "Validation\t :torch.Size([578, 10]), torch.Size([578])\n"
     ]
    }
   ],
   "source": [
    "# Arrange the data : Training, Testing, Validation\n",
    "X_train, X_test, y_train, y_test = train_test_split(X, y, test_size=0.2, random_state=RANDOM_SEED)\n",
    "X_train, X_validate, y_train, y_validate = train_test_split(X_train, y_train, test_size=0.1, random_state=RANDOM_SEED)\n",
    "\n",
    "# conversion to tensor\n",
    "X_train = torch.from_numpy(X_train.to_numpy()).float()\n",
    "y_train = torch.squeeze(torch.from_numpy(y_train.to_numpy()).float())\n",
    "X_test = torch.from_numpy(X_test.to_numpy()).float()\n",
    "y_test = torch.squeeze(torch.from_numpy(y_test.to_numpy()).float())\n",
    "X_validate = torch.from_numpy(X_validate.to_numpy()).float()\n",
    "y_validate = torch.squeeze(torch.from_numpy(y_validate.to_numpy()).float())\n",
    "\n",
    "print(\"Training\\t :\"+ str(X_train.shape) +\", \"+ str(y_train.shape))\n",
    "print(\"Testing\\t\\t :\"+ str(X_test.shape) +\", \"+ str(y_test.shape))\n",
    "print(\"Validation\\t :\"+ str(X_validate.shape) +\", \"+ str(y_validate.shape))\n"
   ]
  },
  {
   "cell_type": "markdown",
   "metadata": {},
   "source": [
    "#### Using Mean Squared Error(MSE)\n",
    "MSE is the default loss function to be used in a regression problem. this is also used when the data is not seperable or for estimation purposes.\n",
    "obviously, this will not perform well on this classification but none the less, we want to see why and how it performs on classification problems.\n",
    "MSE measures the average squared difference between the estimated values and the actual values.\n",
    "With MSE, it is a requirement that the output layer has just one node and also he linear activation function is used in this respect"
   ]
  },
  {
   "cell_type": "code",
   "execution_count": 200,
   "metadata": {},
   "outputs": [
    {
     "name": "stdout",
     "output_type": "stream",
     "text": [
      "Sequential(\n",
      "  (0): Linear(in_features=10, out_features=12, bias=True)\n",
      "  (1): ReLU()\n",
      "  (2): Linear(in_features=12, out_features=5, bias=True)\n",
      "  (3): ReLU()\n",
      "  (4): Linear(in_features=5, out_features=1, bias=True)\n",
      ")\n",
      "\n",
      "\n",
      "epoch 0\n",
<<<<<<< HEAD
      "            Train set\t\t - loss: 1312.85, accuracy: 0.545\n",
      "            Validation set\t - loss: 145.117, accuracy: 0.547\n",
      "            \n",
      "epoch 400\n",
      "            Train set\t\t - loss: 1312.85, accuracy: 0.545\n",
      "            Validation set\t - loss: 145.117, accuracy: 0.547\n",
      "            \n",
      "epoch 800\n",
      "            Train set\t\t - loss: 1312.85, accuracy: 0.545\n",
      "            Validation set\t - loss: 145.117, accuracy: 0.547\n",
=======
      "            Train set\t\t - loss: 3782.121, accuracy: 0.544\n",
      "            Validation set\t - loss: 410.482, accuracy: 0.547\n",
      "            \n",
      "epoch 400\n",
      "            Train set\t\t - loss: 3782.121, accuracy: 0.544\n",
      "            Validation set\t - loss: 410.482, accuracy: 0.547\n",
      "            \n",
      "epoch 800\n",
      "            Train set\t\t - loss: 3782.121, accuracy: 0.544\n",
      "            Validation set\t - loss: 410.482, accuracy: 0.547\n",
>>>>>>> d02569df030588d7aa8299b3a0cf2afa4f1be512
      "            \n",
      "              precision    recall  f1-score   support\n",
      "\n",
      "    No Recid       0.57      1.00      0.73       823\n",
<<<<<<< HEAD
      "       Recid       1.00      0.00      0.01       620\n",
      "\n",
      "    accuracy                           0.57      1443\n",
      "   macro avg       0.79      0.50      0.37      1443\n",
      "weighted avg       0.76      0.57      0.42      1443\n",
      "\n",
      "Overall Accuracy :  0.5717255717255717\n"
=======
      "       Recid       0.00      0.00      0.00       620\n",
      "\n",
      "    accuracy                           0.57      1443\n",
      "   macro avg       0.29      0.50      0.36      1443\n",
      "weighted avg       0.33      0.57      0.41      1443\n",
      "\n",
      "Overall Accuracy :  0.5703395703395704\n"
>>>>>>> d02569df030588d7aa8299b3a0cf2afa4f1be512
     ]
    }
   ],
   "source": [
    "#try using different loss function #2\n",
    "criterion = torch.nn.MSELoss(reduction='sum')\n",
    "\n",
    "#using a nn module from pytorch\n",
    "secondmodel = nn.Sequential(\n",
    "    nn.Linear(10, 12),\n",
    "    nn.ReLU(),\n",
    "    nn.Linear(12, 5),\n",
    "    nn.ReLU(),\n",
    "    nn.Linear(5, 1),\n",
    "#     nn.Sigmoid()\n",
    ")\n",
    "print(secondmodel)\n",
    "print(\"\\n\")\n",
    "\n",
    "optimizer = optim.Adam(net.parameters(), lr=0.001)\n",
    "for epoch in range(1200):\n",
    "    y_pred = secondmodel(X_train)\n",
    "    y_pred = torch.squeeze(y_pred)\n",
    "    train_loss = criterion(y_pred, y_train)\n",
    "    \n",
    "    if epoch % 400 == 0:\n",
    "      train_acc = calculate_accuracy(y_train, y_pred)\n",
    "      y_validate_pred = secondmodel(X_validate)\n",
    "      y_validate_pred = torch.squeeze(y_validate_pred)\n",
    "      validate_loss = criterion(y_validate_pred, y_validate)\n",
    "      validation_acc = calculate_accuracy(y_validate, y_validate_pred)\n",
    "      print(\n",
    "            f'''epoch {epoch}\n",
    "            Train set\\t\\t - loss: {round_tensor(train_loss)}, accuracy: {round_tensor(train_acc)}\n",
    "            Validation set\\t - loss: {round_tensor(validate_loss)}, accuracy: {round_tensor(validation_acc)}\n",
    "            ''')\n",
    "    \n",
    "    optimizer.zero_grad()\n",
    "    train_loss.backward()\n",
    "    optimizer.step()\n",
    "\n",
    "# Test the model using test set\n",
    "y_pred = secondmodel(X_test)\n",
    "y_pred = y_pred.ge(.5).view(-1).cpu()\n",
    "y_test = y_test.cpu()\n",
    "print(classification_report(y_test, y_pred, target_names=classes))\n",
    "print(\"Overall Accuracy : \" , str(accuracy_score(y_test, y_pred)))"
   ]
  },
  {
   "cell_type": "markdown",
   "metadata": {},
   "source": [
    "We can see the model performed poorly using MSE as the loss function. overall accuracy is at 0.64 which is not good to use for predicting if a criminal will recidiviate or not. The accuracy is almost the same as the compass accuacy standing at 0.653.\n",
    "\n",
    "#### Third Model\n",
    "for this model, we would want to see the performance when using tanh activation functions which is non linear."
   ]
  },
  {
   "cell_type": "code",
   "execution_count": 192,
   "metadata": {},
   "outputs": [
    {
     "name": "stdout",
     "output_type": "stream",
     "text": [
      "thirdmodel(\n",
      "  (fc1): Linear(in_features=10, out_features=5, bias=True)\n",
      "  (fc2): Linear(in_features=5, out_features=3, bias=True)\n",
      "  (fc3): Linear(in_features=3, out_features=1, bias=True)\n",
      ")\n",
      "\n",
      "\n",
      "epoch 0\n",
<<<<<<< HEAD
      "            Train set\t\t - loss: 1457.361, accuracy: 0.456\n",
      "            Validation set\t - loss: 161.822, accuracy: 0.453\n",
      "            \n",
      "epoch 400\n",
      "            Train set\t\t - loss: 696.98, accuracy: 0.891\n",
      "            Validation set\t - loss: 81.209, accuracy: 0.874\n",
      "            \n",
      "epoch 800\n",
      "            Train set\t\t - loss: 500.447, accuracy: 0.908\n",
      "            Validation set\t - loss: 60.125, accuracy: 0.896\n",
      "            \n",
      "epoch 1200\n",
      "            Train set\t\t - loss: 444.49, accuracy: 0.909\n",
      "            Validation set\t - loss: 53.809, accuracy: 0.894\n",
      "            \n",
      "epoch 1600\n",
      "            Train set\t\t - loss: 417.823, accuracy: 0.909\n",
      "            Validation set\t - loss: 50.635, accuracy: 0.896\n",
      "            \n",
      "              precision    recall  f1-score   support\n",
      "\n",
      "    No Recid       0.89      0.96      0.93       823\n",
      "       Recid       0.94      0.85      0.89       620\n",
=======
      "            Train set\t\t - loss: 1348.973, accuracy: 0.544\n",
      "            Validation set\t - loss: 148.673, accuracy: 0.547\n",
      "            \n",
      "epoch 400\n",
      "            Train set\t\t - loss: 572.736, accuracy: 0.906\n",
      "            Validation set\t - loss: 67.749, accuracy: 0.894\n",
      "            \n",
      "epoch 800\n",
      "            Train set\t\t - loss: 397.545, accuracy: 0.909\n",
      "            Validation set\t - loss: 48.608, accuracy: 0.9\n",
      "            \n",
      "epoch 1200\n",
      "            Train set\t\t - loss: 384.607, accuracy: 0.909\n",
      "            Validation set\t - loss: 46.882, accuracy: 0.903\n",
      "            \n",
      "epoch 1600\n",
      "            Train set\t\t - loss: 380.594, accuracy: 0.91\n",
      "            Validation set\t - loss: 46.471, accuracy: 0.903\n",
      "            \n",
      "              precision    recall  f1-score   support\n",
      "\n",
      "    No Recid       0.90      0.96      0.93       823\n",
      "       Recid       0.94      0.85      0.90       620\n",
>>>>>>> d02569df030588d7aa8299b3a0cf2afa4f1be512
      "\n",
      "    accuracy                           0.91      1443\n",
      "   macro avg       0.92      0.90      0.91      1443\n",
      "weighted avg       0.91      0.91      0.91      1443\n",
      "\n",
<<<<<<< HEAD
      "Overall Accuracy :  0.9126819126819127\n"
=======
      "Overall Accuracy :  0.9147609147609148\n"
>>>>>>> d02569df030588d7aa8299b3a0cf2afa4f1be512
     ]
    }
   ],
   "source": [
    "# Using different activation functions : from relu -> tanh\n",
    "class thirdmodel(nn.Module):\n",
    "\n",
    "  def __init__(self, n_features):\n",
    "    super(thirdmodel, self).__init__()\n",
    "    self.fc1 = nn.Linear(n_features, 5)\n",
    "    self.fc2 = nn.Linear(5, 3)\n",
    "    self.fc3 = nn.Linear(3, 1)\n",
    "\n",
    "  def forward(self, x):\n",
    "    x = F.tanh(self.fc1(x))\n",
    "    x = F.tanh(self.fc2(x))\n",
    "    return torch.sigmoid(self.fc3(x))\n",
    "\n",
    "net = thirdmodel(X_train.shape[1])\n",
    "print(net)\n",
    "\n",
    "def calculate_accuracy(y_true, y_pred):\n",
    "  predicted = y_pred.ge(.5).view(-1)\n",
    "  return (y_true == predicted).sum().float() / len(y_true)\n",
    "\n",
    "def round_tensor(t, decimal_places=3):\n",
    "  return round(t.item(), decimal_places)\n",
    "\n",
    "optimizer = optim.Adam(net.parameters(), lr=0.001)\n",
    "print(\"\\n\")\n",
    "for epoch in range(2000):\n",
    "    y_pred = net(X_train)\n",
    "    y_pred = torch.squeeze(y_pred)\n",
    "    train_loss = criterion(y_pred, y_train)\n",
    "    \n",
    "    if epoch % 400 == 0:\n",
    "      train_acc = calculate_accuracy(y_train, y_pred)\n",
    "      y_validate_pred = net(X_validate)\n",
    "      y_validate_pred = torch.squeeze(y_validate_pred)\n",
    "      validate_loss = criterion(y_validate_pred, y_validate)\n",
    "      validation_acc = calculate_accuracy(y_validate, y_validate_pred)\n",
    "      print(\n",
    "            f'''epoch {epoch}\n",
    "            Train set\\t\\t - loss: {round_tensor(train_loss)}, accuracy: {round_tensor(train_acc)}\n",
    "            Validation set\\t - loss: {round_tensor(validate_loss)}, accuracy: {round_tensor(validation_acc)}\n",
    "            ''')\n",
    "    \n",
    "    optimizer.zero_grad()\n",
    "    train_loss.backward()\n",
    "    optimizer.step()\n",
    "\n",
    "# Test the model using test set\n",
    "y_pred = net(X_test)\n",
    "y_pred = y_pred.ge(.5).view(-1).cpu()\n",
    "y_test = y_test.cpu()\n",
    "print(classification_report(y_test, y_pred, target_names=classes))\n",
    "print(\"Overall Accuracy : \" , str(accuracy_score(y_test, y_pred)))"
   ]
  },
  {
   "cell_type": "markdown",
   "metadata": {},
   "source": [
    "Our third model performs almost same as our first model which had an accuracy of 0.912 and obviously better than the accuracy of compas.\n",
    "### fourth model\n",
    "we build a fourth model by adding more layers to model 2 and more neurons to the hidden layers. Neurons on the input layers has to remain same to fit the shape of the dataset."
   ]
  },
  {
   "cell_type": "code",
   "execution_count": 203,
   "metadata": {},
   "outputs": [
    {
     "name": "stdout",
     "output_type": "stream",
     "text": [
      "fourthmodel(\n",
      "  (fc1): Linear(in_features=10, out_features=20, bias=True)\n",
      "  (fc2): Linear(in_features=20, out_features=20, bias=True)\n",
      "  (fc3): Linear(in_features=20, out_features=10, bias=True)\n",
      "  (fc4): Linear(in_features=10, out_features=1, bias=True)\n",
      ")\n",
      "\n",
<<<<<<< HEAD
      "\n"
     ]
    },
    {
     "name": "stderr",
     "output_type": "stream",
     "text": [
      "D:\\conda\\lib\\site-packages\\torch\\nn\\functional.py:1340: UserWarning: nn.functional.tanh is deprecated. Use torch.tanh instead.\n",
      "  warnings.warn(\"nn.functional.tanh is deprecated. Use torch.tanh instead.\")\n"
     ]
    },
    {
     "name": "stdout",
     "output_type": "stream",
     "text": [
      "epoch 0\n",
      "            Train set\t\t - loss: 1309.444, accuracy: 0.422\n",
      "            Validation set\t - loss: 145.846, accuracy: 0.41\n",
      "            \n",
      "epoch 400\n",
      "            Train set\t\t - loss: 479.655, accuracy: 0.908\n",
      "            Validation set\t - loss: 57.571, accuracy: 0.896\n",
      "            \n",
      "epoch 800\n",
      "            Train set\t\t - loss: 389.564, accuracy: 0.909\n",
      "            Validation set\t - loss: 47.593, accuracy: 0.9\n",
      "            \n",
      "epoch 1200\n",
      "            Train set\t\t - loss: 379.559, accuracy: 0.912\n",
      "            Validation set\t - loss: 46.586, accuracy: 0.903\n",
      "            \n",
      "epoch 1600\n",
      "            Train set\t\t - loss: 375.949, accuracy: 0.912\n",
      "            Validation set\t - loss: 46.618, accuracy: 0.901\n",
      "            \n",
      "              precision    recall  f1-score   support\n",
      "\n",
      "    No Recid       0.90      0.96      0.93       823\n",
      "       Recid       0.94      0.86      0.90       620\n",
      "\n",
      "    accuracy                           0.91      1443\n",
      "   macro avg       0.92      0.91      0.91      1443\n",
      "weighted avg       0.92      0.91      0.91      1443\n",
      "\n",
      "Overall Accuracy :  0.9140679140679141\n"
=======
      "\n",
      "epoch 0\n",
      "            Train set\t\t - loss: 1329.712, accuracy: 0.456\n",
      "            Validation set\t - loss: 148.17, accuracy: 0.453\n",
      "            \n",
      "epoch 400\n",
      "            Train set\t\t - loss: 371.416, accuracy: 0.914\n",
      "            Validation set\t - loss: 45.39, accuracy: 0.903\n",
      "            \n",
      "epoch 800\n",
      "            Train set\t\t - loss: 356.772, accuracy: 0.92\n",
      "            Validation set\t - loss: 46.42, accuracy: 0.901\n",
      "            \n",
      "epoch 1200\n",
      "            Train set\t\t - loss: 346.367, accuracy: 0.924\n",
      "            Validation set\t - loss: 48.168, accuracy: 0.896\n",
      "            \n",
      "epoch 1600\n",
      "            Train set\t\t - loss: 338.929, accuracy: 0.925\n",
      "            Validation set\t - loss: 47.637, accuracy: 0.9\n",
      "            \n",
      "epoch 2000\n",
      "            Train set\t\t - loss: 333.493, accuracy: 0.927\n",
      "            Validation set\t - loss: 48.037, accuracy: 0.903\n",
      "            \n",
      "epoch 2400\n",
      "            Train set\t\t - loss: 328.108, accuracy: 0.93\n",
      "            Validation set\t - loss: 48.672, accuracy: 0.9\n",
      "            \n",
      "epoch 2800\n",
      "            Train set\t\t - loss: 323.202, accuracy: 0.931\n",
      "            Validation set\t - loss: 49.195, accuracy: 0.898\n",
      "            \n",
      "              precision    recall  f1-score   support\n",
      "\n",
      "    No Recid       0.90      0.93      0.91       823\n",
      "       Recid       0.91      0.86      0.88       620\n",
      "\n",
      "    accuracy                           0.90      1443\n",
      "   macro avg       0.90      0.90      0.90      1443\n",
      "weighted avg       0.90      0.90      0.90      1443\n",
      "\n",
      "Overall Accuracy :  0.9009009009009009\n"
>>>>>>> d02569df030588d7aa8299b3a0cf2afa4f1be512
     ]
    }
   ],
   "source": [
    "# Defining the model  #4\n",
    "# Adding layers and neurons\n",
    "class fourthmodel(nn.Module):\n",
    "\n",
    "  def __init__(self, n_features):\n",
    "    super(fourthmodel, self).__init__()\n",
    "    self.fc1 = nn.Linear(n_features, 20)\n",
    "    self.fc2 = nn.Linear(20, 20)\n",
    "    self.fc3 = nn.Linear(20, 10)\n",
    "    self.fc4 = nn.Linear(10, 1)\n",
    "\n",
    "  def forward(self, x):\n",
    "    x = F.tanh(self.fc1(x))\n",
    "    x = F.tanh(self.fc2(x))\n",
    "    x = F.tanh(self.fc3(x))\n",
    "    return torch.sigmoid(self.fc4(x))\n",
    "\n",
    "net = fourthmodel(X_train.shape[1])\n",
    "print(net)\n",
    "\n",
    "def calculate_accuracy(y_true, y_pred):\n",
    "  predicted = y_pred.ge(.5).view(-1)\n",
    "  return (y_true == predicted).sum().float() / len(y_true)\n",
    "\n",
    "def round_tensor(t, decimal_places=3):\n",
    "  return round(t.item(), decimal_places)\n",
    "\n",
    "optimizer = optim.Adam(net.parameters(), lr=0.001)\n",
    "print(\"\\n\")\n",
    "for epoch in range(3200):\n",
    "    y_pred = net(X_train)\n",
    "    y_pred = torch.squeeze(y_pred)\n",
    "    train_loss = criterion(y_pred, y_train)\n",
    "    \n",
    "    if epoch % 400 == 0:\n",
    "      train_acc = calculate_accuracy(y_train, y_pred)\n",
    "      y_validate_pred = net(X_validate)\n",
    "      y_validate_pred = torch.squeeze(y_validate_pred)\n",
    "      validate_loss = criterion(y_validate_pred, y_validate)\n",
    "      validation_acc = calculate_accuracy(y_validate, y_validate_pred)\n",
    "      print(\n",
    "            f'''epoch {epoch}\n",
    "            Train set\\t\\t - loss: {round_tensor(train_loss)}, accuracy: {round_tensor(train_acc)}\n",
    "            Validation set\\t - loss: {round_tensor(validate_loss)}, accuracy: {round_tensor(validation_acc)}\n",
    "            ''')\n",
    "    \n",
    "    optimizer.zero_grad()\n",
    "    train_loss.backward()\n",
    "    optimizer.step()\n",
    "\n",
    "# Test the model using test set\n",
    "y_pred = net(X_test)\n",
    "y_pred = y_pred.ge(.5).view(-1).cpu()\n",
    "y_test = y_test.cpu()\n",
    "print(classification_report(y_test, y_pred, target_names=classes))\n",
    "print(\"Overall Accuracy : \" , str(accuracy_score(y_test, y_pred)))"
   ]
  },
  {
   "cell_type": "markdown",
   "metadata": {},
   "source": [
    "We observed that the accuracy reduced a little by 0.012 as compared to the original third model. We can say that trying to increase the accuracy of the classifier does not have to do with only adding more layers and neurons to the network. We can also observe overfitting starting at epoch 2400.\n",
    "### Fifth model\n",
    "still use the second model but with relu as the activation function"
   ]
  },
  {
   "cell_type": "code",
<<<<<<< HEAD
   "execution_count": 27,
=======
   "execution_count": 194,
>>>>>>> d02569df030588d7aa8299b3a0cf2afa4f1be512
   "metadata": {},
   "outputs": [
    {
     "name": "stdout",
     "output_type": "stream",
     "text": [
      "fifthmodel(\n",
      "  (fc1): Linear(in_features=10, out_features=5, bias=True)\n",
      "  (fc2): Linear(in_features=5, out_features=3, bias=True)\n",
      "  (fc3): Linear(in_features=3, out_features=1, bias=True)\n",
      ")\n",
      "\n",
      "\n",
      "epoch 0\n",
<<<<<<< HEAD
      "            Train set\t\t - loss: 1297.842, accuracy: 0.544\n",
      "            Validation set\t - loss: 144.257, accuracy: 0.547\n",
      "            \n",
      "epoch 400\n",
      "            Train set\t\t - loss: 370.824, accuracy: 0.912\n",
      "            Validation set\t - loss: 44.671, accuracy: 0.91\n",
      "            \n",
      "epoch 800\n",
      "            Train set\t\t - loss: 356.554, accuracy: 0.919\n",
      "            Validation set\t - loss: 44.846, accuracy: 0.908\n",
      "            \n",
      "epoch 1200\n",
      "            Train set\t\t - loss: 345.354, accuracy: 0.923\n",
      "            Validation set\t - loss: 45.057, accuracy: 0.908\n",
      "            \n",
      "epoch 1600\n",
      "            Train set\t\t - loss: 338.608, accuracy: 0.926\n",
      "            Validation set\t - loss: 45.007, accuracy: 0.908\n",
      "            \n"
=======
      "            Train set\t\t - loss: 1302.5, accuracy: 0.533\n",
      "            Validation set\t - loss: 144.91, accuracy: 0.528\n",
      "            \n",
      "epoch 400\n",
      "            Train set\t\t - loss: 450.755, accuracy: 0.909\n",
      "            Validation set\t - loss: 54.167, accuracy: 0.9\n",
      "            \n",
      "epoch 800\n",
      "            Train set\t\t - loss: 388.699, accuracy: 0.909\n",
      "            Validation set\t - loss: 47.726, accuracy: 0.9\n",
      "            \n",
      "epoch 1200\n",
      "            Train set\t\t - loss: 387.76, accuracy: 0.908\n",
      "            Validation set\t - loss: 47.619, accuracy: 0.901\n",
      "            \n",
      "epoch 1600\n",
      "            Train set\t\t - loss: 387.53, accuracy: 0.908\n",
      "            Validation set\t - loss: 47.59, accuracy: 0.901\n",
      "            \n",
      "              precision    recall  f1-score   support\n",
      "\n",
      "    No Recid       0.89      0.96      0.93       823\n",
      "       Recid       0.95      0.85      0.89       620\n",
      "\n",
      "    accuracy                           0.91      1443\n",
      "   macro avg       0.92      0.91      0.91      1443\n",
      "weighted avg       0.92      0.91      0.91      1443\n",
      "\n",
      "Overall Accuracy :  0.9133749133749134\n"
>>>>>>> d02569df030588d7aa8299b3a0cf2afa4f1be512
     ]
    },
    {
     "data": {
      "text/plain": [
       "tensor([[0.0315],\n",
       "        [0.0343],\n",
       "        [0.9485],\n",
       "        ...,\n",
       "        [0.0339],\n",
       "        [0.9546],\n",
       "        [0.9058]], grad_fn=<SigmoidBackward>)"
      ]
     },
     "execution_count": 27,
     "metadata": {},
     "output_type": "execute_result"
    }
   ],
   "source": [
    "# Defining the model #5\n",
    "# Using custom module\n",
    "class fifthmodel(nn.Module):\n",
    "\n",
    "  def __init__(self, n_features):\n",
    "    super(fifthmodel, self).__init__()\n",
    "    self.fc1 = nn.Linear(n_features, 5)\n",
    "    self.fc2 = nn.Linear(5, 3)\n",
    "    self.fc3 = nn.Linear(3, 1)\n",
    "\n",
    "  def forward(self, x):\n",
    "    x = F.relu(self.fc1(x))\n",
    "    x = F.relu(self.fc2(x))\n",
    "    return torch.sigmoid(self.fc3(x))\n",
    "\n",
    "net = fifthmodel(X_train.shape[1])\n",
    "print(net)\n",
    "\n",
    "def calculate_accuracy(y_true, y_pred):\n",
    "  predicted = y_pred.ge(.5).view(-1)\n",
    "  return (y_true == predicted).sum().float() / len(y_true)\n",
    "\n",
    "def round_tensor(t, decimal_places=3):\n",
    "  return round(t.item(), decimal_places)\n",
    "\n",
    "optimizer = optim.Adam(net.parameters(), lr=0.001)\n",
    "print(\"\\n\")\n",
    "for epoch in range(2000):\n",
    "    y_pred = net(X_train)\n",
    "    y_pred = torch.squeeze(y_pred)\n",
    "    train_loss = criterion(y_pred, y_train)\n",
    "    \n",
    "    if epoch % 400 == 0:\n",
    "      train_acc = calculate_accuracy(y_train, y_pred)\n",
    "      y_validate_pred = net(X_validate)\n",
    "      y_validate_pred = torch.squeeze(y_validate_pred)\n",
    "      validate_loss = criterion(y_validate_pred, y_validate)\n",
    "      validation_acc = calculate_accuracy(y_validate, y_validate_pred)\n",
    "      print(\n",
    "            f'''epoch {epoch}\n",
    "            Train set\\t\\t - loss: {round_tensor(train_loss)}, accuracy: {round_tensor(train_acc)}\n",
    "            Validation set\\t - loss: {round_tensor(validate_loss)}, accuracy: {round_tensor(validation_acc)}\n",
    "            ''')\n",
    "    \n",
    "    optimizer.zero_grad()\n",
    "    train_loss.backward()\n",
    "    optimizer.step()\n",
    "\n",
    "# Test the model using test set\n",
    "y_pred = net(X_test)\n",
    "y_pred = y_pred.ge(.5).view(-1).cpu()\n",
    "y_test = y_test.cpu()\n",
    "print(classification_report(y_test, y_pred, target_names=classes))\n",
    "print(\"Overall Accuracy : \" , str(accuracy_score(y_test, y_pred)))"
   ]
  },
  {
   "cell_type": "markdown",
   "metadata": {},
   "source": [
    "#### note - add graph of accuracy.\n",
    "an overall accuracy of 0.913 almost same as using tanh as the activation function.\n",
    "\n",
    "#### Predictions based on fifthmodel\n",
    "\n",
    "we want to define a new dataset to use for prediction and oserve fairness. We will use criminals labelled with the various risk score/decile score but having a two_year_recid or for this analysis.\n"
   ]
  },
  {
   "cell_type": "code",
   "execution_count": 224,
   "metadata": {},
   "outputs": [
    {
     "name": "stdout",
     "output_type": "stream",
     "text": [
      "shape of data is  (402, 10)\n",
      "tensor([False, False, False, False, False, False, False, False, False, False,\n",
      "        False, False,  True, False, False, False, False, False, False, False,\n",
      "        False, False, False,  True,  True, False, False, False, False, False,\n",
      "        False, False,  True, False,  True, False, False, False,  True, False,\n",
      "        False, False, False, False, False, False, False, False, False, False,\n",
      "        False, False, False, False, False, False, False, False, False, False,\n",
      "         True, False, False, False, False, False, False,  True,  True, False,\n",
      "        False, False, False, False,  True, False, False, False, False, False,\n",
      "        False, False,  True, False, False, False, False,  True, False, False,\n",
      "         True,  True,  True, False, False, False, False,  True, False, False,\n",
      "        False, False, False,  True,  True, False, False, False, False, False,\n",
      "        False, False, False, False, False, False, False,  True, False, False,\n",
      "        False,  True,  True, False, False, False, False,  True, False, False,\n",
      "        False,  True,  True, False, False, False, False, False,  True,  True,\n",
      "         True,  True, False, False, False, False, False, False,  True, False,\n",
      "        False,  True, False, False, False, False, False, False, False, False,\n",
      "        False, False, False, False, False,  True, False, False,  True, False,\n",
      "        False, False, False, False, False,  True, False, False, False, False,\n",
      "        False, False, False, False, False, False,  True, False, False, False,\n",
      "         True, False, False, False, False, False, False, False,  True, False,\n",
      "        False, False,  True, False, False, False, False,  True,  True, False,\n",
      "        False,  True, False, False, False, False, False, False, False, False,\n",
      "        False, False, False, False, False, False, False, False,  True, False,\n",
      "        False, False, False, False, False, False, False, False,  True, False,\n",
      "        False, False, False, False, False, False, False, False, False, False,\n",
      "        False, False, False, False,  True, False,  True,  True, False, False,\n",
      "        False, False, False, False,  True, False, False, False, False, False,\n",
      "        False, False, False, False, False, False, False, False, False, False,\n",
      "        False,  True, False, False,  True, False, False, False, False, False,\n",
      "        False, False, False, False, False, False, False, False, False, False,\n",
      "        False, False,  True,  True, False, False,  True,  True, False, False,\n",
      "        False,  True, False, False, False, False, False,  True, False, False,\n",
      "        False, False, False, False, False, False, False,  True, False, False,\n",
      "        False, False, False, False, False, False, False, False, False, False,\n",
      "        False, False, False, False, False, False, False, False, False, False,\n",
      "        False, False, False, False, False, False, False, False, False, False,\n",
      "        False, False, False,  True, False, False, False, False, False, False,\n",
      "         True, False, False, False, False, False, False, False, False, False,\n",
      "        False,  True, False, False, False, False, False, False, False, False,\n",
      "        False, False, False, False, False, False, False, False,  True, False,\n",
      "        False, False])\n"
     ]
    },
    {
     "ename": "AttributeError",
     "evalue": "'Tensor' object has no attribute 'count'",
     "output_type": "error",
     "traceback": [
      "\u001b[0;31m---------------------------------------------------------------------------\u001b[0m",
      "\u001b[0;31mAttributeError\u001b[0m                            Traceback (most recent call last)",
      "\u001b[0;32m<ipython-input-224-8ba2a17814f0>\u001b[0m in \u001b[0;36m<module>\u001b[0;34m\u001b[0m\n\u001b[1;32m     20\u001b[0m \u001b[0mX_pred\u001b[0m \u001b[0;34m=\u001b[0m \u001b[0mX_pred\u001b[0m\u001b[0;34m.\u001b[0m\u001b[0mge\u001b[0m\u001b[0;34m(\u001b[0m\u001b[0;36m.5\u001b[0m\u001b[0;34m)\u001b[0m\u001b[0;34m.\u001b[0m\u001b[0mview\u001b[0m\u001b[0;34m(\u001b[0m\u001b[0;34m-\u001b[0m\u001b[0;36m1\u001b[0m\u001b[0;34m)\u001b[0m\u001b[0;34m.\u001b[0m\u001b[0mcpu\u001b[0m\u001b[0;34m(\u001b[0m\u001b[0;34m)\u001b[0m\u001b[0;34m\u001b[0m\u001b[0;34m\u001b[0m\u001b[0m\n\u001b[1;32m     21\u001b[0m \u001b[0mprint\u001b[0m \u001b[0;34m(\u001b[0m\u001b[0mX_pred\u001b[0m\u001b[0;34m)\u001b[0m\u001b[0;34m\u001b[0m\u001b[0;34m\u001b[0m\u001b[0m\n\u001b[0;32m---> 22\u001b[0;31m \u001b[0mnp\u001b[0m\u001b[0;34m.\u001b[0m\u001b[0munique\u001b[0m\u001b[0;34m(\u001b[0m\u001b[0mX_pred\u001b[0m\u001b[0;34m.\u001b[0m\u001b[0mcount\u001b[0m\u001b[0;34m(\u001b[0m\u001b[0;34m)\u001b[0m\u001b[0;34m.\u001b[0m\u001b[0mnumpy\u001b[0m\u001b[0;34m(\u001b[0m\u001b[0;34m)\u001b[0m\u001b[0;34m)\u001b[0m\u001b[0;34m\u001b[0m\u001b[0;34m\u001b[0m\u001b[0m\n\u001b[0m",
      "\u001b[0;31mAttributeError\u001b[0m: 'Tensor' object has no attribute 'count'"
     ]
    }
   ],
   "source": [
    "df2 = pd.read_csv('compas-scores-two-years.csv')\n",
    "\n",
    "#no two_year _recid with high label\n",
    "df2 = df2.loc[(df2['two_year_recid']==0) & (df2['score_text']=='High')]\n",
    "# print ('shape of filtered data is ', df2.shape)\n",
    "\n",
    "df2 = df2[df.columns[~df.isnull().any()]]\n",
    "df2 = df2[['sex','age_cat', 'race', 'juv_fel_count', 'juv_misd_count', 'priors_count', 'c_charge_degree', \n",
    "         'is_violent_recid', 'v_decile_score', 'event', ]]\n",
    "df2['sex'].replace({'Male': 1, 'Female': 2}, inplace = True)\n",
    "df2['age_cat'].replace({'Greater than 45': 1, '25 - 45': 2, 'Less than 25': 3}, inplace = True)\n",
    "df2['race'].replace({'Other': 1, 'African-American': 2, 'Caucasian': 3, 'Hispanic': 4, 'Native American': 5, 'Asian': 6}, inplace = True)\n",
    "df2['c_charge_degree'].replace({'F': 1, 'M': 2}, inplace = True)\n",
    "\n",
    "print ('shape of data is ', df2.shape)\n",
    "\n",
    "#prediction\n",
    "X_pred = torch.from_numpy(df2.to_numpy()).float()\n",
    "X_pred = net(X_pred)\n",
    "X_pred = X_pred.ge(.5).view(-1).cpu()\n",
    "print (X_pred)\n"
   ]
  },
  {
   "cell_type": "code",
   "execution_count": 181,
   "metadata": {},
   "outputs": [
    {
     "name": "stdout",
     "output_type": "stream",
     "text": [
      "shape of is  (2681, 10)\n",
      "tensor([False, False, False,  ..., False, False, False])\n"
     ]
    }
   ],
   "source": [
    "df2 = pd.read_csv('compas-scores-two-years.csv')\n",
    "\n",
    "#no two_year _recid with Low label\n",
    "df2 = df2.loc[(df2['two_year_recid']==0) & (df2['score_text']=='Low')]\n",
    "# print ('shape of filtered data is ', df2.shape)\n",
    "\n",
    "df2 = df2[df.columns[~df.isnull().any()]]\n",
    "df2 = df2[['sex','age_cat', 'race', 'juv_fel_count', 'juv_misd_count', 'priors_count', 'c_charge_degree', \n",
    "         'is_violent_recid', 'v_decile_score', 'event', ]]\n",
    "df2['sex'].replace({'Male': 1, 'Female': 2}, inplace = True)\n",
    "df2['age_cat'].replace({'Greater than 45': 1, '25 - 45': 2, 'Less than 25': 3}, inplace = True)\n",
    "df2['race'].replace({'Other': 1, 'African-American': 2, 'Caucasian': 3, 'Hispanic': 4, 'Native American': 5, 'Asian': 6}, inplace = True)\n",
    "df2['c_charge_degree'].replace({'F': 1, 'M': 2}, inplace = True)\n",
    "\n",
    "print ('shape of is ', df2.shape)\n",
    "X_pred = torch.from_numpy(df2.to_numpy()).float()\n",
    "X_pred = net(X_pred)\n",
    "X_pred = X_pred.ge(.5).view(-1).cpu()\n",
    "print (X_pred)"
   ]
  },
  {
   "cell_type": "code",
   "execution_count": 182,
   "metadata": {},
   "outputs": [
    {
     "name": "stdout",
     "output_type": "stream",
     "text": [
      "shape of is  (1216, 10)\n",
      "tensor([ True, False,  True,  ...,  True,  True, False])\n"
     ]
    }
   ],
   "source": [
    "df2 = pd.read_csv('compas-scores-two-years.csv')\n",
    "\n",
    "#two_year _recid with Low label\n",
    "df2 = df2.loc[(df2['two_year_recid']==1) & (df2['score_text']=='Low')]\n",
    "# print ('shape of filtered data is ', df2.shape)\n",
    "\n",
    "df2 = df2[df.columns[~df.isnull().any()]]\n",
    "df2 = df2[['sex','age_cat', 'race', 'juv_fel_count', 'juv_misd_count', 'priors_count', 'c_charge_degree', \n",
    "         'is_violent_recid', 'v_decile_score', 'event', ]]\n",
    "df2['sex'].replace({'Male': 1, 'Female': 2}, inplace = True)\n",
    "df2['age_cat'].replace({'Greater than 45': 1, '25 - 45': 2, 'Less than 25': 3}, inplace = True)\n",
    "df2['race'].replace({'Other': 1, 'African-American': 2, 'Caucasian': 3, 'Hispanic': 4, 'Native American': 5, 'Asian': 6}, inplace = True)\n",
    "df2['c_charge_degree'].replace({'F': 1, 'M': 2}, inplace = True)\n",
    "\n",
    "print ('shape of is ', df2.shape)\n",
    "X_pred = torch.from_numpy(df2.to_numpy()).float()\n",
    "X_pred = net(X_pred)\n",
    "X_pred = X_pred.ge(.5).view(-1).cpu()\n",
    "print (X_pred)"
   ]
  },
  {
   "cell_type": "code",
   "execution_count": 186,
   "metadata": {},
   "outputs": [
    {
     "name": "stdout",
     "output_type": "stream",
     "text": [
      "shape of is  (1001, 10)\n",
      "tensor([True, True, True,  ..., True, True, True])\n"
     ]
    }
   ],
   "source": [
    "df2 = pd.read_csv('compas-scores-two-years.csv')\n",
    "\n",
    "#two_year _recid with high label\n",
    "df2 = df2.loc[(df2['two_year_recid']==1) & (df2['score_text']=='High')]\n",
    "# print ('shape of filtered data is ', df2.shape)\n",
    "\n",
    "df2 = df2[df.columns[~df.isnull().any()]]\n",
    "df2 = df2[['sex','age_cat', 'race', 'juv_fel_count', 'juv_misd_count', 'priors_count', 'c_charge_degree', \n",
    "         'is_violent_recid', 'v_decile_score', 'event', ]]\n",
    "df2['sex'].replace({'Male': 1, 'Female': 2}, inplace = True)\n",
    "df2['age_cat'].replace({'Greater than 45': 1, '25 - 45': 2, 'Less than 25': 3}, inplace = True)\n",
    "df2['race'].replace({'Other': 1, 'African-American': 2, 'Caucasian': 3, 'Hispanic': 4, 'Native American': 5, 'Asian': 6}, inplace = True)\n",
    "df2['c_charge_degree'].replace({'F': 1, 'M': 2}, inplace = True)\n",
    "\n",
    "print ('shape of is ', df2.shape)\n",
    "X_pred = torch.from_numpy(df2.to_numpy()).float()\n",
    "X_pred = net(X_pred)\n",
    "X_pred = X_pred.ge(.5).view(-1).cpu()\n",
    "print (X_pred)"
   ]
  },
  {
   "cell_type": "code",
   "execution_count": 204,
   "metadata": {},
   "outputs": [
    {
     "name": "stdout",
     "output_type": "stream",
     "text": [
      "shape of is  (880, 10)\n",
      "tensor([ True, False, False, False, False, False, False, False, False, False,\n",
      "        False, False, False, False, False, False, False, False, False, False,\n",
      "        False, False, False,  True, False, False, False, False, False, False,\n",
      "        False, False, False, False, False, False, False, False, False, False,\n",
      "        False, False, False, False,  True, False, False, False, False, False,\n",
      "        False, False, False, False, False,  True, False, False,  True, False,\n",
      "        False, False, False, False, False, False, False, False,  True, False,\n",
      "        False, False, False, False, False, False, False, False, False, False,\n",
      "        False, False,  True, False,  True, False, False, False, False, False,\n",
      "        False, False, False, False, False, False, False, False, False, False,\n",
      "        False, False, False, False, False, False, False, False, False, False,\n",
      "        False, False, False, False, False, False, False, False,  True, False,\n",
      "        False, False, False, False, False, False,  True, False, False, False,\n",
      "        False, False,  True, False, False, False, False, False, False, False,\n",
      "        False, False, False, False, False, False, False, False, False, False,\n",
      "        False, False, False, False, False, False, False,  True, False, False,\n",
      "        False, False, False, False,  True, False, False, False, False, False,\n",
      "         True, False,  True, False, False, False, False, False, False, False,\n",
      "        False, False, False, False, False, False, False, False, False, False,\n",
      "        False, False,  True, False, False, False, False, False, False, False,\n",
      "        False, False, False, False, False, False, False, False, False, False,\n",
      "        False, False, False, False, False, False, False, False, False, False,\n",
      "        False, False, False, False, False, False, False, False, False, False,\n",
      "        False, False, False, False, False,  True, False, False,  True, False,\n",
      "        False, False, False,  True, False, False, False, False, False, False,\n",
      "         True,  True, False, False, False, False, False, False,  True, False,\n",
      "        False, False, False, False, False, False, False, False, False, False,\n",
      "        False, False, False, False, False, False, False, False, False, False,\n",
      "        False, False, False,  True, False, False, False, False, False, False,\n",
      "        False, False, False,  True, False, False, False, False, False,  True,\n",
      "        False, False, False, False, False, False, False, False, False, False,\n",
      "        False, False, False, False, False, False, False, False, False, False,\n",
      "        False, False, False, False, False, False, False, False, False, False,\n",
      "        False, False, False, False, False, False, False, False, False, False,\n",
      "        False, False, False, False, False, False, False,  True, False, False,\n",
      "        False, False, False, False,  True, False, False, False, False, False,\n",
      "        False, False,  True, False,  True,  True, False, False, False, False,\n",
      "        False, False, False, False, False, False, False, False, False, False,\n",
      "        False, False, False, False, False, False,  True, False, False, False,\n",
      "        False, False, False, False, False, False, False, False, False, False,\n",
      "        False, False, False, False, False, False, False, False, False, False,\n",
      "        False, False, False, False, False, False, False, False, False, False,\n",
      "        False, False, False,  True, False, False, False, False,  True, False,\n",
      "        False, False, False, False, False, False,  True, False, False, False,\n",
      "         True, False, False, False, False, False, False, False, False, False,\n",
      "        False, False, False, False, False, False, False, False, False, False,\n",
      "        False, False, False, False, False, False, False, False, False, False,\n",
      "        False, False, False, False, False, False, False, False, False, False,\n",
      "        False, False, False,  True, False, False, False, False, False, False,\n",
      "        False, False, False, False, False, False, False, False, False, False,\n",
      "        False, False, False, False, False, False, False, False, False, False,\n",
      "        False, False, False, False, False, False, False, False, False, False,\n",
      "        False, False, False, False, False, False, False, False, False, False,\n",
      "        False, False, False, False, False, False, False, False, False, False,\n",
      "        False, False,  True, False, False,  True, False, False,  True, False,\n",
      "        False, False, False,  True, False, False, False, False, False, False,\n",
      "        False, False, False, False, False, False, False, False, False, False,\n",
      "        False, False, False, False,  True, False, False, False, False, False,\n",
      "         True, False, False,  True, False, False, False, False, False, False,\n",
      "        False,  True, False, False, False, False,  True,  True, False, False,\n",
      "        False, False, False, False, False, False, False, False, False, False,\n",
      "        False, False, False, False, False, False, False, False, False, False,\n",
      "        False, False, False, False, False,  True, False, False, False, False,\n",
      "         True, False, False, False,  True, False, False,  True, False, False,\n",
      "        False, False, False, False, False, False, False, False, False, False,\n",
      "        False, False, False, False, False, False, False, False, False,  True,\n",
      "        False,  True, False, False, False,  True, False, False,  True, False,\n",
      "        False, False, False, False, False, False, False, False, False, False,\n",
      "        False, False, False, False, False, False, False, False,  True, False,\n",
      "        False, False,  True, False, False, False, False, False, False, False,\n",
      "        False, False, False, False, False, False, False, False, False, False,\n",
      "         True, False,  True, False, False, False, False,  True, False, False,\n",
      "        False, False, False,  True, False, False, False, False, False, False,\n",
      "        False, False, False, False, False, False, False, False, False, False,\n",
      "        False, False, False,  True, False,  True,  True, False, False, False,\n",
      "         True, False, False, False, False, False, False, False, False, False,\n",
      "        False,  True, False, False, False, False,  True, False, False, False,\n",
      "        False, False,  True, False, False, False, False, False, False, False,\n",
      "        False,  True,  True, False,  True, False, False, False, False,  True,\n",
      "        False, False, False, False, False, False, False, False, False, False,\n",
      "        False, False,  True, False, False, False, False, False, False, False,\n",
      "        False, False, False, False, False, False, False, False, False, False,\n",
      "        False, False,  True, False, False, False, False, False, False, False,\n",
      "        False, False, False, False,  True, False, False, False, False, False,\n",
      "        False, False, False, False, False, False, False, False, False, False,\n",
      "        False, False, False, False, False, False, False, False,  True, False,\n",
      "        False, False, False, False, False, False, False,  True, False, False,\n",
      "        False, False, False, False,  True, False, False, False, False, False])\n"
     ]
    }
   ],
   "source": [
    "df2 = pd.read_csv('compas-scores-two-years.csv')\n",
    "\n",
    "#no two_year _recid with Medium label\n",
    "df2 = df2.loc[(df2['two_year_recid']==0) & (df2['score_text']=='Medium')]\n",
    "# print ('shape of filtered data is ', df2.shape)\n",
    "\n",
    "df2 = df2[df.columns[~df.isnull().any()]]\n",
    "df2 = df2[['sex','age_cat', 'race', 'juv_fel_count', 'juv_misd_count', 'priors_count', 'c_charge_degree', \n",
    "         'is_violent_recid', 'v_decile_score', 'event', ]]\n",
    "df2['sex'].replace({'Male': 1, 'Female': 2}, inplace = True)\n",
    "df2['age_cat'].replace({'Greater than 45': 1, '25 - 45': 2, 'Less than 25': 3}, inplace = True)\n",
    "df2['race'].replace({'Other': 1, 'African-American': 2, 'Caucasian': 3, 'Hispanic': 4, 'Native American': 5, 'Asian': 6}, inplace = True)\n",
    "df2['c_charge_degree'].replace({'F': 1, 'M': 2}, inplace = True)\n",
    "\n",
    "print ('shape of is ', df2.shape)\n",
    "X_pred = torch.from_numpy(df2.to_numpy()).float()\n",
    "X_pred = net(X_pred)\n",
    "X_pred = X_pred.ge(.5).view(-1).cpu()\n",
    "print (X_pred)"
   ]
  },
  {
   "cell_type": "code",
   "execution_count": 205,
   "metadata": {},
   "outputs": [
    {
     "name": "stdout",
     "output_type": "stream",
     "text": [
      "shape of is  (402, 10)\n",
      "tensor([False, False, False, False, False, False, False, False, False, False,\n",
      "        False, False,  True, False, False, False, False, False, False, False,\n",
      "        False, False, False,  True,  True, False, False, False, False, False,\n",
      "        False, False,  True, False,  True, False, False, False,  True, False,\n",
      "        False, False, False, False, False, False, False, False, False, False,\n",
      "        False, False, False, False, False, False, False, False, False, False,\n",
      "         True, False, False, False, False, False, False,  True,  True, False,\n",
      "        False, False, False, False,  True, False, False, False, False, False,\n",
      "        False, False,  True, False, False, False, False,  True, False, False,\n",
      "         True,  True,  True, False, False, False, False,  True, False, False,\n",
      "        False, False, False,  True,  True, False, False, False, False, False,\n",
      "        False, False, False, False, False, False, False,  True, False, False,\n",
      "        False,  True,  True, False, False, False, False,  True, False, False,\n",
      "        False,  True,  True, False, False, False, False, False,  True,  True,\n",
      "         True,  True, False, False, False, False, False, False,  True, False,\n",
      "        False,  True, False, False, False, False, False, False, False, False,\n",
      "        False, False, False, False, False,  True, False, False,  True, False,\n",
      "        False, False, False, False, False,  True, False, False, False, False,\n",
      "        False, False, False, False, False, False,  True, False, False, False,\n",
      "         True, False, False, False, False, False, False, False,  True, False,\n",
      "        False, False,  True, False, False, False, False,  True,  True, False,\n",
      "        False,  True, False, False, False, False, False, False, False, False,\n",
      "        False, False, False, False, False, False, False, False,  True, False,\n",
      "        False, False, False, False, False, False, False, False,  True, False,\n",
      "        False, False, False, False, False, False, False, False, False, False,\n",
      "        False, False, False, False,  True, False,  True,  True, False, False,\n",
      "        False, False, False, False,  True, False, False, False, False, False,\n",
      "        False, False, False, False, False, False, False, False, False, False,\n",
      "        False,  True, False, False,  True, False, False, False, False, False,\n",
      "        False, False, False, False, False, False, False, False, False, False,\n",
      "        False, False,  True,  True, False, False,  True,  True, False, False,\n",
      "        False,  True, False, False, False, False, False,  True, False, False,\n",
      "        False, False, False, False, False, False, False,  True, False, False,\n",
      "        False, False, False, False, False, False, False, False, False, False,\n",
      "        False, False, False, False, False, False, False, False, False, False,\n",
      "        False, False, False, False, False, False, False, False, False, False,\n",
      "        False, False, False,  True, False, False, False, False, False, False,\n",
      "         True, False, False, False, False, False, False, False, False, False,\n",
      "        False,  True, False, False, False, False, False, False, False, False,\n",
      "        False, False, False, False, False, False, False, False,  True, False,\n",
      "        False, False])\n"
     ]
    }
   ],
   "source": [
    "df2 = pd.read_csv('compas-scores-two-years.csv')\n",
    "\n",
    "#no two_year _recid with high label\n",
    "df2 = df2.loc[(df2['two_year_recid']==0) & (df2['score_text']=='High')]\n",
    "# print ('shape of filtered data is ', df2.shape)\n",
    "\n",
    "df2 = df2[df.columns[~df.isnull().any()]]\n",
    "df2 = df2[['sex','age_cat', 'race', 'juv_fel_count', 'juv_misd_count', 'priors_count', 'c_charge_degree', \n",
    "         'is_violent_recid', 'v_decile_score', 'event', ]]\n",
    "df2['sex'].replace({'Male': 1, 'Female': 2}, inplace = True)\n",
    "df2['age_cat'].replace({'Greater than 45': 1, '25 - 45': 2, 'Less than 25': 3}, inplace = True)\n",
    "df2['race'].replace({'Other': 1, 'African-American': 2, 'Caucasian': 3, 'Hispanic': 4, 'Native American': 5, 'Asian': 6}, inplace = True)\n",
    "df2['c_charge_degree'].replace({'F': 1, 'M': 2}, inplace = True)\n",
    "\n",
    "print ('shape of is ', df2.shape)\n",
    "X_pred = torch.from_numpy(df2.to_numpy()).float()\n",
    "X_pred = net(X_pred)\n",
    "X_pred = X_pred.ge(.5).view(-1).cpu()\n",
    "print (X_pred)"
   ]
  },
  {
   "cell_type": "code",
   "execution_count": null,
   "metadata": {},
   "outputs": [],
   "source": []
  }
 ],
 "metadata": {
  "kernelspec": {
   "display_name": "Python 3",
   "language": "python",
   "name": "python3"
  },
  "language_info": {
   "codemirror_mode": {
    "name": "ipython",
    "version": 3
   },
   "file_extension": ".py",
   "mimetype": "text/x-python",
   "name": "python",
   "nbconvert_exporter": "python",
   "pygments_lexer": "ipython3",
   "version": "3.7.6"
  }
 },
 "nbformat": 4,
 "nbformat_minor": 4
}
