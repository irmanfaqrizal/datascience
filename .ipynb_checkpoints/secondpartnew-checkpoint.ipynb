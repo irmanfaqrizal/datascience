{
 "cells": [
  {
   "cell_type": "markdown",
   "metadata": {},
   "source": [
    "# PART 2 - Evaluation of COMPAS dataset\n",
    "\n",
    "#### Group Members : \n",
    "                Marck-Edward KEMEH - marck-edward.kemeh@grenoble-inp.org\n",
    "                Irman FAQRIZAL - irman.faqrizal@univ-grenoble-alpes.fr"
   ]
  },
  {
   "cell_type": "code",
   "execution_count": 53,
   "metadata": {},
   "outputs": [
    {
     "data": {
      "text/html": [
       "<style>.container { width:95% !important; }</style>"
      ],
      "text/plain": [
       "<IPython.core.display.HTML object>"
      ]
     },
     "metadata": {},
     "output_type": "display_data"
    }
   ],
   "source": [
    "# Increase my page width\n",
    "from IPython.core.display import display, HTML\n",
    "display(HTML(\"<style>.container { width:95% !important; }</style>\"))\n",
    "# Ignore annoying warnings\n",
    "import warnings\n",
    "warnings.filterwarnings('ignore',category=FutureWarning)\n",
    "import urllib\n",
    "import os,sys\n",
    "import numpy as np\n",
    "import pandas as pd\n",
    "import seaborn as sns\n",
    "import torch\n",
    "import torch.nn.functional as F\n",
    "import matplotlib.pyplot as plt\n",
    "import tensorflow as tf\n",
    "import scikitplot as skplt\n",
    "from sklearn.datasets import make_classification\n",
    "from sklearn.linear_model import LogisticRegression\n",
    "from sklearn import svm\n",
    "from sklearn.model_selection import cross_val_score\n",
    "from sklearn.tree import DecisionTreeClassifier\n",
    "from sklearn.neighbors import KNeighborsClassifier\n",
    "from sklearn.metrics import accuracy_score, confusion_matrix, classification_report\n",
    "from pylab import rcParams\n",
    "from torch import nn, optim\n",
    "from sklearn.model_selection import train_test_split\n",
    "from sklearn import feature_extraction, preprocessing\n",
    "from random import seed, shuffle\n",
    "import math\n",
    "sns.set(style='whitegrid', palette='muted', font_scale=1.2)\n",
    "HAPPY_COLORS_PALETTE = [\"#01BEFE\", \"#FFDD00\", \"#FF7D00\", \"#FF006D\", \"#93D30C\", \"#8F00FF\"]\n",
    "sns.set_palette(sns.color_palette(HAPPY_COLORS_PALETTE))\n",
    "rcParams['figure.figsize'] = 10, 6\n",
    "RANDOM_SEED = 42\n",
    "df = pd.read_csv('compas-scores-two-years.csv')"
   ]
  },
  {
   "cell_type": "markdown",
   "metadata": {},
   "source": [
    "<h2>2.1 Preprocessing </h2>\n",
    "Before going further to building the classifiers, we will preprocess our data. First we select the needed colums and removing empty values."
   ]
  },
  {
   "cell_type": "code",
   "execution_count": 54,
   "metadata": {},
   "outputs": [
    {
     "data": {
      "text/html": [
       "<div>\n",
       "<style scoped>\n",
       "    .dataframe tbody tr th:only-of-type {\n",
       "        vertical-align: middle;\n",
       "    }\n",
       "\n",
       "    .dataframe tbody tr th {\n",
       "        vertical-align: top;\n",
       "    }\n",
       "\n",
       "    .dataframe thead th {\n",
       "        text-align: right;\n",
       "    }\n",
       "</style>\n",
       "<table border=\"1\" class=\"dataframe\">\n",
       "  <thead>\n",
       "    <tr style=\"text-align: right;\">\n",
       "      <th></th>\n",
       "      <th>sex</th>\n",
       "      <th>age_cat</th>\n",
       "      <th>race</th>\n",
       "      <th>juv_fel_count</th>\n",
       "      <th>juv_misd_count</th>\n",
       "      <th>priors_count</th>\n",
       "      <th>c_charge_degree</th>\n",
       "      <th>is_violent_recid</th>\n",
       "      <th>v_decile_score</th>\n",
       "      <th>event</th>\n",
       "      <th>two_year_recid</th>\n",
       "    </tr>\n",
       "  </thead>\n",
       "  <tbody>\n",
       "    <tr>\n",
       "      <th>0</th>\n",
       "      <td>Male</td>\n",
       "      <td>Greater than 45</td>\n",
       "      <td>Other</td>\n",
       "      <td>0</td>\n",
       "      <td>0</td>\n",
       "      <td>0</td>\n",
       "      <td>F</td>\n",
       "      <td>0</td>\n",
       "      <td>1</td>\n",
       "      <td>0</td>\n",
       "      <td>0</td>\n",
       "    </tr>\n",
       "    <tr>\n",
       "      <th>1</th>\n",
       "      <td>Male</td>\n",
       "      <td>25 - 45</td>\n",
       "      <td>African-American</td>\n",
       "      <td>0</td>\n",
       "      <td>0</td>\n",
       "      <td>0</td>\n",
       "      <td>F</td>\n",
       "      <td>1</td>\n",
       "      <td>1</td>\n",
       "      <td>1</td>\n",
       "      <td>1</td>\n",
       "    </tr>\n",
       "    <tr>\n",
       "      <th>2</th>\n",
       "      <td>Male</td>\n",
       "      <td>Less than 25</td>\n",
       "      <td>African-American</td>\n",
       "      <td>0</td>\n",
       "      <td>0</td>\n",
       "      <td>4</td>\n",
       "      <td>F</td>\n",
       "      <td>0</td>\n",
       "      <td>3</td>\n",
       "      <td>0</td>\n",
       "      <td>1</td>\n",
       "    </tr>\n",
       "    <tr>\n",
       "      <th>3</th>\n",
       "      <td>Male</td>\n",
       "      <td>Less than 25</td>\n",
       "      <td>African-American</td>\n",
       "      <td>0</td>\n",
       "      <td>1</td>\n",
       "      <td>1</td>\n",
       "      <td>F</td>\n",
       "      <td>0</td>\n",
       "      <td>6</td>\n",
       "      <td>0</td>\n",
       "      <td>0</td>\n",
       "    </tr>\n",
       "    <tr>\n",
       "      <th>4</th>\n",
       "      <td>Male</td>\n",
       "      <td>25 - 45</td>\n",
       "      <td>Other</td>\n",
       "      <td>0</td>\n",
       "      <td>0</td>\n",
       "      <td>2</td>\n",
       "      <td>F</td>\n",
       "      <td>0</td>\n",
       "      <td>1</td>\n",
       "      <td>0</td>\n",
       "      <td>0</td>\n",
       "    </tr>\n",
       "  </tbody>\n",
       "</table>\n",
       "</div>"
      ],
      "text/plain": [
       "    sex          age_cat              race  juv_fel_count  juv_misd_count  \\\n",
       "0  Male  Greater than 45             Other              0               0   \n",
       "1  Male          25 - 45  African-American              0               0   \n",
       "2  Male     Less than 25  African-American              0               0   \n",
       "3  Male     Less than 25  African-American              0               1   \n",
       "4  Male          25 - 45             Other              0               0   \n",
       "\n",
       "   priors_count c_charge_degree  is_violent_recid  v_decile_score  event  \\\n",
       "0             0               F                 0               1      0   \n",
       "1             0               F                 1               1      1   \n",
       "2             4               F                 0               3      0   \n",
       "3             1               F                 0               6      0   \n",
       "4             2               F                 0               1      0   \n",
       "\n",
       "   two_year_recid  \n",
       "0               0  \n",
       "1               1  \n",
       "2               1  \n",
       "3               0  \n",
       "4               0  "
      ]
     },
     "execution_count": 54,
     "metadata": {},
     "output_type": "execute_result"
    }
   ],
   "source": [
    "df = df[df.columns[~df.isnull().any()]]\n",
    "df = df[['sex','age_cat', 'race', 'juv_fel_count', 'juv_misd_count', 'priors_count', 'c_charge_degree', \n",
    "         'is_violent_recid', 'v_decile_score', 'event', 'two_year_recid']]\n",
    "df.head()"
   ]
  },
  {
   "cell_type": "markdown",
   "metadata": {},
   "source": [
    "Next we need to convert string data into values/ numbers to be able to use it to train, test and predict"
   ]
  },
  {
   "cell_type": "code",
   "execution_count": 55,
   "metadata": {},
   "outputs": [
    {
     "data": {
      "text/html": [
       "<div>\n",
       "<style scoped>\n",
       "    .dataframe tbody tr th:only-of-type {\n",
       "        vertical-align: middle;\n",
       "    }\n",
       "\n",
       "    .dataframe tbody tr th {\n",
       "        vertical-align: top;\n",
       "    }\n",
       "\n",
       "    .dataframe thead th {\n",
       "        text-align: right;\n",
       "    }\n",
       "</style>\n",
       "<table border=\"1\" class=\"dataframe\">\n",
       "  <thead>\n",
       "    <tr style=\"text-align: right;\">\n",
       "      <th></th>\n",
       "      <th>sex</th>\n",
       "      <th>age_cat</th>\n",
       "      <th>race</th>\n",
       "      <th>juv_fel_count</th>\n",
       "      <th>juv_misd_count</th>\n",
       "      <th>priors_count</th>\n",
       "      <th>c_charge_degree</th>\n",
       "      <th>is_violent_recid</th>\n",
       "      <th>v_decile_score</th>\n",
       "      <th>event</th>\n",
       "      <th>two_year_recid</th>\n",
       "    </tr>\n",
       "  </thead>\n",
       "  <tbody>\n",
       "    <tr>\n",
       "      <th>0</th>\n",
       "      <td>1</td>\n",
       "      <td>1</td>\n",
       "      <td>1</td>\n",
       "      <td>0</td>\n",
       "      <td>0</td>\n",
       "      <td>0</td>\n",
       "      <td>1</td>\n",
       "      <td>0</td>\n",
       "      <td>1</td>\n",
       "      <td>0</td>\n",
       "      <td>0</td>\n",
       "    </tr>\n",
       "    <tr>\n",
       "      <th>1</th>\n",
       "      <td>1</td>\n",
       "      <td>2</td>\n",
       "      <td>2</td>\n",
       "      <td>0</td>\n",
       "      <td>0</td>\n",
       "      <td>0</td>\n",
       "      <td>1</td>\n",
       "      <td>1</td>\n",
       "      <td>1</td>\n",
       "      <td>1</td>\n",
       "      <td>1</td>\n",
       "    </tr>\n",
       "    <tr>\n",
       "      <th>2</th>\n",
       "      <td>1</td>\n",
       "      <td>3</td>\n",
       "      <td>2</td>\n",
       "      <td>0</td>\n",
       "      <td>0</td>\n",
       "      <td>4</td>\n",
       "      <td>1</td>\n",
       "      <td>0</td>\n",
       "      <td>3</td>\n",
       "      <td>0</td>\n",
       "      <td>1</td>\n",
       "    </tr>\n",
       "    <tr>\n",
       "      <th>3</th>\n",
       "      <td>1</td>\n",
       "      <td>3</td>\n",
       "      <td>2</td>\n",
       "      <td>0</td>\n",
       "      <td>1</td>\n",
       "      <td>1</td>\n",
       "      <td>1</td>\n",
       "      <td>0</td>\n",
       "      <td>6</td>\n",
       "      <td>0</td>\n",
       "      <td>0</td>\n",
       "    </tr>\n",
       "    <tr>\n",
       "      <th>4</th>\n",
       "      <td>1</td>\n",
       "      <td>2</td>\n",
       "      <td>1</td>\n",
       "      <td>0</td>\n",
       "      <td>0</td>\n",
       "      <td>2</td>\n",
       "      <td>1</td>\n",
       "      <td>0</td>\n",
       "      <td>1</td>\n",
       "      <td>0</td>\n",
       "      <td>0</td>\n",
       "    </tr>\n",
       "  </tbody>\n",
       "</table>\n",
       "</div>"
      ],
      "text/plain": [
       "   sex  age_cat  race  juv_fel_count  juv_misd_count  priors_count  \\\n",
       "0    1        1     1              0               0             0   \n",
       "1    1        2     2              0               0             0   \n",
       "2    1        3     2              0               0             4   \n",
       "3    1        3     2              0               1             1   \n",
       "4    1        2     1              0               0             2   \n",
       "\n",
       "   c_charge_degree  is_violent_recid  v_decile_score  event  two_year_recid  \n",
       "0                1                 0               1      0               0  \n",
       "1                1                 1               1      1               1  \n",
       "2                1                 0               3      0               1  \n",
       "3                1                 0               6      0               0  \n",
       "4                1                 0               1      0               0  "
      ]
     },
     "execution_count": 55,
     "metadata": {},
     "output_type": "execute_result"
    }
   ],
   "source": [
    "df['sex'].replace({'Male': 1, 'Female': 2}, inplace = True)\n",
    "df['age_cat'].replace({'Greater than 45': 1, '25 - 45': 2, 'Less than 25': 3}, inplace = True)\n",
    "df['race'].replace({'Other': 1, 'African-American': 2, 'Caucasian': 3, 'Hispanic': 4, 'Native American': 5, 'Asian': 6}, inplace = True)\n",
    "df['c_charge_degree'].replace({'F': 1, 'M': 2}, inplace = True)\n",
    "df.head()"
   ]
  },
  {
   "cell_type": "markdown",
   "metadata": {},
   "source": [
    "Next step is to divide our dataset. we divide the data into train and test set. we will use 0.2 percent of the training dataset as the test set. We also separate the features (X) and the ground truth (y)."
   ]
  },
  {
   "cell_type": "code",
   "execution_count": 56,
   "metadata": {},
   "outputs": [],
   "source": [
    "X = df[['sex','age_cat', 'race', 'juv_fel_count', 'juv_misd_count', 'priors_count', 'c_charge_degree', \n",
    "         'is_violent_recid', 'v_decile_score', 'event']]\n",
    "y = df[['two_year_recid']] #ground truth\n",
    "classes = ['No Recid', 'Recid']\n",
    "\n",
    "# Arrange the data : Training, Testing\n",
    "X_train, X_test, y_train, y_test = train_test_split(X, y, test_size=0.2, random_state=RANDOM_SEED)"
   ]
  },
  {
   "cell_type": "markdown",
   "metadata": {},
   "source": [
    "<h2>2.2 Classifiers</h2>\n",
    "<h3> NOTE - Re running the code might result in little variations of the values obtained from the classification</h3>\n",
    "\n",
    "In this part we will present different type of classifiers. The first goal is to compare them with the compas classifier in terms of overall performance, in this case we will the basic metrics such as accuracy, precision, and recall. Then we will observe and compare the fairness to the existing COMPAS classifier. we will use the following for prediction of our data;\n",
    "   \n",
    "        1. Logistic Regression\n",
    "        2. Support Vector Machines\n",
    "        3. Decision Tress\n",
    "        3. K-nearest Neighbors\n",
    "        5. Neural Networks\n",
    "\n",
    "<h4>1. Logistic Regresssion</h4>\n",
    "Logistic regression isused for prediction.  Logistic regression is used to describe data and to explain the relationship between one dependent binary variables.\n"
   ]
  },
  {
   "cell_type": "code",
   "execution_count": 57,
   "metadata": {},
   "outputs": [
    {
     "name": "stdout",
     "output_type": "stream",
     "text": [
      "LogisticRegression(C=1.0, class_weight=None, dual=False, fit_intercept=True,\n",
      "                   intercept_scaling=1, l1_ratio=None, max_iter=100,\n",
      "                   multi_class='auto', n_jobs=None, penalty='l2',\n",
      "                   random_state=None, solver='lbfgs', tol=0.0001, verbose=0,\n",
      "                   warm_start=False) \n",
      "\n",
      "\n",
      "classification report \n",
      "               precision    recall  f1-score   support\n",
      "\n",
      "    No Recid       0.89      0.97      0.93       823\n",
      "       Recid       0.95      0.84      0.89       620\n",
      "\n",
      "    accuracy                           0.91      1443\n",
      "   macro avg       0.92      0.90      0.91      1443\n",
      "weighted avg       0.91      0.91      0.91      1443\n",
      "\n",
      "Overall Accuracy :  0.9112959112959113\n"
     ]
    },
    {
     "data": {
      "image/png": "[encoded data removed]",
      "text/plain": [
       "<Figure size 720x432 with 2 Axes>"
      ]
     },
     "metadata": {},
     "output_type": "display_data"
    }
   ],
   "source": [
    "# Logistic Regression \n",
    "log_reg = LogisticRegression()\n",
    "log_reg.fit(X_train, y_train.values.ravel())\n",
    "print (log_reg,'\\n\\n')\n",
    "\n",
    "#prediction\n",
    "y_pred = log_reg.predict(X_test)\n",
    "skplt.metrics.plot_confusion_matrix(y_test, y_pred)\n",
    "print('classification report \\n', classification_report(y_test, y_pred, target_names=classes))\n",
    "print(\"Overall Accuracy : \" , str(accuracy_score(y_test, y_pred)))"
   ]
  },
  {
   "cell_type": "markdown",
   "metadata": {},
   "source": [
    "we can observe from the classification report that logistic regression performs well . Precision and recall is at 0.91 which is a good measurement considering the best has to be 1 to indicate that all predictions were correctly made.\n",
    "Details can be view in the confusion matrix were true positives (520) and true negatives (795) have a higher values as compared to False positives (28) and False negatives(100).\n",
    "\n",
    "\n",
    "<h4>2. Support Vector Machine</h4>\n",
    "Support vector machine algorithm is used to find hyperplane in an N-dimensional space(N — the number of features) that distinctly classifies the data points to get nearly accurate predictions."
   ]
  },
  {
   "cell_type": "code",
   "execution_count": 58,
   "metadata": {},
   "outputs": [
    {
     "name": "stdout",
     "output_type": "stream",
     "text": [
      "SVC(C=1.0, break_ties=False, cache_size=200, class_weight=None, coef0=0.0,\n",
      "    decision_function_shape='ovr', degree=3, gamma='scale', kernel='rbf',\n",
      "    max_iter=-1, probability=False, random_state=None, shrinking=True,\n",
      "    tol=0.001, verbose=False) \n",
      "\n",
      "\n",
      "classification report \n",
      "               precision    recall  f1-score   support\n",
      "\n",
      "    No Recid       0.89      0.96      0.92       823\n",
      "       Recid       0.94      0.84      0.89       620\n",
      "\n",
      "    accuracy                           0.91      1443\n",
      "   macro avg       0.92      0.90      0.91      1443\n",
      "weighted avg       0.91      0.91      0.91      1443\n",
      "\n",
      "Overall Accuracy :  0.9106029106029107\n"
     ]
    },
    {
     "data": {
      "image/png": "[encoded data removed]",
      "text/plain": [
       "<Figure size 720x432 with 2 Axes>"
      ]
     },
     "metadata": {},
     "output_type": "display_data"
    }
   ],
   "source": [
    "clfsvm = svm.SVC()\n",
    "clfsvm.fit(X_train, y_train.values.ravel())\n",
    "print (clfsvm,'\\n\\n')\n",
    "\n",
    "#prediction\n",
    "y_pred = clfsvm.predict(X_test)\n",
    "skplt.metrics.plot_confusion_matrix(y_test, y_pred)\n",
    "print('classification report \\n', classification_report(y_test, y_pred, target_names=classes))\n",
    "print(\"Overall Accuracy : \" , str(accuracy_score(y_test, y_pred)))"
   ]
  },
  {
   "cell_type": "markdown",
   "metadata": {},
   "source": [
    "we can see from the classification report that precision and recall stands at 0.91 which is a good indication of the classifier.\n",
    "confusion matrix were true positives (523) and true negatives (795) have a higher values as compared to False positives (32) and False negatives(97).\n",
    "comparing with Logistic regression, the predictions variations is very negligible.\n",
    "\n",
    "<h4>3. Decision Tree Classifier </h4>\n",
    "Decion tres work more like an if-else consition. It split the data and continuously split the data based on the features available .until it reaches the lowers point."
   ]
  },
  {
   "cell_type": "code",
   "execution_count": 59,
   "metadata": {},
   "outputs": [
    {
     "name": "stdout",
     "output_type": "stream",
     "text": [
      "DecisionTreeClassifier(ccp_alpha=0.0, class_weight=None, criterion='gini',\n",
      "                       max_depth=None, max_features=None, max_leaf_nodes=None,\n",
      "                       min_impurity_decrease=0.0, min_impurity_split=None,\n",
      "                       min_samples_leaf=1, min_samples_split=2,\n",
      "                       min_weight_fraction_leaf=0.0, presort='deprecated',\n",
      "                       random_state=None, splitter='best') \n",
      "\n",
      "\n",
      "classification report \n",
      "               precision    recall  f1-score   support\n",
      "\n",
      "    No Recid       0.86      0.92      0.89       823\n",
      "       Recid       0.89      0.81      0.85       620\n",
      "\n",
      "    accuracy                           0.87      1443\n",
      "   macro avg       0.88      0.87      0.87      1443\n",
      "weighted avg       0.87      0.87      0.87      1443\n",
      "\n",
      "Overall Accuracy :  0.8738738738738738\n"
     ]
    },
    {
     "data": {
      "image/png": "[encoded data removed]",
      "text/plain": [
       "<Figure size 720x432 with 2 Axes>"
      ]
     },
     "metadata": {},
     "output_type": "display_data"
    }
   ],
   "source": [
    "clf = DecisionTreeClassifier()\n",
    "clf.fit(X_train, y_train)\n",
    "print (clf,'\\n\\n')\n",
    "\n",
    "#prediction\n",
    "y_pred = clf.predict(X_test)\n",
    "skplt.metrics.plot_confusion_matrix(y_test, y_pred)\n",
    "print('classification report \\n', classification_report(y_test, y_pred, target_names=classes))\n",
    "print(\"Overall Accuracy : \" , str(accuracy_score(y_test, y_pred)))"
   ]
  },
  {
   "cell_type": "markdown",
   "metadata": {},
   "source": [
    "For decision trees, we can see our performance matrix have reduced to 0.88 as compared to SVM and logistic regression. One problem of decision trees is that it can create over-complex trees that do not generalize the data well for accurate predictions and also small variations in the data might result in a different tree being generated. This also affects the prediction.\n",
    "\n",
    "But from above we can see that the performance metric is quite ok. the predictions are also not far from the other classifiers we saw previously. we have true positives (509) and true negatives (763) have a higher values as compared to False positives (60) and False negatives(111).\n",
    "\n",
    "<h4>4. K Nearest Neighbors </h4>"
   ]
  },
  {
   "cell_type": "code",
   "execution_count": 60,
   "metadata": {},
   "outputs": [
    {
     "name": "stdout",
     "output_type": "stream",
     "text": [
      "KNeighborsClassifier(algorithm='auto', leaf_size=30, metric='minkowski',\n",
      "                     metric_params=None, n_jobs=None, n_neighbors=3, p=2,\n",
      "                     weights='uniform') \n",
      "\n",
      "\n",
      "classification report \n",
      "               precision    recall  f1-score   support\n",
      "\n",
      "    No Recid       0.86      0.92      0.89       823\n",
      "       Recid       0.88      0.80      0.84       620\n",
      "\n",
      "    accuracy                           0.87      1443\n",
      "   macro avg       0.87      0.86      0.86      1443\n",
      "weighted avg       0.87      0.87      0.87      1443\n",
      "\n",
      "Overall Accuracy :  0.8669438669438669\n"
     ]
    },
    {
     "data": {
      "image/png": "[encoded data removed]",
      "text/plain": [
       "<Figure size 720x432 with 2 Axes>"
      ]
     },
     "metadata": {},
     "output_type": "display_data"
    }
   ],
   "source": [
    "neigh = KNeighborsClassifier(n_neighbors=3)\n",
    "neigh.fit(X_train, y_train.values.ravel())\n",
    "print (neigh,'\\n\\n')\n",
    "\n",
    "#prediction\n",
    "y_pred = neigh.predict(X_test)\n",
    "skplt.metrics.plot_confusion_matrix(y_test, y_pred)\n",
    "print('classification report \\n', classification_report(y_test, y_pred, target_names=classes))\n",
    "print(\"Overall Accuracy : \" , str(accuracy_score(y_test, y_pred)))"
   ]
  },
  {
   "cell_type": "markdown",
   "metadata": {},
   "source": [
    "From the performance metrics, K nearest neighbours also performs less as compared to Logistic Regression and SVM. \n",
    "using this has increase the number of misclassifications as compared to Decision trees even though the accuracy is almost performance metric is almost same (0.87).\n",
    "we have true positives (493) and true negatives (758) have a higher values as compared to False positives (65) and False negatives(127).\n",
    "\n",
    "<h4>5. Neural Network </h4>\n",
    "In order to train the neural network we will have to split the data training again to get validation set. We then need to convert them into a tensor to be able to train and test with Pytorch."
   ]
  },
  {
   "cell_type": "code",
   "execution_count": 61,
   "metadata": {},
   "outputs": [
    {
     "name": "stdout",
     "output_type": "stream",
     "text": [
      "Training\t :torch.Size([5193, 10]), torch.Size([5193])\n",
      "Testing\t\t :torch.Size([1443, 10]), torch.Size([1443])\n",
      "Validation\t :torch.Size([578, 10]), torch.Size([578])\n"
     ]
    }
   ],
   "source": [
    "X_train, X_validate, y_train, y_validate = train_test_split(X_train, y_train, test_size=0.1, random_state=RANDOM_SEED)\n",
    "\n",
    "# conversion to tensor\n",
    "X_train = torch.from_numpy(X_train.to_numpy()).float()\n",
    "y_train = torch.squeeze(torch.from_numpy(y_train.to_numpy()).float())\n",
    "X_test = torch.from_numpy(X_test.to_numpy()).float()\n",
    "y_test = torch.squeeze(torch.from_numpy(y_test.to_numpy()).float())\n",
    "X_validate = torch.from_numpy(X_validate.to_numpy()).float()\n",
    "y_validate = torch.squeeze(torch.from_numpy(y_validate.to_numpy()).float())\n",
    "\n",
    "print(\"Training\\t :\"+ str(X_train.shape) +\", \"+ str(y_train.shape))\n",
    "print(\"Testing\\t\\t :\"+ str(X_test.shape) +\", \"+ str(y_test.shape))\n",
    "print(\"Validation\\t :\"+ str(X_validate.shape) +\", \"+ str(y_validate.shape))"
   ]
  },
  {
   "cell_type": "markdown",
   "metadata": {},
   "source": [
    "#### First Model\n",
    "Our first model will use simple architecture of neural network which has 3 convolutional layers. A batch size of 100, learning rate of 0.001"
   ]
  },
  {
   "cell_type": "code",
   "execution_count": 62,
   "metadata": {
    "scrolled": false
   },
   "outputs": [
    {
     "name": "stdout",
     "output_type": "stream",
     "text": [
      "firstmodel(\n",
      "  (fc1): Linear(in_features=10, out_features=5, bias=True)\n",
      "  (fc2): Linear(in_features=5, out_features=3, bias=True)\n",
      "  (fc3): Linear(in_features=3, out_features=1, bias=True)\n",
      ")\n",
      "\n",
      "\n",
      "epoch {0} \t==> Train : - Loss: 0.666, Acc: 0.62 \t|| Validation : - Loss: 0.668, Acc: 0.614\n",
      "epoch {50} \t==> Train : - Loss: 0.364, Acc: 0.88 \t|| Validation : - Loss: 0.313, Acc: 0.898\n",
      "epoch {100} \t==> Train : - Loss: 0.358, Acc: 0.87 \t|| Validation : - Loss: 0.301, Acc: 0.896\n",
      "epoch {150} \t==> Train : - Loss: 0.346, Acc: 0.88 \t|| Validation : - Loss: 0.297, Acc: 0.901\n",
      "epoch {200} \t==> Train : - Loss: 0.341, Acc: 0.88 \t|| Validation : - Loss: 0.296, Acc: 0.901\n",
      "epoch {250} \t==> Train : - Loss: 0.337, Acc: 0.88 \t|| Validation : - Loss: 0.296, Acc: 0.901\n",
      "epoch {300} \t==> Train : - Loss: 0.336, Acc: 0.88 \t|| Validation : - Loss: 0.296, Acc: 0.901\n",
      "epoch {350} \t==> Train : - Loss: 0.334, Acc: 0.88 \t|| Validation : - Loss: 0.296, Acc: 0.901\n",
      "\n",
      " classification report \n",
      "               precision    recall  f1-score   support\n",
      "\n",
      "    No Recid       0.89      0.97      0.93       823\n",
      "       Recid       0.95      0.84      0.89       620\n",
      "\n",
      "    accuracy                           0.91      1443\n",
      "   macro avg       0.92      0.90      0.91      1443\n",
      "weighted avg       0.92      0.91      0.91      1443\n",
      "\n",
      "Overall Accuracy :  0.9133749133749134\n"
     ]
    },
    {
     "data": {
      "text/plain": [
       "<matplotlib.axes._subplots.AxesSubplot at 0xf944199788>"
      ]
     },
     "execution_count": 62,
     "metadata": {},
     "output_type": "execute_result"
    },
    {
     "data": {
      "image/png": "[encoded data removed]",
      "text/plain": [
       "<Figure size 720x432 with 2 Axes>"
      ]
     },
     "metadata": {},
     "output_type": "display_data"
    }
   ],
   "source": [
    "# Defining the model #1\n",
    "class firstmodel(nn.Module):\n",
    "  def __init__(self, n_features):\n",
    "    super(firstmodel, self).__init__()\n",
    "    self.fc1 = nn.Linear(n_features, 5)\n",
    "    self.fc2 = nn.Linear(5, 3)\n",
    "    self.fc3 = nn.Linear(3, 1)\n",
    "  def forward(self, x):\n",
    "    x = F.relu(self.fc1(x))\n",
    "    x = F.relu(self.fc2(x))\n",
    "    return torch.sigmoid(self.fc3(x))\n",
    "\n",
    "net1 = firstmodel(X_train.shape[1])\n",
    "print(net1)\n",
    "\n",
    "def calculate_accuracy(y_true, y_pred):\n",
    "  predicted = y_pred.ge(.5).view(-1)\n",
    "  return (y_true == predicted).sum().float() / len(y_true)\n",
    "def round_tensor(t, decimal_places=3):\n",
    "  return round(t.item(), decimal_places)\n",
    "\n",
    "criterion = nn.BCELoss()\n",
    "optimizer = optim.Adam(net1.parameters(), lr=0.001)\n",
    "print(\"\\n\")\n",
    "max_epochs = 400\n",
    "batch_size = 100\n",
    "batch_number = math.ceil(len(X_train)/batch_size)\n",
    "for epoch in range (max_epochs):\n",
    "    for batch_idx in range (batch_number):\n",
    "        # Set up batch\n",
    "        batch_end = ((batch_idx+1) * batch_size -1)\n",
    "        batch_start = batch_idx * batch_size\n",
    "        if (batch_idx == (batch_number-1)):\n",
    "            batch_end = (len(X_train) -1)\n",
    "        batch_x = X_train[batch_start : batch_end]\n",
    "        batch_y = y_train[batch_start : batch_end]\n",
    "        \n",
    "        # Fit the training data and validate\n",
    "        train_pred = net1(batch_x)\n",
    "        train_pred = torch.squeeze(train_pred)\n",
    "        train_loss = criterion(train_pred, batch_y)\n",
    "        train_acc = calculate_accuracy(batch_y, train_pred)\n",
    "        y_validate_pred = net1(X_validate)\n",
    "        y_validate_pred = torch.squeeze(y_validate_pred)\n",
    "        validate_loss = criterion(y_validate_pred, y_validate)\n",
    "        validation_acc = calculate_accuracy(y_validate, y_validate_pred)\n",
    "        optimizer.zero_grad()\n",
    "        train_loss.backward()\n",
    "        optimizer.step()\n",
    "    if epoch % 50 == 0:\n",
    "        print( f'''epoch { {epoch} } \\t==> Train : - Loss: {round_tensor(train_loss)}, Acc: {round_tensor(train_acc)} \\t|| Validation : - Loss: {round_tensor(validate_loss)}, Acc: {round_tensor(validation_acc)}''')\n",
    "\n",
    "\n",
    "# Test the model using test set\n",
    "y_pred = net1(X_test)\n",
    "y_pred = y_pred.ge(.5).view(-1).cpu()\n",
    "y_test = y_test.cpu()\n",
    "print('\\n classification report \\n', classification_report(y_test, y_pred, target_names=classes))\n",
    "print(\"Overall Accuracy : \" , str(accuracy_score(y_test, y_pred)))\n",
    "skplt.metrics.plot_confusion_matrix(y_test, y_pred)\n"
   ]
  },
  {
   "cell_type": "markdown",
   "metadata": {},
   "source": [
    "The performance metrics for this model stands at 0.92 which is a little improvement as compared to the previous classifiers. we have true positives (520) and true negatives (801) have a higher values as compared to False positives (22) and False negatives(100)\n",
    "### Second model\n",
    "In this model we added more layers and neurons. We also try to use different activation function."
   ]
  },
  {
   "cell_type": "code",
   "execution_count": 63,
   "metadata": {},
   "outputs": [
    {
     "name": "stdout",
     "output_type": "stream",
     "text": [
      "secondmodel(\n",
      "  (fc1): Linear(in_features=10, out_features=20, bias=True)\n",
      "  (fc2): Linear(in_features=20, out_features=20, bias=True)\n",
      "  (fc3): Linear(in_features=20, out_features=10, bias=True)\n",
      "  (fc4): Linear(in_features=10, out_features=1, bias=True)\n",
      ")\n",
      "\n",
      "\n",
      "epoch {0} \t==> Train : - Loss: 0.633, Acc: 0.652 \t|| Validation : - Loss: 0.623, Acc: 0.666\n",
      "epoch {50} \t==> Train : - Loss: 0.312, Acc: 0.891 \t|| Validation : - Loss: 0.287, Acc: 0.901\n",
      "epoch {100} \t==> Train : - Loss: 0.315, Acc: 0.891 \t|| Validation : - Loss: 0.294, Acc: 0.901\n",
      "epoch {150} \t==> Train : - Loss: 0.325, Acc: 0.891 \t|| Validation : - Loss: 0.298, Acc: 0.901\n",
      "epoch {200} \t==> Train : - Loss: 0.323, Acc: 0.891 \t|| Validation : - Loss: 0.296, Acc: 0.901\n",
      "epoch {250} \t==> Train : - Loss: 0.323, Acc: 0.891 \t|| Validation : - Loss: 0.295, Acc: 0.898\n",
      "epoch {300} \t==> Train : - Loss: 0.319, Acc: 0.891 \t|| Validation : - Loss: 0.294, Acc: 0.9\n",
      "epoch {350} \t==> Train : - Loss: 0.314, Acc: 0.891 \t|| Validation : - Loss: 0.298, Acc: 0.898\n",
      "\n",
      " classification report \n",
      "               precision    recall  f1-score   support\n",
      "\n",
      "    No Recid       0.89      0.96      0.93       823\n",
      "       Recid       0.95      0.84      0.89       620\n",
      "\n",
      "    accuracy                           0.91      1443\n",
      "   macro avg       0.92      0.90      0.91      1443\n",
      "weighted avg       0.91      0.91      0.91      1443\n",
      "\n",
      "Overall Accuracy :  0.911988911988912\n"
     ]
    },
    {
     "data": {
      "text/plain": [
       "<matplotlib.axes._subplots.AxesSubplot at 0xf944276208>"
      ]
     },
     "execution_count": 63,
     "metadata": {},
     "output_type": "execute_result"
    },
    {
     "data": {
      "image/png": "[encoded data removed]",
      "text/plain": [
       "<Figure size 720x432 with 2 Axes>"
      ]
     },
     "metadata": {},
     "output_type": "display_data"
    }
   ],
   "source": [
    "# Defining the model  #2\n",
    "# Adding layers and neurons\n",
    "class secondmodel(nn.Module):\n",
    "\n",
    "  def __init__(self, n_features):\n",
    "    super(secondmodel, self).__init__()\n",
    "    self.fc1 = nn.Linear(n_features, 20)\n",
    "    self.fc2 = nn.Linear(20, 20)\n",
    "    self.fc3 = nn.Linear(20, 10)\n",
    "    self.fc4 = nn.Linear(10, 1)\n",
    "\n",
    "  def forward(self, x):\n",
    "    x = torch.tanh(self.fc1(x))\n",
    "    x = torch.tanh(self.fc2(x))\n",
    "    x = torch.tanh(self.fc3(x))\n",
    "    return torch.sigmoid(self.fc4(x))\n",
    "\n",
    "net = secondmodel(X_train.shape[1])\n",
    "print(net)\n",
    "\n",
    "def calculate_accuracy(y_true, y_pred):\n",
    "  predicted = y_pred.ge(.5).view(-1)\n",
    "  return (y_true == predicted).sum().float() / len(y_true)\n",
    "\n",
    "def round_tensor(t, decimal_places=3):\n",
    "  return round(t.item(), decimal_places)\n",
    "\n",
    "criterion = nn.BCELoss()\n",
    "optimizer = optim.Adam(net.parameters(), lr=0.001)\n",
    "print(\"\\n\")\n",
    "max_epochs = 400\n",
    "batch_size = 100\n",
    "batch_number = math.ceil(len(X_train)/batch_size)\n",
    "for epoch in range (max_epochs):\n",
    "    for batch_idx in range (batch_number):\n",
    "        # Set up batch\n",
    "        batch_end = ((batch_idx+1) * batch_size -1)\n",
    "        batch_start = batch_idx * batch_size\n",
    "        if (batch_idx == (batch_number-1)):\n",
    "            batch_end = (len(X_train) -1)\n",
    "        batch_x = X_train[batch_start : batch_end]\n",
    "        batch_y = y_train[batch_start : batch_end]\n",
    "        \n",
    "        # Fit the training data and validate\n",
    "        train_pred = net(batch_x)\n",
    "        train_pred = torch.squeeze(train_pred)\n",
    "        train_loss = criterion(train_pred, batch_y)\n",
    "        train_acc = calculate_accuracy(batch_y, train_pred)\n",
    "        y_validate_pred = net(X_validate)\n",
    "        y_validate_pred = torch.squeeze(y_validate_pred)\n",
    "        validate_loss = criterion(y_validate_pred, y_validate)\n",
    "        validation_acc = calculate_accuracy(y_validate, y_validate_pred)\n",
    "        optimizer.zero_grad()\n",
    "        train_loss.backward()\n",
    "        optimizer.step()\n",
    "    if epoch % 50 == 0:\n",
    "        print( f'''epoch { {epoch} } \\t==> Train : - Loss: {round_tensor(train_loss)}, Acc: {round_tensor(train_acc)} \\t|| Validation : - Loss: {round_tensor(validate_loss)}, Acc: {round_tensor(validation_acc)}''')\n",
    "\n",
    "\n",
    "# Test the model using test set\n",
    "y_pred = net(X_test)\n",
    "y_pred = y_pred.ge(.5).view(-1).cpu()\n",
    "y_test = y_test.cpu()\n",
    "print('\\n classification report \\n', classification_report(y_test, y_pred, target_names=classes))\n",
    "print(\"Overall Accuracy : \" , str(accuracy_score(y_test, y_pred)))\n",
    "skplt.metrics.plot_confusion_matrix(y_test, y_pred)"
   ]
  },
  {
   "cell_type": "markdown",
   "metadata": {},
   "source": [
    "from the two models described, we can see the perform almost equally but model 2 outperforms the first model by a difference in accuarcy of 0.003. there is also slight variation in the classifications based ont the confusion matrixes.\n",
    "we have true positives (527) and true negatives (793) have a higher values as compared to False positives (30) and False negatives(93)\n",
    "From both model, we can conclude that the performance is almost equal as the other classifiers we described above.\n",
    "\n",
    "Model 2 outperforms model 1 looking as the confusion matrix values.\n",
    "\n",
    "Looking at the performance metrics of all our classifiers, they actually perform better compared to compass mode of prediction. We will recommend to use Logitic rgression, SVM or Neural networks to for the classification and prediction (based on the performances of our networks).\n",
    "\n",
    "### Predictions based on best performing model (model 2) \n",
    "\n",
    "we want to define a new dataset to use for prediction and observe fairness. We will use criminals labelled with the various risk score/decile score but having a two_year_recid or for this analysis. we will analyse the predictions based using the confusion matrix.\n"
   ]
  },
  {
   "cell_type": "code",
   "execution_count": 64,
   "metadata": {},
   "outputs": [
    {
     "name": "stdout",
     "output_type": "stream",
     "text": [
      "shape of data is  (284, 10)\n"
     ]
    },
    {
     "data": {
      "text/plain": [
       "<matplotlib.axes._subplots.AxesSubplot at 0xf95666f9c8>"
      ]
     },
     "execution_count": 64,
     "metadata": {},
     "output_type": "execute_result"
    },
    {
     "data": {
      "image/png": "[encoded data removed]",
      "text/plain": [
       "<Figure size 720x432 with 2 Axes>"
      ]
     },
     "metadata": {},
     "output_type": "display_data"
    }
   ],
   "source": [
    "df2 = pd.read_csv('compas-scores-two-years.csv')\n",
    "\n",
    "df2['sex'].replace({'Male': 1, 'Female': 2}, inplace = True)\n",
    "df2['age_cat'].replace({'Greater than 45': 1, '25 - 45': 2, 'Less than 25': 3}, inplace = True)\n",
    "df2['race'].replace({'Other': 1, 'African-American': 2, 'Caucasian': 3, 'Hispanic': 4, 'Native American': 5, 'Asian': 6}, inplace = True)\n",
    "df2['c_charge_degree'].replace({'F': 1, 'M': 2}, inplace = True)\n",
    "\n",
    "#no two_year _recid with high label\n",
    "df2 = df2.loc[(df2['two_year_recid']==0) & (df2['score_text']=='High') & (df2['race']==2)]\n",
    "# print ('shape of filtered data is ', df2.shape)\n",
    "\n",
    "df2 = df2[df.columns[~df.isnull().any()]]\n",
    "dfY = df2[['two_year_recid', ]]  #ground truth\n",
    "dfX = df2[['sex','age_cat', 'race', 'juv_fel_count', 'juv_misd_count', 'priors_count', 'c_charge_degree', \n",
    "         'is_violent_recid', 'v_decile_score', 'event', ]]\n",
    "\n",
    "print ('shape of data is ', dfX.shape)\n",
    "\n",
    "#prediction\n",
    "y_test = torch.from_numpy(dfY.to_numpy()).float()\n",
    "X_test = torch.from_numpy(dfX.to_numpy()).float()\n",
    "y_pred = net(X_test)\n",
    "y_pred = y_pred.ge(.5).view(-1).cpu()\n",
    "skplt.metrics.plot_confusion_matrix(y_test, y_pred)"
   ]
  },
  {
   "cell_type": "markdown",
   "metadata": {},
   "source": [
    "## 2.3 Feature Sets\n",
    "we want to remove some features to determine what affets the classification or prediction of the criminals. this will inform us the feature set that are really important to use.\n",
    "for this section, we use use the logistic regression classifier we define above to determine the feature sets."
   ]
  },
  {
   "cell_type": "code",
   "execution_count": 65,
   "metadata": {},
   "outputs": [
    {
     "data": {
      "text/html": [
       "<div>\n",
       "<style scoped>\n",
       "    .dataframe tbody tr th:only-of-type {\n",
       "        vertical-align: middle;\n",
       "    }\n",
       "\n",
       "    .dataframe tbody tr th {\n",
       "        vertical-align: top;\n",
       "    }\n",
       "\n",
       "    .dataframe thead th {\n",
       "        text-align: right;\n",
       "    }\n",
       "</style>\n",
       "<table border=\"1\" class=\"dataframe\">\n",
       "  <thead>\n",
       "    <tr style=\"text-align: right;\">\n",
       "      <th></th>\n",
       "      <th>sex</th>\n",
       "      <th>age_cat</th>\n",
       "      <th>race</th>\n",
       "      <th>juv_fel_count</th>\n",
       "      <th>juv_misd_count</th>\n",
       "      <th>priors_count</th>\n",
       "      <th>c_charge_degree</th>\n",
       "      <th>is_violent_recid</th>\n",
       "      <th>v_decile_score</th>\n",
       "      <th>event</th>\n",
       "      <th>two_year_recid</th>\n",
       "    </tr>\n",
       "  </thead>\n",
       "  <tbody>\n",
       "    <tr>\n",
       "      <th>0</th>\n",
       "      <td>1</td>\n",
       "      <td>1</td>\n",
       "      <td>1</td>\n",
       "      <td>0</td>\n",
       "      <td>0</td>\n",
       "      <td>0</td>\n",
       "      <td>1</td>\n",
       "      <td>0</td>\n",
       "      <td>1</td>\n",
       "      <td>0</td>\n",
       "      <td>0</td>\n",
       "    </tr>\n",
       "    <tr>\n",
       "      <th>1</th>\n",
       "      <td>1</td>\n",
       "      <td>2</td>\n",
       "      <td>2</td>\n",
       "      <td>0</td>\n",
       "      <td>0</td>\n",
       "      <td>0</td>\n",
       "      <td>1</td>\n",
       "      <td>1</td>\n",
       "      <td>1</td>\n",
       "      <td>1</td>\n",
       "      <td>1</td>\n",
       "    </tr>\n",
       "    <tr>\n",
       "      <th>2</th>\n",
       "      <td>1</td>\n",
       "      <td>3</td>\n",
       "      <td>2</td>\n",
       "      <td>0</td>\n",
       "      <td>0</td>\n",
       "      <td>4</td>\n",
       "      <td>1</td>\n",
       "      <td>0</td>\n",
       "      <td>3</td>\n",
       "      <td>0</td>\n",
       "      <td>1</td>\n",
       "    </tr>\n",
       "    <tr>\n",
       "      <th>3</th>\n",
       "      <td>1</td>\n",
       "      <td>3</td>\n",
       "      <td>2</td>\n",
       "      <td>0</td>\n",
       "      <td>1</td>\n",
       "      <td>1</td>\n",
       "      <td>1</td>\n",
       "      <td>0</td>\n",
       "      <td>6</td>\n",
       "      <td>0</td>\n",
       "      <td>0</td>\n",
       "    </tr>\n",
       "    <tr>\n",
       "      <th>4</th>\n",
       "      <td>1</td>\n",
       "      <td>2</td>\n",
       "      <td>1</td>\n",
       "      <td>0</td>\n",
       "      <td>0</td>\n",
       "      <td>2</td>\n",
       "      <td>1</td>\n",
       "      <td>0</td>\n",
       "      <td>1</td>\n",
       "      <td>0</td>\n",
       "      <td>0</td>\n",
       "    </tr>\n",
       "  </tbody>\n",
       "</table>\n",
       "</div>"
      ],
      "text/plain": [
       "   sex  age_cat  race  juv_fel_count  juv_misd_count  priors_count  \\\n",
       "0    1        1     1              0               0             0   \n",
       "1    1        2     2              0               0             0   \n",
       "2    1        3     2              0               0             4   \n",
       "3    1        3     2              0               1             1   \n",
       "4    1        2     1              0               0             2   \n",
       "\n",
       "   c_charge_degree  is_violent_recid  v_decile_score  event  two_year_recid  \n",
       "0                1                 0               1      0               0  \n",
       "1                1                 1               1      1               1  \n",
       "2                1                 0               3      0               1  \n",
       "3                1                 0               6      0               0  \n",
       "4                1                 0               1      0               0  "
      ]
     },
     "execution_count": 65,
     "metadata": {},
     "output_type": "execute_result"
    }
   ],
   "source": [
    "dfnew = df\n",
    "dfnew.head()"
   ]
  },
  {
   "cell_type": "markdown",
   "metadata": {},
   "source": [
    "<b>1.</b> Firstly, we remove 'v_decile_score' and 'is_violent_recid' from the features to analyse the performance"
   ]
  },
  {
   "cell_type": "code",
   "execution_count": 66,
   "metadata": {},
   "outputs": [
    {
     "name": "stdout",
     "output_type": "stream",
     "text": [
      "classification report \n",
      "               precision    recall  f1-score   support\n",
      "\n",
      "    No Recid       0.88      0.96      0.92       823\n",
      "       Recid       0.94      0.82      0.88       620\n",
      "\n",
      "    accuracy                           0.90      1443\n",
      "   macro avg       0.91      0.89      0.90      1443\n",
      "weighted avg       0.90      0.90      0.90      1443\n",
      "\n",
      "Overall Accuracy :  0.9002079002079002\n"
     ]
    }
   ],
   "source": [
    "X_new = dfnew[['sex','age_cat', 'race', 'juv_fel_count', 'juv_misd_count', 'priors_count', 'c_charge_degree', 'event']]\n",
    "y_new = dfnew[['two_year_recid']] #ground truth\n",
    "classes = ['No Recid', 'Recid']\n",
    "\n",
    "# Arrange the data : Training, Testing\n",
    "X_train, X_test, y_train, y_test = train_test_split(X_new, y_new, test_size=0.2, random_state=RANDOM_SEED)\n",
    "\n",
    "# Logistic Regression \n",
    "log_reg_new = LogisticRegression()\n",
    "log_reg_new.fit(X_train, y_train.values.ravel())\n",
    "# print (log_reg_new,'\\n\\n')\n",
    "\n",
    "#prediction\n",
    "y_pred = log_reg_new.predict(X_test)\n",
    "# skplt.metrics.plot_confusion_matrix(y_test, y_pred)\n",
    "print('classification report \\n', classification_report(y_test, y_pred, target_names=classes))\n",
    "print(\"Overall Accuracy : \" , str(accuracy_score(y_test, y_pred)))"
   ]
  },
  {
   "cell_type": "markdown",
   "metadata": {},
   "source": [
    "we can see from the classification report that removing 'v_decile_score' and 'is_violent_recid' from the feature set does not really affect the peformance of the classifier. Performance metric (accuarcy, precision and recall) is 0.90 and overall accuracy is also 0.90 as compared to the original set which gave us 0.91\n",
    "\n",
    "<b>2.</b> In the next part we remove 'juv_fel_count' and 'c_charge_degree' in addition to the previously removed features to analyse the performance."
   ]
  },
  {
   "cell_type": "code",
   "execution_count": 67,
   "metadata": {},
   "outputs": [
    {
     "name": "stdout",
     "output_type": "stream",
     "text": [
      "classification report \n",
      "               precision    recall  f1-score   support\n",
      "\n",
      "    No Recid       0.87      0.97      0.92       823\n",
      "       Recid       0.95      0.81      0.88       620\n",
      "\n",
      "    accuracy                           0.90      1443\n",
      "   macro avg       0.91      0.89      0.90      1443\n",
      "weighted avg       0.91      0.90      0.90      1443\n",
      "\n",
      "Overall Accuracy :  0.9015939015939016\n"
     ]
    }
   ],
   "source": [
    "X_new = dfnew[['sex','age_cat', 'race', 'juv_misd_count', 'priors_count', 'event']]\n",
    "y_new = dfnew[['two_year_recid']] #ground truth\n",
    "classes = ['No Recid', 'Recid']\n",
    "\n",
    "# Arrange the data : Training, Testing\n",
    "X_train, X_test, y_train, y_test = train_test_split(X_new, y_new, test_size=0.2, random_state=RANDOM_SEED)\n",
    "\n",
    "# Logistic Regression \n",
    "log_reg_new = LogisticRegression()\n",
    "log_reg_new.fit(X_train, y_train.values.ravel())\n",
    "# print (log_reg_new,'\\n\\n')\n",
    "\n",
    "#prediction\n",
    "y_pred = log_reg_new.predict(X_test)\n",
    "# skplt.metrics.plot_confusion_matrix(y_test, y_pred)\n",
    "print('classification report \\n', classification_report(y_test, y_pred, target_names=classes))\n",
    "print(\"Overall Accuracy : \" , str(accuracy_score(y_test, y_pred)))"
   ]
  },
  {
   "cell_type": "markdown",
   "metadata": {},
   "source": [
    "we can see from the classification report that removing 'juv_fel_count' and 'c_charge_degree' also does not have much effect on the peformance of the classifier. \n",
    "Performance metric (accuarcy, precision and recall) is 0.90 and overall accuracy is also 0.90 as compared to the original set which gave us 0.91. we still need to remove more features to determine the needed features.\n",
    "\n",
    "<b>3.</b> in the next part we remove 'sex','age_cat'and 'juv_misd_count' in addition to previously removed features"
   ]
  },
  {
   "cell_type": "code",
   "execution_count": 68,
   "metadata": {},
   "outputs": [
    {
     "name": "stdout",
     "output_type": "stream",
     "text": [
      "classification report \n",
      "               precision    recall  f1-score   support\n",
      "\n",
      "    No Recid       0.87      0.97      0.92       823\n",
      "       Recid       0.95      0.81      0.87       620\n",
      "\n",
      "    accuracy                           0.90      1443\n",
      "   macro avg       0.91      0.89      0.90      1443\n",
      "weighted avg       0.90      0.90      0.90      1443\n",
      "\n",
      "Overall Accuracy :  0.8995148995148995\n"
     ]
    }
   ],
   "source": [
    "X_new = dfnew[[ 'race', 'priors_count', 'event']]\n",
    "y_new = dfnew[['two_year_recid']] #ground truth\n",
    "classes = ['No Recid', 'Recid']\n",
    "\n",
    "# Arrange the data : Training, Testing\n",
    "X_train, X_test, y_train, y_test = train_test_split(X_new, y_new, test_size=0.2, random_state=RANDOM_SEED)\n",
    "\n",
    "# Logistic Regression \n",
    "log_reg_new = LogisticRegression()\n",
    "log_reg_new.fit(X_train, y_train.values.ravel())\n",
    "# print (log_reg_new,'\\n\\n')\n",
    "\n",
    "#prediction\n",
    "y_pred = log_reg_new.predict(X_test)\n",
    "# skplt.metrics.plot_confusion_matrix(y_test, y_pred)\n",
    "print('classification report \\n', classification_report(y_test, y_pred, target_names=classes))\n",
    "print(\"Overall Accuracy : \" , str(accuracy_score(y_test, y_pred)))"
   ]
  },
  {
   "cell_type": "markdown",
   "metadata": {},
   "source": [
    "Again Performance metric (accuarcy, precision and recall) is 0.90 and overall accuracy is also 0.89 as compared to the original set which gave us 0.91. Performance is actually still good in this regard. We still need to remove more features to determine the needed features.\n",
    "\n",
    "<b>4.</b> in the next part we remove 'priors_count' "
   ]
  },
  {
   "cell_type": "code",
   "execution_count": 69,
   "metadata": {},
   "outputs": [
    {
     "name": "stdout",
     "output_type": "stream",
     "text": [
      "classification report \n",
      "               precision    recall  f1-score   support\n",
      "\n",
      "    No Recid       0.87      0.98      0.92       823\n",
      "       Recid       0.96      0.80      0.87       620\n",
      "\n",
      "    accuracy                           0.90      1443\n",
      "   macro avg       0.91      0.89      0.90      1443\n",
      "weighted avg       0.91      0.90      0.90      1443\n",
      "\n",
      "Overall Accuracy :  0.9002079002079002\n"
     ]
    }
   ],
   "source": [
    "X_new = dfnew[['race', 'event']]\n",
    "y_new = dfnew[['two_year_recid']] #ground truth\n",
    "classes = ['No Recid', 'Recid']\n",
    "\n",
    "# Arrange the data : Training, Testing\n",
    "X_train, X_test, y_train, y_test = train_test_split(X_new, y_new, test_size=0.2, random_state=RANDOM_SEED)\n",
    "\n",
    "# Logistic Regression \n",
    "log_reg_new = LogisticRegression()\n",
    "log_reg_new.fit(X_train, y_train.values.ravel())\n",
    "# print (log_reg_new,'\\n\\n')\n",
    "\n",
    "#prediction\n",
    "y_pred = log_reg_new.predict(X_test)\n",
    "# skplt.metrics.plot_confusion_matrix(y_test, y_pred)\n",
    "print('classification report \\n', classification_report(y_test, y_pred, target_names=classes))\n",
    "print(\"Overall Accuracy : \" , str(accuracy_score(y_test, y_pred)))"
   ]
  },
  {
   "cell_type": "markdown",
   "metadata": {},
   "source": [
    "Again Performance metric (accuarcy, precision and recall) is 0.90 and overall accuracy is also 0.90 as compared to the original set which gave us 0.91. \n",
    "Performance is actually still good in this regard. We still need to remove more features to determine the needed features.\n",
    "\n",
    "<b>4.</b> in the next part we remove 'event' "
   ]
  },
  {
   "cell_type": "code",
   "execution_count": 70,
   "metadata": {},
   "outputs": [
    {
     "name": "stdout",
     "output_type": "stream",
     "text": [
      "classification report \n",
      "               precision    recall  f1-score   support\n",
      "\n",
      "    No Recid       0.56      0.93      0.70       823\n",
      "       Recid       0.33      0.04      0.08       620\n",
      "\n",
      "    accuracy                           0.55      1443\n",
      "   macro avg       0.45      0.49      0.39      1443\n",
      "weighted avg       0.46      0.55      0.43      1443\n",
      "\n",
      "Overall Accuracy :  0.5509355509355509\n"
     ]
    }
   ],
   "source": [
    "X_new = dfnew[[ 'race']]\n",
    "y_new = dfnew[['two_year_recid']] #ground truth\n",
    "classes = ['No Recid', 'Recid']\n",
    "\n",
    "# Arrange the data : Training, Testing\n",
    "X_train, X_test, y_train, y_test = train_test_split(X_new, y_new, test_size=0.2, random_state=RANDOM_SEED)\n",
    "\n",
    "# Logistic Regression \n",
    "log_reg_new = LogisticRegression()\n",
    "log_reg_new.fit(X_train, y_train.values.ravel())\n",
    "# print (log_reg_new,'\\n\\n')\n",
    "\n",
    "#prediction\n",
    "y_pred = log_reg_new.predict(X_test)\n",
    "# skplt.metrics.plot_confusion_matrix(y_test, y_pred)\n",
    "print('classification report \\n', classification_report(y_test, y_pred, target_names=classes))\n",
    "print(\"Overall Accuracy : \" , str(accuracy_score(y_test, y_pred)))"
   ]
  },
  {
   "cell_type": "markdown",
   "metadata": {},
   "source": [
    "we can see that removing event and only considering race, overall accuracy now stands at 0.55 which is pretty bad. This tells us that the 'event' feature is necessary to give us an accurate prediction\n",
    "\n",
    "<b>5.</b> in the next part we remove 'race' "
   ]
  },
  {
   "cell_type": "code",
   "execution_count": 71,
   "metadata": {},
   "outputs": [
    {
     "name": "stdout",
     "output_type": "stream",
     "text": [
      "classification report \n",
      "               precision    recall  f1-score   support\n",
      "\n",
      "    No Recid       0.87      0.98      0.92       823\n",
      "       Recid       0.96      0.80      0.87       620\n",
      "\n",
      "    accuracy                           0.90      1443\n",
      "   macro avg       0.91      0.89      0.90      1443\n",
      "weighted avg       0.91      0.90      0.90      1443\n",
      "\n",
      "Overall Accuracy :  0.9002079002079002\n"
     ]
    }
   ],
   "source": [
    "#removing v_decile_score, is violent recid, c_charge_degree, juv_misd_count, juv_fel_count, age_cat, prior_count, sex\n",
    "X_new = dfnew[[ 'event']]\n",
    "y_new = dfnew[['two_year_recid']] #ground truth\n",
    "classes = ['No Recid', 'Recid']\n",
    "\n",
    "# Arrange the data : Training, Testing\n",
    "X_train, X_test, y_train, y_test = train_test_split(X_new, y_new, test_size=0.2, random_state=RANDOM_SEED)\n",
    "\n",
    "# Logistic Regression \n",
    "log_reg_new = LogisticRegression()\n",
    "log_reg_new.fit(X_train, y_train.values.ravel())\n",
    "# print (log_reg_new,'\\n\\n')\n",
    "\n",
    "#prediction\n",
    "y_pred = log_reg_new.predict(X_test)\n",
    "# skplt.metrics.plot_confusion_matrix(y_test, y_pred)\n",
    "print('classification report \\n', classification_report(y_test, y_pred, target_names=classes))\n",
    "print(\"Overall Accuracy : \" , str(accuracy_score(y_test, y_pred)))"
   ]
  },
  {
   "cell_type": "markdown",
   "metadata": {},
   "source": [
    "we can see that using the 'event' set alone gives us a good accuracy of 0.90. we can now conclude that event is one of the feature sets necessary for correct prediction.\n",
    "using event alone gives us the same accuracy as using 'event' and 'race' feature\n",
    "\n",
    "### Features to Use\n",
    "From our analysis, we recommend using the 'event' in addition to any other feature set for the classification or prediction to be almost accurate."
   ]
  },
  {
   "cell_type": "markdown",
   "metadata": {},
   "source": [
    "## 2.4 Fairness\n",
    "We will investigate the fairness of each classifier.\n",
    "### Independence\n",
    "According to the book. To satisfy independence the acceptance rate of a group should have at least ......\n",
    "\n",
    "In here we will observe the independence of sensitive feature 'race' in particular 'African-American' compared to all other races. Therefore first we will have to filter the dataframe."
   ]
  },
  {
   "cell_type": "code",
   "execution_count": 82,
   "metadata": {},
   "outputs": [],
   "source": [
    "dffair1 = df.loc[(df['race']==2)]\n",
    "Xfair1 = dffair1[['sex','age_cat', 'race', 'juv_fel_count', 'juv_misd_count', 'priors_count', 'c_charge_degree', \n",
    "         'is_violent_recid', 'v_decile_score', 'event']]\n",
    "yfair1 = dffair1[['two_year_recid']]\n",
    "\n",
    "dffair2 = df.loc[(df['race']!=2)]\n",
    "Xfair2 = dffair2[['sex','age_cat', 'race', 'juv_fel_count', 'juv_misd_count', 'priors_count', 'c_charge_degree', \n",
    "         'is_violent_recid', 'v_decile_score', 'event']]\n",
    "yfair2 = dffair2[['two_year_recid']]\n",
    "\n",
    "dffair3 = df.loc[(df['sex']==1)]\n",
    "Xfair3 = dffair3[['sex','age_cat', 'race', 'juv_fel_count', 'juv_misd_count', 'priors_count', 'c_charge_degree', \n",
    "         'is_violent_recid', 'v_decile_score', 'event']]\n",
    "yfair3 = dffair3[['two_year_recid']]\n",
    "\n",
    "dffair4 = df.loc[(df['sex']==2)]\n",
    "Xfair4 = dffair4[['sex','age_cat', 'race', 'juv_fel_count', 'juv_misd_count', 'priors_count', 'c_charge_degree', \n",
    "         'is_violent_recid', 'v_decile_score', 'event']]\n",
    "yfair4 = dffair4[['two_year_recid']]"
   ]
  },
  {
   "cell_type": "markdown",
   "metadata": {},
   "source": [
    "#### Logistic Regression"
   ]
  },
  {
   "cell_type": "code",
   "execution_count": 88,
   "metadata": {},
   "outputs": [
    {
     "name": "stdout",
     "output_type": "stream",
     "text": [
      "African-American acceptance rate\t = 0.476461038961039\n",
      "Non African-American acceptance rate\t = 0.34252416145537234\n",
      "Indepence\t\t\t\t = 0.7188922775349552\n",
      "\n",
      "Gender ===>\n",
      "Male acceptance rate\t = 0.43340780202783985\n",
      "Female acceptance rate\t = 0.31827956989247314\n",
      "Indepence\t\t = 0.7343651138795801\n"
     ]
    }
   ],
   "source": [
    "y_pred = log_reg.predict(Xfair1)\n",
    "Pfair1_true = np.sum(y_pred) / len(Xfair1)\n",
    "print(\"African-American acceptance rate\\t = \" + str(Pfair1_true))\n",
    "y_pred = log_reg.predict(Xfair2)\n",
    "Pfair2_true = np.sum(y_pred) / len(Xfair2)\n",
    "print(\"Non African-American acceptance rate\\t = \" + str(Pfair2_true))\n",
    "independence1 = Pfair1_true/Pfair2_true\n",
    "if Pfair1_true/Pfair2_true > 1:\n",
    "    independence1 = Pfair2_true/Pfair1_true\n",
    "    \n",
    "print(\"Indepence\\t\\t\\t\\t = \" + str(independence1))\n",
    "\n",
    "print(\"\\nGender ===>\")\n",
    "y_pred = log_reg.predict(Xfair3)\n",
    "Pfair3_true = np.sum(y_pred) / len(Xfair3)\n",
    "print(\"Male acceptance rate\\t = \" + str(Pfair3_true))\n",
    "y_pred = log_reg.predict(Xfair4)\n",
    "Pfair4_true = np.sum(y_pred) / len(Xfair4)\n",
    "print(\"Female acceptance rate\\t = \" + str(Pfair4_true))\n",
    "independence1g = Pfair3_true/Pfair4_true\n",
    "if Pfair3_true/Pfair4_true > 1:\n",
    "    independence1g = Pfair4_true/Pfair3_true\n",
    "    \n",
    "print(\"Indepence\\t\\t = \" + str(independence1g))"
   ]
  },
  {
   "cell_type": "markdown",
   "metadata": {},
   "source": [
    "#### Support Vector Machine"
   ]
  },
  {
   "cell_type": "code",
   "execution_count": 87,
   "metadata": {},
   "outputs": [
    {
     "name": "stdout",
     "output_type": "stream",
     "text": [
      "African-American acceptance rate\t = 0.4875541125541126\n",
      "Non African-American acceptance rate\t = 0.3479249573621376\n",
      "Indepence\t\t\t\t = 0.7136130091068038\n",
      "\n",
      "Gender ===>\n",
      "Male acceptance rate\t = 0.44200034370166696\n",
      "Female acceptance rate\t = 0.31827956989247314\n",
      "Indepence\t\t = 0.7200889646984063\n"
     ]
    }
   ],
   "source": [
    "y_pred = clfsvm.predict(Xfair1)\n",
    "Pfair1_true = np.sum(y_pred) / len(Xfair1)\n",
    "print(\"African-American acceptance rate\\t = \" + str(Pfair1_true))\n",
    "y_pred = clfsvm.predict(Xfair2)\n",
    "Pfair2_true = np.sum(y_pred) / len(Xfair2)\n",
    "print(\"Non African-American acceptance rate\\t = \" + str(Pfair2_true))\n",
    "independence2 = Pfair1_true/Pfair2_true\n",
    "if Pfair1_true/Pfair2_true > 1:\n",
    "    independence2 = Pfair2_true/Pfair1_true\n",
    "    \n",
    "print(\"Indepence\\t\\t\\t\\t = \" + str(independence2))\n",
    "\n",
    "print(\"\\nGender ===>\")\n",
    "y_pred = clfsvm.predict(Xfair3)\n",
    "Pfair3_true = np.sum(y_pred) / len(Xfair3)\n",
    "print(\"Male acceptance rate\\t = \" + str(Pfair3_true))\n",
    "y_pred = log_reg.predict(Xfair4)\n",
    "Pfair4_true = np.sum(y_pred) / len(Xfair4)\n",
    "print(\"Female acceptance rate\\t = \" + str(Pfair4_true))\n",
    "independence2g = Pfair3_true/Pfair4_true\n",
    "if Pfair3_true/Pfair4_true > 1:\n",
    "    independence2g = Pfair4_true/Pfair3_true\n",
    "    \n",
    "print(\"Indepence\\t\\t = \" + str(independence2g))"
   ]
  },
  {
   "cell_type": "markdown",
   "metadata": {},
   "source": [
    "#### Decision Trees"
   ]
  },
  {
   "cell_type": "code",
   "execution_count": 89,
   "metadata": {},
   "outputs": [
    {
     "name": "stdout",
     "output_type": "stream",
     "text": [
      "African-American acceptance rate\t = 0.48484848484848486\n",
      "Non African-American acceptance rate\t = 0.3592950540079591\n",
      "Indepence\t\t\t\t = 0.7410460488914156\n",
      "\n",
      "Gender ===>\n",
      "Male acceptance rate\t = 0.4450936587042447\n",
      "Female acceptance rate\t = 0.31827956989247314\n",
      "Indepence\t\t = 0.715084485407066\n"
     ]
    }
   ],
   "source": [
    "y_pred = clf.predict(Xfair1)\n",
    "Pfair1_true = np.sum(y_pred) / len(Xfair1)\n",
    "print(\"African-American acceptance rate\\t = \" + str(Pfair1_true))\n",
    "y_pred = clf.predict(Xfair2)\n",
    "Pfair2_true = np.sum(y_pred) / len(Xfair2)\n",
    "print(\"Non African-American acceptance rate\\t = \" + str(Pfair2_true))\n",
    "independence3 = Pfair1_true/Pfair2_true\n",
    "if Pfair1_true/Pfair2_true > 1:\n",
    "    independence3 = Pfair2_true/Pfair1_true\n",
    "    \n",
    "print(\"Indepence\\t\\t\\t\\t = \" + str(independence3))\n",
    "\n",
    "print(\"\\nGender ===>\")\n",
    "y_pred = clf.predict(Xfair3)\n",
    "Pfair3_true = np.sum(y_pred) / len(Xfair3)\n",
    "print(\"Male acceptance rate\\t = \" + str(Pfair3_true))\n",
    "y_pred = log_reg.predict(Xfair4)\n",
    "Pfair4_true = np.sum(y_pred) / len(Xfair4)\n",
    "print(\"Female acceptance rate\\t = \" + str(Pfair4_true))\n",
    "independence3g = Pfair3_true/Pfair4_true\n",
    "if Pfair3_true/Pfair4_true > 1:\n",
    "    independence3g = Pfair4_true/Pfair3_true\n",
    "    \n",
    "print(\"Indepence\\t\\t = \" + str(independence3g))"
   ]
  },
  {
   "cell_type": "markdown",
   "metadata": {},
   "source": [
    "#### K Nearest Neighbors"
   ]
  },
  {
   "cell_type": "code",
   "execution_count": 90,
   "metadata": {},
   "outputs": [
    {
     "name": "stdout",
     "output_type": "stream",
     "text": [
      "African-American acceptance rate\t = 0.4880952380952381\n",
      "Non African-American acceptance rate\t = 0.358726549175668\n",
      "Indepence\t\t\t\t = 0.7349519544086857\n",
      "\n",
      "Gender ===>\n",
      "Male acceptance rate\t = 0.4481869737068225\n",
      "Female acceptance rate\t = 0.31827956989247314\n",
      "Indepence\t\t = 0.7101490863513424\n"
     ]
    }
   ],
   "source": [
    "y_pred = neigh.predict(Xfair1)\n",
    "Pfair1_true = np.sum(y_pred) / len(Xfair1)\n",
    "print(\"African-American acceptance rate\\t = \" + str(Pfair1_true))\n",
    "y_pred = neigh.predict(Xfair2)\n",
    "Pfair2_true = np.sum(y_pred) / len(Xfair2)\n",
    "print(\"Non African-American acceptance rate\\t = \" + str(Pfair2_true))\n",
    "independence4 = Pfair1_true/Pfair2_true\n",
    "if Pfair1_true/Pfair2_true > 1:\n",
    "    independence4 = Pfair2_true/Pfair1_true\n",
    "    \n",
    "print(\"Indepence\\t\\t\\t\\t = \" + str(independence4))\n",
    "\n",
    "print(\"\\nGender ===>\")\n",
    "y_pred = neigh.predict(Xfair3)\n",
    "Pfair3_true = np.sum(y_pred) / len(Xfair3)\n",
    "print(\"Male acceptance rate\\t = \" + str(Pfair3_true))\n",
    "y_pred = log_reg.predict(Xfair4)\n",
    "Pfair4_true = np.sum(y_pred) / len(Xfair4)\n",
    "print(\"Female acceptance rate\\t = \" + str(Pfair4_true))\n",
    "independence4g = Pfair3_true/Pfair4_true\n",
    "if Pfair3_true/Pfair4_true > 1:\n",
    "    independence4g = Pfair4_true/Pfair3_true\n",
    "    \n",
    "print(\"Indepence\\t\\t = \" + str(independence4g))"
   ]
  },
  {
   "cell_type": "markdown",
   "metadata": {},
   "source": [
    "#### Neural Network"
   ]
  },
  {
   "cell_type": "code",
   "execution_count": 91,
   "metadata": {},
   "outputs": [
    {
     "name": "stdout",
     "output_type": "stream",
     "text": [
      "African-American acceptance rate\t = 0.493774381034818\n",
      "Non African-American acceptance rate\t = 0.3663898444162166\n",
      "Indepence\t\t\t\t = 0.7420187407219512\n",
      "\n",
      "Gender ===>\n",
      "Male acceptance rate\t = 0.45428499312596665\n",
      "Female acceptance rate\t = 0.3372510465669803\n",
      "Indepence\t\t = 0.7423776960941024\n"
     ]
    }
   ],
   "source": [
    "Xfair1net = torch.from_numpy(Xfair1.to_numpy()).float()\n",
    "Xfair2net = torch.from_numpy(Xfair2.to_numpy()).float()\n",
    "y_pred = net(Xfair1net)\n",
    "y_pred = y_pred.detach().numpy()\n",
    "Pfair1_true = np.sum(y_pred) / len(Xfair1)\n",
    "print(\"African-American acceptance rate\\t = \" + str(Pfair1_true))\n",
    "y_pred = net(Xfair2net)\n",
    "y_pred = y_pred.detach().numpy()\n",
    "Pfair2_true = np.sum(y_pred) / len(Xfair2)\n",
    "print(\"Non African-American acceptance rate\\t = \" + str(Pfair2_true))\n",
    "independence5 = Pfair1_true/Pfair2_true\n",
    "if Pfair1_true/Pfair2_true > 1:\n",
    "    independence5 = Pfair2_true/Pfair1_true\n",
    "    \n",
    "print(\"Indepence\\t\\t\\t\\t = \" + str(independence5))\n",
    "\n",
    "print(\"\\nGender ===>\")\n",
    "Xfair3net = torch.from_numpy(Xfair3.to_numpy()).float()\n",
    "Xfair4net = torch.from_numpy(Xfair4.to_numpy()).float()\n",
    "y_pred = net(Xfair3net)\n",
    "y_pred = y_pred.detach().numpy()\n",
    "Pfair3_true = np.sum(y_pred) / len(Xfair3)\n",
    "print(\"Male acceptance rate\\t = \" + str(Pfair3_true))\n",
    "y_pred = net(Xfair4net)\n",
    "y_pred = y_pred.detach().numpy()\n",
    "Pfair4_true = np.sum(y_pred) / len(Xfair4)\n",
    "print(\"Female acceptance rate\\t = \" + str(Pfair4_true))\n",
    "independence5g = Pfair3_true/Pfair4_true\n",
    "if Pfair3_true/Pfair4_true > 1:\n",
    "    independence5g = Pfair4_true/Pfair3_true\n",
    "    \n",
    "print(\"Indepence\\t\\t = \" + str(independence5g))"
   ]
  },
  {
   "cell_type": "code",
   "execution_count": 104,
   "metadata": {},
   "outputs": [
    {
     "name": "stdout",
     "output_type": "stream",
     "text": [
      "Race\n"
     ]
    },
    {
     "data": {
      "image/png": "[encoded data removed]",
      "text/plain": [
       "<Figure size 648x360 with 1 Axes>"
      ]
     },
     "metadata": {},
     "output_type": "display_data"
    },
    {
     "name": "stdout",
     "output_type": "stream",
     "text": [
      "Gender\n"
     ]
    },
    {
     "data": {
      "image/png": "[encoded data removed]",
      "text/plain": [
       "<Figure size 648x360 with 1 Axes>"
      ]
     },
     "metadata": {},
     "output_type": "display_data"
    }
   ],
   "source": [
    "bottom = [\"Logistic Regression\", \"SVM\", \"Decision Tree\", \"K Nearest Neigbors\", \"Neural Network\"]\n",
    "left = [independence1, independence2, independence3, independence4, independence5]\n",
    "print(\"Race\")\n",
    "fig = plt.figure()\n",
    "fig.set_size_inches(9, 5)\n",
    "ax = fig.add_axes([0,0,1,1])\n",
    "ax.bar(bottom,left)\n",
    "plt.show()\n",
    "\n",
    "bottom = [\"Logistic Regression\", \"SVM\", \"Decision Tree\", \"K Nearest Neigbors\", \"Neural Network\"]\n",
    "left = [independence1g, independence2g, independence3g, independence4g, independence5g]\n",
    "print(\"Gender\")\n",
    "fig = plt.figure()\n",
    "fig.set_size_inches(9, 5)\n",
    "ax = fig.add_axes([0,0,1,1])\n",
    "ax.bar(bottom,left)\n",
    "plt.show()"
   ]
  },
  {
   "cell_type": "markdown",
   "metadata": {},
   "source": [
    "As we can see from the result above there is not much difference between classifiers. We will consider the best one and combine the results on performance analysis, and the feature sets."
   ]
  },
  {
   "cell_type": "code",
   "execution_count": null,
   "metadata": {},
   "outputs": [],
   "source": []
  }
 ],
 "metadata": {
  "kernelspec": {
   "display_name": "Python 3",
   "language": "python",
   "name": "python3"
  },
  "language_info": {
   "codemirror_mode": {
    "name": "ipython",
    "version": 3
   },
   "file_extension": ".py",
   "mimetype": "text/x-python",
   "name": "python",
   "nbconvert_exporter": "python",
   "pygments_lexer": "ipython3",
   "version": "3.7.6"
  }
 },
 "nbformat": 4,
 "nbformat_minor": 4
}
