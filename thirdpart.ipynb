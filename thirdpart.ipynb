{
 "cells": [
  {
   "cell_type": "markdown",
   "metadata": {},
   "source": [
    "# PART 2 - Evaluation of COMPAS dataset\n",
    "\n",
    "#### Group Members : \n",
    "                Marck-Edward KEMEH - marck-edward.kemeh@grenoble-inp.org\n",
    "                Irman FAQRIZAL - irman.faqrizal@univ-grenoble-alpes.fr\n",
    "        \n",
    "\n",
    "## Fair Classifiers\n",
    "Machine Learning or data analysis which is one of the most used AI techniques relies heavily on dataand this data can be biased because it is provided by humans. such is the case for our case study \"COMPASS Dataset\". Most of the data provided as seen in our analysis in part 1 is highly biased against African- Americans being by gender or age category. African-American defendants were more vulnerable to be incorrectly labeled as higher-risk than they actually were when compared to their white defendants.\n",
    "\n",
    "There has been some proposal on achieving fairness on a dataset for classification or prediction. Most of these firness criterias are based on the some of the following criterias;\n",
    "\n",
    "          \n",
    "           1.Demographic Parity / Independence\n",
    "           2.Equalized odds / Seperation\n",
    "           \n",
    "### 1. Independence\n",
    "This refers to the notion that decision rates of the people involved in anything from the two different group must be equal. such groups can be race, gender, age category as seen from compass. From our dataset exploration in part 1, we saw that there is a huge gap in any of these groups. The  dataset is not fair in this notion, There is a higher number of men as compared to women, the total number of people in 25-45 age category is far greater than any other age group. Nt forgetting race were African Americans are far more than any otherr race combined. Even some racee like Asian seem not to appear on some of these graph due to the very few number of people.\n",
    "\n",
    "### 2. Seperation\n",
    "Seperation is used when there is a strong will to predict positive outcomes correctly. We need to minimise false positives.\n",
    "Perdicting if someone should be sentenced for a crime is a decision which deserves the maximum accuracy. Unlike prediction with COMPASS, there is a high possibility of wrongly sentencing or given a high label to someone who does not deserve it whhich is a false positive in this case.\n",
    "\n",
    "\n",
    "In this part of our project , we will use Independence"
   ]
  },
  {
   "cell_type": "code",
   "execution_count": 38,
   "metadata": {},
   "outputs": [
    {
     "data": {
      "text/html": [
       "<style>.container { width:100% !important; }</style>"
      ],
      "text/plain": [
       "<IPython.core.display.HTML object>"
      ]
     },
     "metadata": {},
     "output_type": "display_data"
    },
    {
     "name": "stdout",
     "output_type": "stream",
     "text": [
      "Looking for file '%s' in the current directory... compas-scores-two-years.csv\n",
      "File found in current directory..\n",
      "Training\t :torch.Size([5193, 1]), torch.Size([5193])\n",
      "Testing\t\t :torch.Size([1443, 1]), torch.Size([1443])\n",
      "Validation\t :torch.Size([578, 1]), torch.Size([578])\n"
     ]
    }
   ],
   "source": [
    "# Increase my page width\n",
    "from IPython.core.display import display, HTML\n",
    "display(HTML(\"<style>.container { width:100% !important; }</style>\"))\n",
    "\n",
    "import urllib\n",
    "import os,sys\n",
    "import numpy as np\n",
    "import pandas as pd\n",
    "import seaborn as sns\n",
    "import torch\n",
    "import math\n",
    "import torch.nn.functional as F\n",
    "import matplotlib.pyplot as plt\n",
    "import scikitplot as skplt\n",
    "from sklearn.tree import DecisionTreeClassifier\n",
    "from sklearn.linear_model import LogisticRegression\n",
    "from sklearn import svm\n",
    "from sklearn.metrics import accuracy_score, confusion_matrix, classification_report\n",
    "from pylab import rcParams\n",
    "from torch import nn, optim\n",
    "from sklearn.model_selection import train_test_split\n",
    "from sklearn import feature_extraction, preprocessing\n",
    "from random import seed, shuffle\n",
    "from sklearn import preprocessing\n",
    "RANDOM_SEED = 42\n",
    "\n",
    "def check_data_file(fname):\n",
    "    files = os.listdir(\".\") # get the current directory listing\n",
    "    print(\"Looking for file '%s' in the current directory...\",fname)\n",
    "\n",
    "    if fname not in files:\n",
    "        print(\"'%s' not found! Downloading from GitHub...\",fname)\n",
    "        addr = \"https://raw.githubusercontent.com/propublica/compas-analysis/master/compas-scores-two-years.csv\"\n",
    "        response = urllib.request.urlopen(addr)\n",
    "        data = response.read()\n",
    "        fileOut = open(fname, \"wb\")\n",
    "        fileOut.write(data)\n",
    "        fileOut.close()\n",
    "        print(\"'%s' download and saved locally..\",fname)\n",
    "    else:\n",
    "        print(\"File found in current directory..\")\n",
    "    \n",
    "COMPAS_INPUT_FILE = \"compas-scores-two-years.csv\"\n",
    "check_data_file(COMPAS_INPUT_FILE)\n",
    "df=pd.read_csv('compas-scores-two-years.csv')\n",
    "\n",
    "# preparing data by selecting needed colums and removing empty values\n",
    "df = df[['race','sex', 'age_cat', 'juv_fel_count', 'juv_misd_count', 'priors_count', 'c_charge_degree', \n",
    "         'is_violent_recid', 'v_decile_score', 'event', 'two_year_recid']]\n",
    "df = df.dropna(how='any')\n",
    "\n",
    "# Replace text with numbers\n",
    "df['sex'].replace({'Male': 1, 'Female': 2}, inplace = True)\n",
    "df['age_cat'].replace({'Greater than 45': 1, '25 - 45': 2, 'Less than 25': 3}, inplace = True)\n",
    "df['c_charge_degree'].replace({'F': 1, 'M': 2}, inplace = True)\n",
    "df['race'].replace({'Other': 1, 'African-American': 2, 'Caucasian': 3, 'Hispanic': 4, 'Native American': 5, 'Asian': 6}, inplace = True)\n",
    "\n",
    "#splitting and converting data to tensor\n",
    "# X = df[['sex','age_cat', 'juv_fel_count', 'juv_misd_count', 'priors_count', 'c_charge_degree', \n",
    "#          'is_violent_recid', 'v_decile_score', 'event']]\n",
    "X = df[[ 'event']]\n",
    "y = df[['two_year_recid']] #ground truth\n",
    "\n",
    "# Arrange the data : Training, Testing, Validation\n",
    "X_train, X_test, y_train, y_test = train_test_split(X, y, test_size=0.2, random_state=RANDOM_SEED)\n",
    "X_train, X_validate, y_train, y_validate = train_test_split(X_train, y_train, test_size=0.1, random_state=RANDOM_SEED)\n",
    "\n",
    "# X_train.astype(dtype = 'float32')\n",
    "X_train = torch.from_numpy(X_train.to_numpy()).float()\n",
    "y_train = torch.squeeze(torch.from_numpy(y_train.to_numpy()).float())\n",
    "X_test = torch.from_numpy(X_test.to_numpy()).float()\n",
    "y_test = torch.squeeze(torch.from_numpy(y_test.to_numpy()).float())\n",
    "X_validate = torch.from_numpy(X_validate.to_numpy()).float()\n",
    "y_validate = torch.squeeze(torch.from_numpy(y_validate.to_numpy()).float())\n",
    "\n",
    "print(\"Training\\t :\"+ str(X_train.shape) +\", \"+ str(y_train.shape))\n",
    "print(\"Testing\\t\\t :\"+ str(X_test.shape) +\", \"+ str(y_test.shape))\n",
    "print(\"Validation\\t :\"+ str(X_validate.shape) +\", \"+ str(y_validate.shape))\n"
   ]
  },
  {
   "cell_type": "code",
   "execution_count": null,
   "metadata": {},
   "outputs": [],
   "source": []
  },
  {
   "cell_type": "code",
   "execution_count": 34,
   "metadata": {},
   "outputs": [
    {
     "name": "stdout",
     "output_type": "stream",
     "text": [
      "DecisionTreeClassifier(ccp_alpha=0.0, class_weight=None, criterion='gini',\n",
      "                       max_depth=None, max_features=None, max_leaf_nodes=None,\n",
      "                       min_impurity_decrease=0.0, min_impurity_split=None,\n",
      "                       min_samples_leaf=1, min_samples_split=2,\n",
      "                       min_weight_fraction_leaf=0.0, presort='deprecated',\n",
      "                       random_state=None, splitter='best') \n",
      "\n",
      "\n",
      "classification report \n",
      "               precision    recall  f1-score   support\n",
      "\n",
      "    No Recid       0.87      0.98      0.92       823\n",
      "       Recid       0.96      0.80      0.87       620\n",
      "\n",
      "    accuracy                           0.90      1443\n",
      "   macro avg       0.91      0.89      0.90      1443\n",
      "weighted avg       0.91      0.90      0.90      1443\n",
      "\n",
      "Overall Accuracy :  0.9002079002079002\n"
     ]
    },
    {
     "data": {
      "image/png": "[encoded data removed]",
      "text/plain": [
       "<Figure size 432x288 with 2 Axes>"
      ]
     },
     "metadata": {
      "needs_background": "light"
     },
     "output_type": "display_data"
    }
   ],
   "source": [
    "clf = DecisionTreeClassifier()\n",
    "clf.fit(X_train, y_train)\n",
    "print (clf,'\\n\\n')\n",
    "\n",
    "#prediction\n",
    "y_pred = clf.predict(X_test)\n",
    "skplt.metrics.plot_confusion_matrix(y_test, y_pred)\n",
    "print('classification report \\n', classification_report(y_test, y_pred, target_names=classes))\n",
    "print(\"Overall Accuracy : \" , str(accuracy_score(y_test, y_pred)))\n",
    "\n",
    "dffair1 = df.loc[(df['race']==2)]\n",
    "Xfair1 = dffair1[['race', 'event']]\n",
    "yfair1 = dffair1[['two_year_recid']]\n",
    "\n",
    "dffair2 = df.loc[(df['race']!=2)]\n",
    "Xfair2 = dffair2[['race', 'event']]\n",
    "yfair2 = dffair2[['two_year_recid']]"
   ]
  },
  {
   "cell_type": "code",
   "execution_count": 39,
   "metadata": {},
   "outputs": [
    {
     "name": "stdout",
     "output_type": "stream",
     "text": [
      "classification report \n",
      "               precision    recall  f1-score   support\n",
      "\n",
      "    No Recid       0.87      0.98      0.92       823\n",
      "       Recid       0.96      0.80      0.87       620\n",
      "\n",
      "    accuracy                           0.90      1443\n",
      "   macro avg       0.91      0.89      0.90      1443\n",
      "weighted avg       0.91      0.90      0.90      1443\n",
      "\n",
      "Overall Accuracy :  0.9002079002079002\n"
     ]
    },
    {
     "data": {
      "image/png": "[encoded data removed]",
      "text/plain": [
       "<Figure size 432x288 with 2 Axes>"
      ]
     },
     "metadata": {
      "needs_background": "light"
     },
     "output_type": "display_data"
    }
   ],
   "source": [
    "#Decision Trees\n",
    "clf = DecisionTreeClassifier()\n",
    "clf.fit(X_train, y_train)\n",
    "# print (clf,'\\n\\n')\n",
    "\n",
    "#prediction\n",
    "y_pred = clf.predict(X_test)\n",
    "skplt.metrics.plot_confusion_matrix(y_test, y_pred)\n",
    "print('classification report \\n', classification_report(y_test, y_pred, target_names=classes))\n",
    "print(\"Overall Accuracy : \" , str(accuracy_score(y_test, y_pred)))\n",
    "\n",
    "dffair1 = df.loc[(df['race']==2)]\n",
    "Xfair1 = dffair1[[ 'event']]\n",
    "yfair1 = dffair1[['two_year_recid']]\n",
    "\n",
    "dffair2 = df.loc[(df['race']!=2)]\n",
    "Xfair2 = dffair2[['event']]\n",
    "yfair2 = dffair2[['two_year_recid']]"
   ]
  },
  {
   "cell_type": "code",
   "execution_count": 33,
   "metadata": {},
   "outputs": [
    {
     "name": "stdout",
     "output_type": "stream",
     "text": [
      "LogisticRegression(C=1.0, class_weight=None, dual=False, fit_intercept=True,\n",
      "                   intercept_scaling=1, l1_ratio=None, max_iter=100,\n",
      "                   multi_class='auto', n_jobs=None, penalty='l2',\n",
      "                   random_state=None, solver='lbfgs', tol=0.0001, verbose=0,\n",
      "                   warm_start=False) \n",
      "\n",
      "\n",
      "classification report \n",
      "               precision    recall  f1-score   support\n",
      "\n",
      "    No Recid       0.87      0.98      0.92       823\n",
      "       Recid       0.96      0.80      0.87       620\n",
      "\n",
      "    accuracy                           0.90      1443\n",
      "   macro avg       0.91      0.89      0.90      1443\n",
      "weighted avg       0.91      0.90      0.90      1443\n",
      "\n",
      "Overall Accuracy :  0.9002079002079002\n"
     ]
    },
    {
     "data": {
      "image/png": "[encoded data removed]",
      "text/plain": [
       "<Figure size 432x288 with 2 Axes>"
      ]
     },
     "metadata": {
      "needs_background": "light"
     },
     "output_type": "display_data"
    }
   ],
   "source": [
    "#logistic regression\n",
    "clf = LogisticRegression()\n",
    "clf.fit(X_train, y_train)\n",
    "print (clf,'\\n\\n')\n",
    "\n",
    "#prediction\n",
    "y_pred = clf.predict(X_test)\n",
    "skplt.metrics.plot_confusion_matrix(y_test, y_pred)\n",
    "print('classification report \\n', classification_report(y_test, y_pred, target_names=classes))\n",
    "print(\"Overall Accuracy : \" , str(accuracy_score(y_test, y_pred)))\n",
    "\n",
    "dffair1 = df.loc[(df['race']==2)]\n",
    "Xfair1 = dffair1[['race', 'event']]\n",
    "yfair1 = dffair1[['two_year_recid']]\n",
    "\n",
    "dffair2 = df.loc[(df['race']!=2)]\n",
    "Xfair2 = dffair2[['race', 'event']]\n",
    "yfair2 = dffair2[['two_year_recid']]"
   ]
  },
  {
   "cell_type": "code",
   "execution_count": 32,
   "metadata": {
    "scrolled": false
   },
   "outputs": [
    {
     "name": "stdout",
     "output_type": "stream",
     "text": [
      "Net(\n",
      "  (fc1): Linear(in_features=2, out_features=5, bias=True)\n",
      "  (fc2): Linear(in_features=5, out_features=3, bias=True)\n",
      "  (fc3): Linear(in_features=3, out_features=1, bias=True)\n",
      ")\n",
      "\n",
      "\n",
      "epoch {0} \t==> Train : - Loss: 0.701, Acc: 0.479 \t|| Validation : - Loss: 0.705, Acc: 0.453\n",
      "epoch {50} \t==> Train : - Loss: 0.579, Acc: 0.865 \t|| Validation : - Loss: 0.57, Acc: 0.879\n",
      "epoch {100} \t==> Train : - Loss: 0.467, Acc: 0.865 \t|| Validation : - Loss: 0.438, Acc: 0.879\n",
      "epoch {150} \t==> Train : - Loss: 0.435, Acc: 0.865 \t|| Validation : - Loss: 0.407, Acc: 0.879\n",
      "epoch {200} \t==> Train : - Loss: 0.417, Acc: 0.865 \t|| Validation : - Loss: 0.39, Acc: 0.879\n",
      "epoch {250} \t==> Train : - Loss: 0.406, Acc: 0.865 \t|| Validation : - Loss: 0.379, Acc: 0.879\n",
      "epoch {300} \t==> Train : - Loss: 0.398, Acc: 0.865 \t|| Validation : - Loss: 0.372, Acc: 0.879\n",
      "epoch {350} \t==> Train : - Loss: 0.392, Acc: 0.865 \t|| Validation : - Loss: 0.367, Acc: 0.879\n",
      "epoch {400} \t==> Train : - Loss: 0.388, Acc: 0.865 \t|| Validation : - Loss: 0.364, Acc: 0.879\n",
      "epoch {450} \t==> Train : - Loss: 0.385, Acc: 0.865 \t|| Validation : - Loss: 0.361, Acc: 0.879\n",
      "epoch {500} \t==> Train : - Loss: 0.383, Acc: 0.865 \t|| Validation : - Loss: 0.359, Acc: 0.879\n",
      "epoch {550} \t==> Train : - Loss: 0.382, Acc: 0.865 \t|| Validation : - Loss: 0.358, Acc: 0.879\n",
      "epoch {600} \t==> Train : - Loss: 0.381, Acc: 0.865 \t|| Validation : - Loss: 0.358, Acc: 0.879\n",
      "epoch {650} \t==> Train : - Loss: 0.381, Acc: 0.865 \t|| Validation : - Loss: 0.357, Acc: 0.879\n",
      "epoch {700} \t==> Train : - Loss: 0.38, Acc: 0.865 \t|| Validation : - Loss: 0.357, Acc: 0.879\n",
      "epoch {750} \t==> Train : - Loss: 0.38, Acc: 0.865 \t|| Validation : - Loss: 0.357, Acc: 0.879\n",
      "epoch {800} \t==> Train : - Loss: 0.38, Acc: 0.865 \t|| Validation : - Loss: 0.357, Acc: 0.879\n",
      "epoch {850} \t==> Train : - Loss: 0.38, Acc: 0.865 \t|| Validation : - Loss: 0.357, Acc: 0.879\n",
      "epoch {900} \t==> Train : - Loss: 0.38, Acc: 0.865 \t|| Validation : - Loss: 0.357, Acc: 0.879\n",
      "epoch {950} \t==> Train : - Loss: 0.38, Acc: 0.865 \t|| Validation : - Loss: 0.357, Acc: 0.879\n",
      "              precision    recall  f1-score   support\n",
      "\n",
      "    No Recid       0.87      0.98      0.92       823\n",
      "       Recid       0.96      0.80      0.87       620\n",
      "\n",
      "    accuracy                           0.90      1443\n",
      "   macro avg       0.91      0.89      0.90      1443\n",
      "weighted avg       0.91      0.90      0.90      1443\n",
      "\n",
      "Overall Accuracy :  0.9002079002079002\n"
     ]
    },
    {
     "data": {
      "text/plain": [
       "<matplotlib.axes._subplots.AxesSubplot at 0x7f13c3c90d90>"
      ]
     },
     "execution_count": 32,
     "metadata": {},
     "output_type": "execute_result"
    },
    {
     "data": {
      "image/png": "[encoded data removed]",
      "text/plain": [
       "<Figure size 432x288 with 2 Axes>"
      ]
     },
     "metadata": {
      "needs_background": "light"
     },
     "output_type": "display_data"
    }
   ],
   "source": [
    "class Net(nn.Module):\n",
    "  def __init__(self, n_features):\n",
    "    super(Net, self).__init__()\n",
    "    self.fc1 = nn.Linear(n_features, 5)\n",
    "    self.fc2 = nn.Linear(5, 3)\n",
    "    self.fc3 = nn.Linear(3, 1)\n",
    "\n",
    "  def forward(self, x):\n",
    "    x = F.relu(self.fc1(x))\n",
    "    x = F.relu(self.fc2(x))\n",
    "    return torch.sigmoid(self.fc3(x))\n",
    "\n",
    "net = Net(X_train.shape[1])\n",
    "print(net)\n",
    "\n",
    "def calculate_accuracy(y_true, y_pred):\n",
    "  predicted = y_pred.ge(.5).view(-1)\n",
    "  return (y_true == predicted).sum().float() / len(y_true)\n",
    "\n",
    "def round_tensor(t, decimal_places=3):\n",
    "  return round(t.item(), decimal_places)\n",
    "\n",
    "# criterion = torch.nn.MSELoss(reduction='sum')\n",
    "# criterion = nn.CrossEntropyLoss()\n",
    "criterion = nn.BCELoss()\n",
    "optimizer = optim.Adam(net.parameters(), lr=0.001)\n",
    "print(\"\\n\")\n",
    "\n",
    "max_epochs = 1000\n",
    "batch_size = 1000\n",
    "batch_number = math.ceil(len(X_train)/batch_size)\n",
    "for epoch in range (max_epochs):\n",
    "    for batch_idx in range (batch_number):\n",
    "        # Set up batch\n",
    "        batch_end = ((batch_idx+1) * batch_size -1)\n",
    "        batch_start = batch_idx * batch_size\n",
    "        if (batch_idx == (batch_number-1)):\n",
    "            batch_end = (len(X_train) -1)\n",
    "        batch_x = X_train[batch_start : batch_end]\n",
    "        batch_y = y_train[batch_start : batch_end]\n",
    "        \n",
    "        # Fit the training data and validate\n",
    "        train_pred = net(batch_x)\n",
    "        train_pred = torch.squeeze(train_pred)\n",
    "        train_loss = criterion(train_pred, batch_y)\n",
    "        train_acc = calculate_accuracy(batch_y, train_pred)\n",
    "        y_validate_pred = net(X_validate)\n",
    "        y_validate_pred = torch.squeeze(y_validate_pred)\n",
    "        validate_loss = criterion(y_validate_pred, y_validate)\n",
    "        validation_acc = calculate_accuracy(y_validate, y_validate_pred)\n",
    "        optimizer.zero_grad()\n",
    "        train_loss.backward()\n",
    "        optimizer.step()\n",
    "    if epoch % 50 == 0:\n",
    "        print( f'''epoch { {epoch} } \\t==> Train : - Loss: {round_tensor(train_loss)}, Acc: {round_tensor(train_acc)} \\t|| Validation : - Loss: {round_tensor(validate_loss)}, Acc: {round_tensor(validation_acc)}''')\n",
    "\n",
    "# Test the model using test set\n",
    "classes = ['No Recid', 'Recid']\n",
    "y_pred = net(X_test)\n",
    "y_pred = y_pred.ge(.5).view(-1).cpu()\n",
    "y_test = y_test.cpu()\n",
    "print(classification_report(y_test, y_pred, target_names=classes))\n",
    "print(\"Overall Accuracy : \" , str(accuracy_score(y_test, y_pred)))\n",
    "skplt.metrics.plot_confusion_matrix(y_test, y_pred)"
   ]
  },
  {
   "cell_type": "code",
   "execution_count": null,
   "metadata": {},
   "outputs": [],
   "source": []
  }
 ],
 "metadata": {
  "kernelspec": {
   "display_name": "Python 3",
   "language": "python",
   "name": "python3"
  },
  "language_info": {
   "codemirror_mode": {
    "name": "ipython",
    "version": 3
   },
   "file_extension": ".py",
   "mimetype": "text/x-python",
   "name": "python",
   "nbconvert_exporter": "python",
   "pygments_lexer": "ipython3",
   "version": "3.7.6"
  }
 },
 "nbformat": 4,
 "nbformat_minor": 4
}
