{
 "cells": [
  {
   "cell_type": "markdown",
   "metadata": {},
   "source": [
    "# PART 2 - Evaluation of COMPAS dataset\n",
    "\n",
    "#### Group Members : \n",
    "                Marck-Edward KEMEH - marck-edward.kemeh@grenoble-inp.org\n",
    "                Irman FAQRIZAL - irman.faqrizal@univ-grenoble-alpes.fr"
   ]
  },
  {
   "cell_type": "code",
<<<<<<< HEAD
   "execution_count": 1,
=======
   "execution_count": 45,
>>>>>>> f486769ed335cd4083f01871ede27ba021fcf91b
   "metadata": {},
   "outputs": [
    {
     "data": {
      "text/html": [
       "<style>.container { width:95% !important; }</style>"
      ],
      "text/plain": [
       "<IPython.core.display.HTML object>"
      ]
     },
     "metadata": {},
     "output_type": "display_data"
    }
   ],
   "source": [
    "# Increase my page width\n",
    "from IPython.core.display import display, HTML\n",
    "display(HTML(\"<style>.container { width:95% !important; }</style>\"))\n",
    "# Ignore annoying warnings\n",
    "import warnings\n",
    "warnings.filterwarnings('ignore',category=FutureWarning)\n",
    "import urllib\n",
    "import os,sys\n",
    "import numpy as np\n",
    "import pandas as pd\n",
    "import seaborn as sns\n",
    "import torch\n",
    "import torch.nn.functional as F\n",
    "import matplotlib.pyplot as plt\n",
    "import tensorflow as tf\n",
    "import scikitplot as skplt\n",
    "from sklearn.datasets import make_classification\n",
    "from sklearn.linear_model import LogisticRegression\n",
    "from sklearn import svm\n",
    "from sklearn.model_selection import cross_val_score\n",
    "from sklearn.tree import DecisionTreeClassifier\n",
    "from sklearn.neighbors import KNeighborsClassifier\n",
    "from sklearn.metrics import accuracy_score, confusion_matrix, classification_report\n",
    "from pylab import rcParams\n",
    "from torch import nn, optim\n",
    "from sklearn.model_selection import train_test_split\n",
    "from sklearn import feature_extraction, preprocessing\n",
    "from random import seed, shuffle\n",
    "import math\n",
    "sns.set(style='whitegrid', palette='muted', font_scale=1.2)\n",
    "HAPPY_COLORS_PALETTE = [\"#01BEFE\", \"#FFDD00\", \"#FF7D00\", \"#FF006D\", \"#93D30C\", \"#8F00FF\"]\n",
    "sns.set_palette(sns.color_palette(HAPPY_COLORS_PALETTE))\n",
    "rcParams['figure.figsize'] = 10, 6\n",
    "RANDOM_SEED = 42\n",
    "df = pd.read_csv('compas-scores-two-years.csv')"
   ]
  },
  {
   "cell_type": "markdown",
   "metadata": {},
   "source": [
    "<h2>2.1 Preprocessing </h2>\n",
    "Before going further to building the classifiers, we will preprocess our data. First we select the needed colums and removing empty values."
   ]
  },
  {
   "cell_type": "code",
<<<<<<< HEAD
   "execution_count": 2,
=======
   "execution_count": 46,
>>>>>>> f486769ed335cd4083f01871ede27ba021fcf91b
   "metadata": {},
   "outputs": [
    {
     "data": {
      "text/html": [
       "<div>\n",
       "<style scoped>\n",
       "    .dataframe tbody tr th:only-of-type {\n",
       "        vertical-align: middle;\n",
       "    }\n",
       "\n",
       "    .dataframe tbody tr th {\n",
       "        vertical-align: top;\n",
       "    }\n",
       "\n",
       "    .dataframe thead th {\n",
       "        text-align: right;\n",
       "    }\n",
       "</style>\n",
       "<table border=\"1\" class=\"dataframe\">\n",
       "  <thead>\n",
       "    <tr style=\"text-align: right;\">\n",
       "      <th></th>\n",
       "      <th>sex</th>\n",
       "      <th>age_cat</th>\n",
       "      <th>race</th>\n",
       "      <th>juv_fel_count</th>\n",
       "      <th>juv_misd_count</th>\n",
       "      <th>priors_count</th>\n",
       "      <th>c_charge_degree</th>\n",
       "      <th>is_violent_recid</th>\n",
       "      <th>v_decile_score</th>\n",
       "      <th>event</th>\n",
       "      <th>two_year_recid</th>\n",
       "    </tr>\n",
       "  </thead>\n",
       "  <tbody>\n",
       "    <tr>\n",
       "      <th>0</th>\n",
       "      <td>Male</td>\n",
       "      <td>Greater than 45</td>\n",
       "      <td>Other</td>\n",
       "      <td>0</td>\n",
       "      <td>0</td>\n",
       "      <td>0</td>\n",
       "      <td>F</td>\n",
       "      <td>0</td>\n",
       "      <td>1</td>\n",
       "      <td>0</td>\n",
       "      <td>0</td>\n",
       "    </tr>\n",
       "    <tr>\n",
       "      <th>1</th>\n",
       "      <td>Male</td>\n",
       "      <td>25 - 45</td>\n",
       "      <td>African-American</td>\n",
       "      <td>0</td>\n",
       "      <td>0</td>\n",
       "      <td>0</td>\n",
       "      <td>F</td>\n",
       "      <td>1</td>\n",
       "      <td>1</td>\n",
       "      <td>1</td>\n",
       "      <td>1</td>\n",
       "    </tr>\n",
       "    <tr>\n",
       "      <th>2</th>\n",
       "      <td>Male</td>\n",
       "      <td>Less than 25</td>\n",
       "      <td>African-American</td>\n",
       "      <td>0</td>\n",
       "      <td>0</td>\n",
       "      <td>4</td>\n",
       "      <td>F</td>\n",
       "      <td>0</td>\n",
       "      <td>3</td>\n",
       "      <td>0</td>\n",
       "      <td>1</td>\n",
       "    </tr>\n",
       "    <tr>\n",
       "      <th>3</th>\n",
       "      <td>Male</td>\n",
       "      <td>Less than 25</td>\n",
       "      <td>African-American</td>\n",
       "      <td>0</td>\n",
       "      <td>1</td>\n",
       "      <td>1</td>\n",
       "      <td>F</td>\n",
       "      <td>0</td>\n",
       "      <td>6</td>\n",
       "      <td>0</td>\n",
       "      <td>0</td>\n",
       "    </tr>\n",
       "    <tr>\n",
       "      <th>4</th>\n",
       "      <td>Male</td>\n",
       "      <td>25 - 45</td>\n",
       "      <td>Other</td>\n",
       "      <td>0</td>\n",
       "      <td>0</td>\n",
       "      <td>2</td>\n",
       "      <td>F</td>\n",
       "      <td>0</td>\n",
       "      <td>1</td>\n",
       "      <td>0</td>\n",
       "      <td>0</td>\n",
       "    </tr>\n",
       "  </tbody>\n",
       "</table>\n",
       "</div>"
      ],
      "text/plain": [
       "    sex          age_cat              race  juv_fel_count  juv_misd_count  \\\n",
       "0  Male  Greater than 45             Other              0               0   \n",
       "1  Male          25 - 45  African-American              0               0   \n",
       "2  Male     Less than 25  African-American              0               0   \n",
       "3  Male     Less than 25  African-American              0               1   \n",
       "4  Male          25 - 45             Other              0               0   \n",
       "\n",
       "   priors_count c_charge_degree  is_violent_recid  v_decile_score  event  \\\n",
       "0             0               F                 0               1      0   \n",
       "1             0               F                 1               1      1   \n",
       "2             4               F                 0               3      0   \n",
       "3             1               F                 0               6      0   \n",
       "4             2               F                 0               1      0   \n",
       "\n",
       "   two_year_recid  \n",
       "0               0  \n",
       "1               1  \n",
       "2               1  \n",
       "3               0  \n",
       "4               0  "
      ]
     },
<<<<<<< HEAD
     "execution_count": 2,
=======
     "execution_count": 46,
>>>>>>> f486769ed335cd4083f01871ede27ba021fcf91b
     "metadata": {},
     "output_type": "execute_result"
    }
   ],
   "source": [
    "df = df[df.columns[~df.isnull().any()]]\n",
    "df = df[['sex','age_cat', 'race', 'juv_fel_count', 'juv_misd_count', 'priors_count', 'c_charge_degree', \n",
    "         'is_violent_recid', 'v_decile_score', 'event', 'two_year_recid']]\n",
    "df.head()"
   ]
  },
  {
   "cell_type": "markdown",
   "metadata": {},
   "source": [
    "Next we need to convert string data into values/ numbers to be able to use it to train, test and predict"
   ]
  },
  {
   "cell_type": "code",
<<<<<<< HEAD
   "execution_count": 3,
=======
   "execution_count": 47,
>>>>>>> f486769ed335cd4083f01871ede27ba021fcf91b
   "metadata": {},
   "outputs": [
    {
     "data": {
      "text/html": [
       "<div>\n",
       "<style scoped>\n",
       "    .dataframe tbody tr th:only-of-type {\n",
       "        vertical-align: middle;\n",
       "    }\n",
       "\n",
       "    .dataframe tbody tr th {\n",
       "        vertical-align: top;\n",
       "    }\n",
       "\n",
       "    .dataframe thead th {\n",
       "        text-align: right;\n",
       "    }\n",
       "</style>\n",
       "<table border=\"1\" class=\"dataframe\">\n",
       "  <thead>\n",
       "    <tr style=\"text-align: right;\">\n",
       "      <th></th>\n",
       "      <th>sex</th>\n",
       "      <th>age_cat</th>\n",
       "      <th>race</th>\n",
       "      <th>juv_fel_count</th>\n",
       "      <th>juv_misd_count</th>\n",
       "      <th>priors_count</th>\n",
       "      <th>c_charge_degree</th>\n",
       "      <th>is_violent_recid</th>\n",
       "      <th>v_decile_score</th>\n",
       "      <th>event</th>\n",
       "      <th>two_year_recid</th>\n",
       "    </tr>\n",
       "  </thead>\n",
       "  <tbody>\n",
       "    <tr>\n",
       "      <th>0</th>\n",
       "      <td>1</td>\n",
       "      <td>1</td>\n",
       "      <td>1</td>\n",
       "      <td>0</td>\n",
       "      <td>0</td>\n",
       "      <td>0</td>\n",
       "      <td>1</td>\n",
       "      <td>0</td>\n",
       "      <td>1</td>\n",
       "      <td>0</td>\n",
       "      <td>0</td>\n",
       "    </tr>\n",
       "    <tr>\n",
       "      <th>1</th>\n",
       "      <td>1</td>\n",
       "      <td>2</td>\n",
       "      <td>2</td>\n",
       "      <td>0</td>\n",
       "      <td>0</td>\n",
       "      <td>0</td>\n",
       "      <td>1</td>\n",
       "      <td>1</td>\n",
       "      <td>1</td>\n",
       "      <td>1</td>\n",
       "      <td>1</td>\n",
       "    </tr>\n",
       "    <tr>\n",
       "      <th>2</th>\n",
       "      <td>1</td>\n",
       "      <td>3</td>\n",
       "      <td>2</td>\n",
       "      <td>0</td>\n",
       "      <td>0</td>\n",
       "      <td>4</td>\n",
       "      <td>1</td>\n",
       "      <td>0</td>\n",
       "      <td>3</td>\n",
       "      <td>0</td>\n",
       "      <td>1</td>\n",
       "    </tr>\n",
       "    <tr>\n",
       "      <th>3</th>\n",
       "      <td>1</td>\n",
       "      <td>3</td>\n",
       "      <td>2</td>\n",
       "      <td>0</td>\n",
       "      <td>1</td>\n",
       "      <td>1</td>\n",
       "      <td>1</td>\n",
       "      <td>0</td>\n",
       "      <td>6</td>\n",
       "      <td>0</td>\n",
       "      <td>0</td>\n",
       "    </tr>\n",
       "    <tr>\n",
       "      <th>4</th>\n",
       "      <td>1</td>\n",
       "      <td>2</td>\n",
       "      <td>1</td>\n",
       "      <td>0</td>\n",
       "      <td>0</td>\n",
       "      <td>2</td>\n",
       "      <td>1</td>\n",
       "      <td>0</td>\n",
       "      <td>1</td>\n",
       "      <td>0</td>\n",
       "      <td>0</td>\n",
       "    </tr>\n",
       "  </tbody>\n",
       "</table>\n",
       "</div>"
      ],
      "text/plain": [
       "   sex  age_cat  race  juv_fel_count  juv_misd_count  priors_count  \\\n",
       "0    1        1     1              0               0             0   \n",
       "1    1        2     2              0               0             0   \n",
       "2    1        3     2              0               0             4   \n",
       "3    1        3     2              0               1             1   \n",
       "4    1        2     1              0               0             2   \n",
       "\n",
       "   c_charge_degree  is_violent_recid  v_decile_score  event  two_year_recid  \n",
       "0                1                 0               1      0               0  \n",
       "1                1                 1               1      1               1  \n",
       "2                1                 0               3      0               1  \n",
       "3                1                 0               6      0               0  \n",
       "4                1                 0               1      0               0  "
      ]
     },
<<<<<<< HEAD
     "execution_count": 3,
=======
     "execution_count": 47,
>>>>>>> f486769ed335cd4083f01871ede27ba021fcf91b
     "metadata": {},
     "output_type": "execute_result"
    }
   ],
   "source": [
    "df['sex'].replace({'Male': 1, 'Female': 2}, inplace = True)\n",
    "df['age_cat'].replace({'Greater than 45': 1, '25 - 45': 2, 'Less than 25': 3}, inplace = True)\n",
    "df['race'].replace({'Other': 1, 'African-American': 2, 'Caucasian': 3, 'Hispanic': 4, 'Native American': 5, 'Asian': 6}, inplace = True)\n",
    "df['c_charge_degree'].replace({'F': 1, 'M': 2}, inplace = True)\n",
    "df.head()"
   ]
  },
  {
   "cell_type": "markdown",
   "metadata": {},
   "source": [
    "Next step is to divide our dataset. we divide the data into train and test set. we will use 0.2 percent of the training dataset as the test set. We also separate the features (X) and the ground truth (y)."
   ]
  },
  {
   "cell_type": "code",
<<<<<<< HEAD
   "execution_count": 4,
=======
   "execution_count": 48,
>>>>>>> f486769ed335cd4083f01871ede27ba021fcf91b
   "metadata": {},
   "outputs": [],
   "source": [
    "X = df[['sex','age_cat', 'race', 'juv_fel_count', 'juv_misd_count', 'priors_count', 'c_charge_degree', \n",
    "         'is_violent_recid', 'v_decile_score', 'event']]\n",
    "y = df[['two_year_recid']] #ground truth\n",
    "classes = ['No Recid', 'Recid']\n",
    "\n",
    "# Arrange the data : Training, Testing\n",
    "X_train, X_test, y_train, y_test = train_test_split(X, y, test_size=0.2, random_state=RANDOM_SEED)"
   ]
  },
  {
   "cell_type": "markdown",
   "metadata": {},
   "source": [
    "<h2>2.2 Classifiers</h2>\n",
    "<h3> NOTE - Re running the code might result in little variations of the values obtained from the classification</h3>\n",
    "\n",
    "In this part we will present different type of classifiers. The first goal is to compare them with the compas classifier in terms of overall performance, in this case we will the basic metrics such as accuracy, precision, and recall. Then we will observe and compare the fairness to the existing COMPAS classifier. we will use the following for prediction of our data;\n",
    "   \n",
    "        1. Logistic Regression\n",
    "        2. Support Vector Machines\n",
    "        3. Decision Tress\n",
    "        3. K-nearest Neighbors\n",
    "        5 Neural Networks\n",
    "\n",
    "<h4>1. Logistic Regresssion</h4>\n",
    "Logistic regression isused for prediction.  Logistic regression is used to describe data and to explain the relationship between one dependent binary variables.\n"
   ]
  },
  {
   "cell_type": "code",
<<<<<<< HEAD
   "execution_count": 5,
=======
   "execution_count": 49,
>>>>>>> f486769ed335cd4083f01871ede27ba021fcf91b
   "metadata": {},
   "outputs": [
    {
     "name": "stdout",
     "output_type": "stream",
     "text": [
      "LogisticRegression(C=1.0, class_weight=None, dual=False, fit_intercept=True,\n",
      "                   intercept_scaling=1, l1_ratio=None, max_iter=100,\n",
      "                   multi_class='auto', n_jobs=None, penalty='l2',\n",
      "                   random_state=None, solver='lbfgs', tol=0.0001, verbose=0,\n",
      "                   warm_start=False) \n",
      "\n",
      "\n",
      "classification report \n",
      "               precision    recall  f1-score   support\n",
      "\n",
      "    No Recid       0.89      0.97      0.93       823\n",
      "       Recid       0.95      0.84      0.89       620\n",
      "\n",
      "    accuracy                           0.91      1443\n",
      "   macro avg       0.92      0.90      0.91      1443\n",
      "weighted avg       0.91      0.91      0.91      1443\n",
      "\n",
      "Overall Accuracy :  0.9112959112959113\n"
     ]
    },
    {
     "data": {
      "image/png": "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\n",
      "text/plain": [
       "<Figure size 720x432 with 2 Axes>"
      ]
     },
     "metadata": {},
     "output_type": "display_data"
    }
   ],
   "source": [
    "# Logistic Regression \n",
    "log_reg = LogisticRegression()\n",
    "log_reg.fit(X_train, y_train.values.ravel())\n",
    "print (log_reg,'\\n\\n')\n",
    "\n",
    "#prediction\n",
    "y_pred = log_reg.predict(X_test)\n",
    "skplt.metrics.plot_confusion_matrix(y_test, y_pred)\n",
    "print('classification report \\n', classification_report(y_test, y_pred, target_names=classes))\n",
    "print(\"Overall Accuracy : \" , str(accuracy_score(y_test, y_pred)))"
   ]
  },
  {
   "cell_type": "markdown",
   "metadata": {},
   "source": [
    "we can observe from the classification report that logistic regression performs well . Precision and recall is at 0.91 which is a good measurement considering the best has to be 1 to indicate that all predictions were correctly made.\n",
    "Details can be view in the confusion matrix were true positives (520) and true negatives (795) have a higher values as compared to False positives (28) and False negatives(100).\n",
    "\n",
    "\n",
    "<h4>2. Support Vector Machine</h4>\n",
    "Support vector machine algorithm is used to find hyperplane in an N-dimensional space(N — the number of features) that distinctly classifies the data points to get nearly accurate predictions."
   ]
  },
  {
   "cell_type": "code",
<<<<<<< HEAD
   "execution_count": 6,
=======
   "execution_count": 50,
>>>>>>> f486769ed335cd4083f01871ede27ba021fcf91b
   "metadata": {},
   "outputs": [
    {
     "name": "stdout",
     "output_type": "stream",
     "text": [
      "SVC(C=1.0, break_ties=False, cache_size=200, class_weight=None, coef0=0.0,\n",
      "    decision_function_shape='ovr', degree=3, gamma='scale', kernel='rbf',\n",
      "    max_iter=-1, probability=False, random_state=None, shrinking=True,\n",
      "    tol=0.001, verbose=False) \n",
      "\n",
      "\n",
      "classification report \n",
      "               precision    recall  f1-score   support\n",
      "\n",
      "    No Recid       0.89      0.96      0.92       823\n",
      "       Recid       0.94      0.84      0.89       620\n",
      "\n",
      "    accuracy                           0.91      1443\n",
      "   macro avg       0.92      0.90      0.91      1443\n",
      "weighted avg       0.91      0.91      0.91      1443\n",
      "\n",
      "Overall Accuracy :  0.9106029106029107\n"
     ]
    },
    {
     "data": {
      "image/png": "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\n",
      "text/plain": [
       "<Figure size 720x432 with 2 Axes>"
      ]
     },
     "metadata": {},
     "output_type": "display_data"
    }
   ],
   "source": [
    "clfsvm = svm.SVC()\n",
    "clfsvm.fit(X_train, y_train.values.ravel())\n",
    "print (clfsvm,'\\n\\n')\n",
    "\n",
    "#prediction\n",
    "y_pred = clfsvm.predict(X_test)\n",
    "skplt.metrics.plot_confusion_matrix(y_test, y_pred)\n",
    "print('classification report \\n', classification_report(y_test, y_pred, target_names=classes))\n",
    "print(\"Overall Accuracy : \" , str(accuracy_score(y_test, y_pred)))"
   ]
  },
  {
   "cell_type": "markdown",
   "metadata": {},
   "source": [
    "we can see from the classification report that precision and recall stands at 0.91 which is a good indication of the classifier.\n",
    "confusion matrix were true positives (523) and true negatives (795) have a higher values as compared to False positives (32) and False negatives(97).\n",
    "comparing with Logistic regression, the predictions variations is very negligible.\n",
    "\n",
    "<h4>3. Decision Tree Classifier </h4>\n",
    "Decion tres work more like an if-else consition. It split the data and continuously split the data based on the features available .until it reaches the lowers point."
   ]
  },
  {
   "cell_type": "code",
<<<<<<< HEAD
   "execution_count": 7,
=======
   "execution_count": 51,
>>>>>>> f486769ed335cd4083f01871ede27ba021fcf91b
   "metadata": {},
   "outputs": [
    {
     "name": "stdout",
     "output_type": "stream",
     "text": [
      "DecisionTreeClassifier(ccp_alpha=0.0, class_weight=None, criterion='gini',\n",
      "                       max_depth=None, max_features=None, max_leaf_nodes=None,\n",
      "                       min_impurity_decrease=0.0, min_impurity_split=None,\n",
      "                       min_samples_leaf=1, min_samples_split=2,\n",
      "                       min_weight_fraction_leaf=0.0, presort='deprecated',\n",
      "                       random_state=None, splitter='best') \n",
      "\n",
      "\n",
      "classification report \n",
      "               precision    recall  f1-score   support\n",
      "\n",
      "    No Recid       0.87      0.93      0.90       823\n",
<<<<<<< HEAD
      "       Recid       0.90      0.81      0.86       620\n",
      "\n",
      "    accuracy                           0.88      1443\n",
      "   macro avg       0.89      0.87      0.88      1443\n",
      "weighted avg       0.88      0.88      0.88      1443\n",
      "\n",
      "Overall Accuracy :  0.8828828828828829\n"
=======
      "       Recid       0.90      0.82      0.86       620\n",
      "\n",
      "    accuracy                           0.88      1443\n",
      "   macro avg       0.89      0.88      0.88      1443\n",
      "weighted avg       0.89      0.88      0.88      1443\n",
      "\n",
      "Overall Accuracy :  0.8842688842688843\n"
>>>>>>> f486769ed335cd4083f01871ede27ba021fcf91b
     ]
    },
    {
     "data": {
<<<<<<< HEAD
      "image/png": "iVBORw0KGgoAAAANSUhEUgAAAcMAAAGQCAYAAADSnAuHAAAABHNCSVQICAgIfAhkiAAAAAlwSFlzAAALEgAACxIB0t1+/AAAADh0RVh0U29mdHdhcmUAbWF0cGxvdGxpYiB2ZXJzaW9uMy4xLjMsIGh0dHA6Ly9tYXRwbG90bGliLm9yZy+AADFEAAAgAElEQVR4nO3deZyNdf/H8deZMWc2ZmzDVHbDkCUTjaUYZGlhRBRDKVTIUHFHIYVsJclehu4skWWmaKVSoxLK8pOdmRgZjAmZ7cxy/f5wO3WyzTnDzHHO+9njemS+1/L9XN3d8+nzvb7X9TUZhmEgIiLixjyKOgAREZGipmQoIiJuT8lQRETcnpKhiIi4PSVDERFxe0qGIm5Ak8ZFrk7JUArk0KFDjB07lnbt2nHHHXdwzz330LdvXzZs2HBD+929ezddunShbt26NGnShPPnz1+3a4eGhvL6669ft+vlp7/Q0FBeeumlKx4zceJEQkND6dSpk93XX7x4MZMmTbrmcSNGjKBRo0Z2X1/EFSgZisPi4uLo3LkzW7dupU+fPsydO5dXXnkFX19fnnnmGaZNm3bD+n7zzTc5evQo77zzDjNnzqR48eLX7drLly/niSeeuG7Xyw8PDw/WrVuHxWK5ZF9eXh6ffvqpw9d+++23OXv27DWPGzhwIAsXLnS4H5GbWbGiDkBuTrt27WLUqFE0a9aMmTNnYjabrfvatWvHK6+8wty5c7nnnnu46667rnv/qamphIaG0rp16+t+7QYNGlz3a15Lo0aN2Lx5M9999x1t27a12bdp0ybOnDlDzZo1b2gMlSpVuqHXF3FmqgzFIe+++y55eXm8+uqrNonwoueee46oqChMJpO17fTp07z66qvce++91KtXjwceeIBFixbZPM967LHHeP755/nwww9p3749devW5b777mPVqlUAJCUlERoayp49e9iyZQuhoaHMmDGDn3/+mdDQUNavX28Tx4wZMwgNDeXcuXMAnD17lpdffpnmzZtTt25d2rRpw9SpU20qsn8Pk1osFmJiYujQoQP169cnIiKC119/3WZodsaMGdx9991s2bKFRx55hHr16nHPPfcwefJksrOzr/nPs1atWoSEhFy2AlyzZg3NmzenZMmSNu2GYfDBBx/QuXNnGjRoQL169ejYsSMfffSRzb389ddfxMbGEhoaSlJSEqtXryY0NJTVq1cTERFBs2bNWL9+vc0w6d69e6lXrx5PPfWU9Vp5eXlERUXRpEkTTpw4cc17ErmZKBmKQ7777jtq167Nrbfeetn9pUuXZsyYMdZfrqmpqXTt2pX169fz9NNPM2fOHJo1a8brr7/OuHHjbM7duHEjS5cuZfDgwcydO5fy5cvz8ssvs2vXLsqVK8fy5cupUqUKt99+O8uXL6dbt275jvuFF17gp59+Yvjw4SxYsICHH36Y+fPnM3369Cue8+yzzzJt2jTat2/PnDlz6N27NytXruTxxx+3SaLnzp1j6NChdOjQgfnz59O+fXsWLFjAokWL8hXbgw8+yLfffktaWpq1LSsri6+++orIyMhLjn/77beZMmUK999/P/PmzWPatGmULFmS0aNHs3PnTuDCkK+fnx8REREsX76ccuXKWc+fOnUqI0eOZMSIEZdU77Vq1eL555/n+++/Jy4uDoB58+bxyy+/MHHiRMqXL5+vexK5WWiYVOyWmppKZmamXcNqCxcuJDk5mdWrV1O7dm0A7rnnHjw8PPjggw/o2bMn1atXByAtLY358+dbf+FWrVqV1q1bs379eurWrUuDBg3w8fGhePHi1iHN33//PV9xbNmyhY4dO9KhQwcAwsPD8fPzu+Izx/j4eL7//ntGjRrFY489BsDdd99NpUqVePbZZ1m1ahU9evQALlSQI0aM4IEHHgCgcePGbNiwgfXr19OnT59rxtaxY0emT5/O119/bU1+33zzDSaTidatW7N06VKb448dO8aAAQN4+umnrW2hoaG0adOGTZs2Ub9+fRo0aICnpyelS5e+ZPi3T58+tGvX7orxPPnkk2zYsIGJEydSpkwZZs2aRe/evWnVqtU170XkZqNkKHbz9PQEIDc3N9/nbNq0iRo1algT4UUPPfQQ//3vf9m0aZM1GVaoUMGm8rjlllsAyMjIKGjoNGvWjJUrV5KcnEzz5s1p3rw5vXv3vmrcwCWVWZs2bShRogSbNm2yJkOAhg0b2hwXHBxMenp6vmKrWLEid9xxB5999pm1vzVr1tCuXTu8vb0vOf7NN98E4MyZMyQmJnLkyBG2bdsGcNmJOP92rWeQJpOJyZMnExkZydNPP02tWrUYNmxYvu5F5GajYVKxW2BgICVKlCApKemqxx0/ftz657NnzxIUFHTJMRfb/vrrL2ubr6+vzTEeHhf+Nc3Ly3M45ovefPNNBgwYQFJSEhMnTuSBBx6gQ4cOfPfdd5c9/uzZs5jNZgIDAy/ZV7ZsWZu4rxS7PXF36NCBjRs3cubMGc6ePcv3339/2SFSgD179tCjRw8aN25Mr169eO+998jKygLy915h2bJlr3nMLbfcQrNmzcjLy6NFixaXfT4s4gqUDMUhERER7Nmz54oTKc6ePUu7du0YOnQocCGBnjp16pLjTp48CUCpUqUKFM/FiTr/rlb/+fwNoHjx4jz33HN8+eWXbNiwgfHjx5OVlcXgwYMvSWwX47ZYLJd9NeHkyZMFjvvfHnjgAfLy8li3bh1ffPEFZcqUITw8/JLjzp8/T58+fcjJySE2Npbt27ezZs0ahgwZcl3j2bBhA1988QV16tQhJiaGXbt2XdfrizgLJUNxSL9+/TCZTLz66quXnS05ZcoULBYLXbp0AS48Pztw4AB79uyxOe7jjz8GKPDrFxef+f2zGoULzwgvOnPmDK1bt+b9998HLlQ93bp1o2fPnmRmZpKamnrJdRs3bgzAJ598YtO+fv160tLSrvtrI2XLlqVJkyZ89tlnrF27lg4dOlgr4386fPgwqampREVFcfvtt1Os2IUnHt9//z1gW0VfHNa2V2pqKiNHjqRJkyZ8+OGHVKxYkf/85z9kZmY6dD0RZ6ZnhuKQ2rVr89JLLzFhwgQeeeQRevToQeXKlTl58iSrVq3ip59+Ijo6mrvvvhu4MBnjk08+4amnnmLw4MHceuutfPfddyxatIhHH32UatWqFSieWrVqUaFCBebPn0/ZsmUpWbIkH330EX/88Yf1mJIlS1KjRg1mzJiBh4cHtWrV4o8//mDhwoXUrVv3shOCmjdvbn1F4syZMzRs2JB9+/Yxc+ZMatWqxUMPPVSguC+nQ4cOjB49mry8PEaNGnXZY6pVq0aJEiVYsGABJUqUwN/fn59++omFCxdiMplsnq8GBASwe/duNm/eTP369fMdx8svv0x6ejrjx4/H29ubCRMmEBUVxRtvvMHo0aMLfJ8izkSVoTjsscceY9GiRVSpUoW5c+fSr18/pkyZQrFixZg/fz6DBg2yHlumTBk++ugjmjVrxltvvcWAAQPYtGkTo0aN4rXXXitwLB4eHsycOZNq1arx8ssvM2zYMMqVK8fw4cNtjnvjjTfo3Lkz77//Pn369OHNN9+kefPmvPfeezbvRF5kMpmYPXs2ffv2JTY2lqeffpoPPviAbt26sWTJEnx8fAoc+7+1a9cOT09PatSoQWho6GWPKV68OHPnzsXPz49hw4bx3HPPsWXLFqZNm8add97J5s2brcc+88wznDp1in79+uV7mHP58uV8++23DB06lIoVKwIQFhZGr169WLJkCfHx8QW/UREnYjL0BV8REXFzqgxFRMTtKRmKiIjbUzIUERG3p2QoIiJu76Z5tSIvL4+0tDS8vLwuO+tPRMTdGIZBdnY2/v7+l30f9UbIycmx61OM/+bp6Wl9L9aZOF9EV5CWlsb+/fuLOgwREadTs2ZNSpQoccP7ycnJIf7HzQT4X/qt3Pzy9PSkbt26TpcQnSuaq/Dy8gJgwKRPOfVn/j58LHKj7Pik4O9GihRUtsVC4qH91t+PN1pubi4B/t4MnPQpJx34PVyulB+zRzxIbm6ukqGjLg6NnvozneTT569xtMiNZTY7/l/GItdbYT86Onkmg+RUB4oSJ37EddMkQxERcRImk2OJTclQRERchsnjwubIeU7KeSMTEREpJKoMRUTEPhomFRERcXCY1IkHI5UMRUTEPi5YGTpvmhYRESkkqgxFRMQ+JpODs0mdtzJUMhQREfu44DCpkqGIiNjHBd8zVDIUERH7uGBl6LxpWkREpJCoMhQREftomFRERNyeCQeHSa97JNeNkqGIiNhJX6ARERF354LDpM4bmYiISCFRZSgiIvbxMF3YHDnPSSkZioiIfVxwmFTJUERE7OOCs0mdN02LiIgUElWGIiJiHw2TioiI23PBb5MqGYqIiJ1c76V7541MRESc08XK0JEtnz755BPCwsJsttq1a9OnTx8sFgujR48mPDycJk2aMG/ePJtzFy1aRIsWLQgLC2PYsGGkp6dfsz8lQxERcTqRkZFs27bNui1ZsoTAwEBefPFFZsyYQUJCAuvWrWPlypXExsYSFxcHQHx8PHPnziUmJoaNGzdisVgYN27cNftTMhQREfuYTH9PorFrc+yZYXZ2NsOGDSM6OppatWoRGxtL//79CQwMpEKFCvTt25dly5YBEBcXx8MPP0yNGjXw9/dn6NChrF27lrS0tKv2oWQoIiL2KYRh0n9asmQJPj4+REVFce7cOU6dOkVISIh1f9WqVdm/fz8ABw8epHr16tZ9lSpVwjAMEhMTr9qHJtCIiIh9CvhqRXJyMp6enja7AgICCAgIuOQUi8VCTEwMr732GiaTyfr8z8fHx3qMr68vmZmZAKSnp+Pr6/t3lyYTZrOZjIyMq4amZCgiIvYp4KsVUVFRpKSk2OwaNGgQ0dHRl5wSHx+Ph4cHLVu2BLAmuqysLOsxGRkZ+Pn5WfdfTIwAhmFgsVjw9/e/amhKhiIiUqiWLl162crwcr7++mvuv/9+PDwuVJWBgYEEBQVx+PBhypcvD0BCQoJ12DQkJISEhATr+UeOHMEwDCpXrnzVmPTMUERE7OPQ5Jm/h1aDg4OpUKGCzXalZLhjxw7uvPNOm7bIyEhmzZpFamoqSUlJxMTEEBkZCUCnTp1YsWIFe/fuJS0tjalTp9K2bVtr5XglSoYiImKfQpxNeuzYMcqVK2fTNmTIEGrUqEGHDh3o2rUr7du3p0ePHgBEREQwYMAABg4cSIsWLTAMg7Fjx16zHw2TioiInRydGWr/Odu3b7+kzdvbmzFjxjBmzJjLntOzZ0969uxpVz+qDEVExO2pMhQREfto1QoREXF7WrVCRETcnipDERFxey5YGTpvmhYRESkkqgxFRMQuFwpD+6s8Jy4MlQxFRMQ+JpPJwWTovNlQyVBEROxjwpH35x07p5DomaGIiLg9VYYiImIXEw4OkzpxaahkKCIidtEzQxEREQeToTNPJ1UyFBERu7hiZagJNCIi4vZUGYqIiH1c8NUKJUMREbGLKw6TKhmKiIhdlAxFRMTtueK3STWBRkRE3J4qQxERsYu+QCMiIqLZpCIi4u5ccQKNnhmKiIjbU2UoIiJ2ccXKUMlQRETsow91i4iI29MEGhERcXeuOEyqCTQiIuL2VBmKiIhdXLEyVDIUERG76As0IiLi9lzxQ91KhiIiYh8XnE2qCTQiIuL2VBmKiIhdNIFGRETcnismQw2TioiIXS4mQ0c2e5w8eZKBAwfSsGFDmjVrxttvvw2AxWJh9OjRhIeH06RJE+bNm2dz3qJFi2jRogVhYWEMGzaM9PT0a/alZCgiIk5p4MCBBAUF8eOPP7J8+XLi4uJYs2YNM2bMICEhgXXr1rFy5UpiY2OJi4sDID4+nrlz5xITE8PGjRuxWCyMGzfumn0pGbqAXh0bk7Ft5mW3u++sjq+PF++M7M6xDZM5+s0kpr/8KN7mv0fIKwaXYuXbz5D8/Rv89skY+nW9pwjvRlzNTz/+iK+XyWYrW7L4Jce9MuplQkOqFH6AYj9TAbZ82rFjB0ePHmXUqFF4e3tTsWJFFi1aROPGjYmNjaV///4EBgZSoUIF+vbty7JlywCIi4vj4YcfpkaNGvj7+zN06FDWrl1LWlraVfsr1GeGOTk5TJo0ibVr15Kbm0unTp148cUXMZvNhRmGy1n51a+s+3G3Tdu813pRsoQfm3YksPD13tSrcRudo+dQzNODhROe4HxaJiOnf4xXMU8+nRvNidPnaP/UdEoF+vHea49hGAYxq34oojsSV7J3z27q1q3Hms+/srZ5eNj+d/ivv/zCtKlvcOtttxV2eOKIAq5akZycjKenp82ugIAAAgICrD/v2rWLmjVrMnPmTFavXo23tzdRUVF07dqVU6dOERISYj22atWq7N+/H4CDBw/SokUL675KlSphGAaJiYnUqVPniqEVajJ86623iI+PZ86cOWRnZzNixAi8vLwYPnx4YYbhcjKzssnMyrb+3LFlfSIa1eTOrq9T9baydGvfkMaPTmTn/mMAvDZ7LU92bgbA/c3rUOmWUrTpM42TqX8BMHJ6HOMHd1IylOti9+7fqF2nDsHBwZfdb7FYeLrvEzRp2owjR34v3ODEIQX9Ak1UVBQpKSk2+wYNGkR0dLT157Nnz/LLL78QHh7O119/zeHDh+nXrx+lS5cGwMfHx3qsr68vmZmZAKSnp+Pr6/t3nyYTZrOZjIyMq8ZWaMkwKyuLDz/8kKlTpxIWFgbAqFGjGDp0KEOGDLG5MXGcp6cH4wZHMnPptyQkpfDMIy04eOSkNRECLF27maVrNwNQvWIQCUmnrYkQYMe+JCreUpqKwaU4mvxnod+DuJY9u3+jabO7r7h/wvixVAsJoVWre3l72puFGJk4qqCzSZcuXXrZyvCfzGYzxYsXtybIWrVq0bVrV2JjY4ELOeWijIwM/Pz8ANvECGAYBhaLBX9//6vGVmjPDPfs2UN6ejp33XWXtS08PJz09HT27NlTWGG4vC5twqgQXIq33l8PQPWKZTl8NIW+D9/N9tWj2Pvpa0x8vjNmrwv/HXQi9S+CSpfA0/PvfxUqlC8FQFDpEoV/A+Jydu/+jZ07dxB+5x1Ur1KBJx7rSXJyMgDbfv2VBfPf5Z2Zc4o4SilMwcHBVKhQwWb7dzKsVq0aGRkZWCwWa1tubi6BgYEEBQVx+PBha3tCQoJ12DQkJISEhATrviNHjmAYBpUrV75qTIWWDE+cOIGfnx8lSvz9C7Z48eL4+vpa/48hBff0I81Z9MnP/HnuwlTi4v4+hNevQrf2DXnm1SUMmbiczm0a8MZ/Hgbgqx924+FhYvILnfH18eK2ciUZPeBBAMxenlfsRyQ/zp49y/E//iAnO5vZ8+az8L+LSUxMoNOD95GVlcXTfZ9gwqQ3rjiEKs6pMF6tuPvuuyldujSTJ0/GYrGwb98+Vq5cyYMPPkhkZCSzZs0iNTWVpKQkYmJiiIyMBKBTp06sWLGCvXv3kpaWxtSpU2nbtq21crySQhsmzcjIuOxEGbPZbJP5xXG3BAVyz50hvPRWrLUtOycXfx9vov4TQ+rZC7Ophk9dzeLJfXjxzVWk/HmeHsPmM3/sY/R/NIIzf2Uw+p2PaVy/KufOZ16pK5F8CQwM5MTps/j7+1uHxZavjKVapVtpd29Lbr3tNno93ruIoxS7FcK3Sb29vVm8eDHjxo2jefPmmM1m+vXrR/v27WnZsiWTJk2iQ4cO5OXl8eijj9KjRw8AIiIiGDBgAAMHDuTs2bM0a9aMsWPHXrO/QkuGPj4+l016FovF5mGnOK79PbeTlPwnW3/7exLC8VNnOXH6nDURAuxNSKZYMU9uLVeShKQUvtuynxr3jya4bAApZ84TUqkcOTm5HDmeWhS3IS7m38Nf5cuXp0yZMmz+eRPe3t7W1yyys7PJzs6mbMnixK39nHvuaV4U4Uo+FNaqFRUrVuTdd9+9pN3b25sxY8YwZsyYy57Xs2dPevbsaVdfhTZMGhwcTHp6OufPn7e2nT9/noyMDMqXL19YYbi0xvWrsvHXgzZtm3YcJrhsAMFl//6FdHv1W8jItJCccpaaVcqzLuY5vM3FSE45R05OHg80r8svu49wPj3r312I2OXnTZsIKlWCI0eOWNuOHDlCSkoKX329gV+27+Lnrdv5eet2/jP8JW659VZ+3rqdhg0bFWHUci2F9QWawlRoybBWrVr4+fnxyy+/WNs2b96Mn58ftWrVKqwwXFq9Grfx26HjNm3fbTnA9r1H+e/EJ6lX8zbuaRjChOce4r8fbyIjM5vEY6epcmsZJg/tQuVby9C13Z289PT9THj38yK6C3ElDcLCuOXWW+n/VB/+b+dOtmzeTK8ej9AioiXNW0RQPSTEupUpU5ZixYpRPSREo0VS6AotGfr4+NCtWzfGjh3L1q1b2bJlC+PHjycqKgpvb+/CCsOllStdgj/P2n5lwTAMOg+ey4nT5/h6wfN8+EY/1m74P4ZPXQ2AJTuHrs/N447QCvyy8mVefuZ++r+6mK9+2H25LkTs4u3tzcdrPse/eHHa3RtBxwfaUaNGTZYuX1nUoUkBXBgmdWxzVibDMIzC6sxisTB+/Hg+++wzPD096dixIyNGjKBYsWs/uszKymLXrl10Hb6C5NPnr3m8yI3055aZRR2CCBZLFgf27KJu3bqFUlRc/D0cveY0p9Ly7D4/yN+DGR3LFFq89ijUL9CYzWbGjh2br5k9IiLivJy5ynOEPtQtIiJuT4v7ioiIXVxxcV8lQxERsYujk2GcOBcqGYqIiH08PEx4eNif2Rw5p7AoGYqIiF1csTLUBBoREXF7qgxFRMQumkAjIiJuzxWHSZUMRUTETo5+dNt5s6GSoYiI2MUVh0k1gUZERNyeKkMREbGLnhmKiIjbK6yV7guTkqGIiNjFFStDPTMUERG3p8pQRETscmE2qWPnOSslQxERsYsrDpMqGYqIiF1UGYqIiODcVZ4jNIFGRETcnipDERGxi4ZJRUTE7WkCjYiIuD1VhiIi4vZcsTLUBBoREXF7qgxFRMQuGiYVERG354rDpEqGIiJiF1esDPXMUERE3J4qQxERsZNjlSGoMhQRERdx8ZmhI5s9Vq5cSZ06dQgLC7NusbGxWCwWRo8eTXh4OE2aNGHevHk25y1atIgWLVoQFhbGsGHDSE9Pv2ZfSoYiImKXC4nN5MBmXz+7d+/mySefZNu2bdatc+fOzJgxg4SEBNatW8fKlSuJjY0lLi4OgPj4eObOnUtMTAwbN27EYrEwbty4a/alZCgiInYprMrwt99+o3bt2pe0x8bG0r9/fwIDA6lQoQJ9+/Zl2bJlAMTFxfHwww9To0YN/P39GTp0KGvXriUtLe2qfSkZioiI08nNzWXfvn18/PHH3HPPPbRt25Z3332Xs2fPcurUKUJCQqzHVq1alf379wNw8OBBqlevbt1XqVIlDMMgMTHxqv1pAo2IiNjF8VcrLvw9OTkZT09Pm30BAQEEBARYf05NTaVu3bo89NBDzJw5k0OHDjFw4EAsFgsAPj4+1mN9fX3JzMwEID09HV9fX5tYzWYzGRkZV41NyVBEROxS0Jfuo6KiSElJsdk3aNAgoqOjrT8HBQWxePFi68+1a9emV69efP/99wBkZWVZ92VkZODn5wfYJkYAwzCwWCz4+/tfNTYlQxERsYuHyYSHA8nw4jlLly69bGX4TwcOHODzzz9n8ODB1rbs7Gy8vb0JCgri8OHDlC9fHoCEhATrsGlISAgJCQnWc44cOYJhGFSuXPmqsSkZioiIfRysDC++ZhgcHIy3t/dVDw0ICGDhwoUEBwfTtWtXdu/ezaJFixg9ejQhISHMmjWL0NBQ0tPTiYmJ4fHHHwegU6dOjBw5kvbt21OxYkWmTp1K27ZtrZXjlSgZioiI0ylfvjyzZ8/mjTfeYOLEiZQqVYqBAwdy33330apVKyZNmkSHDh3Iy8vj0UcfpUePHgBEREQwYMAABg4cyNmzZ2nWrBljx469Zn8mwzCMG31T10NWVha7du2i6/AVJJ8+X9ThiJv7c8vMog5BBIsliwN7dlG3bt1rVlrXw8Xfw1O25XDGYv/5Jc3wYlixQovXHqoMRUTELh4mCvTM0BkpGYqIiF0K+mqFM9JL9yIi4vZUGYqIiF3canHfa72t/0//fNtfRERcmwmTQ4sxOXEuvHIyDAsLy/eqxHv27LluAYmIiHMzOTiB5qasDD/44IPCjENERG4SrjiB5orJMDw8/JK2tLQ0fv/9d0JCQrBYLBQvXvyGBiciIlIY8jWBxmKxMGHCBD766CMAvvzyS9544w2ysrJ48803KVGixA0NUkREnIcrTqDJ16sV06dPZ9u2bSxevNj61YB+/fpx7NgxJk6ceEMDFBER53LhQ92Obc4qX8nw888/Z/To0dx5553Wtvr16zNu3Di+/fbbGxaciIg4HxMOrnRf1IFfRb6SYWpqKkFBQZe0Fy9e3GbdKBERkZtRvpJho0aNLpldarFYmD17tk21KCIiru9CpWdyYCvqyK8sXxNoRo0aRd++ffnhhx+wWCy89NJLJCYm4unpyYIFC250jCIi4kRccQJNvpJhlSpV+Pzzz1mzZg0HDx4kNzeXjh07EhkZqa/PiIi4GZODk2EunOKcqwbm+9ukZrOZBx98kMTERLy8vKhYsSJms/lGxiYiIk7IhGOTYZy4MMxfMszKyuL1118nNjaWnJwcALy9venduzfR0dEUK6bvfYuIyM0rX1lswoQJbNq0ibfffpt69ephGAbbtm1jypQpZGRk8PLLL9/oOEVExElcnBBj/3lwUw+Trlmzhvfee4+GDRta2+677z5KlizJ4MGDlQxFRNyI26507+/vj5eX12XbPT09r3tQIiLivApWGTqnK75nmJGRYd2eeeYZRo0axY4dO8jLywPg4MGDjB07lujo6EILVkREip5DX59x8HWMwpLv9QwNw6B79+54eHhgMpnIzc0F4NChQ0RFRd34SEVERG4QrWcoIiJ2cmyY1JnZtZ7h5VgslusWjIiIOD+3nUBz+vRp5syZw6FDh6zDo4ZhkJ2dzftatBMAACAASURBVMGDB9m6desNDVJERJyHW02g+adRo0bx9ddfU716dX755Rdq1qyJr68v27dvZ9CgQTc6RhERkRsqX5Xh5s2bmT17No0bN2br1q106tSJevXqMW3aNLZs2cITTzxxg8MUERFn4YqfY8tXZWixWKhUqRIA1atXZ/fu3QB07tyZbdu23bjoRETE6bjtSvdVq1a1PhesVq0a27dvByA9PV2L+4qIuBm3es/wn/r168dLL71Ebm4uDzzwAJGRkRiGwc6dO/M961RERFzE/xb3tf885/wuKeQzGUZGRlKxYkV8fHyoWrUq8+bNY/ny5dx1110MHjz4RscoIiJyQ+V77aWwsDDrn5s1a0azZs1uSEAiIuLc3Gql+yFDhuT7ItOnT78uwYiIiPNzdDKMM0+guWIy9PPzK8w4RETkJmHCwcrwukdy/VwxGU6cOLEw48i375eNopiXuajDEDd3/6wfizoEEUp5w8i7vAu9X8e/QOO86TBfr1aIiIi4MiVDERGxi0cBNkecO3eOli1bsnr1auvPgwcPpmHDhjRv3pxVq1ZZjzUMg2nTptG0aVMaNWrEhAkTyMnJydc9iYiI5N//hknt3RydTjpmzBhOnDhh/fnVV1/Fw8ODjRs38u677zJ16lQ2b94MwPLly1m3bh2xsbF89dVX/N///R9z5869Zh9KhiIiYpeLSzg5stkrNjaW8+fPU7NmTQAyMjL48ssvGTJkCL6+vtSuXZtu3bqxfPlyAOLi4ujduzfBwcGULl2a6Oho676r3lN+A9qxYweDBw+mU6dOHD9+nPfee4/PP//c/jsTERG3lpycTFJSks127ty5S447evQoM2fOZMKECda2xMRETCYTVapUsbZVq1aN/fv3A3Dw4EGqV69us+/kyZOcOXPmqjHl66X77777jiFDhhAZGcmGDRvIyckhNzeX//znP6SlpdG1a9f8XEZERFxAQRf3jYqKIiUlxWbfoEGDiI6Otv58MccMHz6coKAga3taWhpms9lmZqqvr6/1O9np6en4+vpa9/n4+ABc8zva+UqG06dP5+WXX+aRRx5hzZo1APTv35/SpUszf/58JUMRETdS0Fcrli5diqenp82+gIAAm59nz55N1apVadeunU27n58fFosFwzCs18vIyLC+G//PxAh/J8FrvTufr2R4+PBhmjZtekl706ZNGT9+fH4uISIiLqKglWFwcDDe3ld/P/LTTz/l5MmTrFu3DrhQEb722ms88MADGIZBUlISFStWBC7kqJCQEABCQkJISEigYcOG1n1BQUGXJNt/y1cyLF++PLt27bJ2fNEPP/zArbfemp9LiIiIq3B0Yqgd53zxxRc2P3fq1InevXvTpUsX0tPTmTp1Kq+//jpHjx5lxYoV1g/FREZGsmDBApo2bYqvry8zZsygU6dO1+wvX8lwwIABjBkzhiNHjpCXl8e3337LsWPHWLZsGaNGjcr/3YmIiBTQ2LFjee2112jdujVms5n+/fsTEREBQI8ePTh9+jTdu3cnMzOT++67L1/f2jYZhpGvBabi4+N59913OXDgALm5uVSvXp1+/frRpk2bgt1VPmVlZbFr1y7KVQ7V59ikyEW9v7WoQxCxfo6tbt261xx2vB4u/h7+9JQ/6Xn2v5nn55HHg0FphRavPfK9hFPz5s1p3rz5jYxFRERuAo5+TcaZX2zPVzJcsmTJVff37NnzugQjIiLOz63WM/ynmJgYm59zc3M5ffo0xYoV484771QyFBFxI261nuE/ffPNN5e0paWlMXr0aGrXrn3dgxIRESlMDg/h+vv7Ex0dzfvvv38dwxEREadn+nuo1J7NmVf3zfcEmss5dOgQWVlZ1ysWERG5CRT0pXtnlK9keLl3NM6fP8/PP/9M586dr3tQIiLivNz2meHlvukWGBjImDFj8vVmv4iIiDPLVzKsXLkyDz30EMHBwTc6HhERcXKu+GpFvibQzJ8/n+zs7Bsdi4iI3AQKc3HfwpKvZNiqVSsWLlxIamrqjY5HRERuAiYH/nJm+RomPXToELt37+bDDz/Ex8fHuljiRT/99NMNCU5ERJyPBw7OJr3ukVw/+UqGjz322I2OQ0REpMhcMRnOnDmTvn374uvrq9cnRETEysPk4Ie6nXik9Ir3M2vWLNLT0wszFhERuQmYTCaHN2d1xcown8scioiIm3HFyvCqzwyTk5Pz9bm1W2+99boFJCIiTs7k4GdGb9Zk2LVr16uebBgGJpOJPXv2XNegRERECtNVk+EHH3xAyZIlCysWERG5CXiYTHg4UObdlN8mNZlMVKtWjTJlyhRmPCIi4uTc6pmhJtCIiMjlmBx8ZujEheGVk3vnzp3x9vYuzFhERESKxBUrw4kTJxZmHCIicpPwwMFnhk48nbRAK92LiIh7cuYhT0coGYqIiF0cnkBz3SO5fpQMRUTELg6/WuHEw6TOnKhFREQKhSpDERGxi8OvVlz3SK4fJUMREbGLKw6TKhmKiIh9HP1QtxNTMhQREbt44HqzSZ05NhERkUKhylBEROxiMpkwOTBQ6sg5hUXJUERE7GJCs0lFRMTNueJsUj0zFBERt6dkKCIidjEVYLPHt99+S8eOHQkLC6NNmzYsW7YMAIvFwujRowkPD6dJkybMmzfP5rxFixbRokULwsLCGDZsGOnp6dfsS8lQRETsZjLZv9nj5MmTDB48mGHDhrFt2zamT5/OhAkT+O2335gxYwYJCQmsW7eOlStXEhsbS1xcHADx8fHMnTuXmJgYNm7ciMViYdy4cdfsT8lQRETsciG5mRzY8t9HuXLl+Omnn4iIiCAvL48zZ87g6emJv78/sbGx9O/fn8DAQCpUqEDfvn2tVWNcXBwPP/wwNWrUwN/fn6FDh7J27VrS0tKu2p8m0IiIiF0K+tJ9cnIynp6eNvsCAgIICAiwaStevDgZGRk0atSInJwcnnrqKUqXLs2pU6cICQmxHle1alX2798PwMGDB2nRooV1X6VKlTAMg8TEROrUqXPF2JQMRUSkUEVFRZGSkmLTNmjQIKKjoy851tvbm23btrFv3z6efvppfHx8AKx/B/D19SUzMxOA9PR0fH19rftMJhNms5mMjIyrxqRkKCIidrk47Gn3eZjAgKVLl162MrwcDw8PzGYz9erV45FHHmHXrl0AZGVlWY/JyMjAz88PsE2MAIZhYLFY8Pf3v2psemYoIiJ2Kehs0uDgYCpUqGCz/TsZbt68mS5duti0WSwWAgICCAoK4vDhw9b2hIQE67BpSEgICQkJ1n1HjhzBMAwqV6581XtSMhQREbs4NnnGvmqydu3anDhxgoULF5Kbm8uvv/7KqlWr6Nq1K5GRkcyaNYvU1FSSkpKIiYkhMjISgE6dOrFixQr27t1LWloaU6dOpW3bttbK8Uo0TCoiIk6nRIkSvPvuu4wfP56ZM2dyyy23MH78eMLDw7njjjuYNGkSHTp0IC8vj0cffZQePXoAEBERwYABAxg4cCBnz56lWbNmjB079pr9mQzDMG70TV0PWVlZ7Nq1i3KVQynmZS7qcMTNRb2/tahDEKGUN4y8y5u6devi7e19w/u7+Hs4ybMcuSb7aylPI4cKuScLLV57qDIUERG7FGgCjZNSMhQREbto1QoREXF7jnxeDZw7GWo2qYiIuD1VhiIiYhcPTBgutp6hkqGIiNjFFYdJlQxFRMQupv/95ch5zkrJUERE7OZIZYgTv9WuCTQiIuL2VBmKiIhdPBx801ATaERExGU4PIHGeXOhkqGIiNjHFZOhnhmKiIjbU2UoIiJ20asVIiLi9jwc/FK3h/PmQiVDERGxnzNXeY5QMhQREbuYHKwMNYFGRETEiakydDGGYdCrWyT3trufPk8PvGT/C4OeoUzZsox89XVrW05ODiG3lsJisdgc+9X3m6lb/44bHrO4ljq3lGDmI/Vs2jIsuTww52c8TDCweRXuDQ3C08PEur2nmBOfSE7ehe90lfH3YmW/uy65Zqd5mzmXmVMo8cu1mRx86d6Zh1aLJBkahsFTTz1Fy5Yt6dWrV1GE4JLy8vIYNfx5vl3/Ffe2u/+S/e9Mncyyxe/z7HPDbNoTDh/EYrGwaftefHx9re2ly5S94TGL66lc2pdDKWn8J3a3tc343zcpn2pWmfAqpRi5Zg9enh6MaBdCdm4eczf+/r9z/fgrM4fei7bZXFOJ0Ll4mMBwsWHSQk+GeXl5jB8/nvj4eFq2bFnY3bus3xMPM2RAP/5ISiIwsKTNvpRTJ3lh0DP8suVnbrmtwiXn7t+zh1tuq0ClKlULK1xxYVXK+JF4Op0/07Nt2r08TXSqH8y4L/azO/k8AO9sSGD0fTVZ8NNRLLl5VC3jx5E/My45V5yLK1aGhfrM8OjRo/Tq1YsNGzYQEBBQmF27vF+2bKb27XX48vtNlAgItNm3b89uipcowfqNW6hQsdIl5+7bu5uQGjULK1RxcVVKX0ho/xYS5I+v2ZOdx85Z23YcO4ev2ZOQIL//net72XPFuVz8Ao0jm7Mq1Mpw+/bt1KxZk9mzZ9OlS5fC7NrldenWnS7dul92390tWnJ3i5ZXPHff3t2kp6fz8INtOXhgH6G1ajNq7CTqNwi7QdGKK6tSxpeM7FzmR91BgE8xdhw7x+z4RIKKm8mw5JJmybUem27JJSM7l6Di3sB5qpTxIyM7j9mP1qNcCW/2nTjPrO8T+eNsZtHdkLiFQq0MO3bsyKuvvkrJkiWvfbAUmgP79nDmz1SG/GcEHyyP5baKlenasS1JR48UdWhyk/E3exJU3JtiHibe+PoQr395gOAAb6Y8dDvexTyx5OZdck52bh5enhdKhkqlffEzezI7PpHRa/diAG93rYO/2bOQ70SuxlSAzVlpNqnw+bc/kZeXh+//Js9MnTGXX7f+zLLF/2XYS6OLODq5maRZcnlwzs9kZufyvwmivPLpPlb0bURWTh5mz0v/+9vL04OsnAtJ8pGYX8gzDLJzL5w89rP9LO/TkIgaZfjst5OFdh9ydSaTCZOLfalbyVDw9va2+dnDw4OQGqEc/+NYEUUkN7P0fwyDAvyZns25zBxuK+mDr9kTXy8PMrIvJD8/sye+Xp6knL/wWs/FpHiRJTeP4+cy/zeMKs7CeVOa4/TSvZvLysqifo2KxK5cbm3Lyclh966d1KgZWoSRyc2odnBxPh3QmHIlzNa2ciXMBPoWY/fxv8iw5FL/tr8nz91xWwAZllwOpqRR1t/Mmv7h1Lu1hHW/r5cHFUv5ciQ1vVDvQ9yPKkM35+3tTYtW9zJp7GjKlw8mqFw5Zr09lfPnz9PjsSeLOjy5yRw8lUZKmoUX24QwOz4Rs6cH0RFV2Z50jh3HzrH2txMMblmNSV8dwISJwS2rErczmexcg5Q0CwdOphEdUZVp3xwmKzePfs0qkZpm4ftDqUV9a/JvLlYeKhkKk9+ayYTXRvHsU705e+ZPGoU3YcUnXxKoiU5ip+xcgxFxuxnYogpvP1wXkwl+PJzKzO8SAXjvh9/xLubBhMja5OYZrN97ivk//m49/7XP9zHgniq8HlkbHy8Pfj1ylhfj9pB78QGkOAVH3zN05gxqMgyjSP4ta926NX369Mn3F2iysrLYtWsX5SqHUszLfO0TRG6gqPe3FnUIIpTyhpF3eVO3bt1Lnv3fCBd/D+cGVAZPL/svkJuN57nfCy1eexRZZfjNN98UVdciIlIAzlvfOU4TaERExO3pmaGIiNjH9R4ZKhmKiIh9XHECjZKhiIjYxdGV7p04F+qZoYiI2K8wvkv6ww8/0KVLF+68807atm3LsmXLADh37hyDBw+mYcOGNG/enFWrVlnPMQyDadOm0bRpUxo1asSECRPIybn2epiqDEVExOkcP36c6OhoJk+ezL333suuXbvo168ft912G7GxsXh4eLBx40YSExPp27cvFStWJDw8nOXLl7Nu3TpiY2Mxm808++yzzJ07l0GDBl21P1WGIiJin0JYtuLYsWN06NCBtm3b4uHhQf369QkPD+enn37iyy+/ZMiQIfj6+lK7dm26devG8uUXPikZFxdH7969CQ4OpnTp0kRHR1v3XY0qQxERsYvpf385cmZ+v/LSqFEjGjVqZP35zJkzbN26lUaNGmEymahSpYp1X7Vq1azvrh88eJDq1avb7Dt58iRnzpy56vKBSoYiImIXh1etN4EBJCcn4+lpu0ZlQEAAAQEBlz3tr7/+YsCAAdxxxx3UqVMHs9lss4SUr68vmZkXFoBOT0+3LkcH4OPjA2DdfyVKhiIiUqiioqJISUmxaRs0aBDR0dGXHJuQkMDAgQMJCQnhzTff5NChQ1gsFgzDsCbEjIwM/Pz8ANvECH8nwYv7r0TJUERE7FLQVeuXLl162crw37Zs2cLAgQPp3r07L7zwAiaTicqVK2MYBklJSVSsWBGAw4cPExISAkBISAgJCQk0bNjQui8oKOiKVedFmkAjIiL2KeAEmuDgYCpUqGCz/TtZHTlyhGeeeYbBgwczdOhQaxXo7+9PmzZtmDp1Kmlpaezdu5cVK1YQGRkJQGRkJAsWLODYsWOkpqYyY8YMOnXqdM1bUmUoIiJ2KcgEmvxasmQJaWlpvPXWW7z11lvW9qioKMaOHctrr71G69atMZvN9O/fn4iICAB69OjB6dOn6d69O5mZmdx3330MGTLk2pEV1RJO9tISTuJMtISTOIOiWsLJq2w1TA4s4WTkZpOdctgpl3DSMKmIiLg9DZOKiIhdCjqBxhkpGYqIiP1cLBsqGYqIiN0cmUDjzBNUlAxFRMQujn6BxqGv1hQSTaARERG3p8pQRETs4oJr+yoZioiInVwwGyoZioiIXRz9Ao1jX60pHHpmKCIibk+VoYiI2MUVZ5MqGYqIiF1c8JGhkqGIiNjJBbOhkqGIiNhFE2hERERckCpDERGxiybQiIiI4NSP/xyiZCgiIvbRBBoREXF3mkAjIiLiglQZioiIXTSBRkRE3J4LPjJUMhQREQc4c2ZzgJ4ZioiI21NlKCIidnHF2aRKhiIiYhdNoBEREbenCTQiIuL2XLEy1AQaERFxe6oMRUTETq43UKpkKCIi9nFwmNSJc6GSoYiI2Mf16kIlQxERsZMm0IiIiLggVYYiImIXfYFGRETEBR8aaphURETsYirA5oidO3fStGlT688Wi4XRo0cTHh5OkyZNmDdvns3xixYtokWLFoSFhTFs2DDS09Ov2YeSoYiIOCXDMFixYgV9+vQhOzvb2j5jxgwSEhJYt24dK1euJDY2lri4OADi4+OZO3cuMTExbNy4EYvFwrhx467Zl5KhiIjY5eJsUkc2e7zzzjt8+OGHDBgwwKY9NjaW/v37ExgYSIUKFejbty/Lli0DIC4ujocffpgaNWrg7+/P0KFDWbt2LWlpaVftS8lQRETsYirAXwDJyckkJSXZbOfOnbukn+7du7N69Wrq1q1rbTt37hynTp0iJCTE2la1alX2798PwMGDB6levbp1X6VKlTAMg8TExKvekybQiIiIfQo4gSYqKoqUlBSbXYMGDSI6OtqmrXz58pdc4uLzPx8fH2ubr68vmZmZ1v2+vr5/d2kyYTabycjIuGpoSoYiImKXgk4mXbp0KZ6enjb7AgIC8nWNi4kuKyvL2paRkYGfn591/8XECBeeO1osFvz9/a96XSVDEREpVMHBwXh7ezt0bmBgIEFBQRw+fNhaOSYkJFiHTUNCQkhISLAef+TIEQzDoHLlyle9rp4ZioiI3W705JmriYyMZNasWaSmppKUlERMTAyRkZEAdOrUiRUrVrB3717S0tKYOnUqbdu2tVaOV6JkKCIidrkwTOro9JmCGzJkCDVq1KBDhw507dqV9u3b06NHDwAiIiIYMGAAAwcOpEWLFhiGwdixY699T4ZhGNcpvhsqKyuLXbt2Ua5yKMW8zEUdjri5qPe3FnUIIpTyhpF3eVO3bl2Hhx3tcfH3cMXqtfEy299ftiWLo4f2FFq89lBlKCIibk/JUERE3J5mk4qIiF1ccT1DJUMREbGLlnASERG354qVoZ4ZioiI21NlKCIidnHBtX2VDEVExE4umA2VDEVExC6aQCMiIuLot0adNxdqAo2IiIgqQxERsYsLPjJUMhQRETu5YDZUMhQREbtoAk0RurjSVG5OdhFHInJh6RyRohb4v9XsCnslvpxsx34PO3peYbhpkmH2//4hnj52uIgjEbmwhpyIs8jOzsbHx+eG9+Pp6YmnpyeJh/YV+BrO5qZZ3DcvL4+0tDS8vLwwOfMH7kREColhGGRnZ+Pv74+HR+G8HJCTk0Nubq7D53t6elKsmPPVYTdNMhQREblR9J6hiIi4PSVDERFxe0qGIiLi9pQMRUTE7SkZioiI21MyFBERt6dkKCIibk/J0E3k5OQwfvx4mjRpwl133cX48eOxWCxFHZa4McMw6NevH4sXLy7qUESUDN3FW2+9RXx8PHPmzGHWrFl88803TJs2rajDEjeVl5fHuHHjiI+PL+pQRAAlQ7eQlZXFhx9+yPDhwwkLCyM8PJxRo0axbNkyMjMzizo8cTNHjx6lV69ebNiwgYCAgKIORwRQMnQLe/bsIT09nbvuusvaFh4eTnp6Onv27CnCyMQdbd++nZo1a7J69WpKlChR1OGIADfRqhXiuBMnTuDn52fzi6d48eL4+vqSnJxchJGJO+rYsSMdO3Ys6jBEbKgydAMZGRmYzeZL2s1msybRiIigZOgWfHx8Lpv0LBYLvr6+RRCRiIhzUTJ0A8HBwaSnp3P+/Hlr2/nz58nIyKB8+fJFGJmIiHNQMnQDtWrVws/Pj19++cXatnnzZvz8/KhVq1YRRiYi4hyUDN2Aj48P3bp1Y+zYsWzdupUtW7Ywfvx4oqKi8Pb2LurwRESKnGaTuolhw4aRmZlJ//798fT0pGPHjjz//PNFHZaIiFMwGYZhFHUQIiIiRUnDpCIi4vaUDEVExO0pGYqIiNtTMhQREbenZCgiIm5PyVBERNyekqEUmdatWxMaGmrdbr/9dlq1asXkyZNJT0+/rn01btyY1atXAzBixAgGDx6cr/PWrVvH8ePHHe538uTJPPbYY5fdt3r1aho3bpzva4WGhvLtt986HEtBzxdxZXrpXorUCy+8QJcuXYALq58fPnyYYcOGce7cOV5//fUb0ufIkSPJz+u1x44dY9CgQaxZs4ZbbrnlhsQiIs5BlaEUKX9/f4KCgggKCqJ8+fI0bdqUxx9/nC+//PKG9VmiRIl8rbCu71GIuA8lQ3E6np6e1vUXZ8yYQb9+/ejbty8NGzYkNjYWgJiYGFq1akVYWBg9evRg+/bt1vNzc3N54403aNKkCY0bN2bx4sU21//3MOkXX3xBZGQk9evX58EHH2T9+vUA3HvvvcCFxWhnzJgBwI4dO+jevTv16tWjXbt2vPfee+Tl5Vmv9f3339OxY0fq16/Ps88+y19//ZXv+965cye9e/cmLCyMevXq0bVrV3799ddLjunYsSP16tXjiSee4I8//rDuO3/+PKNHjyY8PJzGjRszePBgTpw4ke/+RdyZkqE4jby8PHbu3MnixYtp06aNtT0+Pp5GjRrx0UcfERERwbJly/jggw8YM2YMsbGxRERE0Lt3b44ePQrA7NmziYuLY8qUKfz3v//lq6++4syZM5ft86effuL555+nU6dOrFmzhkceeYTnnnuOgwcPsmLFCgAWLVpEnz59OH36NH379qV58+asWbOGkSNHsnTpUubPnw9AQkICAwcOpF27dsTFxXHHHXewcuXKfN17WloaTz31FLVr1+bjjz/mo48+wt/fnzFjxtgct2jRIp599llWr16N2WzmySeftCbjV155hYSEBObPn8+iRYswmUz069ePnJwc+/6HEHFHhkgRadWqlVGnTh2jQYMGRoMGDYzbb7/dqFOnjhEdHW2cPXvWMAzDeOedd4z69esbubm51vNatmxpfPzxxzbXevLJJ41JkyYZeXl5RrNmzYzFixdb9x0/ftyoXbu2sWrVKsMwDGP48OFGdHS0YRiGER0dbQwcONDmWrNnzzZ27txpHD161KhZs6axb98+wzAMY/r06cYTTzxhc+wnn3xihIeHG4ZhGFOmTDG6dOlis79Pnz5Gr169Lnv/q1atsp6bkpJivPvuu0Z2drZ1/xdffGHUqlXL+nPNmjWNOXPmWH8+ffq0UadOHWPjxo3GkSNHjJo1axrJycnW/VlZWUaDBg2Mb775xnr+xT+LiC1NoJEi9cwzzxAZGQmAl5cXZcuWtQ6RXlShQgU8PC4MYqSlpfHHH38wevRom6rJYrFgNpv5888/SUlJ4fbbb7fuCw4Oply5cpft/9ChQ3Ts2NGmbcCAAQAkJSXZtB88eJDNmzcTFhZmbcvLyyMzM5M///yTAwcOUKdOHZtz6tevz9atW6/5z6FMmTJ069aNJUuWsHfvXhITE9mzZ4/NECxAgwYNrH8uXbo0t912GwcOHMBisQBw33332RyfkZFBQkICrVq1umYMIu5MyVCKVKlSpahcufJVj/nnmosXk8OkSZNsEh5cWLfxIuNfk1+8vLwue20vLy9MJlO+Ys3JyaFdu3Y899xzl+wrUaKEXf3+28mTJ+nSpQvVq1enRYsWdOzYkdOnTzNs2DCb4zw9PW1+zsvLw8vLi9zcXLy8vIiNjb3kfgIDA/MVg4g70zNDuamUKFGCoKAgTpw4QeXKla3b4sWLiY+Pp1SpUgQFBbFz507rOampqVd8V7BKlSr89ttvNm19+/bl/fffvySpVK9encOHD9v0e+jQIWbNmoWHhwehoaE2/QLs3r07X/e1bt06zGYz77//Pn379qVZs2YkJycDtgl237591j+fPHmS48ePExISQrVq1cjOziYjI8MaW1BQEFOmTCExMTFfMYi4MyVDuen069eP2bNn2sJXMQAAAf9JREFU89lnn3H06FFmz57NkiVLqFq1KiaTiSeeeII5c+awfv16Dhw4wEsvvURubu5lr9W7d2/Wr1/P4sWLOXLkCB988AFbtmyhefPm+Pn5AbBnzx7++usvevbsye+//8748eM5fPgwP/74I6+88gq+vr54eHjw6KOP8vvvvzNlyhQSEhJYvHgxGzZsyNc9lSxZkpSUFDZs2EBSUhKrV69mzpw5ANYhUICZM2fy7bffsm/fPoYPH87tt99O48aNqVatGq1bt+bFF19k69atHDp0iOHDh7Njxw6qVatWsH/gIm5Aw6Ry03n88cfJzMzkjTfeICUlhSpVqvDOO+/QsGFD4EJlZ7FYGDNmDJmZmTz22GP8/vvvl71WWFgYkydPZtasWUyePJlq1aoxa9YsqlevDkDXrl0ZNWoU3bt3Z+TIkcyfP58333yTTp06ERgYyAMPPGAdyqxQoQLz589nwoQJLFq0iAYNGtC9e3ebau5K7r//frZt28aIESPIzs6mRo0ajB8/nhdeeIFdu3ZZ761///5MmjSJ48eP07RpUyZNmmS9xuTJk5k4cSLPPvssFouFO+64gwULFuTrnUoRd6eV7kVExO1pmFRERNyekqGIiLg9JUMREXF7SoYiIuL2lAxFRMTtKRmKiIjbUzIUERG3p2QoIiJuT8lQRETc3v8DXKNC40fXR+AAAAAASUVORK5CYII=\n",
=======
      "image/png": "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\n",
>>>>>>> f486769ed335cd4083f01871ede27ba021fcf91b
      "text/plain": [
       "<Figure size 720x432 with 2 Axes>"
      ]
     },
     "metadata": {},
     "output_type": "display_data"
    }
   ],
   "source": [
    "clf = DecisionTreeClassifier()\n",
    "clf.fit(X_train, y_train)\n",
    "print (clf,'\\n\\n')\n",
    "\n",
    "#prediction\n",
    "y_pred = clf.predict(X_test)\n",
    "skplt.metrics.plot_confusion_matrix(y_test, y_pred)\n",
    "print('classification report \\n', classification_report(y_test, y_pred, target_names=classes))\n",
    "print(\"Overall Accuracy : \" , str(accuracy_score(y_test, y_pred)))"
   ]
  },
  {
   "cell_type": "markdown",
   "metadata": {},
   "source": [
    "For decision trees, we can see our performance matrix have reduced to 0.88 as compared to SVM and logistic regression. One problem of decision trees is that it can create over-complex trees that do not generalize the data well for accurate predictions and also small variations in the data might result in a different tree being generated. This also affects the prediction.\n",
    "\n",
    "But from above we can see that the performance metric is quite ok. the predictions are also not far from the other classifiers we saw previously. we have true positives (509) and true negatives (763) have a higher values as compared to False positives (60) and False negatives(111).\n",
    "\n",
    "<h4>4. K Nearest Neighbors </h4>"
   ]
  },
  {
   "cell_type": "code",
<<<<<<< HEAD
   "execution_count": 8,
=======
   "execution_count": 52,
>>>>>>> f486769ed335cd4083f01871ede27ba021fcf91b
   "metadata": {},
   "outputs": [
    {
     "name": "stdout",
     "output_type": "stream",
     "text": [
      "KNeighborsClassifier(algorithm='auto', leaf_size=30, metric='minkowski',\n",
      "                     metric_params=None, n_jobs=None, n_neighbors=3, p=2,\n",
      "                     weights='uniform') \n",
      "\n",
      "\n",
      "classification report \n",
      "               precision    recall  f1-score   support\n",
      "\n",
      "    No Recid       0.86      0.92      0.89       823\n",
      "       Recid       0.88      0.80      0.84       620\n",
      "\n",
      "    accuracy                           0.87      1443\n",
      "   macro avg       0.87      0.86      0.86      1443\n",
      "weighted avg       0.87      0.87      0.87      1443\n",
      "\n",
      "Overall Accuracy :  0.8669438669438669\n"
     ]
    },
    {
     "data": {
      "image/png": "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\n",
      "text/plain": [
       "<Figure size 720x432 with 2 Axes>"
      ]
     },
     "metadata": {},
     "output_type": "display_data"
    }
   ],
   "source": [
    "neigh = KNeighborsClassifier(n_neighbors=3)\n",
    "neigh.fit(X_train, y_train.values.ravel())\n",
    "print (neigh,'\\n\\n')\n",
    "\n",
    "#prediction\n",
    "y_pred = neigh.predict(X_test)\n",
    "skplt.metrics.plot_confusion_matrix(y_test, y_pred)\n",
    "print('classification report \\n', classification_report(y_test, y_pred, target_names=classes))\n",
    "print(\"Overall Accuracy : \" , str(accuracy_score(y_test, y_pred)))"
   ]
  },
  {
   "cell_type": "markdown",
   "metadata": {},
   "source": [
    "From the performance metrics, K nearest neighbours also performs less as compared to Logistic Regression and SVM. \n",
    "using this has increase the number of misclassifications as compared to Decision trees even though the accuracy is almost performance metric is almost same (0.87).\n",
    "we have true positives (493) and true negatives (758) have a higher values as compared to False positives (65) and False negatives(127).\n",
    "\n",
    "<h4>5. Neural Network </h4>\n",
    "In order to train the neural network we will have to split the data training again to get validation set. We then need to convert them into a tensor to be able to train and test with Pytorch."
   ]
  },
  {
   "cell_type": "code",
<<<<<<< HEAD
   "execution_count": 9,
=======
   "execution_count": 53,
>>>>>>> f486769ed335cd4083f01871ede27ba021fcf91b
   "metadata": {},
   "outputs": [
    {
     "name": "stdout",
     "output_type": "stream",
     "text": [
      "Training\t :torch.Size([5193, 10]), torch.Size([5193])\n",
      "Testing\t\t :torch.Size([1443, 10]), torch.Size([1443])\n",
      "Validation\t :torch.Size([578, 10]), torch.Size([578])\n"
     ]
    }
   ],
   "source": [
    "X_train, X_validate, y_train, y_validate = train_test_split(X_train, y_train, test_size=0.1, random_state=RANDOM_SEED)\n",
    "\n",
    "# conversion to tensor\n",
    "X_train = torch.from_numpy(X_train.to_numpy()).float()\n",
    "y_train = torch.squeeze(torch.from_numpy(y_train.to_numpy()).float())\n",
    "X_test = torch.from_numpy(X_test.to_numpy()).float()\n",
    "y_test = torch.squeeze(torch.from_numpy(y_test.to_numpy()).float())\n",
    "X_validate = torch.from_numpy(X_validate.to_numpy()).float()\n",
    "y_validate = torch.squeeze(torch.from_numpy(y_validate.to_numpy()).float())\n",
    "\n",
    "print(\"Training\\t :\"+ str(X_train.shape) +\", \"+ str(y_train.shape))\n",
    "print(\"Testing\\t\\t :\"+ str(X_test.shape) +\", \"+ str(y_test.shape))\n",
    "print(\"Validation\\t :\"+ str(X_validate.shape) +\", \"+ str(y_validate.shape))"
   ]
  },
  {
   "cell_type": "markdown",
   "metadata": {},
   "source": [
    "#### First Model\n",
    "Our first model will use simple architecture of neural network which has 3 convolutional layers. A batch size of 100, learning rate of 0.001"
   ]
  },
  {
   "cell_type": "code",
<<<<<<< HEAD
   "execution_count": 10,
=======
   "execution_count": 54,
>>>>>>> f486769ed335cd4083f01871ede27ba021fcf91b
   "metadata": {
    "scrolled": false
   },
   "outputs": [
    {
     "name": "stdout",
     "output_type": "stream",
     "text": [
      "firstmodel(\n",
      "  (fc1): Linear(in_features=10, out_features=5, bias=True)\n",
      "  (fc2): Linear(in_features=5, out_features=3, bias=True)\n",
      "  (fc3): Linear(in_features=3, out_features=1, bias=True)\n",
      ")\n",
      "\n",
      "\n",
<<<<<<< HEAD
      "epoch {0} \t==> Train : - Loss: 0.672, Acc: 0.62 \t|| Validation : - Loss: 0.672, Acc: 0.595\n",
      "epoch {50} \t==> Train : - Loss: 0.369, Acc: 0.859 \t|| Validation : - Loss: 0.308, Acc: 0.893\n",
      "epoch {100} \t==> Train : - Loss: 0.351, Acc: 0.859 \t|| Validation : - Loss: 0.304, Acc: 0.894\n",
      "epoch {150} \t==> Train : - Loss: 0.343, Acc: 0.87 \t|| Validation : - Loss: 0.303, Acc: 0.898\n",
      "epoch {200} \t==> Train : - Loss: 0.34, Acc: 0.87 \t|| Validation : - Loss: 0.302, Acc: 0.9\n",
      "epoch {250} \t==> Train : - Loss: 0.338, Acc: 0.88 \t|| Validation : - Loss: 0.302, Acc: 0.9\n",
      "epoch {300} \t==> Train : - Loss: 0.34, Acc: 0.88 \t|| Validation : - Loss: 0.303, Acc: 0.9\n",
      "epoch {350} \t==> Train : - Loss: 0.341, Acc: 0.88 \t|| Validation : - Loss: 0.304, Acc: 0.898\n",
=======
      "epoch {0} \t==> Train : - Loss: 0.675, Acc: 0.674 \t|| Validation : - Loss: 0.673, Acc: 0.676\n",
      "epoch {50} \t==> Train : - Loss: 0.34, Acc: 0.891 \t|| Validation : - Loss: 0.305, Acc: 0.9\n",
      "epoch {100} \t==> Train : - Loss: 0.335, Acc: 0.891 \t|| Validation : - Loss: 0.304, Acc: 0.901\n",
      "epoch {150} \t==> Train : - Loss: 0.334, Acc: 0.891 \t|| Validation : - Loss: 0.304, Acc: 0.901\n",
      "epoch {200} \t==> Train : - Loss: 0.333, Acc: 0.891 \t|| Validation : - Loss: 0.304, Acc: 0.901\n",
      "epoch {250} \t==> Train : - Loss: 0.331, Acc: 0.891 \t|| Validation : - Loss: 0.304, Acc: 0.903\n",
      "epoch {300} \t==> Train : - Loss: 0.331, Acc: 0.891 \t|| Validation : - Loss: 0.305, Acc: 0.903\n",
      "epoch {350} \t==> Train : - Loss: 0.33, Acc: 0.891 \t|| Validation : - Loss: 0.304, Acc: 0.903\n",
>>>>>>> f486769ed335cd4083f01871ede27ba021fcf91b
      "\n",
      " classification report \n",
      "               precision    recall  f1-score   support\n",
      "\n",
      "    No Recid       0.89      0.97      0.93       823\n",
      "       Recid       0.95      0.84      0.89       620\n",
      "\n",
      "    accuracy                           0.91      1443\n",
      "   macro avg       0.92      0.90      0.91      1443\n",
      "weighted avg       0.92      0.91      0.91      1443\n",
      "\n",
<<<<<<< HEAD
      "Overall Accuracy :  0.911988911988912\n"
=======
      "Overall Accuracy :  0.9126819126819127\n"
>>>>>>> f486769ed335cd4083f01871ede27ba021fcf91b
     ]
    },
    {
     "data": {
      "text/plain": [
<<<<<<< HEAD
       "<matplotlib.axes._subplots.AxesSubplot at 0xb3368d1e48>"
      ]
     },
     "execution_count": 10,
=======
       "<matplotlib.axes._subplots.AxesSubplot at 0x7f15ea166850>"
      ]
     },
     "execution_count": 54,
>>>>>>> f486769ed335cd4083f01871ede27ba021fcf91b
     "metadata": {},
     "output_type": "execute_result"
    },
    {
     "data": {
<<<<<<< HEAD
      "image/png": "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\n",
=======
      "image/png": "iVBORw0KGgoAAAANSUhEUgAAAdYAAAGSCAYAAABe0+AgAAAABHNCSVQICAgIfAhkiAAAAAlwSFlzAAALEgAACxIB0t1+/AAAADh0RVh0U29mdHdhcmUAbWF0cGxvdGxpYiB2ZXJzaW9uMy4yLjEsIGh0dHA6Ly9tYXRwbG90bGliLm9yZy+j8jraAAAgAElEQVR4nOzdeVyVZf7/8dcBBVQWxQXcF0zQwH0pUxTNPZccLaWxcW1S8adphZnSmKWmpaYWWW65kIa55KilY65Z2fbNUGih3DBEXFgEWc/vD4dTZxCF4+HggfdzHucxc+7rus79OcXw4XPd133dBqPRaERERESswqGkAxARESlNlFhFRESsSIlVRETEipRYRURErEiJVURExIqUWEVERKxIiVVKtR07dtCnTx/8/f3x9fUtlnOMGDGCESNGFMtn27utW7fi6+vL+fPnSzoUEZspV9IBSOmVnJzMunXr+M9//sPZs2fJysrC29ubDh06EBwcTLNmzYr1/LGxsUyfPp127doxduxYypUrnT/uI0aM4Pjx47i7u/P555/j5ORk1p6ZmUnnzp25du0a7du3Z/369UU+x8mTJ/nss8949NFHqVOnjrVCFymVSudvGilxv/zyC+PGjePSpUv07t2bIUOG4OzszOnTp/nkk0/YsmULBw8exNvbu9hiOH78OLm5uTz33HMEBAQU23lWrVpVbJ9dWE5OTiQnJ3PgwAF69epl1nbo0CGuXbuWL+EWxalTp1i+fDnt27cvUmIdOHAg/fr1u6tzi9gbJVaxuuvXrzN+/HjS09P58MMPuf/++83an3nmGVatWkVxb/p1+fJlANzd3Yv1PPdC0qhSpQq1atVix44d+RLrjh07aNWqFRcuXLBZPGlpaVSsWBFHR0ccHR1tdl6Re4GusYrVffjhh5w7d47nn38+X1IFKFeuHP/85z+pWbOm6djFixeZPn06HTt2xN/fn759+7J27dp8yXfEiBEEBgZy/vx5nn76aVq1akX79u0JCwsjIyPD1M/X15dly5YB0LNnT3x9fZk+fToA3bp1M/3vv1q2bFm+67DR0dE8/fTTdOzYkYCAADp37kxISIhZkrrVNVaj0cjatWvp27cv/v7+dOzYkenTp3Px4kWzfnnXII8cOcKyZcsIDAwkICCAYcOGERMTc9t/zv9rwIABHD58mKtXr5qOXbt2jYMHDzJw4MBbjlmzZg1///vfefDBB/H396dHjx4sWbKEzMxMs38uM2fOBODJJ5/E19cXX19ftm7dCsD06dPx9fXljz/+4JlnnqFdu3Y88sgjZt8v7xrr2bNnadWqFaNGjTL7d5uUlERgYCD9+vUz+/coYo9UsYrV7du3DycnJ/r371+o/levXmXYsGFcunSJJ554grp163LgwAHmzZvH2bNnCQsLM+ufkZHBqFGjaN++Pc8//zw//PADmzdvxtPTkylTpgCwYMEC9u3bx759+wgNDaVq1arUq1evSN/jypUrjBw5End3d0aOHEmVKlVISEjg888/548//qBWrVoFjp0zZw4bN27koYceIjg4mLi4ODZs2MBXX33F1q1bqVKliln/xYsX4+DgwOjRo8nIyGD16tVMmDCBvXv3FvracN++fZk7dy67d+/miSeeAGDXrl2mtvDw8HxjVq1aRZcuXXj44YdxcnLi22+/ZcWKFVy4cIEFCxYA0KNHD+Lj49myZQtPP/00jRo1AqB169ZmnzVu3DgaNWrEM888Y5aY/6pevXrMmDGDmTNn8v777zNy5EgAXnrpJa5cucKKFStwdnYu1PcVuVcpsYrVxcbG0rBhw0JPkb733ntcuHCBpUuXmqYxn3jiCSZNmsTGjRt5/PHHzSrJa9euMX78eNMv5eHDh5OcnMzmzZtNiXXgwIGcPXuWffv20b17d+rXr1/k7/Hdd99x7do13nvvPZo3b246PnHixNuO++WXX9i4cSPdunXj7bffxmAwANCmTRsmTpzIu+++S2hoqNkYg8HApk2bTEnUx8eHiRMn8vnnn9OlS5dCxVu5cmW6du3Kjh07TIn1448/JigoCA8Pj1uO2bdvHxUqVDC9Dw4OpmHDhrz11ltMmzYNLy8v/Pz8aNmyJVu2bKFjx4506NDhlp/VqlUr5syZc8c4hw4dysGDB3njjTfo2LEjp06dYs+ePUybNo2mTZsW6ruK3Ms0FSxWl5qaiqura6H7f/bZZ9SvX9/s2qDBYGDMmDEAHDhwwKy/g4MDw4YNMzvWvn17rly5Qmpq6l1Ebi7v2uxnn31WYAV2K3nxjhkzxpRUAR5++GEaNmzIZ599lm/MY489ZlaZtmvXDrg5dVoUAwcO5IcffuD06dOcPn2a//u//ytwGhgwJdWcnBySk5O5cuUKHTp0IDc3l6ioqCKdOzg4uNB958yZg4eHB8888wxz5swxrdwWKQ1UsYrVubq6cv369UL3j4uL46GHHsp3vHHjxgD57oGsWrUqLi4uZsfykmBSUlKRkvrttGvXjn79+hEeHs7atWtp06YNXbp04ZFHHsHT07PAcXnx+vj45Gvz8fHh0KFD+Y7/77RyXoWZlJRUpJi7dOlC5cqV2bFjB0ajkcqVKxMYGFhg/8OHD/P2228TFRVFVlaWWVtKSkqRzl23bt1C9/X09OSll14iJCSEihUr8tprr+HgoL/zpXTQT7JYnY+PD7/99luRqryiuN0v4LtZaZyTk2P23mAwsGjRIrZu3cq4cePIyMhg/vz59OnTh+joaIvPcysFrZwt6vdxcnKid+/efPzxx3z88cf06dOnwCn577//nn/+858AzJw5kxUrVrBmzRrmz58PQG5ubpHO/b9/7NxJ3h8Y6enpRa7MRe5lSqxidQ8//DCZmZn8+9//LlT/OnXq8Ntvv+U7Hhsba2q3Jg8Pj1tWgufOnbtl//vvv5+JEyeyYcMGtm7dSmpqKitXrizw8/PizYv/r2JjY6ldu7aFkRfOoEGDOH/+PHFxcQwaNKjAfnv27KF8+fKsXbuWYcOG0bVrVzp27Ei1atWKNT6A/fv3ExkZyZNPPknDhg2ZPn06ycnJxX5eEVtQYhWre+yxx6hduzYLFiy45S0j2dnZvPvuu8THxwMQFBTEmTNn2Ldvn6mP0Whk9erVwM3bY6ypfv36/N///R83btwwHTt//jz79+8365eUlJSvYvTx8cHZ2fm2U7RBQUHAzVtZ/jr+s88+4/fff7f69/lfrVq1YurUqUybNo2WLVsW2M/R0RGDwWBWmebk5Nxyw4tKlSoBWCX5JSYmMnPmTJo1a8bzzz/PwoULuXz5MrNnz77rzxa5F+gaq1idq6sr4eHhjBs3jiFDhtC7d29atWqFk5MTZ8+e5dNPP+XcuXOmRTXjxo1jz549TJ061XS7zcGDBzl8+DBPPPEETZo0sWp8w4cPZ8+ePYwcOZL+/ftz9epVIiIiaNSoESdPnjT127ZtGxs2bKBHjx7Uq1ePnJwcdu3axfXr1033ad7KfffdxxNPPMHGjRsZO3YsQUFBxMXFsXHjRmrVqsVTTz1l1e9zK3lTvLfTvXt31qxZw8iRIxk4cCA3btxg9+7dt5x+9vf3x2AwsGLFCpKTk3FxcaF58+ZFuq6aZ+bMmaSlpbFw4ULKly+Pv78/EyZM4M0336R79+707du3yJ8pci9RYpVi4evry86dO3n//ffZv38/+/fvJysri5o1a/Lggw+ydOlSvLy8gJu7Bm3atIlFixaxfft2UlNTqVu3LtOnTzfdUmNNHTp04KWXXmLlypXMmzePBg0aMGvWLH799VezxNq+fXuioqL49NNPSUxMpEKFCvj4+LBs2TJ69ux523PMnDmTunXr8uGHHzJ//nzc3Nzo06cPU6dOzXcPa0lp27YtixYtIjw8nNdeew0PDw969+7NY489lu8Ph3r16hEWFsbq1auZNWsWOTk5zJs3r8iJddOmTRw4cICZM2eaFqfBzT8EDh8+zL/+9S/atGlj+tkQsUcGY3HvKyciIlKG6BqriIiIFSmxioiIWJESq4iIiBUpsYqIiFhRmVgVnJuby/Xr1ylfvrzZ3q0iImWV0WgkKyuLSpUq2Ww7yezs7Hw7nBWFo6NjoZ/2VJLu/Qit4Pr16/z8888lHYaIyD2nSZMmuLm5Fft5srOzOXLsOO6VLH8soKOjI/7+/vd8cr23o7OS8uXLAzB+/i4uXU0r4WikrPvhY+0wJCUvKzOT07E/m34/FrecnBzcKzkzYf4uEiz4PVyjSkXent6PnJwcJdZ7Qd7076WracRftt5jxUQs4eSkB3nLvcPWl8cSrqUTf8WCAseOLuOVicQqIiL3CIPBsiSpxCoiInILBoebL0vG2Qn7iVRERMQOqGIVERHb0VSwiIiINVk4FWxHE6xKrCIiYjtloGK1nz8BRERE7IAqVhERsR2DwcJVwfZTsSqxioiI7ZSBqWAlVhERsZ0ycB+rEquIiNhOGahY7edPABERETugilVERGxHU8EiIiJWZMDCqWCrR1JslFhFRMSGtPOSiIiI9ZSBqWD7iVRERMQOqGIVERHbcTDcfFkyzk4osYqIiO2UgalgJVYREbGdMrAq2H7+BBAREbEDqlhFRMR2NBUsIiJiRWVgr2AlVhERsSFtECEiImI9ZaBitZ8/AUREROyAKlYREbEdg8HCxUv2U7EqsYqIiO2UgalgJVYREbEd3W4jIiJiRWWgYrWfPwFERETsgCpWERGxHU0Fi4iIWJFWBYuIiFiThddY7ejxNvZTW4uIiBRSv379aNWqlenVokULfH192bdvHwCnTp1i2LBhtGjRgq5du7Ju3Tqz8Tdu3CAsLIz27dvTunVrpkyZwrVr1wp1biVWERGxnbxrrJa8imDXrl18//33pte0adOoXLkygYGBpKamMnbsWDp16sTx48dZsmQJy5cv55NPPjGNnzt3LlFRUezcuZMDBw6QlpZGaGhooc6txCoiIraTd7uNJa+78MEHHzBkyBCcnZ3Zu3cvDg4OTJgwAWdnZ1q2bMnQoUOJiIgAblar27dvZ/LkyXh5eeHh4UFoaCgHDx7kwoULdzyXrrGKiIjt3OWq4Pj4eBwdHc2a3N3dcXd3L3DoF198wenTpxk2bBgAMTExNGvWDAeHP+Pw9/cnMjISgNOnT5ORkUFAQICp3cfHhwoVKhAdHU2tWrVuG6oSq4iI2M5dbhARHBxMYmKiWVNISAiTJk0qcOgHH3xA586dqVu3LgCpqam4ubmZ9XF3dyc1NdXUDuTr4+bmZmq7HSVWERGxGxEREbesWAty8eJF9u/fz1tvvWU65urqyuXLl836JScn4+rqamoHSElJwdPT09QnJSXF1HY7SqwiImIzNwvWoleseUO8vb1xdnYu9LgPP/wQb29vAgMDTcf8/PzYs2cPubm5pungkydP4ufnB0CDBg1wdnYmKirKNC42Npb09HRTn9vR4iUREbEZg8Fg8auosrOz+fDDD3n88cfNrqf27NmTnJwcwsPDyczM5MSJE0RGRjJ8+HAAXFxcGDRoEEuXLiUhIYGkpCQWLlxIly5dqF279h3Pq8QqIiK2Y7iLVxHt37+fa9euMWTIELPjrq6urFy5ksOHD9O2bVsmTZrExIkT6dOnj6nPjBkzaNq0Kf369SMoKAhnZ2cWLFhQqPNqKlhEREqlXr160atXr1u2NWvWjM2bNxc41sXFhTlz5jBnzpwin1eJVUREbMaAZdO6Bjva0lCJVUREbMbS66WWjCkpSqwiImI7FiZWPd1GRETkFspCxapVwSIiIlakilVERGzHwltn7GjtkhKriIjYTlmYClZiFRERm1FiFRERsaK73SvYHmjxkoiIiBWpYhUREZvRzksiIiLWpFXBIiIi1lMWFi/pGquIiIgVqWIVERGbKQsVqxKriIjYjjbhFxERsSItXhIREbGesjAVrMVLIiIiVqSKVUREbKYsVKxKrCIiYjPaeUlERMSKysIm/EqsIiJiO2VgVbAWL4mIiFiRKlYREbEZLV4SERGxIiVWERERKyoLiVXXWEVERKxIFauIiNhOGVgVrMRahsXsmk39WlXzHT8V+wdthryKo6MDk//ejX8MepB6NT05f/EqyzceZMWHh019O7e5j70rJ+f7jPEvb2Ttti+KNX4pvRa9sZAd27by808xGI1Gmt3vz/QZM+nZq7dZvxXhb/NO+HLOnD6Nh4cH3R/uyavzF+Dl5VVCkcsd6ek21nXo0CEWLVpEbGwsNWrUYMSIEYwaNeqO49577z0iIiK4dOkSjRs35tlnn6VTp042iLh06/T3hTg6/PnDWqmiM19vnkHkp98CMOvpfoz+W0dC5nzAiZ/jeKB5Q5bPGk5mVjZrth0z+6wHhs0nPjHJ9D4p9YZtvoSUSocOfMY/Ro6mTdt2VKxYkTWrVzJ44CPs3X+Ijg89BMBHWyJ5dupkli4Pp1v3hzl//jz/L+Rpxo56kp27Py3hbyAF0c5LVvTjjz8yYcIERo8ezaJFi/jhhx946aWXcHFxYfjw4QWOW7t2LcuWLePll18mICCAjz76iKeffpotW7bg5+dnq/BLpcSrqWbvRwUGUL6cI2v/mzT/3r89S9d/xscHTgBwOu4ybf3rEzq2V77Emng1lYuXU2wTuJR6O/69x+z93PkL2PfpJ+zYvtWUWL849jkBAc0ZNWYsAPUbNGDM2H8yZ3aYzeOVwtPiJStau3YtAQEBTJs2DR8fHwYPHszf//533nvvvQLHGI1GVq1axciRIxk0aBA+Pj48//zz+Pr6snbtWluFXmaMGdKJ3Yd/JD4xGQBnp/LcyMgy65OekUX9WlWpV7OK2fH9a57hzP55HFg7lSf6d7BZzFI25ObmkpySTKVKlUzHOj7UiZiYaA4fOojRaCQ+Pp5tW7fQu0+/EoxU7iXHjx8nODiYVq1a0b59e8aPH29qO3bsGAMGDKBFixb06tWL3bt3m429evUqU6ZMoXXr1rRv356wsDAyMzMLdV6bJdbvvvsu3/RtYGAgcXFxxMfH33LM+fPnSUhIoHPnzmbHO3fuzLfffltssZZFrZvVo02zeqz86HPTsb2fn2LC8K7c37gWAO386/PkwAcBqFm9MgDxiUlMnruZvz+/mkcnhfPp56d4a+Ywwibol5tYz4L5c0m6do3RY58yHRv8tyEsWrKMQf374l7RiYZ1a+Lm5sY7760qwUjlTvIqVkteRfH1118zfvx4hg0bxhdffMHRo0dNifX8+fOMHz+eESNG8PXXXzN9+nReeOEFfvjhB9P4Z599lrS0NA4cOMDOnTuJiopi/vz5hTq3zRLrpUuXqF69utmxatWqAZCQkFDgmL/2y1O9enVTm1jHmL89xO/nE/nPF9GmY88u3MJ3p87y1abppHz9JhsXjOH97TcXJOXm5gLwy5kE3o08wjcnz/DdqbPMf+8TXl+zj0lPdKNcOd3NJXdvRfjbLJg/l4jNW6hTp47p+NGjR3hp1gzmzl/Isa++ZfvO3Zw5c5p/jh1dgtHKHRnu4lUEb7zxBo899hgDBgzAxcUFJycnmjdvDsC2bdto0qQJQ4cOxcnJiaCgIIKCgti0aRNwM/EePXqU0NBQPDw88PLyYvLkyWzdupWMjIw7nlurggW3Si481rstr638xOz41eQ0/h66mvLlHKnh6caFS0mMG3Jz1uH3uMsFft6XP/zOi/90pnoVN/64lFRgP5E7WbzodV6Z/RJbtn1Mt+4Pm7X9a9aLDBw0mKcnTAQgoHlzKrm60iMokFkvzcanceOSCFnu4G6fbhMfH4+jo6NZm7u7O+7u7qb3aWlp/PDDD7Rq1YrBgwcTFxdHgwYNmDJlCg8++CAxMTH4+/ubfYa/vz+7du0CICYmhgoVKuDj42NqDwgIID09nd9///2O63tsllhvVWUmJiYCUKNGjQLH5PVr2LCh2bj/rX7FcsP7tsOpvCPrdnx5y/as7BziEq4B8FjvNhz59pd8C5/+qmXTuqSlZ962j8idvPyvMJa9uZjtO3fTObBLvva069dxcDCfFXF0uPkL12g02iRGKbq7XbwUHBxsyh15QkJCmDRpkul9cnIyubm57Ny5k3fffZf77ruPbdu28fTTT/Pvf/+b1NRUGv/PH17u7u6kpt78nZWamoqbm5tZe977vD63Y7PE2rp1a44ePUpISIjp2JEjR6hduzbe3t63HFOnTh1q1KjB0aNHadeundm4Nm3aFHvMZcWYIQ+x88AJEq6Yr+pt06we9WtV5fuYc9TwdGPyiG40961D99GLTX0mPRHEufirnIr9A6PRSI+OTXlhbG9WfHiYrOwcW38VKSWenTqFVe+t4P0NH3BfE1/TOowKFSrg4eEBQP+Bg1j42jzatmtPp86BnI87z/NTpxAQ0JxGf6k0pHSJiIi4ZcX6V3mL3P72t7/RrFkzAB577DHef/99jhw5gqurKykp5r/vkpOTcXV1BcDV1TVfAs3rn9fndmyWWP/xj38wfPhwFi9ezIABAzhx4gQbNmzghRdeMPU5ceIEzz//PAsWLKB58+YYDAbGjBnD4sWLadSoEf7+/mzbto2YmBheeeUVW4VeqrUPaEDzJnUIfWNrvjZnp3LM+GcfGtWpRmZWDke/+5WgkYs4+esFU59yjg7MDulPHa8qZGXnEHvuEs8u3MLa7docQiz31rI3AXh8yKNmx/8+4h+8t3otAM9Pn4GjoyMLXpvLpIlPU7lKFbp0CeLlV+flq2Tl3nFzKtiycQDe3t44Ozvftq+bmxt169a9xWfc/BA/Pz+OHDli1nby5EnTFK+fnx9paWnExsaapoOjoqJwcXExmz0tiM0Sa/PmzXnrrbdYtGgRq1atonr16jzzzDNm97DmzV+np6ebjo0cOZLMzEwWL15MYmIiPj4+hIeH6x5WKzn+42kqtAq5Zdux//uNtkPn3nb84nX7Wbxuf3GEJmVYetadp3IdHR15fvoMnp8+wwYRibXY6j7WJ554glWrVtG3b18aN27M9u3biYuLIzAwEKPRyMqVK/noo48YMGAAx44d48CBA7z//vvAzdnSTp06sXDhQl577TUyMjJYunQpgwcPvmNSBzAYy8DFiIyMDKKiohgSGkn8ZV33k5J19evlJR2CCJmZGfwSHYW/v3+hksXdyvs9PGnnZRLTcos8vlpFB5b1r1roeI1GI2+99RabNm0iLS2N++67j2nTptG+fXvg5n2s8+bN48yZM3h7ezNlyhT69u1rGn/lyhVmz57NkSNHcHR0pE+fPrz44ouFOrdWBYuISKljMBgICQkxW9fzVx07dmTnzp0Fjvf09OTNN9+06NxKrCIiYjNlYUtDJVYREbGZu128ZA+UWEVExGYcHAw4OBQ9S1oypqQosYqIiM2UhYpVN3uJiIhYkSpWERGxGS1eEhERsaKyMBWsxCoiIjZkWcVa5OfGlSAlVhERsZmyMBWsxUsiIiJWpIpVRERsRtdYRURErOhmYrVkKrgYgikmSqwiImIzZaFi1TVWERERK1LFKiIiNnNzVbBl4+yFEquIiNhMWZgKVmIVERGbUcUqIiJiZXaUIy2ixUsiIiJWpIpVRERsRlPBIiIiVqTFSyIiIlakilVERMSKykLFqsVLIiIiVqSKVUREbEZTwSIiIlZUFqaClVhFRMRmykLFqmusIiIiVqSKVUREbMiyihXsp2JVYhUREZvRNVYREREruplYi54llVhFRERuoSxUrFq8JCIiYkVKrCIiYjM3b7ex7FUUy5Yto2nTprRq1cr0mjp1qqn91KlTDBs2jBYtWtC1a1fWrVtnNv7GjRuEhYXRvn17WrduzZQpU7h27Vqhzq2pYBERsRlbTgW3bduW9evX5zuemprK2LFjCQ4O5v333yc6OpqnnnqKGjVq0Lt3bwDmzp1LVFQUO3fuxMXFheeee47Q0FBWrFhxx/OqYhUREZtxMBgsflnL3r17cXBwYMKECTg7O9OyZUuGDh1KREQEcLNa3b59O5MnT8bLywsPDw9CQ0M5ePAgFy5cuOPnq2IVERHbsbBizbuNNT4+HkdHR7Mmd3d33N3d8w2JiorigQceoEKFCqbp3Lp16xITE0OzZs1wcPiztvT39ycyMhKA06dPk5GRQUBAgKndx8eHChUqEB0dTa1atW4bqhKriIjYjeDgYBITE82OhYSEMGnSJLNjvXr1YvDgwdSqVYuEhATeeOMNRo0axY4dO0hNTcXNzc2sv7u7O6mpqQCm//7fPm5ubqa221FiFRERmzFYuPNS3pCIiIhbVqz/q0mTJqb/7eXlxauvvkrbtm35/vvvcXV15fLly2b9k5OTcXV1BTD9d0pKCp6enqY+KSkpprbbUWIVERGbcTDcfFkyDsDb2xtnZ+cij89bWWw0GvHz82PPnj3k5uaapoNPnjyJn58fAA0aNMDZ2ZmoqCgCAwMBiI2NJT093dTntrEWOToREREL2ep2m927d3PlyhUALl++zKxZs/D09KRVq1b07NmTnJwcwsPDyczM5MSJE0RGRjJ8+HAAXFxcGDRoEEuXLiUhIYGkpCQWLlxIly5dqF279h3PXWDFOnr06EJ/gdWrVxe6r4iISHH7+OOPefnll0lPT8fd3Z127dqxZs0a01TuypUrmT17NitWrKBKlSpMnDiRPn36mMbPmDGDV199lX79+pGTk0Pnzp2ZPXt2oc5dYGL18vK6y68lIiJizlb3sb7zzju3bW/WrBmbN28usN3FxYU5c+YwZ86cop2Y2yTWefPmFfnDREREbseAwaIHwNnRVsFFu8aakpJCVFQUmZmZxRWPiIiUYgbDnwuYivIqdZvwp6enExoaSrt27Rg6dCgXL14EICwsjLfffrtYAxQRkdLDVouXSlKhEuubb75JTEwMGzZswMXFxXQ8MDCQffv2FVtwIiIi9qZQ97Hu3buXBQsW0LZtW7PjPj4+nDt3rlgCExGR0qcsPI+1UIk1MTGRmjVr5juenZ1NTk6O1YMSEZHS6eaG+paMs34sxaVQU8GNGjXiu+++y3d8//79+Pr6Wj0oEREpnQz8WbUW6VXSgRdBoSrWcePG8fLLL5OWlgbAV199xQcffMD69etZsmRJsQYoIiJiTwqVWPv1680vIz0AACAASURBVEdGRgbLly8nPT2dmTNnUrNmTV555RW6d+9e3DGKiEgpcbMCLXr9aTAYiyGa4lHoTfgHDx7M4MGDuXLlCkajkapVqxZnXCIiUgpp8dL/OHfuHL/++isAjRs3pm7dusUSlIiIlE4GgwEHiypWAPuoWguVWJOSkpg5c6bZPasGg4Hu3bvz6quv4uHhUWwBiohI6WHAsoVIdlSwFm5VcFhYGD///DOrVq3i+++/5/vvv2flypX88ssvhIWFFXeMIiIidqNQFeuhQ4d47733aNeunenYQw89xCuvvMJTTz1VbMGJiEjpYun2hKVuKtjd3Z0qVarkO165cmUqVapk9aBERKR0yttU35Jx9qJQU8GjR49m0aJFXL9+3XTs+vXrvPnmm4wZM6bYghMRkdKlLGzCX2DFOnr0aLP3P/zwA507d6Zx48YAxMbGApCWlsaoUaOKMUQRESktyvTtNl5eXmbve/bsafbex8eneCISERGxYwUm1nnz5tkyDhERKRPsa1rXEkXaIEJERORulIXFS4VOrNu2bePf//43cXFxZGVlmbXt37/f6oGJiEjpc3e329iHQq0KXrNmDXPmzKFRo0bExcXRpUsX6tevT1JSEgMHDizuGEVEROxGoSrWzZs3M3v2bPr378+WLVsYNWoUdevWZcmSJSQlJRV3jCIiUkpoS8P/+uOPP2jdujUAzs7OpvtZBw0axK5du4ovOhERKVUc/rsJvyUve1GoxOrp6UlKSgoA3t7eREdHA3Dx4kWys7OLLzoRESlV8u5jteRlLwo1Fdy2bVuOHDmCn58fffv2Ze7cuRw5coTjx4/TuXPn4o5RRERKCwsfdE5pe9D5rFmzyMzMBGDcuHE4ODjwzTff0L9/fyZOnFisAYqIiNiTQm/Cn8dgMDB27FjGjh1bbEGJiEjpVKa3NBQREbE2Sxci2dPipQIT6/3331/oefCoqCirBSQiIqWXAQsrVqtHUnwKTKxz5swpdfs5HvxgJuXKO5V0GFLG9Vx6tKRDEKGKs4GwB1xsfl7Ld16yn3xUYGIdPHiwLeMQEREpFQp1H6uIiIg1ONzFy1ITJ07E19eXr776ynTs2LFjDBgwgBYtWtCrVy92795tNubq1atMmTKF1q1b0759e8LCwkx3xxTmO4qIiNjGf6eCi/qydFnw9u3buXHjhtmx8+fPM378eEaMGMHXX3/N9OnTeeGFF/jhhx9MfZ599lnS0tI4cOAAO3fuJCoqivnz5xfqnEqsIiJiM3mPjbPkVVTx8fEsWbKEOXPmmB3ftm0bTZo0YejQoTg5OREUFERQUBCbNm0Cbibeo0ePEhoaioeHB15eXkyePJmtW7eSkZFxx/PqdhsREbEb8fHxODo6mh1zd3c3228BwGg0MmPGDMaPH0+tWrXM2mJiYvD39zc75u/vb9r7PiYmhgoVKuDj42NqDwgIID09nd9//x0/P7/bxqjEKiIiNnO3DzoPDg4mMTHRrC0kJIRJkyaZHYuIiMBoNPL444/n+6zU1FQaN25sdszd3Z3U1FRTu5ubm1l73vu8PrdT6MT65ZdfsmHDBs6cOcN7772Ht7c3kZGR1KtXjw4dOhT2Y0REpAy729ttIiIiblmx/tXZs2cJDw9n8+bNt/wsV1dX04Nl8iQnJ+Pq6mpq/98Emtc/r8/tFCqx7tu3j6lTp9K/f39Onz5NVlYWABkZGaxcuVKJVURECuVuK1Zvb2+cnZ1v2/ebb77h2rVr+W4bnTBhAo888gh+fn4cOXLErO3kyZOmKV4/Pz/S0tKIjY01TQdHRUXh4uJCw4YN7xxrYb5QeHg4YWFhzJ07l3Ll/szFrVq1Mj1CTkRE5I4sfWRcEZJxnz59+M9//sOOHTtML4BXXnmFqVOnMmjQIH766Sc++ugjsrKyOHToEAcOHGDYsGEA1KlTh06dOrFw4UKSkpJISEhg6dKlDB48+I5JHQpZsf722288+OCD+Y67u7uTlJRU+G8rIiJSzCpUqECFChXyHff09MTDwwMPDw/Cw8OZN28es2fPxtvbm7lz59KiRQtT34ULFzJ79myCgoJwdHSkT58+TJ8+vVDnL/TTbS5dukSdOnXMjv/00094eXkV6kQiIiIOWLgJ/13uFvzTTz+Zve/YsSM7d+4ssL+npydvvvmmRecq1FRwz549Wbx4sdnF3F9//ZXXX3+dvn37WnRiEREpe0pi5yVbK1SsU6dOxWg08tBDD3Hjxg2GDBlC//79qV27NiEhIcUdo4iIlBKWXF+9i42XSkShpoIrVqzI+vXr+eqrr4iKiiI3Nxd/f/9bXncVEREpSJl+HuutdOjQQbfWiIiI3EahEuvy5ctv267pYBERKRRLp3Xtp2AtXGL9+OOPzd5nZ2dz8eJFnJycqFGjhhKriIgUyt1uEGEPCpVY9+7dm+/Y5cuXCQ0NNd1QKyIicidl4RqrxSuYq1atypQpU1i4cKE14xEREbFrd/V0m3LlypGQkGCtWEREpJSz9NYZOypYC5dYv/vuO7P3RqORhIQEVq5cme+ZdiIiIgXRNdb/Cg4OxmAwYDQazY63bt2aV155pVgCExGR0slgT0t8LVCoxLp//36z9w4ODnh6ehZql38REZE8DlhYsVo9kuJzx1izsrJ44403yMnJoXbt2tSuXZuaNWsqqYqIiNzCHRNr+fLlOXz4sEVPfBcREfmrvGuslrzsRaGq6y5dunD48OHijkVEREo5g8Fg8cteFOoaa8uWLVm2bBkxMTEEBATke4Bs//79iyU4EREpXRwMll0vtaeK9baJtXv37mzZsoVXX30VgMjISCIjI836GAwGJVYRESkcg4Xb/paWxBoXF0dubi4xMTG2ikdERMSu3dXOSyIiIkXhYDDgYEH5aU97Bd8xsV66dIns7Ozb9vHy8rJaQCIiUnqV+WusAI8++miBbUajEYPBQHR0tFWDEhGR0slg4TVWOypY75xYly5dioeHhy1iERERsXt3TKytW7ematWqtohFRERKOQcsvMZqR8uCb5tY7emGXBERsQ+lPbXcNrH+79NsRERE7obFi5esHknxuW1i1f2rIiJiTRbfbmNHU8H29EeAiIjIPU8bRIiIiM1YfLuN1SMpPkqsIiJiM2VhKliJVUREbMfSTfjtiBKriIjYjAOlf1WwPcUqIiJyz1PFKiIiNmMwGDBYMBlsyZiSoopVRERsxnAXr6J4++23efjhh2nTpg0dOnRgzJgxZg+MOXXqFMOGDaNFixZ07dqVdevWmY2/ceMGYWFhtG/fntatWzNlyhSuXbtWqHMrsYqIiM04GAwWv4qiT58+fPTRR3z77bccOXKEhx56iHHjxpGbm0tqaipjx46lU6dOHD9+nCVLlrB8+XI++eQT0/i5c+cSFRXFzp07OXDgAGlpaYSGhhbuOxYpUhERETvQsGFDsyezOTg4cOnSJVJSUti7dy8ODg5MmDABZ2dnWrZsydChQ4mIiABuVqvbt29n8uTJeHl54eHhQWhoKAcPHuTChQt3PLeusYqIiM1YMq2bNw4gPj4eR0dHszZ3d3fc3d3zjTl48CDPPvssKSkpGAwGRo0ahYeHBzExMTRr1gwHhz9rS39/fyIjIwE4ffo0GRkZBAQEmNp9fHyoUKEC0dHR1KpV67axKrGKiIhNWfR0m/8+EyY4OJjExESzppCQECZNmpRvSNeuXfnmm2+4du0a27dvp2bNmgCkpqbi5uZm1tfd3Z3U1FRTO5Cvj5ubm6ntdpRYRUTEZgwGyx5JagAwQkRExC0r1tupXLkyTz75JO3ataNRo0a4urpy+fJlsz7Jycm4uroCmP47JSUFT09PU5+UlBRT2+0osYqIiM3c7QYR3t7eODs7F3l8bm4u2dnZnDlzBj8/P/bs2UNubq5pOvjkyZP4+fkB0KBBA5ydnYmKiiIwMBCA2NhY0tPTTX0KE6uIiEipsW7dOi5dugTAlStXmD17Nk5OTrRs2ZKePXuSk5NDeHg4mZmZnDhxgsjISIYPHw6Ai4sLgwYNYunSpSQkJJCUlMTChQvp0qULtWvXvuO5lVhFRMRmDAaDxa+i+PLLLxk0aBAtW7ZkwIABJCYmsnbtWqpVq4arqysrV67k8OHDtG3blkmTJjFx4kT69OljGj9jxgyaNm1Kv379CAoKwtnZmQULFhTuOxqNRmORorVDGRkZREVFUa2eL+XKO5V0OFLGDV99vKRDEKGKs4GwB1zw9/e3aGq1qPJ+D591qE62oehXIcsZs6mXe8lm8d4NXWMVERGbsaT6BG1pKCIiUmapYhUREZsxYFlFZz/1qhKriIjYUFmYClZiFRERm7nbLQ3tgRKriIjYzM2dlywYZ/1Qio0WL4mIiFiRKlYREbEZBwwYLag/HeyoZlViFRERmykLU8FKrCIiYjOG//7HknH2QolVRERs6m6ex2oPtHhJRETEilSxioiIzThYeCerFi+JiIjcgsWLl+wnryqxioiI7ZSFxKprrCIiIlakilVERGxGt9uIiIhYkYOFu/A72E9eVWIVERHbsqfq0xJKrCIiYjMGCytWLV4SEREpo1SxioiIzRgs3CDCnqaPlVjFTNr16yxZOJd/b9/Cxfg/aNCoMc+EzuSRgYNNfd5f+Q5rV4Zz7uwZ3N09CAx6mBdnz6V6Da8SjFzs2agH6zHqwXr5jg9f/Q1x127Q934vejarTqNqlXByNHDu6g0+/DaOfTGXTH07+XgyoLk399VwpZKTI38k3WDnjxfZ8v0FW34VuQMHAxhL+VSwTRPr119/zerVq4mJieHChQtMnjyZCRMm3HZMVlYWixcv5uOPPyY5OZn777+fF198EX9/fxtFXbY8P2UC33/zFfMXv0W9Bg35bN8nhIwdgZubG1269eDf2z/ipRemMfeNZXTu2o0/4uJ4YWoIU8aPZuNHu0o6fLFjfyTdYPwHP5gdu5aeBUDreh58/usV3jl8muQb2XRuXJUZvZuQk2vks58TAWhZx4OoCym8/+U5rqRl0qK2B1O7++BUzkDE13E2/z5ya6pYrSwtLY3GjRvTv39/5s6dW6gxCxYs4OOPP2bu3LnUrVuXlStXMmrUKHbv3k316tWLOeKy5caNG/x7+xbefGcNgUEPAzD6qYkcPfgZS994jS7devD1V8doen8AwU+OBqBuvQY8MWosb8x9uSRDl1Igx2jkSlrWLdte2fOz2fvN38bRso47Qb7VTIl1+aHfzfr8kZRAEy9XgppUV2K9h2jxkpV16dKFadOm0bdvX5ycnO7YPzU1lU2bNjF16lS6d+9OkyZNmDdvHk5OTmzatMkGEZct2VlZ5OTk4OzibHbcxaUC33/zFVlZWbR74CF++TmGY0cPYTQaSbgYz64d2+jWs08JRS2lRXVXZ7aMa8eWce1Y8Ggz/Gu63ba/q3M50rNy79jnRlaONcMUuaN7+hprVFQUmZmZdO7c2XTM0dGRjh078u2335ZgZKWTq5sb7Tp0ZNkbr3F/QAtq16nHwf17+XTPTjIzM7lyOZFHBg4mJTmJJx8bSHZWFtnZ2XTv2YfXl60o6fDFjkXHpzD/0585fTmdSs6ODGjuzbLHm/Pc1pN8c/Zavv49mlanWU03lh38rcDPbFnHg4d9qzFzZ0xxhi5FZGnhaUcF6719u82lSzcXJlSrVs3seLVq1UxtYl1LV6zB3cODji39aFjDlVfCpjN8xCgAHBwc+OrYUV6bE8bM2fPYfeBL1n24g/NnzzAt5KkSjlzs2Ze/X2X/T4nEJl7nRFwyr+z5mRNxyQxvWztf304+njzfozGv7f2FnxOu3/LzmtV049UBTVnzxVmO/XaluMOXIjAYDDhY8DLY0VzwPV2xiu3VqVefD7btIT0tjaSka3jXrMUrYS/g5uZO1WrVeXpkMH0eGcjIceMBaOYfQKVKrvytX3emvTCLho0al/A3kNLi5B/JdLnP/I/qbr7VeKFXExbu+4W90bf+47plHQ/mD2rKhuPn2XD8vC1ClSKwn/RouXu6Ys1bnJSYmGh2/PLly1q4VMwqVKyId81aZGZmsvvjrfTqNwAHBwfS0q7j4GD+Y+Po6AiA0WgsiVCllGpSw5WElAzT+0cCvHihVxPmffJzgUn1gYZVWPBoM9Z8cU5JVUrMPZ1Y/f39cXJy4ujRo6Zjubm5HDt2jDZt2pRgZKXX4QP/Yf+nuzlz+je++Pwwwx/ty40bNwiddXPVb69+A9gcsY7ID9Zz9szvfHXsKLNCn6Hp/QE0aOhTwtGLvZrYpSGt63pQ08OZxtUr8Uy3RrStX5nI727egzq0dS2mdm/MsgO/8X/nk/CsWB7PiuVxc/lz0q3rfVV5dUBTNn0bx77oBFMfjwqamLvnGCx42RGb/sRdv36ds2fPApCZmUliYiLR0dFUrFiR+vXrs2/fPt544w3ef/99vLy8cHV1ZdiwYSxatIjq1atTp04dVq1aRUZGBo8//rgtQy8zUlJSmDf7RS6cP0fFSq506daDN8NXUbPWzWtdk6aG4ujgyLJFrzF9agiVK1fhwU5deCFsTr5KVqSwqlZyYkbvJlSuUJ7rmdnEXkpj6pYovjuXBMCQVrUo52Dg2R6NebbHn5cbvj+XxOTIHwF4tGUtyjs6MPKBeox84M/NJv5IusHjq76x7ReSAll6H6s9ZVeD0Ybzd1999RVPPvlkvuPt27dn/fr1bN26lRdeeIH9+/dTp04d4M8NInbs2GG2QURAQEChz5uRkUFUVBTV6vlSrvydb/MRKU7DVx8v6RBEqOJsIOwBF/z9/XF2dr7zgLuU93s4x70+OJYv+gfkZOGYfKbQ8S5cuJCDBw/yxx9/ULFiRQIDA3nuueeoUqWKqc+pU6d4+eWXiY6OpkqVKowePdosR924cYO5c+fyySefkJ2dTWBgIP/617+oXLnybc9t08RaUpRY5V6ixCr3gpJKrLl3kVgdipBYFy1aRO/evbnvvvtITk7mueeew8nJiXfeeQe4uU9Cz549CQ4OZty4cURHR/PUU0/x8ssv07t3bwDCwsKIiooiPDwcFxcXnnvuOQwGAytW3P72Qs3diYhIqTN16lSaNWtG+fLlqVq1KiNGjOD48T//qN27dy8ODg5MmDABZ2dnWrZsydChQ4mIiABuVqvbt29n8uTJeHl54eHhQWhoKAcPHuTChdvvP62r+iIiYjt3eYk1Pj7edCdCHnd3d9zd3W87/IsvvsDPz8/0PiYmhmbNmpmtDfH39ycyMhKA06dPk5GRYXbZ0cfHhwoVKhAdHU2tWrUKPJcSq4iI2MzdLl4KDg7OdwtmSEgIkyZNKnDk7t27iYyMZMOGDaZjqampuLmZb5vp7u5OamqqqR3I18fNzc3UVhAlVhERsRlLN+HPGxMREXHLirUgu3bt4l//+hfh4eHcf//9puOurq5cvnzZrG9ycjKurq6mdrh5p4Snp6epT0pKiqmtIEqsIiJiU5bk1bxVtt7e3oVebBUZGcnChQt555138u194Ofnx549e8jNzTVNB588edI0XdygQQOcnZ2JiooiMDAQgNjYWNLT082mlG9Fi5dERKTUWbduHa+//jqrVq265YZCPXv2JCcnh/DwcDIzMzlx4gSRkZEMHz4cABcXFwYNGsTSpUtJSEggKSmJhQsX0qVLF2rXzr+H9V8psYqIiO1YsuuSBdPHr776KqmpqTz55JO0atXK9Mpb0evq6srKlSs5fPgwbdu2ZdKkSUycOJE+ff58BOaMGTNo2rQp/fr1IygoCGdnZxYsWHDHc2sqWEREbMbw3/9YMrIomy789NNPd+zTrFkzNm/eXGC7i4sLc+bMYc6cOUU4sxKriIjYkMHw3wVMRR5IkRJrSdJUsIiIiBWpYhUREZuxw4fVFJkSq4iI2E7pf7iNEquIiNjO3SxeshdKrCIiYjN3s3jJXmjxkoiIiBWpYhUREZvR4iURERFrK+WZVYlVRERsypLFS/ayOQQosYqIiA1ZunjJogVPJUSLl0RERKxIFauIiNhMGdgfQolVRERsqAxkViVWERGxGUt3XrJst6aSoWusIiIiVqSKVUREbKYsrApWYhUREZspA5dYlVhFRMSGykBmVWIVERGb0eIlERERKRJVrCIiYjNavCQiImJldpQjLaLEKiIitqPFSyIiItajxUsiIiJSJKpYRUTEZrR4SURExIrKwCVWJVYREbExe8qSFtA1VhEREStSxSoiIjZTFlYFK7GKiIjNaPGSiIiIFZWFxUu6xioiIjaTV7Fa8iqKXbt2ERwcTOvWrfH19c3XfurUKYYNG0aLFi3o2rUr69atM2u/ceMGYWFhtG/fntatWzNlyhSuXbtWqHMrsYqISKnj7u5OcHAwM2bMyNeWmprK2LFj6dSpE8ePH2fJkiUsX76cTz75xNRn7ty5REVFsXPnTg4cOEBaWhqhoaGFOrcSq4iI2JDhLl6F17lzZx555BHq1q2br23v3r04ODgwYcIEnJ2dadmyJUOHDiUiIgK4Wa1u376dyZMn4+XlhYeHB6GhoRw8eJALFy7c8dy6xioiIrZj4eKlvLwaHx+Po6OjWZO7uzvu7u6F/qiYmBiaNWuGg8OftaW/vz+RkZEAnD59moyMDAICAkztPj4+VKhQgejoaGrVqnXbz1diFRERm7nbxUvBwcEkJiaatYWEhDBp0qRCf1Zqaipubm5mx9zd3UlNTTW1A/n6uLm5mdpuR4lVRERs5m5vt4mIiLhlxVoUrq6uXL582exYcnIyrq6upnaAlJQUPD09TX1SUlJMbbejxCoiInbD29sbZ2fnu/oMPz8/9uzZQ25urmk6+OTJk/j5+QHQoEEDnJ2diYqKIjAwEIDY2FjS09NNfW5Hi5dERMRmDHfxn6LIyckhIyODrKwsADIyMsjIyCA3N5eePXuSk5NDeHg4mZmZnDhxgsjISIYPHw6Ai4sLgwYNYunSpSQkJJCUlMTChQvp0qULtWvXvuO5lVhFRMR2bLMomB07dtC8eXPGjBkDQPPmzWnevDlff/01rq6urFy5ksOHD9O2bVsmTZrExIkT6dOnj2n8jBkzaNq0Kf369SMoKAhnZ2cWLFhQuK9oNBqNRQvX/mRkZBAVFUW1er6UK+9U0uFIGTd89fGSDkGEKs4Gwh5wwd/f/66nVgsj7/ewdwM/i34PZ2dlEn86xmbx3g1VrCIiIlakxUsiImIz2oRfRETEivTYOBEREWsqA4+3UWIVERGbKQN5VYuXRERErEkVq4iI2JQ9LUSyhBKriIjYzM2pYEsWL9kPJVYREbGZsnC7ja6xioiIWJESq4iIiBVpKlhERGymLEwFK7GKiIjNaOclERERKyoLFauusYqIiFiRKlYREbGZsrCloRKriIjYThnIrEqsIiJiM1q8JCIiYk0WLl6yo7yqxUsiIiLWpIpVRERspgxcYlViFRERGyoDmVWJVUREbEaLl0oJo9EIQE52VglHIgJVnO3nF4SUXh7//TnM+/1oK9lZlv0etnRcSSgTiTXrv/9Crl74rYQjEYGwB1xKOgQRk6ysLFxciv9n0tHREUdHR07H/nTXn3GvMxht/edKCcjNzeX69euUL18egz1tOCkiUkyMRiNZWVlUqlQJBwfb3CCSnZ1NTk6OxeMdHR0pV+7erwfLRGIVERGxFd3HKiIiYkVKrCIiIlakxCoiImJFSqwiIiJWpMQqIiJiRUqsIiIiVqTEKiIiYkVKrCIiIlakxCoAHDp0iIEDB+Lv70+3bt1Ys2ZNoca99957BAUF4e/vz6BBgzh69GgxRyql2ddff8348eMJCgrC19eXt99++45jsrKyWLBgAZ06daJ58+YMHz6cqKgoG0QrcmtKrMKPP/7IhAkTCAwMZMeOHYSEhLBo0SI++OCD245bu3Yty5YtY/LkyezYsYOOHTvy9NNPExMTY6PIpbRJS0ujcePGPPfcc1SvXr1QYxYsWMBHH33E7Nmz2bJlC3Xr1mXUqFFcunSpmKMVuTVtaShMmzaNuLg4Nm3aZDr22muv8emnn/LZZ5/dcozRaCQwMJBHH32UqVOnmo7/7W9/47777mP+/PnFHreUbt26dWPIkCFMmDChwD6pqak8+OCDzJw5k8cffxyAnJwcAgMDGTZsGJMmTbJVuCImqliF7777jk6dOpkdCwwMJC4ujvj4+FuOOX/+PAkJCXTu3NnseOfOnfn222+LLVaRv4qKiiIzM9Ps59DR0ZGOHTvq51BKjBKrcOnSpXzTbtWqVQMgISGhwDF/7ZenevXqmoITmyno57BatWr6OZQSo8QqIiJiRUqscssqMzExEYAaNWoUOOav/f46rrCLTkTuVkE/h5cvX9bPoZQYJVahdevW+W6TOXLkCLVr18bb2/uWY+rUqUONGjVuOa5NmzbFFqvIX/n7++Pk5GT2c5ibm8uxY8f0cyglRolV+Mc//sGPP/7I4sWLiY2NZdu2bWzYsIFx48aZ+pw4cYLevXtz4sQJAAwGA2PGjGHt2rXs2LGD2NhYXn/9dWJiYhg5cmQJfROxd9evXyc6Opro6GgyMzNJTEwkOjqaM2fOALBv3z569+7NxYsXAXB1dWXYsGEsWrSIAwcO8MsvvzBjxgwyMjJMq4RFbK1cSQcgJa958+a89dZbLFq0iFWrVlG9enWeeeYZhg8fbuqTnp7O77//Tnp6uunYyJEjyczMZPHixSQmJuLj40N4eDh+fn4l8TWkFIiKiuLJJ580vd+4cSMbN26kffv2rF+/npSUFH7//XeysrJMfZ5//nnKly/PzJkzSU5O5v7772f16tUFXsYQKW66j1VERMSKNBUsIiJiRUqsIiIiVqTEKiIiYkVKrCIiIlakxCoiImJFSqwiIiJWpMQq8hcjRozgxRdfLPC9LZ0/fx5fX1+++eabAvssW7aMHj16FOlzrfWdSvKfjci9TBtEyD1t+vTpbNu2OE1V7QAAB2hJREFUDbj5ODAvLy86d+7MM888Q5UqVYr9/MuWLaNcucL/36RHjx4MGDBAzwEVKcOUWOWe17ZtW5YsWUJOTg5RUVHMnDmT+Ph43n333Xx9jUYj2dnZlC9f3irnrly5slU+R0TKDk0Fyz2vfPnyVK9eHW9vbx5++GH+8Y9/cOTIEW7cuMHWrVtp1qwZX375JYMGDSIgIIBjx46RlZXFsmXL6NatGwEBAfTr149NmzaZfW5cXBxjxoyhefPmdOnShfXr1+c7962mOzdu3Ejfvn3x9/fnwQcfNFWnI0aM4OzZsyxfvhxfX198fX05f/48AGfOnGHSpEm0bduWdu3aMXr0aH766Sezz929ezc9evQgICCAYcOG5WsvjHPnzhESEkKnTp1o0aIF/fv3Z/v27fn65ebm8vrrr9OhQwdat27NrFmzyMjIMOuzfv16evfuTUBAAD179iQ8PJzs7OwixyRS1qhiFbvj4uJCbm6u6Zd8XpKYPn06tWvXplKlSsyaNYuTJ0/y8ssvU79+fX788UfCwsJwdHRk6NChGI1GQkJCcHBwYP369Tg5ObFgwQJOnjxJvXr1Cjz30qVLWbNmDdOmTeOhhx4iLS2Nw4cPAzenjQcPHkyvXr0YPXo0AJ6eniQmJhIcHMzDDz/Mxo0bKV++PBs3buTJJ59kz549eHp6curUKaZNm8bYsWN59NFH+fXXX3n11VeL/M8mLS2NBx54gJCQECpWrMihQ4eYMWMG3t7ePPDAA6Z+n376KX379iUiIoIzZ87w4osvUqFCBWbMmGH6Llu3bmXGjBn4+fnx22+/8dJLL5GRkcGUKVOKHJdIWaLEKnbl119/ZePGjbRo0QJXV1fg5vTv9OnTadu2LXCzatu+fTu7du3Cx8cHgLp16/Lbb7+xYcMGhg4dyhdffMGpU6f45JNPaNiwIQBvvPEGXbt2LfDcaWlprFz5/9u7v5Cm3jiO4+9x0KnL/INKkKhpQuJUxAsToejKELyIoiD/YHgRpNlABQUdLIOs0CElFOguIpEgKKKuYlQXdSFDQxMHafMfCgbTCyF38rjfhXjwZEb7/cYPye/ranue786e89x8dp6dw9PPjRs3qKqq0ttzc3OBrWVjRVGIiYkx7AU6NDTE0aNHcTgcelt7ezvv37/n5cuX1NbW4nK5KCgooKmpCYDMzEyWl5fp7OwMaX62r5S3VVdX8/HjR169emUI1vj4eBwOB4qikJWVhc1m49atW9hsNkwmE/39/dy/f59Tp07p87ezRgixNwlWse8NDw9TWFiIpmmoqkpJSQk3b9401OTl5emvP3/+TDAY5MKFC4aajY0NFEUBtgI6ISFBD1XYurrc+f5nU1NTBAIBSktLQxr/+Pg4ExMTFBYWGtrX19f17dCmp6cNwQf8q/1Ev3//Tl9fH2/fvuXbt2/8+PEDVVUpLi421OXl5elzAVt78qqqytzcHKqqsr6+TmNjIyaTSa/RNI1AIIDf7ycxMTHksQlxUEiwin0vPz+fO3fuoCgKKSkpREZGGvoVRcFsNuvvtzdsGhoaIjo62lC7Myj+L5ubm5w8eRK73b6rLzY2NqzfdffuXdxuN62trWRmZhIdHU1XVxdra2t/fIzt+evt7SUjI2NXf1xcXLiGK8RfSYJV7HtRUVGkp6f/cf320uzS0hJnzpz5Zc3x48dZWVlhZmZGDw+/34/P58Nqtf7yM1lZWZjNZj58+LDnnrMRERFommZos1qtPH/+nCNHjhh+APx87NHRUUPbyMjInue4F4/HQ0VFBeXl5cBWqM/MzJCUlGSoGx8fR9M0/ap1dHSUyMhI0tLSCAaDmM1m5ufnOX36dMhjEOKgk7uCxV8nPT2d8+fP09HRwYsXL5idncXr9fLs2TP9EZ2SkhJOnDhBS0sLY2NjTE5O0tLS8ttnVi0WC1euXOHBgwcMDg7i8/nwer08evRIr0lNTWVkZITFxUX8fj+bm5tUVVWhaRrXrl3D4/GwsLCAx+PB6XTq4VlbW8unT59wOp34fD7evHmDy+UK+dyPHTuG2+1mbGyMqakpOjo6WF5e3lW3urqKw+Fgenqad+/e0dvby6VLl4iJicFisXD16lV6enoYHBzk69evfPnyhdevX3Pv3r2QxyTEQSNXrOKv1NnZicvl4uHDhywsLGCxWMjOzqayshLYWhLu6+vDbrdTWVlJQkICdXV1qKr62+PabDYSExN5/Pgxt2/f5vDhw/pNUwDXr1/Hbrdz9uxZAoEAbreb1NRUnj59Sk9PDw0NDaytrZGcnExRUZF+k5PVaqW7uxun08nAwAA5OTm0tbVRX18f0nm3tbXR3t5OTU0Nhw4d4uLFi5SVlTE/P2+oKysrw2KxcPnyZVRVpby8nObmZr2/vr6elJQUnjx5QldXF1FRUWRkZHDu3LmQxiPEQWQKbv+hIoQQQoj/TJaChRBCiDCSYBVCCCHCSIJVCCGECCMJViGEECKMJFiFEEKIMJJgFUIIIcJIglUIIYQIIwlWIYQQIowkWIUQQogw+gfuQGYP2KKVIQAAAABJRU5ErkJggg==\n",
>>>>>>> f486769ed335cd4083f01871ede27ba021fcf91b
      "text/plain": [
       "<Figure size 720x432 with 2 Axes>"
      ]
     },
     "metadata": {},
     "output_type": "display_data"
    }
   ],
   "source": [
    "# Defining the model #1\n",
    "class firstmodel(nn.Module):\n",
    "  def __init__(self, n_features):\n",
    "    super(firstmodel, self).__init__()\n",
    "    self.fc1 = nn.Linear(n_features, 5)\n",
    "    self.fc2 = nn.Linear(5, 3)\n",
    "    self.fc3 = nn.Linear(3, 1)\n",
    "  def forward(self, x):\n",
    "    x = F.relu(self.fc1(x))\n",
    "    x = F.relu(self.fc2(x))\n",
    "    return torch.sigmoid(self.fc3(x))\n",
    "\n",
    "net = firstmodel(X_train.shape[1])\n",
    "print(net)\n",
    "\n",
    "def calculate_accuracy(y_true, y_pred):\n",
    "  predicted = y_pred.ge(.5).view(-1)\n",
    "  return (y_true == predicted).sum().float() / len(y_true)\n",
    "def round_tensor(t, decimal_places=3):\n",
    "  return round(t.item(), decimal_places)\n",
    "\n",
    "criterion = nn.BCELoss()\n",
    "optimizer = optim.Adam(net.parameters(), lr=0.001)\n",
    "print(\"\\n\")\n",
    "max_epochs = 400\n",
    "batch_size = 100\n",
    "batch_number = math.ceil(len(X_train)/batch_size)\n",
    "for epoch in range (max_epochs):\n",
    "    for batch_idx in range (batch_number):\n",
    "        # Set up batch\n",
    "        batch_end = ((batch_idx+1) * batch_size -1)\n",
    "        batch_start = batch_idx * batch_size\n",
    "        if (batch_idx == (batch_number-1)):\n",
    "            batch_end = (len(X_train) -1)\n",
    "        batch_x = X_train[batch_start : batch_end]\n",
    "        batch_y = y_train[batch_start : batch_end]\n",
    "        \n",
    "        # Fit the training data and validate\n",
    "        train_pred = net(batch_x)\n",
    "        train_pred = torch.squeeze(train_pred)\n",
    "        train_loss = criterion(train_pred, batch_y)\n",
    "        train_acc = calculate_accuracy(batch_y, train_pred)\n",
    "        y_validate_pred = net(X_validate)\n",
    "        y_validate_pred = torch.squeeze(y_validate_pred)\n",
    "        validate_loss = criterion(y_validate_pred, y_validate)\n",
    "        validation_acc = calculate_accuracy(y_validate, y_validate_pred)\n",
    "        optimizer.zero_grad()\n",
    "        train_loss.backward()\n",
    "        optimizer.step()\n",
    "    if epoch % 50 == 0:\n",
    "        print( f'''epoch { {epoch} } \\t==> Train : - Loss: {round_tensor(train_loss)}, Acc: {round_tensor(train_acc)} \\t|| Validation : - Loss: {round_tensor(validate_loss)}, Acc: {round_tensor(validation_acc)}''')\n",
    "\n",
    "\n",
    "# Test the model using test set\n",
    "y_pred = net(X_test)\n",
    "y_pred = y_pred.ge(.5).view(-1).cpu()\n",
    "y_test = y_test.cpu()\n",
    "print('\\n classification report \\n', classification_report(y_test, y_pred, target_names=classes))\n",
    "print(\"Overall Accuracy : \" , str(accuracy_score(y_test, y_pred)))\n",
    "skplt.metrics.plot_confusion_matrix(y_test, y_pred)\n"
   ]
  },
  {
   "cell_type": "markdown",
   "metadata": {},
   "source": [
    "The performance metrics for this model stands at 0.92 which is a little improvement as compared to the previous classifiers. we have true positives (520) and true negatives (801) have a higher values as compared to False positives (22) and False negatives(100)\n",
    "### Second model\n",
    "In this model we added more layers and neurons. We also try to use different activation function."
   ]
  },
  {
   "cell_type": "code",
<<<<<<< HEAD
   "execution_count": 11,
=======
   "execution_count": 55,
>>>>>>> f486769ed335cd4083f01871ede27ba021fcf91b
   "metadata": {},
   "outputs": [
    {
     "name": "stdout",
     "output_type": "stream",
     "text": [
      "secondmodel(\n",
      "  (fc1): Linear(in_features=10, out_features=20, bias=True)\n",
      "  (fc2): Linear(in_features=20, out_features=20, bias=True)\n",
      "  (fc3): Linear(in_features=20, out_features=10, bias=True)\n",
      "  (fc4): Linear(in_features=10, out_features=1, bias=True)\n",
      ")\n",
      "\n",
      "\n",
<<<<<<< HEAD
      "epoch {0} \t==> Train : - Loss: 0.66, Acc: 0.554 \t|| Validation : - Loss: 0.647, Acc: 0.614\n",
      "epoch {50} \t==> Train : - Loss: 0.319, Acc: 0.891 \t|| Validation : - Loss: 0.287, Acc: 0.903\n",
      "epoch {100} \t==> Train : - Loss: 0.327, Acc: 0.891 \t|| Validation : - Loss: 0.294, Acc: 0.901\n",
      "epoch {150} \t==> Train : - Loss: 0.334, Acc: 0.891 \t|| Validation : - Loss: 0.301, Acc: 0.898\n",
      "epoch {200} \t==> Train : - Loss: 0.33, Acc: 0.891 \t|| Validation : - Loss: 0.3, Acc: 0.901\n",
      "epoch {250} \t==> Train : - Loss: 0.322, Acc: 0.891 \t|| Validation : - Loss: 0.3, Acc: 0.903\n",
      "epoch {300} \t==> Train : - Loss: 0.315, Acc: 0.891 \t|| Validation : - Loss: 0.3, Acc: 0.903\n",
      "epoch {350} \t==> Train : - Loss: 0.307, Acc: 0.891 \t|| Validation : - Loss: 0.301, Acc: 0.905\n",
=======
      "epoch {0} \t==> Train : - Loss: 0.635, Acc: 0.674 \t|| Validation : - Loss: 0.617, Acc: 0.676\n",
      "epoch {50} \t==> Train : - Loss: 0.317, Acc: 0.891 \t|| Validation : - Loss: 0.287, Acc: 0.901\n",
      "epoch {100} \t==> Train : - Loss: 0.326, Acc: 0.88 \t|| Validation : - Loss: 0.292, Acc: 0.901\n",
      "epoch {150} \t==> Train : - Loss: 0.331, Acc: 0.88 \t|| Validation : - Loss: 0.297, Acc: 0.898\n",
      "epoch {200} \t==> Train : - Loss: 0.318, Acc: 0.88 \t|| Validation : - Loss: 0.295, Acc: 0.9\n",
      "epoch {250} \t==> Train : - Loss: 0.309, Acc: 0.88 \t|| Validation : - Loss: 0.291, Acc: 0.901\n",
      "epoch {300} \t==> Train : - Loss: 0.3, Acc: 0.88 \t|| Validation : - Loss: 0.286, Acc: 0.905\n",
      "epoch {350} \t==> Train : - Loss: 0.273, Acc: 0.902 \t|| Validation : - Loss: 0.283, Acc: 0.908\n",
>>>>>>> f486769ed335cd4083f01871ede27ba021fcf91b
      "\n",
      " classification report \n",
      "               precision    recall  f1-score   support\n",
      "\n",
<<<<<<< HEAD
      "    No Recid       0.89      0.97      0.93       823\n",
      "       Recid       0.95      0.85      0.90       620\n",
      "\n",
      "    accuracy                           0.92      1443\n",
      "   macro avg       0.92      0.91      0.91      1443\n",
      "weighted avg       0.92      0.92      0.92      1443\n",
      "\n",
      "Overall Accuracy :  0.9168399168399168\n"
=======
      "    No Recid       0.89      0.95      0.92       823\n",
      "       Recid       0.93      0.84      0.89       620\n",
      "\n",
      "    accuracy                           0.91      1443\n",
      "   macro avg       0.91      0.90      0.90      1443\n",
      "weighted avg       0.91      0.91      0.91      1443\n",
      "\n",
      "Overall Accuracy :  0.9064449064449065\n"
>>>>>>> f486769ed335cd4083f01871ede27ba021fcf91b
     ]
    },
    {
     "data": {
      "text/plain": [
<<<<<<< HEAD
       "<matplotlib.axes._subplots.AxesSubplot at 0xb3368d5848>"
      ]
     },
     "execution_count": 11,
=======
       "<matplotlib.axes._subplots.AxesSubplot at 0x7f15fa1b2710>"
      ]
     },
     "execution_count": 55,
>>>>>>> f486769ed335cd4083f01871ede27ba021fcf91b
     "metadata": {},
     "output_type": "execute_result"
    },
    {
     "data": {
<<<<<<< HEAD
      "image/png": "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\n",
=======
      "image/png": "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\n",
>>>>>>> f486769ed335cd4083f01871ede27ba021fcf91b
      "text/plain": [
       "<Figure size 720x432 with 2 Axes>"
      ]
     },
     "metadata": {},
     "output_type": "display_data"
    }
   ],
   "source": [
    "# Defining the model  #2\n",
    "# Adding layers and neurons\n",
    "class secondmodel(nn.Module):\n",
    "\n",
    "  def __init__(self, n_features):\n",
    "    super(secondmodel, self).__init__()\n",
    "    self.fc1 = nn.Linear(n_features, 20)\n",
    "    self.fc2 = nn.Linear(20, 20)\n",
    "    self.fc3 = nn.Linear(20, 10)\n",
    "    self.fc4 = nn.Linear(10, 1)\n",
    "\n",
    "  def forward(self, x):\n",
    "    x = torch.tanh(self.fc1(x))\n",
    "    x = torch.tanh(self.fc2(x))\n",
    "    x = torch.tanh(self.fc3(x))\n",
    "    return torch.sigmoid(self.fc4(x))\n",
    "\n",
    "net = secondmodel(X_train.shape[1])\n",
    "print(net)\n",
    "\n",
    "def calculate_accuracy(y_true, y_pred):\n",
    "  predicted = y_pred.ge(.5).view(-1)\n",
    "  return (y_true == predicted).sum().float() / len(y_true)\n",
    "\n",
    "def round_tensor(t, decimal_places=3):\n",
    "  return round(t.item(), decimal_places)\n",
    "\n",
    "criterion = nn.BCELoss()\n",
    "optimizer = optim.Adam(net.parameters(), lr=0.001)\n",
    "print(\"\\n\")\n",
    "max_epochs = 400\n",
    "batch_size = 100\n",
    "batch_number = math.ceil(len(X_train)/batch_size)\n",
    "for epoch in range (max_epochs):\n",
    "    for batch_idx in range (batch_number):\n",
    "        # Set up batch\n",
    "        batch_end = ((batch_idx+1) * batch_size -1)\n",
    "        batch_start = batch_idx * batch_size\n",
    "        if (batch_idx == (batch_number-1)):\n",
    "            batch_end = (len(X_train) -1)\n",
    "        batch_x = X_train[batch_start : batch_end]\n",
    "        batch_y = y_train[batch_start : batch_end]\n",
    "        \n",
    "        # Fit the training data and validate\n",
    "        train_pred = net(batch_x)\n",
    "        train_pred = torch.squeeze(train_pred)\n",
    "        train_loss = criterion(train_pred, batch_y)\n",
    "        train_acc = calculate_accuracy(batch_y, train_pred)\n",
    "        y_validate_pred = net(X_validate)\n",
    "        y_validate_pred = torch.squeeze(y_validate_pred)\n",
    "        validate_loss = criterion(y_validate_pred, y_validate)\n",
    "        validation_acc = calculate_accuracy(y_validate, y_validate_pred)\n",
    "        optimizer.zero_grad()\n",
    "        train_loss.backward()\n",
    "        optimizer.step()\n",
    "    if epoch % 50 == 0:\n",
    "        print( f'''epoch { {epoch} } \\t==> Train : - Loss: {round_tensor(train_loss)}, Acc: {round_tensor(train_acc)} \\t|| Validation : - Loss: {round_tensor(validate_loss)}, Acc: {round_tensor(validation_acc)}''')\n",
    "\n",
    "\n",
    "# Test the model using test set\n",
    "y_pred = net(X_test)\n",
    "y_pred = y_pred.ge(.5).view(-1).cpu()\n",
    "y_test = y_test.cpu()\n",
    "print('\\n classification report \\n', classification_report(y_test, y_pred, target_names=classes))\n",
    "print(\"Overall Accuracy : \" , str(accuracy_score(y_test, y_pred)))\n",
    "skplt.metrics.plot_confusion_matrix(y_test, y_pred)"
   ]
  },
  {
   "cell_type": "markdown",
   "metadata": {},
   "source": [
    "from the two models described, we can see the perform almost equally but model 2 outperforms the first model by a difference in accuarcy of 0.003. there is also slight variation in the classifications based ont the confusion matrixes.\n",
    "we have true positives (527) and true negatives (793) have a higher values as compared to False positives (30) and False negatives(93)\n",
    "From both model, we can conclude that the performance is almost equal as the other classifiers we described above.\n",
    "\n",
    "Model 2 outperforms model 1 looking as the confusion matrix values.\n",
    "\n",
    "Looking at the performance metrics of all our classifiers, they actually perform better compared to compass mode of prediction. We will recommend to use Logitic rgression, SVM or Neural networks to for the classification and prediction (based on the performances of our networks).\n",
    "\n",
    "### Predictions based on best performing model (model 2) \n",
    "\n",
    "we want to define a new dataset to use for prediction and observe fairness. We will use criminals labelled with the various risk score/decile score but having a two_year_recid or for this analysis. we will analyse the predictions based using the confusion matrix.\n"
   ]
  },
  {
   "cell_type": "code",
<<<<<<< HEAD
   "execution_count": 12,
=======
   "execution_count": 92,
>>>>>>> f486769ed335cd4083f01871ede27ba021fcf91b
   "metadata": {},
   "outputs": [
    {
     "name": "stdout",
     "output_type": "stream",
     "text": [
      "shape of data is  (284, 10)\n"
     ]
    },
    {
     "data": {
      "text/plain": [
<<<<<<< HEAD
       "<matplotlib.axes._subplots.AxesSubplot at 0xb339ea00c8>"
      ]
     },
     "execution_count": 12,
=======
       "<matplotlib.axes._subplots.AxesSubplot at 0x7f15eae0cc10>"
      ]
     },
     "execution_count": 92,
>>>>>>> f486769ed335cd4083f01871ede27ba021fcf91b
     "metadata": {},
     "output_type": "execute_result"
    },
    {
     "data": {
<<<<<<< HEAD
      "image/png": "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\n",
=======
      "image/png": "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\n",
>>>>>>> f486769ed335cd4083f01871ede27ba021fcf91b
      "text/plain": [
       "<Figure size 720x432 with 2 Axes>"
      ]
     },
     "metadata": {},
     "output_type": "display_data"
    }
   ],
   "source": [
    "df2 = pd.read_csv('compas-scores-two-years.csv')\n",
    "\n",
    "df2['sex'].replace({'Male': 1, 'Female': 2}, inplace = True)\n",
    "df2['age_cat'].replace({'Greater than 45': 1, '25 - 45': 2, 'Less than 25': 3}, inplace = True)\n",
    "df2['race'].replace({'Other': 1, 'African-American': 2, 'Caucasian': 3, 'Hispanic': 4, 'Native American': 5, 'Asian': 6}, inplace = True)\n",
    "df2['c_charge_degree'].replace({'F': 1, 'M': 2}, inplace = True)\n",
    "\n",
    "#no two_year _recid with high label\n",
    "df2 = df2.loc[(df2['two_year_recid']==0) & (df2['score_text']=='High') & (df2['race']==2)]\n",
    "# print ('shape of filtered data is ', df2.shape)\n",
    "\n",
    "df2 = df2[df.columns[~df.isnull().any()]]\n",
    "dfY = df2[['two_year_recid', ]]  #ground truth\n",
    "dfX = df2[['sex','age_cat', 'race', 'juv_fel_count', 'juv_misd_count', 'priors_count', 'c_charge_degree', \n",
    "         'is_violent_recid', 'v_decile_score', 'event', ]]\n",
    "\n",
    "print ('shape of data is ', dfX.shape)\n",
    "\n",
    "#prediction\n",
    "y_test = torch.from_numpy(dfY.to_numpy()).float()\n",
    "X_test = torch.from_numpy(dfX.to_numpy()).float()\n",
    "y_pred = net(X_test)\n",
    "y_pred = y_pred.ge(.5).view(-1).cpu()\n",
    "skplt.metrics.plot_confusion_matrix(y_test, y_pred)"
   ]
  },
  {
   "cell_type": "code",
   "execution_count": 59,
   "metadata": {},
   "outputs": [
    {
     "name": "stdout",
     "output_type": "stream",
     "text": [
      "African-American acceptance rate\t = 0.4751082251082251\n",
      "Non African-American acceptance rate\t = 0.34081864695849917\n",
      "Indepence\t\t\t\t = 0.39402063046766944\n"
     ]
    }
   ],
   "source": [
    "dffair1 = df.loc[(df['race']==2)]\n",
    "Xfair1 = dffair1[['sex','age_cat', 'race', 'juv_fel_count', 'juv_misd_count', 'priors_count', 'c_charge_degree', \n",
    "         'is_violent_recid', 'v_decile_score', 'event']]\n",
    "yfair1 = dffair1[['two_year_recid']]\n",
    "\n",
    "dffair2 = df.loc[(df['race']!=2)]\n",
    "Xfair2 = dffair2[['sex','age_cat', 'race', 'juv_fel_count', 'juv_misd_count', 'priors_count', 'c_charge_degree', \n",
    "         'is_violent_recid', 'v_decile_score', 'event']]\n",
    "yfair2 = dffair2[['two_year_recid']]\n",
    "\n",
    "print(\"Logistic Regression ===>\")\n",
    "y_pred = log_reg.predict(Xfair1)\n",
    "Pfair1_true = np.sum(y_pred) / len(Xfair1)\n",
    "print(\"African-American acceptance rate\\t = \" + str(Pfair1_true))\n",
    "\n",
    "y_pred = log_reg.predict(Xfair2)\n",
    "Pfair2_true = np.sum(y_pred) / len(Xfair2)\n",
    "print(\"Non African-American acceptance rate\\t = \" + str(Pfair2_true))\n",
    "\n",
    "independence = Pfair1_true/Pfair2_true\n",
    "if Pfair1_true/Pfair2_true > 1:\n",
    "    independence = Pfair1_true/Pfair2_true - 1\n",
    "    \n",
    "print(\"Indepence\\t\\t\\t\\t = \" + str(independence))\n"
   ]
  },
  {
   "cell_type": "markdown",
   "metadata": {},
   "source": [
    "## Feature Sets\n",
    "we want to remove some features to determine what affets the classification or prediction of the criminals. this will inform us the feature set that are really important to use.\n",
    "for this section, we use use the logistic regression classifier we define above to determine the feature sets."
   ]
  },
  {
   "cell_type": "code",
   "execution_count": 93,
   "metadata": {},
   "outputs": [
    {
     "data": {
      "text/html": [
       "<div>\n",
       "<style scoped>\n",
       "    .dataframe tbody tr th:only-of-type {\n",
       "        vertical-align: middle;\n",
       "    }\n",
       "\n",
       "    .dataframe tbody tr th {\n",
       "        vertical-align: top;\n",
       "    }\n",
       "\n",
       "    .dataframe thead th {\n",
       "        text-align: right;\n",
       "    }\n",
       "</style>\n",
       "<table border=\"1\" class=\"dataframe\">\n",
       "  <thead>\n",
       "    <tr style=\"text-align: right;\">\n",
       "      <th></th>\n",
       "      <th>sex</th>\n",
       "      <th>age_cat</th>\n",
       "      <th>race</th>\n",
       "      <th>juv_fel_count</th>\n",
       "      <th>juv_misd_count</th>\n",
       "      <th>priors_count</th>\n",
       "      <th>c_charge_degree</th>\n",
       "      <th>is_violent_recid</th>\n",
       "      <th>v_decile_score</th>\n",
       "      <th>event</th>\n",
       "      <th>two_year_recid</th>\n",
       "    </tr>\n",
       "  </thead>\n",
       "  <tbody>\n",
       "    <tr>\n",
       "      <th>0</th>\n",
       "      <td>1</td>\n",
       "      <td>1</td>\n",
       "      <td>1</td>\n",
       "      <td>0</td>\n",
       "      <td>0</td>\n",
       "      <td>0</td>\n",
       "      <td>1</td>\n",
       "      <td>0</td>\n",
       "      <td>1</td>\n",
       "      <td>0</td>\n",
       "      <td>0</td>\n",
       "    </tr>\n",
       "    <tr>\n",
       "      <th>1</th>\n",
       "      <td>1</td>\n",
       "      <td>2</td>\n",
       "      <td>2</td>\n",
       "      <td>0</td>\n",
       "      <td>0</td>\n",
       "      <td>0</td>\n",
       "      <td>1</td>\n",
       "      <td>1</td>\n",
       "      <td>1</td>\n",
       "      <td>1</td>\n",
       "      <td>1</td>\n",
       "    </tr>\n",
       "    <tr>\n",
       "      <th>2</th>\n",
       "      <td>1</td>\n",
       "      <td>3</td>\n",
       "      <td>2</td>\n",
       "      <td>0</td>\n",
       "      <td>0</td>\n",
       "      <td>4</td>\n",
       "      <td>1</td>\n",
       "      <td>0</td>\n",
       "      <td>3</td>\n",
       "      <td>0</td>\n",
       "      <td>1</td>\n",
       "    </tr>\n",
       "    <tr>\n",
       "      <th>3</th>\n",
       "      <td>1</td>\n",
       "      <td>3</td>\n",
       "      <td>2</td>\n",
       "      <td>0</td>\n",
       "      <td>1</td>\n",
       "      <td>1</td>\n",
       "      <td>1</td>\n",
       "      <td>0</td>\n",
       "      <td>6</td>\n",
       "      <td>0</td>\n",
       "      <td>0</td>\n",
       "    </tr>\n",
       "    <tr>\n",
       "      <th>4</th>\n",
       "      <td>1</td>\n",
       "      <td>2</td>\n",
       "      <td>1</td>\n",
       "      <td>0</td>\n",
       "      <td>0</td>\n",
       "      <td>2</td>\n",
       "      <td>1</td>\n",
       "      <td>0</td>\n",
       "      <td>1</td>\n",
       "      <td>0</td>\n",
       "      <td>0</td>\n",
       "    </tr>\n",
       "  </tbody>\n",
       "</table>\n",
       "</div>"
      ],
      "text/plain": [
       "   sex  age_cat  race  juv_fel_count  juv_misd_count  priors_count  \\\n",
       "0    1        1     1              0               0             0   \n",
       "1    1        2     2              0               0             0   \n",
       "2    1        3     2              0               0             4   \n",
       "3    1        3     2              0               1             1   \n",
       "4    1        2     1              0               0             2   \n",
       "\n",
       "   c_charge_degree  is_violent_recid  v_decile_score  event  two_year_recid  \n",
       "0                1                 0               1      0               0  \n",
       "1                1                 1               1      1               1  \n",
       "2                1                 0               3      0               1  \n",
       "3                1                 0               6      0               0  \n",
       "4                1                 0               1      0               0  "
      ]
     },
     "execution_count": 93,
     "metadata": {},
     "output_type": "execute_result"
    }
   ],
   "source": [
    "dfnew = df\n",
    "dfnew.head()"
   ]
  },
  {
   "cell_type": "markdown",
   "metadata": {},
   "source": [
    "<b>1.</b> Firstly, we remove 'v_decile_score' and 'is_violent_recid' from the features to analyse the performance"
   ]
  },
  {
   "cell_type": "code",
   "execution_count": 105,
   "metadata": {},
   "outputs": [
    {
     "name": "stdout",
     "output_type": "stream",
     "text": [
      "classification report \n",
      "               precision    recall  f1-score   support\n",
      "\n",
      "    No Recid       0.88      0.96      0.92       823\n",
      "       Recid       0.94      0.82      0.88       620\n",
      "\n",
      "    accuracy                           0.90      1443\n",
      "   macro avg       0.91      0.89      0.90      1443\n",
      "weighted avg       0.90      0.90      0.90      1443\n",
      "\n",
      "Overall Accuracy :  0.9002079002079002\n"
     ]
    }
   ],
   "source": [
    "X_new = dfnew[['sex','age_cat', 'race', 'juv_fel_count', 'juv_misd_count', 'priors_count', 'c_charge_degree', 'event']]\n",
    "y_new = dfnew[['two_year_recid']] #ground truth\n",
    "classes = ['No Recid', 'Recid']\n",
    "\n",
    "# Arrange the data : Training, Testing\n",
    "X_train, X_test, y_train, y_test = train_test_split(X_new, y_new, test_size=0.2, random_state=RANDOM_SEED)\n",
    "\n",
    "# Logistic Regression \n",
    "log_reg_new = LogisticRegression()\n",
    "log_reg_new.fit(X_train, y_train.values.ravel())\n",
    "# print (log_reg_new,'\\n\\n')\n",
    "\n",
    "#prediction\n",
    "y_pred = log_reg_new.predict(X_test)\n",
    "# skplt.metrics.plot_confusion_matrix(y_test, y_pred)\n",
    "print('classification report \\n', classification_report(y_test, y_pred, target_names=classes))\n",
    "print(\"Overall Accuracy : \" , str(accuracy_score(y_test, y_pred)))"
   ]
  },
  {
   "cell_type": "markdown",
   "metadata": {},
   "source": [
    "we can see from the classification report that removing 'v_decile_score' and 'is_violent_recid' from the feature set does not really affect the peformance of the classifier. Performance metric (accuarcy, precision and recall) is 0.90 and overall accuracy is also 0.90 as compared to the original set which gave us 0.91\n",
    "\n",
    "<b>2.</b> In the next part we remove 'juv_fel_count' and 'c_charge_degree' in addition to the previously removed features to analyse the performance."
   ]
  },
  {
   "cell_type": "code",
   "execution_count": 107,
   "metadata": {},
   "outputs": [
    {
     "name": "stdout",
     "output_type": "stream",
     "text": [
      "classification report \n",
      "               precision    recall  f1-score   support\n",
      "\n",
      "    No Recid       0.87      0.97      0.92       823\n",
      "       Recid       0.95      0.81      0.88       620\n",
      "\n",
      "    accuracy                           0.90      1443\n",
      "   macro avg       0.91      0.89      0.90      1443\n",
      "weighted avg       0.91      0.90      0.90      1443\n",
      "\n",
      "Overall Accuracy :  0.9015939015939016\n"
     ]
    }
   ],
   "source": [
    "X_new = dfnew[['sex','age_cat', 'race', 'juv_misd_count', 'priors_count', 'event']]\n",
    "y_new = dfnew[['two_year_recid']] #ground truth\n",
    "classes = ['No Recid', 'Recid']\n",
    "\n",
    "# Arrange the data : Training, Testing\n",
    "X_train, X_test, y_train, y_test = train_test_split(X_new, y_new, test_size=0.2, random_state=RANDOM_SEED)\n",
    "\n",
    "# Logistic Regression \n",
    "log_reg_new = LogisticRegression()\n",
    "log_reg_new.fit(X_train, y_train.values.ravel())\n",
    "# print (log_reg_new,'\\n\\n')\n",
    "\n",
    "#prediction\n",
    "y_pred = log_reg_new.predict(X_test)\n",
    "# skplt.metrics.plot_confusion_matrix(y_test, y_pred)\n",
    "print('classification report \\n', classification_report(y_test, y_pred, target_names=classes))\n",
    "print(\"Overall Accuracy : \" , str(accuracy_score(y_test, y_pred)))"
   ]
  },
  {
   "cell_type": "markdown",
   "metadata": {},
   "source": [
    "we can see from the classification report that removing 'juv_fel_count' and 'c_charge_degree' also does not have much effect on the peformance of the classifier. \n",
    "Performance metric (accuarcy, precision and recall) is 0.90 and overall accuracy is also 0.90 as compared to the original set which gave us 0.91. we still need to remove more features to determine the needed features.\n",
    "\n",
    "<b>3.</b> in the next part we remove 'sex','age_cat'and 'juv_misd_count' in addition to previously removed features"
   ]
  },
  {
   "cell_type": "code",
   "execution_count": 108,
   "metadata": {},
   "outputs": [
    {
     "name": "stdout",
     "output_type": "stream",
     "text": [
      "classification report \n",
      "               precision    recall  f1-score   support\n",
      "\n",
      "    No Recid       0.87      0.97      0.92       823\n",
      "       Recid       0.95      0.81      0.87       620\n",
      "\n",
      "    accuracy                           0.90      1443\n",
      "   macro avg       0.91      0.89      0.90      1443\n",
      "weighted avg       0.90      0.90      0.90      1443\n",
      "\n",
      "Overall Accuracy :  0.8995148995148995\n"
     ]
    }
   ],
   "source": [
    "X_new = dfnew[[ 'race', 'priors_count', 'event']]\n",
    "y_new = dfnew[['two_year_recid']] #ground truth\n",
    "classes = ['No Recid', 'Recid']\n",
    "\n",
    "# Arrange the data : Training, Testing\n",
    "X_train, X_test, y_train, y_test = train_test_split(X_new, y_new, test_size=0.2, random_state=RANDOM_SEED)\n",
    "\n",
    "# Logistic Regression \n",
    "log_reg_new = LogisticRegression()\n",
    "log_reg_new.fit(X_train, y_train.values.ravel())\n",
    "# print (log_reg_new,'\\n\\n')\n",
    "\n",
    "#prediction\n",
    "y_pred = log_reg_new.predict(X_test)\n",
    "# skplt.metrics.plot_confusion_matrix(y_test, y_pred)\n",
    "print('classification report \\n', classification_report(y_test, y_pred, target_names=classes))\n",
    "print(\"Overall Accuracy : \" , str(accuracy_score(y_test, y_pred)))"
   ]
  },
  {
   "cell_type": "markdown",
   "metadata": {},
   "source": [
    "Again Performance metric (accuarcy, precision and recall) is 0.90 and overall accuracy is also 0.89 as compared to the original set which gave us 0.91. Performance is actually still good in this regard. We still need to remove more features to determine the needed features.\n",
    "\n",
    "<b>4.</b> in the next part we remove 'priors_count' "
   ]
  },
  {
   "cell_type": "code",
   "execution_count": 109,
   "metadata": {},
   "outputs": [
    {
     "name": "stdout",
     "output_type": "stream",
     "text": [
      "classification report \n",
      "               precision    recall  f1-score   support\n",
      "\n",
      "    No Recid       0.87      0.98      0.92       823\n",
      "       Recid       0.96      0.80      0.87       620\n",
      "\n",
      "    accuracy                           0.90      1443\n",
      "   macro avg       0.91      0.89      0.90      1443\n",
      "weighted avg       0.91      0.90      0.90      1443\n",
      "\n",
      "Overall Accuracy :  0.9002079002079002\n"
     ]
    }
   ],
   "source": [
    "X_new = dfnew[['race', 'event']]\n",
    "y_new = dfnew[['two_year_recid']] #ground truth\n",
    "classes = ['No Recid', 'Recid']\n",
    "\n",
    "# Arrange the data : Training, Testing\n",
    "X_train, X_test, y_train, y_test = train_test_split(X_new, y_new, test_size=0.2, random_state=RANDOM_SEED)\n",
    "\n",
    "# Logistic Regression \n",
    "log_reg_new = LogisticRegression()\n",
    "log_reg_new.fit(X_train, y_train.values.ravel())\n",
    "# print (log_reg_new,'\\n\\n')\n",
    "\n",
    "#prediction\n",
    "y_pred = log_reg_new.predict(X_test)\n",
    "# skplt.metrics.plot_confusion_matrix(y_test, y_pred)\n",
    "print('classification report \\n', classification_report(y_test, y_pred, target_names=classes))\n",
    "print(\"Overall Accuracy : \" , str(accuracy_score(y_test, y_pred)))"
   ]
  },
  {
   "cell_type": "markdown",
   "metadata": {},
   "source": [
    "Again Performance metric (accuarcy, precision and recall) is 0.90 and overall accuracy is also 0.90 as compared to the original set which gave us 0.91. \n",
    "Performance is actually still good in this regard. We still need to remove more features to determine the needed features.\n",
    "\n",
    "<b>4.</b> in the next part we remove 'event' "
   ]
  },
  {
   "cell_type": "code",
   "execution_count": 110,
   "metadata": {},
   "outputs": [
    {
     "name": "stdout",
     "output_type": "stream",
     "text": [
      "classification report \n",
      "               precision    recall  f1-score   support\n",
      "\n",
      "    No Recid       0.56      0.93      0.70       823\n",
      "       Recid       0.33      0.04      0.08       620\n",
      "\n",
      "    accuracy                           0.55      1443\n",
      "   macro avg       0.45      0.49      0.39      1443\n",
      "weighted avg       0.46      0.55      0.43      1443\n",
      "\n",
      "Overall Accuracy :  0.5509355509355509\n"
     ]
    }
   ],
   "source": [
    "X_new = dfnew[[ 'race']]\n",
    "y_new = dfnew[['two_year_recid']] #ground truth\n",
    "classes = ['No Recid', 'Recid']\n",
    "\n",
    "# Arrange the data : Training, Testing\n",
    "X_train, X_test, y_train, y_test = train_test_split(X_new, y_new, test_size=0.2, random_state=RANDOM_SEED)\n",
    "\n",
    "# Logistic Regression \n",
    "log_reg_new = LogisticRegression()\n",
    "log_reg_new.fit(X_train, y_train.values.ravel())\n",
    "# print (log_reg_new,'\\n\\n')\n",
    "\n",
    "#prediction\n",
    "y_pred = log_reg_new.predict(X_test)\n",
    "# skplt.metrics.plot_confusion_matrix(y_test, y_pred)\n",
    "print('classification report \\n', classification_report(y_test, y_pred, target_names=classes))\n",
    "print(\"Overall Accuracy : \" , str(accuracy_score(y_test, y_pred)))"
   ]
  },
  {
   "cell_type": "markdown",
   "metadata": {},
   "source": [
    "we can see that removing event and only considering race, overall accuracy now stands at 0.55 which is pretty bad. This tells us that the 'event' feature is necessary to give us an accurate prediction\n",
    "\n",
    "<b>5.</b> in the next part we remove 'race' "
   ]
  },
  {
   "cell_type": "code",
   "execution_count": 113,
   "metadata": {},
   "outputs": [
    {
     "name": "stdout",
     "output_type": "stream",
     "text": [
      "classification report \n",
      "               precision    recall  f1-score   support\n",
      "\n",
      "    No Recid       0.87      0.98      0.92       823\n",
      "       Recid       0.96      0.80      0.87       620\n",
      "\n",
      "    accuracy                           0.90      1443\n",
      "   macro avg       0.91      0.89      0.90      1443\n",
      "weighted avg       0.91      0.90      0.90      1443\n",
      "\n",
      "Overall Accuracy :  0.9002079002079002\n"
     ]
    }
   ],
   "source": [
    "#removing v_decile_score, is violent recid, c_charge_degree, juv_misd_count, juv_fel_count, age_cat, prior_count, sex\n",
    "X_new = dfnew[[ 'event']]\n",
    "y_new = dfnew[['two_year_recid']] #ground truth\n",
    "classes = ['No Recid', 'Recid']\n",
    "\n",
    "# Arrange the data : Training, Testing\n",
    "X_train, X_test, y_train, y_test = train_test_split(X_new, y_new, test_size=0.2, random_state=RANDOM_SEED)\n",
    "\n",
    "# Logistic Regression \n",
    "log_reg_new = LogisticRegression()\n",
    "log_reg_new.fit(X_train, y_train.values.ravel())\n",
    "# print (log_reg_new,'\\n\\n')\n",
    "\n",
    "#prediction\n",
    "y_pred = log_reg_new.predict(X_test)\n",
    "# skplt.metrics.plot_confusion_matrix(y_test, y_pred)\n",
    "print('classification report \\n', classification_report(y_test, y_pred, target_names=classes))\n",
    "print(\"Overall Accuracy : \" , str(accuracy_score(y_test, y_pred)))"
   ]
  },
  {
   "cell_type": "markdown",
   "metadata": {},
   "source": [
    "we can see that using the 'event' set alone gives us a good accuracy of 0.90. we can now conclude that event is one of the feature sets necessary for correct prediction.\n",
    "using event alone gives us the same accuracy as using 'event' and 'race' feature\n",
    "\n",
    "### Features to Use\n",
    "From our analysis, we recommend using the 'event' in addition to any other feature set for the classification or prediction to be almost accurate."
   ]
  },
  {
   "cell_type": "markdown",
   "metadata": {},
   "source": [
    "## todo - define fairness\n",
    "## explain output of predictions to explain"
   ]
  }
 ],
 "metadata": {
  "kernelspec": {
   "display_name": "Python 3",
   "language": "python",
   "name": "python3"
  },
  "language_info": {
   "codemirror_mode": {
    "name": "ipython",
    "version": 3
   },
   "file_extension": ".py",
   "mimetype": "text/x-python",
   "name": "python",
   "nbconvert_exporter": "python",
   "pygments_lexer": "ipython3",
   "version": "3.7.6"
  }
 },
 "nbformat": 4,
 "nbformat_minor": 4
}
