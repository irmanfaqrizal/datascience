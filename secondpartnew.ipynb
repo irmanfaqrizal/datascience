{
 "cells": [
  {
   "cell_type": "markdown",
   "metadata": {},
   "source": [
    "# PART 2 - Evaluation of COMPAS dataset\n",
    "\n",
    "#### Group Members : \n",
    "                Marck-Edward KEMEH - marck-edward.kemeh@grenoble-inp.org\n",
    "                Irman FAQRIZAL - irman.faqrizal@univ-grenoble-alpes.fr\n",
    "                \n",
    "Note - Quoted performance values might change slightly upon re-running the code"
   ]
  },
  {
   "cell_type": "code",
   "execution_count": 32,
   "metadata": {},
   "outputs": [
    {
     "data": {
      "text/html": [
       "<style>.container { width:95% !important; }</style>"
      ],
      "text/plain": [
       "<IPython.core.display.HTML object>"
      ]
     },
     "metadata": {},
     "output_type": "display_data"
    }
   ],
   "source": [
    "# Increase my page width\n",
    "from IPython.core.display import display, HTML\n",
    "display(HTML(\"<style>.container { width:95% !important; }</style>\"))\n",
    "# Ignore annoying warnings\n",
    "import warnings\n",
    "warnings.filterwarnings('ignore',category=FutureWarning)\n",
    "import urllib\n",
    "import os,sys\n",
    "import numpy as np\n",
    "import pandas as pd\n",
    "import seaborn as sns\n",
    "import torch\n",
    "import torch.nn.functional as F\n",
    "import matplotlib.pyplot as plt\n",
    "import tensorflow as tf\n",
    "import scikitplot as skplt\n",
    "from sklearn.datasets import make_classification\n",
    "from sklearn.linear_model import LogisticRegression\n",
    "from sklearn import svm\n",
    "from sklearn.model_selection import cross_val_score\n",
    "from sklearn.tree import DecisionTreeClassifier\n",
    "from sklearn.neighbors import KNeighborsClassifier\n",
    "from sklearn.metrics import accuracy_score, confusion_matrix, classification_report\n",
    "from pylab import rcParams\n",
    "from torch import nn, optim\n",
    "from sklearn.model_selection import train_test_split\n",
    "from sklearn import feature_extraction, preprocessing\n",
    "from random import seed, shuffle\n",
    "import math\n",
    "\n",
    "#function to plot graphs\n",
    "sns.set(style='whitegrid', palette='muted', font_scale=1.2)\n",
    "HAPPY_COLORS_PALETTE = [\"#01BEFE\", \"#FFDD00\", \"#FF7D00\", \"#FF006D\", \"#93D30C\", \"#8F00FF\"]\n",
    "sns.set_palette(sns.color_palette(HAPPY_COLORS_PALETTE))\n",
    "rcParams['figure.figsize'] = 10, 6\n",
    "RANDOM_SEED = 42\n",
    "\n",
    "#loading dataset\n",
    "df = pd.read_csv('compas-scores-two-years.csv')"
   ]
  },
  {
   "cell_type": "markdown",
   "metadata": {},
   "source": [
    "<h2>2.1 Preprocessing </h2>\n",
    "Before going further to building the classifiers, we will preprocess our data. First we select the needed columns and removing empty values."
   ]
  },
  {
   "cell_type": "code",
   "execution_count": 33,
   "metadata": {},
   "outputs": [
    {
     "data": {
      "text/html": [
       "<div>\n",
       "<style scoped>\n",
       "    .dataframe tbody tr th:only-of-type {\n",
       "        vertical-align: middle;\n",
       "    }\n",
       "\n",
       "    .dataframe tbody tr th {\n",
       "        vertical-align: top;\n",
       "    }\n",
       "\n",
       "    .dataframe thead th {\n",
       "        text-align: right;\n",
       "    }\n",
       "</style>\n",
       "<table border=\"1\" class=\"dataframe\">\n",
       "  <thead>\n",
       "    <tr style=\"text-align: right;\">\n",
       "      <th></th>\n",
       "      <th>sex</th>\n",
       "      <th>age_cat</th>\n",
       "      <th>race</th>\n",
       "      <th>juv_fel_count</th>\n",
       "      <th>juv_misd_count</th>\n",
       "      <th>priors_count</th>\n",
       "      <th>c_charge_degree</th>\n",
       "      <th>is_violent_recid</th>\n",
       "      <th>v_decile_score</th>\n",
       "      <th>event</th>\n",
       "      <th>two_year_recid</th>\n",
       "    </tr>\n",
       "  </thead>\n",
       "  <tbody>\n",
       "    <tr>\n",
       "      <th>0</th>\n",
       "      <td>Male</td>\n",
       "      <td>Greater than 45</td>\n",
       "      <td>Other</td>\n",
       "      <td>0</td>\n",
       "      <td>0</td>\n",
       "      <td>0</td>\n",
       "      <td>F</td>\n",
       "      <td>0</td>\n",
       "      <td>1</td>\n",
       "      <td>0</td>\n",
       "      <td>0</td>\n",
       "    </tr>\n",
       "    <tr>\n",
       "      <th>1</th>\n",
       "      <td>Male</td>\n",
       "      <td>25 - 45</td>\n",
       "      <td>African-American</td>\n",
       "      <td>0</td>\n",
       "      <td>0</td>\n",
       "      <td>0</td>\n",
       "      <td>F</td>\n",
       "      <td>1</td>\n",
       "      <td>1</td>\n",
       "      <td>1</td>\n",
       "      <td>1</td>\n",
       "    </tr>\n",
       "    <tr>\n",
       "      <th>2</th>\n",
       "      <td>Male</td>\n",
       "      <td>Less than 25</td>\n",
       "      <td>African-American</td>\n",
       "      <td>0</td>\n",
       "      <td>0</td>\n",
       "      <td>4</td>\n",
       "      <td>F</td>\n",
       "      <td>0</td>\n",
       "      <td>3</td>\n",
       "      <td>0</td>\n",
       "      <td>1</td>\n",
       "    </tr>\n",
       "    <tr>\n",
       "      <th>3</th>\n",
       "      <td>Male</td>\n",
       "      <td>Less than 25</td>\n",
       "      <td>African-American</td>\n",
       "      <td>0</td>\n",
       "      <td>1</td>\n",
       "      <td>1</td>\n",
       "      <td>F</td>\n",
       "      <td>0</td>\n",
       "      <td>6</td>\n",
       "      <td>0</td>\n",
       "      <td>0</td>\n",
       "    </tr>\n",
       "    <tr>\n",
       "      <th>4</th>\n",
       "      <td>Male</td>\n",
       "      <td>25 - 45</td>\n",
       "      <td>Other</td>\n",
       "      <td>0</td>\n",
       "      <td>0</td>\n",
       "      <td>2</td>\n",
       "      <td>F</td>\n",
       "      <td>0</td>\n",
       "      <td>1</td>\n",
       "      <td>0</td>\n",
       "      <td>0</td>\n",
       "    </tr>\n",
       "  </tbody>\n",
       "</table>\n",
       "</div>"
      ],
      "text/plain": [
       "    sex          age_cat              race  juv_fel_count  juv_misd_count  \\\n",
       "0  Male  Greater than 45             Other              0               0   \n",
       "1  Male          25 - 45  African-American              0               0   \n",
       "2  Male     Less than 25  African-American              0               0   \n",
       "3  Male     Less than 25  African-American              0               1   \n",
       "4  Male          25 - 45             Other              0               0   \n",
       "\n",
       "   priors_count c_charge_degree  is_violent_recid  v_decile_score  event  \\\n",
       "0             0               F                 0               1      0   \n",
       "1             0               F                 1               1      1   \n",
       "2             4               F                 0               3      0   \n",
       "3             1               F                 0               6      0   \n",
       "4             2               F                 0               1      0   \n",
       "\n",
       "   two_year_recid  \n",
       "0               0  \n",
       "1               1  \n",
       "2               1  \n",
       "3               0  \n",
       "4               0  "
      ]
     },
     "execution_count": 33,
     "metadata": {},
     "output_type": "execute_result"
    }
   ],
   "source": [
    "df = df[df.columns[~df.isnull().any()]]\n",
    "df = df[['sex','age_cat', 'race', 'juv_fel_count', 'juv_misd_count', 'priors_count', 'c_charge_degree', \n",
    "         'is_violent_recid', 'v_decile_score', 'event', 'two_year_recid']]\n",
    "df.head()"
   ]
  },
  {
   "cell_type": "markdown",
   "metadata": {},
   "source": [
    "Next we need to convert string data into values/ numbers to be able to use it to train, test and predict."
   ]
  },
  {
   "cell_type": "code",
   "execution_count": 34,
   "metadata": {},
   "outputs": [
    {
     "data": {
      "text/html": [
       "<div>\n",
       "<style scoped>\n",
       "    .dataframe tbody tr th:only-of-type {\n",
       "        vertical-align: middle;\n",
       "    }\n",
       "\n",
       "    .dataframe tbody tr th {\n",
       "        vertical-align: top;\n",
       "    }\n",
       "\n",
       "    .dataframe thead th {\n",
       "        text-align: right;\n",
       "    }\n",
       "</style>\n",
       "<table border=\"1\" class=\"dataframe\">\n",
       "  <thead>\n",
       "    <tr style=\"text-align: right;\">\n",
       "      <th></th>\n",
       "      <th>sex</th>\n",
       "      <th>age_cat</th>\n",
       "      <th>race</th>\n",
       "      <th>juv_fel_count</th>\n",
       "      <th>juv_misd_count</th>\n",
       "      <th>priors_count</th>\n",
       "      <th>c_charge_degree</th>\n",
       "      <th>is_violent_recid</th>\n",
       "      <th>v_decile_score</th>\n",
       "      <th>event</th>\n",
       "      <th>two_year_recid</th>\n",
       "    </tr>\n",
       "  </thead>\n",
       "  <tbody>\n",
       "    <tr>\n",
       "      <th>0</th>\n",
       "      <td>1</td>\n",
       "      <td>1</td>\n",
       "      <td>1</td>\n",
       "      <td>0</td>\n",
       "      <td>0</td>\n",
       "      <td>0</td>\n",
       "      <td>1</td>\n",
       "      <td>0</td>\n",
       "      <td>1</td>\n",
       "      <td>0</td>\n",
       "      <td>0</td>\n",
       "    </tr>\n",
       "    <tr>\n",
       "      <th>1</th>\n",
       "      <td>1</td>\n",
       "      <td>2</td>\n",
       "      <td>2</td>\n",
       "      <td>0</td>\n",
       "      <td>0</td>\n",
       "      <td>0</td>\n",
       "      <td>1</td>\n",
       "      <td>1</td>\n",
       "      <td>1</td>\n",
       "      <td>1</td>\n",
       "      <td>1</td>\n",
       "    </tr>\n",
       "    <tr>\n",
       "      <th>2</th>\n",
       "      <td>1</td>\n",
       "      <td>3</td>\n",
       "      <td>2</td>\n",
       "      <td>0</td>\n",
       "      <td>0</td>\n",
       "      <td>4</td>\n",
       "      <td>1</td>\n",
       "      <td>0</td>\n",
       "      <td>3</td>\n",
       "      <td>0</td>\n",
       "      <td>1</td>\n",
       "    </tr>\n",
       "    <tr>\n",
       "      <th>3</th>\n",
       "      <td>1</td>\n",
       "      <td>3</td>\n",
       "      <td>2</td>\n",
       "      <td>0</td>\n",
       "      <td>1</td>\n",
       "      <td>1</td>\n",
       "      <td>1</td>\n",
       "      <td>0</td>\n",
       "      <td>6</td>\n",
       "      <td>0</td>\n",
       "      <td>0</td>\n",
       "    </tr>\n",
       "    <tr>\n",
       "      <th>4</th>\n",
       "      <td>1</td>\n",
       "      <td>2</td>\n",
       "      <td>1</td>\n",
       "      <td>0</td>\n",
       "      <td>0</td>\n",
       "      <td>2</td>\n",
       "      <td>1</td>\n",
       "      <td>0</td>\n",
       "      <td>1</td>\n",
       "      <td>0</td>\n",
       "      <td>0</td>\n",
       "    </tr>\n",
       "  </tbody>\n",
       "</table>\n",
       "</div>"
      ],
      "text/plain": [
       "   sex  age_cat  race  juv_fel_count  juv_misd_count  priors_count  \\\n",
       "0    1        1     1              0               0             0   \n",
       "1    1        2     2              0               0             0   \n",
       "2    1        3     2              0               0             4   \n",
       "3    1        3     2              0               1             1   \n",
       "4    1        2     1              0               0             2   \n",
       "\n",
       "   c_charge_degree  is_violent_recid  v_decile_score  event  two_year_recid  \n",
       "0                1                 0               1      0               0  \n",
       "1                1                 1               1      1               1  \n",
       "2                1                 0               3      0               1  \n",
       "3                1                 0               6      0               0  \n",
       "4                1                 0               1      0               0  "
      ]
     },
     "execution_count": 34,
     "metadata": {},
     "output_type": "execute_result"
    }
   ],
   "source": [
    "#replacing strings with values\n",
    "df['sex'].replace({'Male': 1, 'Female': 2}, inplace = True)\n",
    "df['age_cat'].replace({'Greater than 45': 1, '25 - 45': 2, 'Less than 25': 3}, inplace = True)\n",
    "df['race'].replace({'Other': 1, 'African-American': 2, 'Caucasian': 3, 'Hispanic': 4, 'Native American': 5, 'Asian': 6}, inplace = True)\n",
    "df['c_charge_degree'].replace({'F': 1, 'M': 2}, inplace = True)\n",
    "df.head()"
   ]
  },
  {
   "cell_type": "markdown",
   "metadata": {},
   "source": [
    "Next step is to divide our dataset. we divide the data into train and test set. we will use 0.2 percent of the training dataset as the test set. We also separate the features (X) and the ground truth (y)."
   ]
  },
  {
   "cell_type": "code",
   "execution_count": 35,
   "metadata": {},
   "outputs": [],
   "source": [
    "X = df[['sex','age_cat', 'race', 'juv_fel_count', 'juv_misd_count', 'priors_count', 'c_charge_degree', \n",
    "         'is_violent_recid', 'v_decile_score', 'event']]\n",
    "y = df[['two_year_recid']] #ground truth\n",
    "classes = ['No Recid', 'Recid']\n",
    "\n",
    "# Arrange the data : Training, Testing\n",
    "X_train, X_test, y_train, y_test = train_test_split(X, y, test_size=0.2, random_state=RANDOM_SEED)"
   ]
  },
  {
   "cell_type": "markdown",
   "metadata": {},
   "source": [
    "<h2>2.2 Classifiers</h2>\n",
    "\n",
    "In this part we will present different type of classifiers. The first goal is to compare them with the compas classifier in terms of overall performance, in this case we will the basic metrics such as accuracy, precision, and recall. Then we will observe and compare the fairness to the existing COMPAS classifier. we will use the following for classifiers;\n",
    "   \n",
    "        1. Logistic Regression\n",
    "        2. Support Vector Machines\n",
    "        3. Decision Tress\n",
    "        3. K-nearest Neighbors\n",
    "        5. Neural Networks\n",
    "\n",
    "<h4>1. Logistic Regresssion</h4>\n",
    "Logistic regression is used for prediction.  Logistic regression is used to describe data and to explain the relationship between one dependent binary variables.\n"
   ]
  },
  {
   "cell_type": "code",
   "execution_count": 36,
   "metadata": {},
   "outputs": [
    {
     "name": "stdout",
     "output_type": "stream",
     "text": [
      "LogisticRegression(C=1.0, class_weight=None, dual=False, fit_intercept=True,\n",
      "                   intercept_scaling=1, l1_ratio=None, max_iter=100,\n",
      "                   multi_class='auto', n_jobs=None, penalty='l2',\n",
      "                   random_state=None, solver='lbfgs', tol=0.0001, verbose=0,\n",
      "                   warm_start=False) \n",
      "\n",
      "\n",
      "classification report \n",
      "               precision    recall  f1-score   support\n",
      "\n",
      "    No Recid       0.89      0.97      0.93       823\n",
      "       Recid       0.95      0.84      0.89       620\n",
      "\n",
      "    accuracy                           0.91      1443\n",
      "   macro avg       0.92      0.90      0.91      1443\n",
      "weighted avg       0.91      0.91      0.91      1443\n",
      "\n",
      "Overall Accuracy :  0.9112959112959113\n"
     ]
    },
    {
     "data": {
      "image/png": "[encoded data removed]",
      "text/plain": [
       "<Figure size 720x432 with 2 Axes>"
      ]
     },
     "metadata": {},
     "output_type": "display_data"
    }
   ],
   "source": [
    "# Logistic Regression \n",
    "log_reg = LogisticRegression()\n",
    "log_reg.fit(X_train, y_train.values.ravel())\n",
    "print (log_reg,'\\n\\n')\n",
    "\n",
    "#prediction\n",
    "y_pred = log_reg.predict(X_test)\n",
    "skplt.metrics.plot_confusion_matrix(y_test, y_pred)\n",
    "print('classification report \\n', classification_report(y_test, y_pred, target_names=classes))\n",
    "print(\"Overall Accuracy : \" , str(accuracy_score(y_test, y_pred)))"
   ]
  },
  {
   "cell_type": "markdown",
   "metadata": {},
   "source": [
    "we can observe from the classification report that logistic regression performs well . Precision and recall is at 0.91 which is a good measurement considering the best has to be 1 to indicate that all predictions were correctly made.\n",
    "Details can be view in the confusion matrix were true positives (520) and true negatives (795) have a higher values as compared to False positives (28) and False negatives(100).\n",
    "This classifier performs well as compared to Compass predictions.\n",
    "\n",
    "<h4>2. Support Vector Machine</h4>\n",
    "Support vector machine algorithm is used to find hyperplane in an N-dimensional space(N — the number of features) that distinctly classifies the data points to get nearly accurate predictions."
   ]
  },
  {
   "cell_type": "code",
   "execution_count": 37,
   "metadata": {},
   "outputs": [
    {
     "name": "stdout",
     "output_type": "stream",
     "text": [
      "SVC(C=1.0, break_ties=False, cache_size=200, class_weight=None, coef0=0.0,\n",
      "    decision_function_shape='ovr', degree=3, gamma='scale', kernel='rbf',\n",
      "    max_iter=-1, probability=False, random_state=None, shrinking=True,\n",
      "    tol=0.001, verbose=False) \n",
      "\n",
      "\n",
      "classification report \n",
      "               precision    recall  f1-score   support\n",
      "\n",
      "    No Recid       0.89      0.96      0.92       823\n",
      "       Recid       0.94      0.84      0.89       620\n",
      "\n",
      "    accuracy                           0.91      1443\n",
      "   macro avg       0.92      0.90      0.91      1443\n",
      "weighted avg       0.91      0.91      0.91      1443\n",
      "\n",
      "Overall Accuracy :  0.9106029106029107\n"
     ]
    },
    {
     "data": {
      "image/png": "[encoded data removed]",
      "text/plain": [
       "<Figure size 720x432 with 2 Axes>"
      ]
     },
     "metadata": {},
     "output_type": "display_data"
    }
   ],
   "source": [
    "clfsvm = svm.SVC()\n",
    "clfsvm.fit(X_train, y_train.values.ravel())\n",
    "print (clfsvm,'\\n\\n')\n",
    "\n",
    "#prediction\n",
    "y_pred = clfsvm.predict(X_test)\n",
    "skplt.metrics.plot_confusion_matrix(y_test, y_pred)\n",
    "print('classification report \\n', classification_report(y_test, y_pred, target_names=classes))\n",
    "print(\"Overall Accuracy : \" , str(accuracy_score(y_test, y_pred)))"
   ]
  },
  {
   "cell_type": "markdown",
   "metadata": {},
   "source": [
    "we can see from the classification report that precision and recall stands at 0.91 which is a good indication of the classifier. We can say the performance is almost equal with logitic regression. Confusion matrix presents true positives (523) and true negatives (795) have a higher values as compared to False positives (32) and False negatives(97). comparing with Logistic regression, the predictions variations is very negligible. This classifier also performs better than COMPAS predictions.\n",
    "\n",
    "\n",
    "<h4>3. Decision Tree Classifier </h4>\n",
    "Decision tres work more like an if-else consition. It split the data and continuously splits based on the features available .until it reaches the lowers point or a leaf."
   ]
  },
  {
   "cell_type": "code",
   "execution_count": 38,
   "metadata": {},
   "outputs": [
    {
     "name": "stdout",
     "output_type": "stream",
     "text": [
      "DecisionTreeClassifier(ccp_alpha=0.0, class_weight=None, criterion='gini',\n",
      "                       max_depth=None, max_features=None, max_leaf_nodes=None,\n",
      "                       min_impurity_decrease=0.0, min_impurity_split=None,\n",
      "                       min_samples_leaf=1, min_samples_split=2,\n",
      "                       min_weight_fraction_leaf=0.0, presort='deprecated',\n",
      "                       random_state=None, splitter='best') \n",
      "\n",
      "\n",
      "classification report \n",
      "               precision    recall  f1-score   support\n",
      "\n",
      "    No Recid       0.87      0.93      0.90       823\n",
      "       Recid       0.89      0.81      0.85       620\n",
      "\n",
      "    accuracy                           0.88      1443\n",
      "   macro avg       0.88      0.87      0.87      1443\n",
      "weighted avg       0.88      0.88      0.88      1443\n",
      "\n",
      "Overall Accuracy :  0.878031878031878\n"
     ]
    },
    {
     "data": {
      "image/png": "[encoded data removed]",
      "text/plain": [
       "<Figure size 720x432 with 2 Axes>"
      ]
     },
     "metadata": {},
     "output_type": "display_data"
    }
   ],
   "source": [
    "clf = DecisionTreeClassifier()\n",
    "clf.fit(X_train, y_train)\n",
    "print (clf,'\\n\\n')\n",
    "\n",
    "#prediction\n",
    "y_pred = clf.predict(X_test)\n",
    "skplt.metrics.plot_confusion_matrix(y_test, y_pred)\n",
    "print('classification report \\n', classification_report(y_test, y_pred, target_names=classes))\n",
    "print(\"Overall Accuracy : \" , str(accuracy_score(y_test, y_pred)))"
   ]
  },
  {
   "cell_type": "markdown",
   "metadata": {},
   "source": [
    "For decision trees, we can see our performance matrix have reduced to 0.88 as compared to SVM and logistic regression. One problem of decision trees is that it can create over-complex trees that do not generalize the data well for accurate predictions and also small variations in the data might result in a different tree being generated. This also affects the prediction.\n",
    "\n",
    "But from above we can see that the performance metric is quite ok. the predictions are also not far from SVM and logistic regression. we have true positives (509) and true negatives (763) have a higher values as compared to False positives (60) and False negatives(111). This classifier also outperforms COMPAS predictions in this case.\n",
    "\n",
    "<h4>4. K Nearest Neighbors </h4>"
   ]
  },
  {
   "cell_type": "code",
   "execution_count": 39,
   "metadata": {},
   "outputs": [
    {
     "name": "stdout",
     "output_type": "stream",
     "text": [
      "KNeighborsClassifier(algorithm='auto', leaf_size=30, metric='minkowski',\n",
      "                     metric_params=None, n_jobs=None, n_neighbors=3, p=2,\n",
      "                     weights='uniform') \n",
      "\n",
      "\n",
      "classification report \n",
      "               precision    recall  f1-score   support\n",
      "\n",
      "    No Recid       0.86      0.92      0.89       823\n",
      "       Recid       0.88      0.80      0.84       620\n",
      "\n",
      "    accuracy                           0.87      1443\n",
      "   macro avg       0.87      0.86      0.86      1443\n",
      "weighted avg       0.87      0.87      0.87      1443\n",
      "\n",
      "Overall Accuracy :  0.8669438669438669\n"
     ]
    },
    {
     "data": {
      "image/png": "[encoded data removed]",
      "text/plain": [
       "<Figure size 720x432 with 2 Axes>"
      ]
     },
     "metadata": {},
     "output_type": "display_data"
    }
   ],
   "source": [
    "neigh = KNeighborsClassifier(n_neighbors=3)\n",
    "neigh.fit(X_train, y_train.values.ravel())\n",
    "print (neigh,'\\n\\n')\n",
    "\n",
    "#prediction\n",
    "y_pred = neigh.predict(X_test)\n",
    "skplt.metrics.plot_confusion_matrix(y_test, y_pred)\n",
    "print('classification report \\n', classification_report(y_test, y_pred, target_names=classes))\n",
    "print(\"Overall Accuracy : \" , str(accuracy_score(y_test, y_pred)))"
   ]
  },
  {
   "cell_type": "markdown",
   "metadata": {},
   "source": [
    "From the performance metrics, K nearest neighbours also performs less as compared to Logistic Regression and SVM. \n",
    "using this has increase the number of misclassifications as compared to Decision trees even though the accuracy is almost performance metric is almost same (0.87).\n",
    "we have true positives (493) and true negatives (758) have a higher values as compared to False positives (65) and False negatives(127).\n",
    "\n",
    "<h4>5. Neural Network </h4>\n",
    "In order to train the neural network we will have to split the data training again to get validation set. We then need to convert them into a tensor to be able to train and test with Pytorch."
   ]
  },
  {
   "cell_type": "code",
   "execution_count": 40,
   "metadata": {},
   "outputs": [
    {
     "name": "stdout",
     "output_type": "stream",
     "text": [
      "Training\t :torch.Size([5193, 10]), torch.Size([5193])\n",
      "Testing\t\t :torch.Size([1443, 10]), torch.Size([1443])\n",
      "Validation\t :torch.Size([578, 10]), torch.Size([578])\n"
     ]
    }
   ],
   "source": [
    "#splitting the data\n",
    "X_train, X_validate, y_train, y_validate = train_test_split(X_train, y_train, test_size=0.1, random_state=RANDOM_SEED)\n",
    "\n",
    "# conversion to tensor\n",
    "X_train = torch.from_numpy(X_train.to_numpy()).float()\n",
    "y_train = torch.squeeze(torch.from_numpy(y_train.to_numpy()).float())\n",
    "X_testnet = torch.from_numpy(X_test.to_numpy()).float()\n",
    "y_testnet = torch.squeeze(torch.from_numpy(y_test.to_numpy()).float())\n",
    "X_validate = torch.from_numpy(X_validate.to_numpy()).float()\n",
    "y_validate = torch.squeeze(torch.from_numpy(y_validate.to_numpy()).float())\n",
    "\n",
    "print(\"Training\\t :\"+ str(X_train.shape) +\", \"+ str(y_train.shape))\n",
    "print(\"Testing\\t\\t :\"+ str(X_testnet.shape) +\", \"+ str(y_testnet.shape))\n",
    "print(\"Validation\\t :\"+ str(X_validate.shape) +\", \"+ str(y_validate.shape))"
   ]
  },
  {
   "cell_type": "markdown",
   "metadata": {},
   "source": [
    "#### First Model\n",
    "Our first model will use simple architecture of neural network which has 3 convolutional layers. A batch size of 100, learning rate of 0.001"
   ]
  },
  {
   "cell_type": "code",
   "execution_count": 41,
   "metadata": {
    "scrolled": false
   },
   "outputs": [
    {
     "name": "stdout",
     "output_type": "stream",
     "text": [
      "firstmodel(\n",
      "  (fc1): Linear(in_features=10, out_features=5, bias=True)\n",
      "  (fc2): Linear(in_features=5, out_features=3, bias=True)\n",
      "  (fc3): Linear(in_features=3, out_features=1, bias=True)\n",
      ")\n",
      "\n",
      "\n",
      "epoch {0} \t==> Train : - Loss: 0.693, Acc: 0.478 \t|| Validation : - Loss: 0.687, Acc: 0.51\n",
      "epoch {50} \t==> Train : - Loss: 0.347, Acc: 0.891 \t|| Validation : - Loss: 0.31, Acc: 0.901\n",
      "epoch {100} \t==> Train : - Loss: 0.336, Acc: 0.891 \t|| Validation : - Loss: 0.307, Acc: 0.901\n",
      "epoch {150} \t==> Train : - Loss: 0.333, Acc: 0.891 \t|| Validation : - Loss: 0.306, Acc: 0.903\n",
      "epoch {200} \t==> Train : - Loss: 0.335, Acc: 0.891 \t|| Validation : - Loss: 0.302, Acc: 0.901\n",
      "epoch {250} \t==> Train : - Loss: 0.334, Acc: 0.891 \t|| Validation : - Loss: 0.302, Acc: 0.901\n",
      "epoch {300} \t==> Train : - Loss: 0.334, Acc: 0.891 \t|| Validation : - Loss: 0.302, Acc: 0.901\n",
      "epoch {350} \t==> Train : - Loss: 0.334, Acc: 0.891 \t|| Validation : - Loss: 0.302, Acc: 0.901\n",
      "\n",
      " classification report \n",
      "               precision    recall  f1-score   support\n",
      "\n",
      "    No Recid       0.89      0.97      0.93       823\n",
      "       Recid       0.96      0.84      0.89       620\n",
      "\n",
      "    accuracy                           0.91      1443\n",
      "   macro avg       0.92      0.90      0.91      1443\n",
      "weighted avg       0.92      0.91      0.91      1443\n",
      "\n",
      "Overall Accuracy :  0.9140679140679141\n"
     ]
    },
    {
     "data": {
      "text/plain": [
       "<matplotlib.axes._subplots.AxesSubplot at 0x7f13f9336c10>"
      ]
     },
     "execution_count": 41,
     "metadata": {},
     "output_type": "execute_result"
    },
    {
     "data": {
      "image/png": "[encoded data removed]",
      "text/plain": [
       "<Figure size 720x432 with 2 Axes>"
      ]
     },
     "metadata": {},
     "output_type": "display_data"
    }
   ],
   "source": [
    "# Defining the model #1\n",
    "class firstmodel(nn.Module):\n",
    "  def __init__(self, n_features):\n",
    "    super(firstmodel, self).__init__()\n",
    "    self.fc1 = nn.Linear(n_features, 5)\n",
    "    self.fc2 = nn.Linear(5, 3)\n",
    "    self.fc3 = nn.Linear(3, 1)\n",
    "  def forward(self, x):\n",
    "    x = F.relu(self.fc1(x))\n",
    "    x = F.relu(self.fc2(x))\n",
    "    return torch.sigmoid(self.fc3(x))\n",
    "\n",
    "net1 = firstmodel(X_train.shape[1])\n",
    "print(net1)\n",
    "\n",
    "def calculate_accuracy(y_true, y_pred):\n",
    "  predicted = y_pred.ge(.5).view(-1)\n",
    "  return (y_true == predicted).sum().float() / len(y_true)\n",
    "def round_tensor(t, decimal_places=3):\n",
    "  return round(t.item(), decimal_places)\n",
    "\n",
    "criterion = nn.BCELoss()\n",
    "optimizer = optim.Adam(net1.parameters(), lr=0.001)\n",
    "print(\"\\n\")\n",
    "max_epochs = 400\n",
    "batch_size = 100\n",
    "batch_number = math.ceil(len(X_train)/batch_size)\n",
    "for epoch in range (max_epochs):\n",
    "    for batch_idx in range (batch_number):\n",
    "        # Set up batch\n",
    "        batch_end = ((batch_idx+1) * batch_size -1)\n",
    "        batch_start = batch_idx * batch_size\n",
    "        if (batch_idx == (batch_number-1)):\n",
    "            batch_end = (len(X_train) -1)\n",
    "        batch_x = X_train[batch_start : batch_end]\n",
    "        batch_y = y_train[batch_start : batch_end]\n",
    "        \n",
    "        # Fit the training data and validate\n",
    "        train_pred = net1(batch_x)\n",
    "        train_pred = torch.squeeze(train_pred)\n",
    "        train_loss = criterion(train_pred, batch_y)\n",
    "        train_acc = calculate_accuracy(batch_y, train_pred)\n",
    "        y_validate_pred = net1(X_validate)\n",
    "        y_validate_pred = torch.squeeze(y_validate_pred)\n",
    "        validate_loss = criterion(y_validate_pred, y_validate)\n",
    "        validation_acc = calculate_accuracy(y_validate, y_validate_pred)\n",
    "        optimizer.zero_grad()\n",
    "        train_loss.backward()\n",
    "        optimizer.step()\n",
    "    if epoch % 50 == 0:\n",
    "        print( f'''epoch { {epoch} } \\t==> Train : - Loss: {round_tensor(train_loss)}, Acc: {round_tensor(train_acc)} \\t|| Validation : - Loss: {round_tensor(validate_loss)}, Acc: {round_tensor(validation_acc)}''')\n",
    "\n",
    "\n",
    "# Test the model using test set\n",
    "y_pred = net1(X_testnet)\n",
    "y_pred = y_pred.ge(.5).view(-1).cpu()\n",
    "y_testnet = y_testnet.cpu()\n",
    "print('\\n classification report \\n', classification_report(y_testnet, y_pred, target_names=classes))\n",
    "print(\"Overall Accuracy : \" , str(accuracy_score(y_testnet, y_pred)))\n",
    "skplt.metrics.plot_confusion_matrix(y_testnet, y_pred)\n"
   ]
  },
  {
   "cell_type": "markdown",
   "metadata": {},
   "source": [
    "The performance metrics for this model stands at 0.92 which is a little improvement as compared to the previous classifiers. we have true positives (520) and true negatives (801) have a higher values as compared to False positives (22) and False negatives(100). This first neural network model also outperforms COMPAS predictions in this case.\n",
    "\n",
    "### Second model\n",
    "In this model we added more layers and neurons. We also try to use different activation function(tanh)."
   ]
  },
  {
   "cell_type": "code",
   "execution_count": 42,
   "metadata": {},
   "outputs": [
    {
     "name": "stdout",
     "output_type": "stream",
     "text": [
      "secondmodel(\n",
      "  (fc1): Linear(in_features=10, out_features=20, bias=True)\n",
      "  (fc2): Linear(in_features=20, out_features=20, bias=True)\n",
      "  (fc3): Linear(in_features=20, out_features=10, bias=True)\n",
      "  (fc4): Linear(in_features=10, out_features=1, bias=True)\n",
      ")\n",
      "\n",
      "\n",
      "epoch {0} \t==> Train : - Loss: 0.618, Acc: 0.685 \t|| Validation : - Loss: 0.617, Acc: 0.68\n",
      "epoch {50} \t==> Train : - Loss: 0.32, Acc: 0.891 \t|| Validation : - Loss: 0.291, Acc: 0.9\n",
      "epoch {100} \t==> Train : - Loss: 0.319, Acc: 0.891 \t|| Validation : - Loss: 0.295, Acc: 0.9\n",
      "epoch {150} \t==> Train : - Loss: 0.322, Acc: 0.891 \t|| Validation : - Loss: 0.301, Acc: 0.9\n",
      "epoch {200} \t==> Train : - Loss: 0.308, Acc: 0.891 \t|| Validation : - Loss: 0.295, Acc: 0.903\n",
      "epoch {250} \t==> Train : - Loss: 0.301, Acc: 0.891 \t|| Validation : - Loss: 0.296, Acc: 0.901\n",
      "epoch {300} \t==> Train : - Loss: 0.308, Acc: 0.891 \t|| Validation : - Loss: 0.302, Acc: 0.9\n",
      "epoch {350} \t==> Train : - Loss: 0.295, Acc: 0.891 \t|| Validation : - Loss: 0.304, Acc: 0.9\n",
      "\n",
      " classification report \n",
      "               precision    recall  f1-score   support\n",
      "\n",
      "    No Recid       0.89      0.96      0.93       823\n",
      "       Recid       0.95      0.85      0.89       620\n",
      "\n",
      "    accuracy                           0.91      1443\n",
      "   macro avg       0.92      0.90      0.91      1443\n",
      "weighted avg       0.92      0.91      0.91      1443\n",
      "\n",
      "Overall Accuracy :  0.9133749133749134\n"
     ]
    },
    {
     "data": {
      "text/plain": [
       "<matplotlib.axes._subplots.AxesSubplot at 0x7f13f92634d0>"
      ]
     },
     "execution_count": 42,
     "metadata": {},
     "output_type": "execute_result"
    },
    {
     "data": {
      "image/png": "[encoded data removed]",
      "text/plain": [
       "<Figure size 720x432 with 2 Axes>"
      ]
     },
     "metadata": {},
     "output_type": "display_data"
    }
   ],
   "source": [
    "# Defining the model  #2\n",
    "# Adding layers and neurons\n",
    "class secondmodel(nn.Module):\n",
    "\n",
    "  def __init__(self, n_features):\n",
    "    super(secondmodel, self).__init__()\n",
    "    self.fc1 = nn.Linear(n_features, 20)\n",
    "    self.fc2 = nn.Linear(20, 20)\n",
    "    self.fc3 = nn.Linear(20, 10)\n",
    "    self.fc4 = nn.Linear(10, 1)\n",
    "\n",
    "  def forward(self, x):\n",
    "    x = torch.tanh(self.fc1(x))\n",
    "    x = torch.tanh(self.fc2(x))\n",
    "    x = torch.tanh(self.fc3(x))\n",
    "    return torch.sigmoid(self.fc4(x))\n",
    "\n",
    "net = secondmodel(X_train.shape[1])\n",
    "print(net)\n",
    "\n",
    "def calculate_accuracy(y_true, y_pred):\n",
    "  predicted = y_pred.ge(.5).view(-1)\n",
    "  return (y_true == predicted).sum().float() / len(y_true)\n",
    "\n",
    "def round_tensor(t, decimal_places=3):\n",
    "  return round(t.item(), decimal_places)\n",
    "\n",
    "criterion = nn.BCELoss()\n",
    "optimizer = optim.Adam(net.parameters(), lr=0.001)\n",
    "print(\"\\n\")\n",
    "max_epochs = 400\n",
    "batch_size = 100\n",
    "batch_number = math.ceil(len(X_train)/batch_size)\n",
    "for epoch in range (max_epochs):\n",
    "    for batch_idx in range (batch_number):\n",
    "        # Set up batch\n",
    "        batch_end = ((batch_idx+1) * batch_size -1)\n",
    "        batch_start = batch_idx * batch_size\n",
    "        if (batch_idx == (batch_number-1)):\n",
    "            batch_end = (len(X_train) -1)\n",
    "        batch_x = X_train[batch_start : batch_end]\n",
    "        batch_y = y_train[batch_start : batch_end]\n",
    "        \n",
    "        # Fit the training data and validate\n",
    "        train_pred = net(batch_x)\n",
    "        train_pred = torch.squeeze(train_pred)\n",
    "        train_loss = criterion(train_pred, batch_y)\n",
    "        train_acc = calculate_accuracy(batch_y, train_pred)\n",
    "        y_validate_pred = net(X_validate)\n",
    "        y_validate_pred = torch.squeeze(y_validate_pred)\n",
    "        validate_loss = criterion(y_validate_pred, y_validate)\n",
    "        validation_acc = calculate_accuracy(y_validate, y_validate_pred)\n",
    "        optimizer.zero_grad()\n",
    "        train_loss.backward()\n",
    "        optimizer.step()\n",
    "    if epoch % 50 == 0:\n",
    "        print( f'''epoch { {epoch} } \\t==> Train : - Loss: {round_tensor(train_loss)}, Acc: {round_tensor(train_acc)} \\t|| Validation : - Loss: {round_tensor(validate_loss)}, Acc: {round_tensor(validation_acc)}''')\n",
    "\n",
    "\n",
    "# Test the model using test set\n",
    "y_pred = net(X_testnet)\n",
    "y_pred = y_pred.ge(.5).view(-1).cpu()\n",
    "y_testnet = y_testnet.cpu()\n",
    "print('\\n classification report \\n', classification_report(y_testnet, y_pred, target_names=classes))\n",
    "print(\"Overall Accuracy : \" , str(accuracy_score(y_testnet, y_pred)))\n",
    "skplt.metrics.plot_confusion_matrix(y_testnet, y_pred)"
   ]
  },
  {
   "cell_type": "markdown",
   "metadata": {},
   "source": [
    "from the two models described, we can see they perform almost equally but model 2 outperforms the first model by a difference in accuarcy of 0.003. there is also slight variation in the classifications based ont the confusion matrixes.\n",
    "we have true positives (527) and true negatives (793) have a higher values as compared to False positives (30) and False negatives(93)\n",
    "From both model, we can conclude that the performance is almost equal as the other classifiers we described above.\n",
    "\n",
    "Model 2 outperforms model 1 looking as the confusion matrix values. Both models also outperform the COMPASS prediction.\n",
    "\n",
    "Looking at the performance metrics of all our classifiers, they actually perform better compared to compass mode of prediction. We will recommend to use Logitic rgression, SVM or Neural networks to for the classification and prediction (based on the performances of our networks)."
   ]
  },
  {
   "cell_type": "markdown",
   "metadata": {},
   "source": [
    "## 2.3 Feature Sets\n",
    "According to Probublica's Analysis, they use features including severity of charge, number of priors, demographics, age, sex, compas scores, and whether each person was accused of a crime within two years to predict recidivism.\n",
    "\n",
    "In our case we used the following for our prediction so far;\n",
    "            \n",
    "            sex','age_cat', 'race', 'juv_fel_count', 'juv_misd_count', 'priors_count', \n",
    "         'c_charge_degree','is_violent_recid', 'v_decile_score', 'event','two_year_recid'\n",
    "\n",
    "We want to determine in this section which features amongst our selected ones actually has an effect on the prediction. this will inform us the feature set that are really important to use in our subsequent sections.\n",
    "for this section, we use use the logistic regression classifier we define above to determine the important feature  sets.\n",
    "\n",
    "Our approach is to remove one feature set at a time and observe performance while maintaining our ground tuth as 'two_year_recid'"
   ]
  },
  {
   "cell_type": "code",
   "execution_count": 43,
   "metadata": {},
   "outputs": [
    {
     "data": {
      "text/html": [
       "<div>\n",
       "<style scoped>\n",
       "    .dataframe tbody tr th:only-of-type {\n",
       "        vertical-align: middle;\n",
       "    }\n",
       "\n",
       "    .dataframe tbody tr th {\n",
       "        vertical-align: top;\n",
       "    }\n",
       "\n",
       "    .dataframe thead th {\n",
       "        text-align: right;\n",
       "    }\n",
       "</style>\n",
       "<table border=\"1\" class=\"dataframe\">\n",
       "  <thead>\n",
       "    <tr style=\"text-align: right;\">\n",
       "      <th></th>\n",
       "      <th>sex</th>\n",
       "      <th>age_cat</th>\n",
       "      <th>race</th>\n",
       "      <th>juv_fel_count</th>\n",
       "      <th>juv_misd_count</th>\n",
       "      <th>priors_count</th>\n",
       "      <th>c_charge_degree</th>\n",
       "      <th>is_violent_recid</th>\n",
       "      <th>v_decile_score</th>\n",
       "      <th>event</th>\n",
       "      <th>two_year_recid</th>\n",
       "    </tr>\n",
       "  </thead>\n",
       "  <tbody>\n",
       "    <tr>\n",
       "      <th>0</th>\n",
       "      <td>1</td>\n",
       "      <td>1</td>\n",
       "      <td>1</td>\n",
       "      <td>0</td>\n",
       "      <td>0</td>\n",
       "      <td>0</td>\n",
       "      <td>1</td>\n",
       "      <td>0</td>\n",
       "      <td>1</td>\n",
       "      <td>0</td>\n",
       "      <td>0</td>\n",
       "    </tr>\n",
       "    <tr>\n",
       "      <th>1</th>\n",
       "      <td>1</td>\n",
       "      <td>2</td>\n",
       "      <td>2</td>\n",
       "      <td>0</td>\n",
       "      <td>0</td>\n",
       "      <td>0</td>\n",
       "      <td>1</td>\n",
       "      <td>1</td>\n",
       "      <td>1</td>\n",
       "      <td>1</td>\n",
       "      <td>1</td>\n",
       "    </tr>\n",
       "    <tr>\n",
       "      <th>2</th>\n",
       "      <td>1</td>\n",
       "      <td>3</td>\n",
       "      <td>2</td>\n",
       "      <td>0</td>\n",
       "      <td>0</td>\n",
       "      <td>4</td>\n",
       "      <td>1</td>\n",
       "      <td>0</td>\n",
       "      <td>3</td>\n",
       "      <td>0</td>\n",
       "      <td>1</td>\n",
       "    </tr>\n",
       "    <tr>\n",
       "      <th>3</th>\n",
       "      <td>1</td>\n",
       "      <td>3</td>\n",
       "      <td>2</td>\n",
       "      <td>0</td>\n",
       "      <td>1</td>\n",
       "      <td>1</td>\n",
       "      <td>1</td>\n",
       "      <td>0</td>\n",
       "      <td>6</td>\n",
       "      <td>0</td>\n",
       "      <td>0</td>\n",
       "    </tr>\n",
       "    <tr>\n",
       "      <th>4</th>\n",
       "      <td>1</td>\n",
       "      <td>2</td>\n",
       "      <td>1</td>\n",
       "      <td>0</td>\n",
       "      <td>0</td>\n",
       "      <td>2</td>\n",
       "      <td>1</td>\n",
       "      <td>0</td>\n",
       "      <td>1</td>\n",
       "      <td>0</td>\n",
       "      <td>0</td>\n",
       "    </tr>\n",
       "  </tbody>\n",
       "</table>\n",
       "</div>"
      ],
      "text/plain": [
       "   sex  age_cat  race  juv_fel_count  juv_misd_count  priors_count  \\\n",
       "0    1        1     1              0               0             0   \n",
       "1    1        2     2              0               0             0   \n",
       "2    1        3     2              0               0             4   \n",
       "3    1        3     2              0               1             1   \n",
       "4    1        2     1              0               0             2   \n",
       "\n",
       "   c_charge_degree  is_violent_recid  v_decile_score  event  two_year_recid  \n",
       "0                1                 0               1      0               0  \n",
       "1                1                 1               1      1               1  \n",
       "2                1                 0               3      0               1  \n",
       "3                1                 0               6      0               0  \n",
       "4                1                 0               1      0               0  "
      ]
     },
     "execution_count": 43,
     "metadata": {},
     "output_type": "execute_result"
    }
   ],
   "source": [
    "dfnew = df\n",
    "dfnew.head()"
   ]
  },
  {
   "cell_type": "markdown",
   "metadata": {},
   "source": [
    "<b>1.</b> Firstly, we remove 'v_decile_score' and 'is_violent_recid' from the features to analyse the performance"
   ]
  },
  {
   "cell_type": "code",
   "execution_count": 44,
   "metadata": {},
   "outputs": [
    {
     "name": "stdout",
     "output_type": "stream",
     "text": [
      "classification report \n",
      "               precision    recall  f1-score   support\n",
      "\n",
      "    No Recid       0.88      0.96      0.92       823\n",
      "       Recid       0.94      0.82      0.88       620\n",
      "\n",
      "    accuracy                           0.90      1443\n",
      "   macro avg       0.91      0.89      0.90      1443\n",
      "weighted avg       0.90      0.90      0.90      1443\n",
      "\n",
      "Overall Accuracy :  0.9002079002079002\n"
     ]
    }
   ],
   "source": [
    "X_new = dfnew[['sex','age_cat', 'race', 'juv_fel_count', 'juv_misd_count', 'priors_count', 'c_charge_degree', 'event']]\n",
    "y_new = dfnew[['two_year_recid']] #ground truth\n",
    "classes = ['No Recid', 'Recid']\n",
    "\n",
    "# Arrange the data : Training, Testing\n",
    "X_trainfs, X_testfs, y_trainfs, y_testfs = train_test_split(X_new, y_new, test_size=0.2, random_state=RANDOM_SEED)\n",
    "\n",
    "# Logistic Regression \n",
    "log_reg_new = LogisticRegression()\n",
    "log_reg_new.fit(X_trainfs, y_trainfs.values.ravel())\n",
    "# print (log_reg_new,'\\n\\n')\n",
    "\n",
    "#prediction\n",
    "y_predfs = log_reg_new.predict(X_testfs)\n",
    "# skplt.metrics.plot_confusion_matrix(y_test, y_pred)\n",
    "print('classification report \\n', classification_report(y_testfs, y_predfs, target_names=classes))\n",
    "print(\"Overall Accuracy : \" , str(accuracy_score(y_testfs, y_predfs)))"
   ]
  },
  {
   "cell_type": "markdown",
   "metadata": {},
   "source": [
    "we can see from the classification report that removing 'v_decile_score' and 'is_violent_recid' from the feature set does not really affect the peformance of the classifier. Performance metric (accuarcy, precision and recall) is 0.90 and overall accuracy is also 0.90 as compared to the original set which gave us 0.91\n",
    "\n",
    "<b>2.</b> In the next part we remove 'juv_fel_count' and 'c_charge_degree' in addition to the previously removed features to analyse the performance."
   ]
  },
  {
   "cell_type": "code",
   "execution_count": 45,
   "metadata": {},
   "outputs": [
    {
     "name": "stdout",
     "output_type": "stream",
     "text": [
      "classification report \n",
      "               precision    recall  f1-score   support\n",
      "\n",
      "    No Recid       0.87      0.97      0.92       823\n",
      "       Recid       0.95      0.81      0.88       620\n",
      "\n",
      "    accuracy                           0.90      1443\n",
      "   macro avg       0.91      0.89      0.90      1443\n",
      "weighted avg       0.91      0.90      0.90      1443\n",
      "\n",
      "Overall Accuracy :  0.9015939015939016\n"
     ]
    }
   ],
   "source": [
    "X_new = dfnew[['sex','age_cat', 'race', 'juv_misd_count', 'priors_count', 'event']]\n",
    "y_new = dfnew[['two_year_recid']] #ground truth\n",
    "classes = ['No Recid', 'Recid']\n",
    "\n",
    "# Arrange the data : Training, Testing\n",
    "X_trainfs, X_testfs, y_trainfs, y_testfs = train_test_split(X_new, y_new, test_size=0.2, random_state=RANDOM_SEED)\n",
    "\n",
    "# Logistic Regression \n",
    "log_reg_new = LogisticRegression()\n",
    "log_reg_new.fit(X_trainfs, y_trainfs.values.ravel())\n",
    "# print (log_reg_new,'\\n\\n')\n",
    "\n",
    "#prediction\n",
    "y_predfs = log_reg_new.predict(X_testfs)\n",
    "# skplt.metrics.plot_confusion_matrix(y_test, y_pred)\n",
    "print('classification report \\n', classification_report(y_testfs, y_predfs, target_names=classes))\n",
    "print(\"Overall Accuracy : \" , str(accuracy_score(y_testfs, y_predfs)))"
   ]
  },
  {
   "cell_type": "markdown",
   "metadata": {},
   "source": [
    "we can see from the classification report that removing 'juv_fel_count' and 'c_charge_degree' also does not have much effect on the peformance of the classifier. \n",
    "Performance metric (accuarcy, precision and recall) is 0.90 and overall accuracy is also 0.90 as compared to the original set which gave us 0.91. we still need to remove more features to determine the needed features.\n",
    "\n",
    "<b>3.</b> in the next part we remove 'sex','age_cat'and 'juv_misd_count' in addition to previously removed features"
   ]
  },
  {
   "cell_type": "code",
   "execution_count": 46,
   "metadata": {},
   "outputs": [
    {
     "name": "stdout",
     "output_type": "stream",
     "text": [
      "classification report \n",
      "               precision    recall  f1-score   support\n",
      "\n",
      "    No Recid       0.87      0.97      0.92       823\n",
      "       Recid       0.95      0.81      0.87       620\n",
      "\n",
      "    accuracy                           0.90      1443\n",
      "   macro avg       0.91      0.89      0.90      1443\n",
      "weighted avg       0.90      0.90      0.90      1443\n",
      "\n",
      "Overall Accuracy :  0.8995148995148995\n"
     ]
    }
   ],
   "source": [
    "X_new = dfnew[[ 'race', 'priors_count', 'event']]\n",
    "y_new = dfnew[['two_year_recid']] #ground truth\n",
    "classes = ['No Recid', 'Recid']\n",
    "\n",
    "# Arrange the data : Training, Testing\n",
    "X_trainfs, X_testfs, y_trainfs, y_testfs = train_test_split(X_new, y_new, test_size=0.2, random_state=RANDOM_SEED)\n",
    "\n",
    "# Logistic Regression \n",
    "log_reg_new = LogisticRegression()\n",
    "log_reg_new.fit(X_trainfs, y_trainfs.values.ravel())\n",
    "# print (log_reg_new,'\\n\\n')\n",
    "\n",
    "#prediction\n",
    "y_predfs = log_reg_new.predict(X_testfs)\n",
    "# skplt.metrics.plot_confusion_matrix(y_test, y_pred)\n",
    "print('classification report \\n', classification_report(y_testfs, y_predfs, target_names=classes))\n",
    "print(\"Overall Accuracy : \" , str(accuracy_score(y_testfs, y_predfs)))"
   ]
  },
  {
   "cell_type": "markdown",
   "metadata": {},
   "source": [
    "Again Performance metric (accuarcy, precision and recall) is 0.90 and overall accuracy is also 0.89 as compared to the original set which gave us 0.91. Performance is actually still good in this regard. We still need to remove more features to determine the needed features.\n",
    "\n",
    "<b>4.</b> in the next part we remove 'priors_count' "
   ]
  },
  {
   "cell_type": "code",
   "execution_count": 47,
   "metadata": {},
   "outputs": [
    {
     "name": "stdout",
     "output_type": "stream",
     "text": [
      "classification report \n",
      "               precision    recall  f1-score   support\n",
      "\n",
      "    No Recid       0.87      0.98      0.92       823\n",
      "       Recid       0.96      0.80      0.87       620\n",
      "\n",
      "    accuracy                           0.90      1443\n",
      "   macro avg       0.91      0.89      0.90      1443\n",
      "weighted avg       0.91      0.90      0.90      1443\n",
      "\n",
      "Overall Accuracy :  0.9002079002079002\n"
     ]
    }
   ],
   "source": [
    "X_new = dfnew[['race', 'event']]\n",
    "y_new = dfnew[['two_year_recid']] #ground truth\n",
    "classes = ['No Recid', 'Recid']\n",
    "\n",
    "# Arrange the data : Training, Testing\n",
    "X_trainfs, X_testfs, y_trainfs, y_testfs = train_test_split(X_new, y_new, test_size=0.2, random_state=RANDOM_SEED)\n",
    "\n",
    "# Logistic Regression \n",
    "log_reg_new = LogisticRegression()\n",
    "log_reg_new.fit(X_trainfs, y_trainfs.values.ravel())\n",
    "# print (log_reg_new,'\\n\\n')\n",
    "\n",
    "#prediction\n",
    "y_predfs = log_reg_new.predict(X_testfs)\n",
    "# skplt.metrics.plot_confusion_matrix(y_test, y_pred)\n",
    "print('classification report \\n', classification_report(y_testfs, y_predfs, target_names=classes))\n",
    "print(\"Overall Accuracy : \" , str(accuracy_score(y_testfs, y_predfs)))"
   ]
  },
  {
   "cell_type": "markdown",
   "metadata": {},
   "source": [
    "Again Performance metric (accuarcy, precision and recall) is 0.90 and overall accuracy is also 0.90 as compared to the original set which gave us 0.91. \n",
    "Performance is actually still good in this regard. We still need to remove more features to determine the needed features.\n",
    "\n",
    "<b>4.</b> in the next part we remove 'event' "
   ]
  },
  {
   "cell_type": "code",
   "execution_count": 48,
   "metadata": {},
   "outputs": [
    {
     "name": "stdout",
     "output_type": "stream",
     "text": [
      "classification report \n",
      "               precision    recall  f1-score   support\n",
      "\n",
      "    No Recid       0.56      0.93      0.70       823\n",
      "       Recid       0.33      0.04      0.08       620\n",
      "\n",
      "    accuracy                           0.55      1443\n",
      "   macro avg       0.45      0.49      0.39      1443\n",
      "weighted avg       0.46      0.55      0.43      1443\n",
      "\n",
      "Overall Accuracy :  0.5509355509355509\n"
     ]
    }
   ],
   "source": [
    "X_new = dfnew[[ 'race']]\n",
    "y_new = dfnew[['two_year_recid']] #ground truth\n",
    "classes = ['No Recid', 'Recid']\n",
    "\n",
    "# Arrange the data : Training, Testing\n",
    "X_trainfs, X_testfs, y_trainfs, y_testfs = train_test_split(X_new, y_new, test_size=0.2, random_state=RANDOM_SEED)\n",
    "\n",
    "# Logistic Regression \n",
    "log_reg_new = LogisticRegression()\n",
    "log_reg_new.fit(X_trainfs, y_trainfs.values.ravel())\n",
    "# print (log_reg_new,'\\n\\n')\n",
    "\n",
    "#prediction\n",
    "y_predfs = log_reg_new.predict(X_testfs)\n",
    "# skplt.metrics.plot_confusion_matrix(y_test, y_pred)\n",
    "print('classification report \\n', classification_report(y_testfs, y_predfs, target_names=classes))\n",
    "print(\"Overall Accuracy : \" , str(accuracy_score(y_testfs, y_predfs)))"
   ]
  },
  {
   "cell_type": "markdown",
   "metadata": {},
   "source": [
    "we can see that removing event and only considering race, overall accuracy now stands at 0.55 which is pretty bad. This tells us that the 'event' feature is necessary to give us an accurate prediction\n",
    "\n",
    "<b>5.</b> in the next part we remove 'race' "
   ]
  },
  {
   "cell_type": "code",
   "execution_count": 49,
   "metadata": {},
   "outputs": [
    {
     "name": "stdout",
     "output_type": "stream",
     "text": [
      "classification report \n",
      "               precision    recall  f1-score   support\n",
      "\n",
      "    No Recid       0.87      0.98      0.92       823\n",
      "       Recid       0.96      0.80      0.87       620\n",
      "\n",
      "    accuracy                           0.90      1443\n",
      "   macro avg       0.91      0.89      0.90      1443\n",
      "weighted avg       0.91      0.90      0.90      1443\n",
      "\n",
      "Overall Accuracy :  0.9002079002079002\n"
     ]
    }
   ],
   "source": [
    "#removing v_decile_score, is violent recid, c_charge_degree, juv_misd_count, juv_fel_count, age_cat, prior_count, sex\n",
    "X_new = dfnew[[ 'event']]\n",
    "y_new = dfnew[['two_year_recid']] #ground truth\n",
    "classes = ['No Recid', 'Recid']\n",
    "\n",
    "# Arrange the data : Training, Testing\n",
    "X_trainfs, X_testfs, y_trainfs, y_testfs = train_test_split(X_new, y_new, test_size=0.2, random_state=RANDOM_SEED)\n",
    "\n",
    "# Logistic Regression \n",
    "log_reg_new = LogisticRegression()\n",
    "log_reg_new.fit(X_trainfs, y_trainfs.values.ravel())\n",
    "# print (log_reg_new,'\\n\\n')\n",
    "\n",
    "#prediction\n",
    "y_predfs = log_reg_new.predict(X_testfs)\n",
    "# skplt.metrics.plot_confusion_matrix(y_test, y_pred)\n",
    "print('classification report \\n', classification_report(y_testfs, y_predfs, target_names=classes))\n",
    "print(\"Overall Accuracy : \" , str(accuracy_score(y_testfs, y_predfs)))"
   ]
  },
  {
   "cell_type": "markdown",
   "metadata": {},
   "source": [
    "we can see that using the 'event' set alone gives us a good accuracy of 0.90. we can now conclude that event is one of the feature sets necessary for correct prediction.\n",
    "using event alone gives us the same accuracy as using 'event' and 'race' feature\n",
    "\n",
    "### Features to Use\n",
    "##### not sure - From our analysis, we recommend using the 'event' in addition to any other feature set for the classification or prediction to be almost accurate."
   ]
  },
  {
   "cell_type": "markdown",
   "metadata": {},
   "source": [
    "## 2.4 Fairness\n",
    "We will investigate the fairness of each classifier with the notion of Independence and seperation.\n",
    "\n",
    "### 2.4.1 Independence\n",
    "According to the book. To satisfy independence simply requires that the sensitive characteristic to be statistically independent of the scores recorded. Independence condition requires the acceptance rate to be the same in all groups to be considered.\n",
    "\n",
    "### 2.4.2 Seperation\n",
    "Separation allows correlation between the score and the sensitive attribute to the extent that it is justified by the target variable.\n",
    "\n",
    "Since race is a sensitive feature, we will observe independence for particularly 'African-American' compared to all other races. we will use all our predifined classifiers to observe this notion of fairness. We will also observe this on gender as well.\n",
    "\n",
    "Therefore first we will have to filter the dataframe according to race and sex."
   ]
  },
  {
   "cell_type": "code",
   "execution_count": 50,
   "metadata": {},
   "outputs": [],
   "source": [
    "# filtering according to African-American\n",
    "Xfair1 = X_test.loc[df['race'] == 2]\n",
    "yfair1 = df[['two_year_recid']].iloc[y_test.index.tolist(), :].loc[(df['race']==2)]\n",
    "\n",
    "Xfair2 = X_test.loc[df['race'] != 2]\n",
    "yfair2 = df[['two_year_recid']].iloc[y_test.index.tolist(), :].loc[(df['race']!=2)]\n",
    "\n",
    "# filtering according to sex\n",
    "Xfair3 = X_test.loc[df['sex'] == 1]\n",
    "yfair3 = df[['two_year_recid']].iloc[y_test.index.tolist(), :].loc[(df['sex']==1)]\n",
    "\n",
    "Xfair4 = X_test.loc[df['sex'] == 2]\n",
    "yfair4 = df[['two_year_recid']].iloc[y_test.index.tolist(), :].loc[(df['sex']==2)]"
   ]
  },
  {
   "cell_type": "markdown",
   "metadata": {},
   "source": [
    "#### Logistic Regression"
   ]
  },
  {
   "cell_type": "code",
   "execution_count": 56,
   "metadata": {},
   "outputs": [
    {
     "name": "stdout",
     "output_type": "stream",
     "text": [
      ">> Race ===>\n",
      "- African-American =>\n",
      "True Positive Rate\t = 0.8387096774193549\n",
      "False Positive Rate\t = 0.052924791086350974\n",
      "Acceptance rate\t\t = 0.4528043775649795\n",
      "- Non African-American =>\n",
      "True Positive Rate\t = 0.8387096774193549\n",
      "False Positive Rate\t = 0.01939655172413793\n",
      "Acceptance rate\t\t = 0.3047752808988764\n",
      "-- Indepence (Ratio) \t\t = 0.673\n",
      "-- Separation (TPR Ratio) \t = 1.0\n",
      "-- Separation (FPR Ratio) \t = 0.366\n",
      "\n",
      ">> Gender ===>\n",
      "- Males =>\n",
      "True Positive Rate\t = 0.8429906542056075\n",
      "False Positive Rate\t = 0.0364741641337386\n",
      "Acceptance rate\t\t = 0.39815590947191953\n",
      "- Females =>\n",
      "True Positive Rate\t = 0.8117647058823529\n",
      "False Positive Rate\t = 0.024242424242424242\n",
      "Acceptance rate\t\t = 0.292\n",
      "-- Independence (Ratio) \t = 0.733\n",
      "-- Separation (TPR Ratio) \t = 0.963\n",
      "-- Separation (FPR Ratio) \t = 0.665\n"
     ]
    }
   ],
   "source": [
    "print(\">> Race ===>\")\n",
    "y_pred = log_reg.predict(Xfair1)\n",
    "#relabelling confusion matrix and calculating tpr and fpr\n",
    "row1, row2 = confusion_matrix(yfair1, y_pred, labels=[1, 0]) \n",
    "tpr1 = row1[0] / (row1[0] + row1[1])\n",
    "fpr1 = row2[0] / (row2[0] + row2[1])\n",
    "Pfair1_true = (row1[0] + row2[0])/len(Xfair1)\n",
    "print(\"- African-American =>\")\n",
    "print(\"True Positive Rate\\t = \" + str(tpr1))\n",
    "print(\"False Positive Rate\\t = \" + str(fpr1))\n",
    "print(\"Acceptance rate\\t\\t = \" + str(Pfair1_true))\n",
    "\n",
    "y_pred = log_reg.predict(Xfair2)\n",
    "row1, row2 = confusion_matrix(yfair2, y_pred, labels=[1, 0])\n",
    "tpr2 = row1[0] / (row1[0] + row1[1])\n",
    "fpr2 = row2[0] / (row2[0] + row2[1])\n",
    "Pfair2_true = (row1[0] + row2[0])/len(Xfair2)\n",
    "print(\"- Non African-American =>\")\n",
    "print(\"True Positive Rate\\t = \" + str(tpr2))\n",
    "print(\"False Positive Rate\\t = \" + str(fpr2))\n",
    "print(\"Acceptance rate\\t\\t = \" + str(Pfair2_true))\n",
    "\n",
    "#independence ratio\n",
    "independence1 = Pfair1_true/Pfair2_true\n",
    "if Pfair1_true/Pfair2_true > 1:\n",
    "    independence1 = Pfair2_true/Pfair1_true\n",
    "\n",
    "#tpr and fpr ratio according to seperation  \n",
    "sept1 = tpr1/tpr2\n",
    "if sept1>1:\n",
    "    sept1 = tpr2/tpr1\n",
    "sepf1r = fpr1/fpr2\n",
    "if sepf1r>1:\n",
    "    sepf1r = fpr2/fpr1\n",
    "    \n",
    "print(\"-- Indepence (Ratio) \\t\\t = \" + str(round(independence1,3)))\n",
    "print(\"-- Separation (TPR Ratio) \\t = \" + str(round(sept1,3)) )\n",
    "print(\"-- Separation (FPR Ratio) \\t = \" + str(round(sepf1r,3)) )\n",
    "\n",
    "\n",
    "print(\"\\n>> Gender ===>\")\n",
    "y_pred = log_reg.predict(Xfair3)\n",
    "row1, row2 = confusion_matrix(yfair3, y_pred, labels=[1, 0])\n",
    "tpr1 = row1[0] / (row1[0] + row1[1])\n",
    "fpr1 = row2[0] / (row2[0] + row2[1])\n",
    "Pfair1_true = (row1[0] + row2[0])/len(Xfair3)\n",
    "print(\"- Males =>\")\n",
    "print(\"True Positive Rate\\t = \" + str(tpr1))\n",
    "print(\"False Positive Rate\\t = \" + str(fpr1))\n",
    "print(\"Acceptance rate\\t\\t = \" + str(Pfair1_true))\n",
    "\n",
    "y_pred = log_reg.predict(Xfair4)\n",
    "row1, row2 = confusion_matrix(yfair4, y_pred, labels=[1, 0])\n",
    "tpr2 = row1[0] / (row1[0] + row1[1])\n",
    "fpr2 = row2[0] / (row2[0] + row2[1])\n",
    "Pfair2_true = (row1[0] + row2[0])/len(Xfair4)\n",
    "print(\"- Females =>\")\n",
    "print(\"True Positive Rate\\t = \" + str(tpr2))\n",
    "print(\"False Positive Rate\\t = \" + str(fpr2))\n",
    "print(\"Acceptance rate\\t\\t = \" + str(Pfair2_true))\n",
    "\n",
    "independence1g = Pfair1_true/Pfair2_true\n",
    "if Pfair1_true/Pfair2_true > 1:\n",
    "    independence1g = Pfair2_true/Pfair1_true\n",
    "    \n",
    "sept1 = tpr1/tpr2\n",
    "if sept1>1:\n",
    "    sept1 = tpr2/tpr1\n",
    "sepf1g = fpr1/fpr2\n",
    "if sepf1g>1:\n",
    "    sepf1g = fpr2/fpr1\n",
    "    \n",
    "print(\"-- Independence (Ratio) \\t = \" + str(round(independence1g,3)))\n",
    "print(\"-- Separation (TPR Ratio) \\t = \" + str(round(sept1,3)) )\n",
    "print(\"-- Separation (FPR Ratio) \\t = \" + str(round(sepf1g,3)) )"
   ]
  },
  {
   "cell_type": "markdown",
   "metadata": {},
   "source": [
    "using Logistic regression, the false positive ratio for race is 0.3 which is not that bad and according to gender its a little high at 0.66. The true positive value is 1 and 0.96 in race and gender respectively, a good indication of fairness. Independence ratio is almost close in gender and race.\n",
    "\n",
    "#### Support Vector Machine"
   ]
  },
  {
   "cell_type": "code",
   "execution_count": 57,
   "metadata": {},
   "outputs": [
    {
     "name": "stdout",
     "output_type": "stream",
     "text": [
      ">> Race ===>\n",
      "- African-American =>\n",
      "True Positive Rate\t = 0.8440860215053764\n",
      "False Positive Rate\t = 0.0584958217270195\n",
      "Acceptance rate\t\t = 0.4582763337893297\n",
      "- Non African-American =>\n",
      "True Positive Rate\t = 0.842741935483871\n",
      "False Positive Rate\t = 0.023706896551724137\n",
      "Acceptance rate\t\t = 0.3089887640449438\n",
      "-- Indepence (Ratio) \t\t = 0.674\n",
      "-- Separation (TPR Ratio) \t = 0.998\n",
      "-- Separation (FPR Ratio) \t = 0.405\n",
      "\n",
      ">> Gender ===>\n",
      "- Males =>\n",
      "True Positive Rate\t = 0.8485981308411215\n",
      "False Positive Rate\t = 0.0425531914893617\n",
      "Acceptance rate\t\t = 0.40402347024308466\n",
      "- Females =>\n",
      "True Positive Rate\t = 0.8117647058823529\n",
      "False Positive Rate\t = 0.024242424242424242\n",
      "Acceptance rate\t\t = 0.292\n",
      "-- Independence (Ratio) \t = 0.723\n",
      "-- Separation (TPR Ratio) \t = 0.957\n",
      "-- Separation (FPR Ratio) \t = 0.57\n"
     ]
    }
   ],
   "source": [
    "print(\">> Race ===>\")\n",
    "y_pred = clfsvm.predict(Xfair1)\n",
    "Pfair1_true = np.sum(y_pred) / len(Xfair1)\n",
    "row1, row2 = confusion_matrix(yfair1, y_pred, labels=[1, 0])\n",
    "tpr1 = row1[0] / (row1[0] + row1[1])\n",
    "fpr1 = row2[0] / (row2[0] + row2[1])\n",
    "Pfair1_true = (row1[0] + row2[0])/len(Xfair1)\n",
    "print(\"- African-American =>\")\n",
    "print(\"True Positive Rate\\t = \" + str(tpr1))\n",
    "print(\"False Positive Rate\\t = \" + str(fpr1))\n",
    "print(\"Acceptance rate\\t\\t = \" + str(Pfair1_true))\n",
    "\n",
    "y_pred = clfsvm.predict(Xfair2)\n",
    "row1, row2 = confusion_matrix(yfair2, y_pred, labels=[1, 0])\n",
    "tpr2 = row1[0] / (row1[0] + row1[1])\n",
    "fpr2 = row2[0] / (row2[0] + row2[1])\n",
    "Pfair2_true = (row1[0] + row2[0])/len(Xfair2)\n",
    "print(\"- Non African-American =>\")\n",
    "print(\"True Positive Rate\\t = \" + str(tpr2))\n",
    "print(\"False Positive Rate\\t = \" + str(fpr2))\n",
    "print(\"Acceptance rate\\t\\t = \" + str(Pfair2_true))\n",
    "\n",
    "independence2 = Pfair1_true/Pfair2_true\n",
    "if Pfair1_true/Pfair2_true > 1:\n",
    "    independence2 = Pfair2_true/Pfair1_true\n",
    "    \n",
    "sept1 = tpr1/tpr2\n",
    "if sept1>1:\n",
    "    sept1 = tpr2/tpr1\n",
    "sepf2r = fpr1/fpr2\n",
    "if sepf2r>1:\n",
    "    sepf2r = fpr2/fpr1\n",
    "    \n",
    "print(\"-- Indepence (Ratio) \\t\\t = \" + str(round(independence2,3)))\n",
    "print(\"-- Separation (TPR Ratio) \\t = \" + str(round(sept1,3)) )\n",
    "print(\"-- Separation (FPR Ratio) \\t = \" + str(round(sepf2r,3)) )\n",
    "\n",
    "\n",
    "print(\"\\n>> Gender ===>\")\n",
    "y_pred = clfsvm.predict(Xfair3)\n",
    "row1, row2 = confusion_matrix(yfair3, y_pred, labels=[1, 0])\n",
    "tpr1 = row1[0] / (row1[0] + row1[1])\n",
    "fpr1 = row2[0] / (row2[0] + row2[1])\n",
    "Pfair1_true = (row1[0] + row2[0])/len(Xfair3)\n",
    "print(\"- Males =>\")\n",
    "print(\"True Positive Rate\\t = \" + str(tpr1))\n",
    "print(\"False Positive Rate\\t = \" + str(fpr1))\n",
    "print(\"Acceptance rate\\t\\t = \" + str(Pfair1_true))\n",
    "\n",
    "y_pred = clfsvm.predict(Xfair4)\n",
    "row1, row2 = confusion_matrix(yfair4, y_pred, labels=[1, 0])\n",
    "tpr2 = row1[0] / (row1[0] + row1[1])\n",
    "fpr2 = row2[0] / (row2[0] + row2[1])\n",
    "Pfair2_true = (row1[0] + row2[0])/len(Xfair4)\n",
    "print(\"- Females =>\")\n",
    "print(\"True Positive Rate\\t = \" + str(tpr2))\n",
    "print(\"False Positive Rate\\t = \" + str(fpr2))\n",
    "print(\"Acceptance rate\\t\\t = \" + str(Pfair2_true))\n",
    "\n",
    "independence2g = Pfair1_true/Pfair2_true\n",
    "if Pfair1_true/Pfair2_true > 1:\n",
    "    independence2g = Pfair2_true/Pfair1_true\n",
    "    \n",
    "sept1 = tpr1/tpr2\n",
    "if sept1>1:\n",
    "    sept1 = tpr2/tpr1\n",
    "sepf2g = fpr1/fpr2\n",
    "if sepf2g>1:\n",
    "    sepf2g = fpr2/fpr1\n",
    "    \n",
    "print(\"-- Independence (Ratio) \\t = \" + str(round(independence2g,3)))\n",
    "print(\"-- Separation (TPR Ratio) \\t = \" + str(round(sept1,3)) )\n",
    "print(\"-- Separation (FPR Ratio) \\t = \" + str(round(sepf2g,3)) )\n"
   ]
  },
  {
   "cell_type": "markdown",
   "metadata": {},
   "source": [
    "using Support Vector Machine, the false positive ratio for race is 0.4  and according to gender its a little high at 0.57 which is a reduction from the logistic regression classifier. The true positive value is 0.99 and 0.95 in race and gender respectively which is quite good. Independence ratio also differs between race and gender by 0.1.\n",
    "\n",
    "#### Decision Trees"
   ]
  },
  {
   "cell_type": "code",
   "execution_count": 58,
   "metadata": {},
   "outputs": [
    {
     "name": "stdout",
     "output_type": "stream",
     "text": [
      ">> Race ===>\n",
      "- African-American =>\n",
      "True Positive Rate\t = 0.8279569892473119\n",
      "False Positive Rate\t = 0.08635097493036212\n",
      "Acceptance rate\t\t = 0.4637482900136799\n",
      "- Non African-American =>\n",
      "True Positive Rate\t = 0.7943548387096774\n",
      "False Positive Rate\t = 0.06465517241379311\n",
      "Acceptance rate\t\t = 0.3188202247191011\n",
      "-- Indepence (Ratio) \t\t = 0.687\n",
      "-- Separation (TPR Ratio) \t = 0.959\n",
      "-- Separation (FPR Ratio) \t = 0.749\n",
      "\n",
      ">>Gender ===>\n",
      "- Males =>\n",
      "True Positive Rate\t = 0.8205607476635514\n",
      "False Positive Rate\t = 0.0668693009118541\n",
      "Acceptance rate\t\t = 0.40486169321039395\n",
      "- Females =>\n",
      "True Positive Rate\t = 0.7764705882352941\n",
      "False Positive Rate\t = 0.10303030303030303\n",
      "Acceptance rate\t\t = 0.332\n",
      "-- Independence (Ratio) \t = 0.82\n",
      "-- Separation (TPR Ratio) \t = 0.946\n",
      "-- Separation (FPR Ratio) \t = 0.649\n"
     ]
    }
   ],
   "source": [
    "print(\">> Race ===>\")\n",
    "y_pred = clf.predict(Xfair1)\n",
    "Pfair1_true = np.sum(y_pred) / len(Xfair1)\n",
    "row1, row2 = confusion_matrix(yfair1, y_pred, labels=[1, 0])\n",
    "tpr1 = row1[0] / (row1[0] + row1[1])\n",
    "fpr1 = row2[0] / (row2[0] + row2[1])\n",
    "Pfair1_true = (row1[0] + row2[0])/len(Xfair1)\n",
    "print(\"- African-American =>\")\n",
    "print(\"True Positive Rate\\t = \" + str(tpr1))\n",
    "print(\"False Positive Rate\\t = \" + str(fpr1))\n",
    "print(\"Acceptance rate\\t\\t = \" + str(Pfair1_true))\n",
    "\n",
    "y_pred = clf.predict(Xfair2)\n",
    "row1, row2 = confusion_matrix(yfair2, y_pred, labels=[1, 0])\n",
    "tpr2 = row1[0] / (row1[0] + row1[1])\n",
    "fpr2 = row2[0] / (row2[0] + row2[1])\n",
    "Pfair2_true = (row1[0] + row2[0])/len(Xfair2)\n",
    "print(\"- Non African-American =>\")\n",
    "print(\"True Positive Rate\\t = \" + str(tpr2))\n",
    "print(\"False Positive Rate\\t = \" + str(fpr2))\n",
    "print(\"Acceptance rate\\t\\t = \" + str(Pfair2_true))\n",
    "\n",
    "independence3 = Pfair1_true/Pfair2_true\n",
    "if Pfair1_true/Pfair2_true > 1:\n",
    "    independence3 = Pfair2_true/Pfair1_true\n",
    "    \n",
    "sept1 = tpr1/tpr2\n",
    "if sept1>1:\n",
    "    sept1 = tpr2/tpr1\n",
    "sepf3r = fpr1/fpr2\n",
    "if sepf3r>1:\n",
    "    sepf3r = fpr2/fpr1\n",
    "    \n",
    "print(\"-- Indepence (Ratio) \\t\\t = \" + str(round(independence3,3)))\n",
    "print(\"-- Separation (TPR Ratio) \\t = \" + str(round(sept1,3)) )\n",
    "print(\"-- Separation (FPR Ratio) \\t = \" + str(round(sepf3r,3)) )\n",
    "\n",
    "\n",
    "\n",
    "print(\"\\n>>Gender ===>\")\n",
    "y_pred = clf.predict(Xfair3)\n",
    "row1, row2 = confusion_matrix(yfair3, y_pred, labels=[1, 0])\n",
    "tpr1 = row1[0] / (row1[0] + row1[1])\n",
    "fpr1 = row2[0] / (row2[0] + row2[1])\n",
    "Pfair1_true = (row1[0] + row2[0])/len(Xfair3)\n",
    "print(\"- Males =>\")\n",
    "print(\"True Positive Rate\\t = \" + str(tpr1))\n",
    "print(\"False Positive Rate\\t = \" + str(fpr1))\n",
    "print(\"Acceptance rate\\t\\t = \" + str(Pfair1_true))\n",
    "\n",
    "y_pred = clf.predict(Xfair4)\n",
    "row1, row2 = confusion_matrix(yfair4, y_pred, labels=[1, 0])\n",
    "tpr2 = row1[0] / (row1[0] + row1[1])\n",
    "fpr2 = row2[0] / (row2[0] + row2[1])\n",
    "Pfair2_true = (row1[0] + row2[0])/len(Xfair4)\n",
    "print(\"- Females =>\")\n",
    "print(\"True Positive Rate\\t = \" + str(tpr2))\n",
    "print(\"False Positive Rate\\t = \" + str(fpr2))\n",
    "print(\"Acceptance rate\\t\\t = \" + str(Pfair2_true))\n",
    "\n",
    "independence3g = Pfair1_true/Pfair2_true\n",
    "if Pfair1_true/Pfair2_true > 1:\n",
    "    independence3g = Pfair2_true/Pfair1_true\n",
    "    \n",
    "sept1 = tpr1/tpr2\n",
    "if sept1>1:\n",
    "    sept1 = tpr2/tpr1\n",
    "sepf3g = fpr1/fpr2\n",
    "if sepf3g>1:\n",
    "    sepf3g = fpr2/fpr1\n",
    "    \n",
    "print(\"-- Independence (Ratio) \\t = \" + str(round(independence3g,3)))\n",
    "print(\"-- Separation (TPR Ratio) \\t = \" + str(round(sept1,3)) )\n",
    "print(\"-- Separation (FPR Ratio) \\t = \" + str(round(sepf3g,3)) )\n"
   ]
  },
  {
   "cell_type": "markdown",
   "metadata": {},
   "source": [
    "Considering Decision trees classifier, the false positive ratio for race is 0.7 and according to gender is 0.64 which are both actually high. \n",
    "\n",
    "#### K Nearest Neighbors"
   ]
  },
  {
   "cell_type": "code",
   "execution_count": 59,
   "metadata": {},
   "outputs": [
    {
     "name": "stdout",
     "output_type": "stream",
     "text": [
      ">> Race ===>\n",
      "- African-American =>\n",
      "True Positive Rate\t = 0.8010752688172043\n",
      "False Positive Rate\t = 0.10863509749303621\n",
      "Acceptance rate\t\t = 0.46101231190150477\n",
      "- Non African-American =>\n",
      "True Positive Rate\t = 0.7862903225806451\n",
      "False Positive Rate\t = 0.05603448275862069\n",
      "Acceptance rate\t\t = 0.3103932584269663\n",
      "-- Indepence (Ratio) \t\t = 0.673\n",
      "-- Separation (TPR Ratio) \t = 0.982\n",
      "-- Separation (FPR Ratio) \t = 0.516\n",
      "\n",
      ">>Gender ===>\n",
      "- Males =>\n",
      "True Positive Rate\t = 0.8037383177570093\n",
      "False Positive Rate\t = 0.08662613981762918\n",
      "Acceptance rate\t\t = 0.4082145850796312\n",
      "- Females =>\n",
      "True Positive Rate\t = 0.7411764705882353\n",
      "False Positive Rate\t = 0.048484848484848485\n",
      "Acceptance rate\t\t = 0.284\n",
      "-- Independence (Ratio) \t = 0.696\n",
      "-- Separation (TPR Ratio) \t = 0.922\n",
      "-- Separation (FPR Ratio) \t = 0.56\n"
     ]
    }
   ],
   "source": [
    "print(\">> Race ===>\")\n",
    "y_pred = neigh.predict(Xfair1)\n",
    "Pfair1_true = np.sum(y_pred) / len(Xfair1)\n",
    "row1, row2 = confusion_matrix(yfair1, y_pred, labels=[1, 0])\n",
    "tpr1 = row1[0] / (row1[0] + row1[1])\n",
    "fpr1 = row2[0] / (row2[0] + row2[1])\n",
    "Pfair1_true = (row1[0] + row2[0])/len(Xfair1)\n",
    "print(\"- African-American =>\")\n",
    "print(\"True Positive Rate\\t = \" + str(tpr1))\n",
    "print(\"False Positive Rate\\t = \" + str(fpr1))\n",
    "print(\"Acceptance rate\\t\\t = \" + str(Pfair1_true))\n",
    "\n",
    "y_pred = neigh.predict(Xfair2)\n",
    "row1, row2 = confusion_matrix(yfair2, y_pred, labels=[1, 0])\n",
    "tpr2 = row1[0] / (row1[0] + row1[1])\n",
    "fpr2 = row2[0] / (row2[0] + row2[1])\n",
    "Pfair2_true = (row1[0] + row2[0])/len(Xfair2)\n",
    "print(\"- Non African-American =>\")\n",
    "print(\"True Positive Rate\\t = \" + str(tpr2))\n",
    "print(\"False Positive Rate\\t = \" + str(fpr2))\n",
    "print(\"Acceptance rate\\t\\t = \" + str(Pfair2_true))\n",
    "\n",
    "independence4 = Pfair1_true/Pfair2_true\n",
    "if Pfair1_true/Pfair2_true > 1:\n",
    "    independence4 = Pfair2_true/Pfair1_true\n",
    "    \n",
    "sept1 = tpr1/tpr2\n",
    "if sept1>1:\n",
    "    sept1 = tpr2/tpr1\n",
    "sepf4r = fpr1/fpr2\n",
    "if sepf4r>1:\n",
    "    sepf4r = fpr2/fpr1\n",
    "    \n",
    "print(\"-- Indepence (Ratio) \\t\\t = \" + str(round(independence4,3)))\n",
    "print(\"-- Separation (TPR Ratio) \\t = \" + str(round(sept1,3)) )\n",
    "print(\"-- Separation (FPR Ratio) \\t = \" + str(round(sepf4r,3)) )\n",
    "\n",
    "\n",
    "print(\"\\n>>Gender ===>\")\n",
    "y_pred = neigh.predict(Xfair3)\n",
    "Pfair3_true = np.sum(y_pred) / len(Xfair3)\n",
    "row1, row2 = confusion_matrix(yfair3, y_pred, labels=[1, 0])\n",
    "tpr1 = row1[0] / (row1[0] + row1[1])\n",
    "fpr1 = row2[0] / (row2[0] + row2[1])\n",
    "Pfair1_true = (row1[0] + row2[0])/len(Xfair3)\n",
    "print(\"- Males =>\")\n",
    "print(\"True Positive Rate\\t = \" + str(tpr1))\n",
    "print(\"False Positive Rate\\t = \" + str(fpr1))\n",
    "print(\"Acceptance rate\\t\\t = \" + str(Pfair1_true))\n",
    "\n",
    "y_pred = neigh.predict(Xfair4)\n",
    "row1, row2 = confusion_matrix(yfair4, y_pred, labels=[1, 0])\n",
    "tpr2 = row1[0] / (row1[0] + row1[1])\n",
    "fpr2 = row2[0] / (row2[0] + row2[1])\n",
    "Pfair2_true = (row1[0] + row2[0])/len(Xfair4)\n",
    "print(\"- Females =>\")\n",
    "print(\"True Positive Rate\\t = \" + str(tpr2))\n",
    "print(\"False Positive Rate\\t = \" + str(fpr2))\n",
    "print(\"Acceptance rate\\t\\t = \" + str(Pfair2_true))\n",
    "\n",
    "independence4g = Pfair1_true/Pfair2_true\n",
    "if Pfair1_true/Pfair2_true > 1:\n",
    "    independence4g = Pfair2_true/Pfair1_true\n",
    "    \n",
    "sept1 = tpr1/tpr2\n",
    "if sept1>1:\n",
    "    sept1 = tpr2/tpr1\n",
    "sepf4g = fpr1/fpr2\n",
    "if sepf4g>1:\n",
    "    sepf4g = fpr2/fpr1\n",
    "    \n",
    "print(\"-- Independence (Ratio) \\t = \" + str(round(independence4g,3)))\n",
    "print(\"-- Separation (TPR Ratio) \\t = \" + str(round(sept1,3)) )\n",
    "print(\"-- Separation (FPR Ratio) \\t = \" + str(round(sepf4g,3)) )\n"
   ]
  },
  {
   "cell_type": "markdown",
   "metadata": {},
   "source": [
    "In K Nearest Neighbors, the false positive ratio in both race and gender is almost equal but the value is not good. Meaning a significant number of people can still be wrongly convicted. but it performs well on the true-positive rate.\n",
    "#### Neural Network"
   ]
  },
  {
   "cell_type": "code",
   "execution_count": 61,
   "metadata": {},
   "outputs": [
    {
     "name": "stdout",
     "output_type": "stream",
     "text": [
      ">> Race ===>\n"
     ]
    },
    {
     "ename": "TypeError",
     "evalue": "unsupported operand type(s) for /: 'builtin_function_or_method' and 'int'",
     "output_type": "error",
     "traceback": [
      "\u001b[0;31m---------------------------------------------------------------------------\u001b[0m",
      "\u001b[0;31mTypeError\u001b[0m                                 Traceback (most recent call last)",
      "\u001b[0;32m<ipython-input-61-8432e53d1a3d>\u001b[0m in \u001b[0;36m<module>\u001b[0;34m\u001b[0m\n\u001b[1;32m      6\u001b[0m \u001b[0;31m# yfair1 = yfair1.cpu\u001b[0m\u001b[0;34m\u001b[0m\u001b[0;34m\u001b[0m\u001b[0;34m\u001b[0m\u001b[0m\n\u001b[1;32m      7\u001b[0m \u001b[0;31m# Xfair1 = Xfair1.cpu\u001b[0m\u001b[0;34m\u001b[0m\u001b[0;34m\u001b[0m\u001b[0;34m\u001b[0m\u001b[0m\n\u001b[0;32m----> 8\u001b[0;31m \u001b[0mPfair1_true\u001b[0m \u001b[0;34m=\u001b[0m \u001b[0mnp\u001b[0m\u001b[0;34m.\u001b[0m\u001b[0msum\u001b[0m\u001b[0;34m(\u001b[0m\u001b[0my_pred\u001b[0m\u001b[0;34m)\u001b[0m \u001b[0;34m/\u001b[0m \u001b[0mlen\u001b[0m\u001b[0;34m(\u001b[0m\u001b[0mXfair1\u001b[0m\u001b[0;34m)\u001b[0m\u001b[0;34m\u001b[0m\u001b[0;34m\u001b[0m\u001b[0m\n\u001b[0m\u001b[1;32m      9\u001b[0m \u001b[0;31m# print(yfair1)\u001b[0m\u001b[0;34m\u001b[0m\u001b[0;34m\u001b[0m\u001b[0;34m\u001b[0m\u001b[0m\n\u001b[1;32m     10\u001b[0m \u001b[0mprint\u001b[0m\u001b[0;34m(\u001b[0m\u001b[0my_pred\u001b[0m\u001b[0;34m)\u001b[0m\u001b[0;34m\u001b[0m\u001b[0;34m\u001b[0m\u001b[0m\n",
      "\u001b[0;31mTypeError\u001b[0m: unsupported operand type(s) for /: 'builtin_function_or_method' and 'int'"
     ]
    }
   ],
   "source": [
    "print(\">> Race ===>\")\n",
    "Xfair1net = torch.from_numpy(Xfair1.to_numpy()).float()\n",
    "y_pred = net(Xfair1net)\n",
    "# y_pred = y_pred.detach().numpy()\n",
    "y_pred = y_pred.ge(.5).view(-1).cpu\n",
    "# yfair1 = yfair1.cpu\n",
    "# Xfair1 = Xfair1.cpu\n",
    "Pfair1_true = np.sum(y_pred) / len(Xfair1)\n",
    "# print(yfair1)\n",
    "print(y_pred)\n",
    "# row1, row2 = confusion_matrix(yfair1, y_pred, labels=[1, 0])\n",
    "# tpr1 = row1[0] / (row1[0] + row1[1])\n",
    "# fpr1 = row2[0] / (row2[0] + row2[1])\n",
    "# Pfair1_true = (row1[0] + row2[0])/len(Xfair1)\n",
    "print(\"- African-American =>\")\n",
    "print(\"True Positive Rate\\t = \" + str(tpr1))\n",
    "print(\"False Positive Rate\\t = \" + str(fpr1))\n",
    "print(\"Acceptance rate\\t\\t = \" + str(Pfair1_true))\n",
    "\n",
    "Xfair2net = torch.from_numpy(Xfair2.to_numpy()).float()\n",
    "y_pred = net(Xfair2net)\n",
    "y_pred = y_pred.detach().numpy()\n",
    "Pfair2_true = np.sum(y_pred) / len(Xfair2)\n",
    "print(\"- Non African-American =>\")\n",
    "print(\"True Positive Rate\\t = \" + str(tpr2))\n",
    "print(\"False Positive Rate\\t = \" + str(fpr2))\n",
    "print(\"Acceptance rate\\t\\t = \" + str(Pfair2_true))\n",
    "\n",
    "independence5 = Pfair1_true/Pfair2_true\n",
    "if Pfair1_true/Pfair2_true > 1:\n",
    "    independence5 = Pfair2_true/Pfair1_true\n",
    "    \n",
    "sept1 = tpr1/tpr2\n",
    "if sept1>1:\n",
    "    sept1 = tpr2/tpr1\n",
    "sepf5r = fpr1/fpr2\n",
    "if sepf5r>1:\n",
    "    sepf5r = fpr2/fpr1\n",
    "    \n",
    "print(\"-- Independence (Ratio) \\t\\t = \" + str(round(independence5,3)))\n",
    "print(\"-- Separation (TPR Ratio) \\t = \" + str(round(sept1,3)) )\n",
    "print(\"-- Separation (FPR Ratio) \\t = \" + str(round(sepf5r,3)) )\n",
    "\n",
    "\n",
    "print(\"\\n>>Gender ===>\")\n",
    "Xfair3net = torch.from_numpy(Xfair3.to_numpy()).float()\n",
    "y_pred = net(Xfair3net)\n",
    "y_pred = y_pred.detach().numpy()\n",
    "Pfair1_true = np.sum(y_pred) / len(Xfair3)\n",
    "print(\"True Positive Rate\\t = \" + str(tpr1))\n",
    "print(\"False Positive Rate\\t = \" + str(fpr1))\n",
    "print(\"Acceptance rate\\t\\t = \" + str(Pfair1_true))\n",
    "\n",
    "Xfair4net = torch.from_numpy(Xfair4.to_numpy()).float()\n",
    "y_pred = net(Xfair4net)\n",
    "y_pred = y_pred.detach().numpy()\n",
    "Pfair2_true = np.sum(y_pred) / len(Xfair4)\n",
    "print(\"- Non African-American =>\")\n",
    "print(\"True Positive Rate\\t = \" + str(tpr2))\n",
    "print(\"False Positive Rate\\t = \" + str(fpr2))\n",
    "print(\"Acceptance rate\\t\\t = \" + str(Pfair2_true))\n",
    "\n",
    "independence5g = Pfair1_true/Pfair2_true\n",
    "if Pfair1_true/Pfair2_true > 1:\n",
    "    independence5g = Pfair2_true/Pfair1_true\n",
    "    \n",
    "sept1 = tpr1/tpr2\n",
    "if sept1>1:\n",
    "    sept1 = tpr2/tpr1\n",
    "sepf5g = fpr1/fpr2\n",
    "if sepf5g>1:\n",
    "    sepf5g = fpr2/fpr1\n",
    "    \n",
    "print(\"-- Independence (Ratio) \\t = \" + str(round(independence5g,3)))\n",
    "print(\"-- Separation (TPR Ratio) \\t = \" + str(round(sept1,3)) )\n",
    "print(\"-- Separation (FPR Ratio) \\t = \" + str(round(sepf5g,3)) )"
   ]
  },
  {
   "cell_type": "code",
   "execution_count": 64,
   "metadata": {
    "scrolled": true
   },
   "outputs": [
    {
     "ename": "NameError",
     "evalue": "name 'independence5' is not defined",
     "output_type": "error",
     "traceback": [
      "\u001b[0;31m---------------------------------------------------------------------------\u001b[0m",
      "\u001b[0;31mNameError\u001b[0m                                 Traceback (most recent call last)",
      "\u001b[0;32m<ipython-input-64-19c3dbea5e63>\u001b[0m in \u001b[0;36m<module>\u001b[0;34m\u001b[0m\n\u001b[1;32m      1\u001b[0m \u001b[0mbottom\u001b[0m \u001b[0;34m=\u001b[0m \u001b[0;34m[\u001b[0m\u001b[0;34m\"Logistic Regression\"\u001b[0m\u001b[0;34m,\u001b[0m \u001b[0;34m\"SVM\"\u001b[0m\u001b[0;34m,\u001b[0m \u001b[0;34m\"Decision Tree\"\u001b[0m\u001b[0;34m,\u001b[0m \u001b[0;34m\"K Nearest Neigbors\"\u001b[0m\u001b[0;34m,\u001b[0m \u001b[0;34m\"Neural Network\"\u001b[0m\u001b[0;34m]\u001b[0m\u001b[0;34m\u001b[0m\u001b[0;34m\u001b[0m\u001b[0m\n\u001b[0;32m----> 2\u001b[0;31m \u001b[0mleft\u001b[0m \u001b[0;34m=\u001b[0m \u001b[0;34m[\u001b[0m\u001b[0mindependence1\u001b[0m\u001b[0;34m,\u001b[0m \u001b[0mindependence2\u001b[0m\u001b[0;34m,\u001b[0m \u001b[0mindependence3\u001b[0m\u001b[0;34m,\u001b[0m \u001b[0mindependence4\u001b[0m\u001b[0;34m,\u001b[0m \u001b[0mindependence5\u001b[0m\u001b[0;34m]\u001b[0m\u001b[0;34m\u001b[0m\u001b[0;34m\u001b[0m\u001b[0m\n\u001b[0m\u001b[1;32m      3\u001b[0m \u001b[0mleftg\u001b[0m \u001b[0;34m=\u001b[0m \u001b[0;34m[\u001b[0m\u001b[0mindependence1g\u001b[0m\u001b[0;34m,\u001b[0m \u001b[0mindependence2g\u001b[0m\u001b[0;34m,\u001b[0m \u001b[0mindependence3g\u001b[0m\u001b[0;34m,\u001b[0m \u001b[0mindependence4g\u001b[0m\u001b[0;34m,\u001b[0m \u001b[0mindependence5g\u001b[0m\u001b[0;34m]\u001b[0m\u001b[0;34m\u001b[0m\u001b[0;34m\u001b[0m\u001b[0m\n\u001b[1;32m      4\u001b[0m \u001b[0mfig\u001b[0m\u001b[0;34m,\u001b[0m \u001b[0maxes\u001b[0m \u001b[0;34m=\u001b[0m \u001b[0mplt\u001b[0m\u001b[0;34m.\u001b[0m\u001b[0msubplots\u001b[0m\u001b[0;34m(\u001b[0m\u001b[0mnrows\u001b[0m\u001b[0;34m=\u001b[0m\u001b[0;36m1\u001b[0m\u001b[0;34m,\u001b[0m \u001b[0mncols\u001b[0m\u001b[0;34m=\u001b[0m\u001b[0;36m2\u001b[0m\u001b[0;34m,\u001b[0m \u001b[0mfigsize\u001b[0m\u001b[0;34m=\u001b[0m\u001b[0;34m(\u001b[0m\u001b[0;36m20\u001b[0m\u001b[0;34m,\u001b[0m \u001b[0;36m5\u001b[0m\u001b[0;34m)\u001b[0m\u001b[0;34m)\u001b[0m\u001b[0;34m\u001b[0m\u001b[0;34m\u001b[0m\u001b[0m\n\u001b[1;32m      5\u001b[0m \u001b[0maxes\u001b[0m\u001b[0;34m[\u001b[0m\u001b[0;36m0\u001b[0m\u001b[0;34m]\u001b[0m\u001b[0;34m.\u001b[0m\u001b[0mset_title\u001b[0m\u001b[0;34m(\u001b[0m\u001b[0;34m'Race'\u001b[0m\u001b[0;34m)\u001b[0m\u001b[0;34m\u001b[0m\u001b[0;34m\u001b[0m\u001b[0m\n",
      "\u001b[0;31mNameError\u001b[0m: name 'independence5' is not defined"
     ]
    }
   ],
   "source": [
    "bottom = [\"Logistic Regression\", \"SVM\", \"Decision Tree\", \"K Nearest Neigbors\", \"Neural Network\"]\n",
    "left = [independence1, independence2, independence3, independence4, independence5]\n",
    "leftg = [independence1g, independence2g, independence3g, independence4g, independence5g]\n",
    "fig, axes = plt.subplots(nrows=1, ncols=2, figsize=(20, 5))\n",
    "axes[0].set_title('Race')\n",
    "axes[0].bar(bottom, left, color='orange')\n",
    "axes[1].set_title('Gender')\n",
    "axes[1].bar(bottom, leftg)\n",
    "fig.tight_layout()"
   ]
  },
  {
   "cell_type": "markdown",
   "metadata": {},
   "source": [
    "As we can see from the result above there is not much difference between classifiers. We will consider the best one and combine the results on performance analysis, and the feature sets."
   ]
  },
  {
   "cell_type": "code",
   "execution_count": 111,
   "metadata": {},
   "outputs": [
    {
     "data": {
      "image/png": "[encoded data removed]",
      "text/plain": [
       "<Figure size 1440x360 with 2 Axes>"
      ]
     },
     "metadata": {},
     "output_type": "display_data"
    }
   ],
   "source": [
    "bottom = [\"Logistic Regression\", \"SVM\", \"Decision Tree\", \"K Nearest Neigbors\", \"Neural Network\"]\n",
    "RaceFP = [sepf1r, sepf2r, sepf3r, sepf4r, sepf5r]\n",
    "GenderFP = [sepf1g, sepf2g, sepf3g, sepf4g, sepf5g]\n",
    "fig, axes = plt.subplots(nrows=1, ncols=2, figsize=(20, 5))\n",
    "axes[0].set_title('Race')\n",
    "axes[0].bar(bottom, RaceFP, color='orange')\n",
    "axes[1].set_title('Gender')\n",
    "axes[1].bar(bottom, GenderFP)\n",
    "fig.tight_layout()"
   ]
  },
  {
   "cell_type": "code",
   "execution_count": null,
   "metadata": {},
   "outputs": [],
   "source": []
  }
 ],
 "metadata": {
  "kernelspec": {
   "display_name": "Python 3",
   "language": "python",
   "name": "python3"
  },
  "language_info": {
   "codemirror_mode": {
    "name": "ipython",
    "version": 3
   },
   "file_extension": ".py",
   "mimetype": "text/x-python",
   "name": "python",
   "nbconvert_exporter": "python",
   "pygments_lexer": "ipython3",
   "version": "3.7.6"
  }
 },
 "nbformat": 4,
 "nbformat_minor": 4
}
